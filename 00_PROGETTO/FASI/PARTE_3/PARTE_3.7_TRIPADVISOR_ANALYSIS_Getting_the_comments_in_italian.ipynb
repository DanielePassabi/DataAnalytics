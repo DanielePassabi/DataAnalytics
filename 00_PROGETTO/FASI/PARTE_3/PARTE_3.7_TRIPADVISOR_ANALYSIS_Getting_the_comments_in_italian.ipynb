{
 "cells": [
  {
   "cell_type": "markdown",
   "metadata": {
    "colab_type": "text",
    "id": "1oZCy7XqWTry"
   },
   "source": [
    "# Creo un nuovo dataset \n"
   ]
  },
  {
   "cell_type": "markdown",
   "metadata": {
    "colab_type": "text",
    "id": "iXr-KdKhWTr0"
   },
   "source": [
    "---\n",
    "## Analisi dei commenti di un ristorante\n",
    "\n",
    "### Da Peppino - Torino\n",
    "\n",
    "URL di riferimento: https://www.tripadvisor.com/Restaurant_Review-g187855-d946209-Reviews-Da_Peppino-Turin_Province_of_Turin_Piedmont.html\n",
    "\n",
    "Home --> Ristoranti --> Torino "
   ]
  },
  {
   "cell_type": "code",
   "execution_count": 1,
   "metadata": {
    "colab": {
     "base_uri": "https://localhost:8080/",
     "height": 33
    },
    "colab_type": "code",
    "executionInfo": {
     "elapsed": 881,
     "status": "ok",
     "timestamp": 1547143846803,
     "user": {
      "displayName": "Il Dani",
      "photoUrl": "https://lh6.googleusercontent.com/-5K7YzXjC0Ns/AAAAAAAAAAI/AAAAAAAAAbQ/NtoQ-stzgEg/s64/photo.jpg",
      "userId": "03034249883816696713"
     },
     "user_tz": -60
    },
    "id": "eeT3pIkJWTr1",
    "outputId": "a0ffe201-d7ea-4590-fba5-54ae4330d472"
   },
   "outputs": [
    {
     "name": "stdout",
     "output_type": "stream",
     "text": [
      "Imported\n"
     ]
    }
   ],
   "source": [
    "# IMPORT NECESSARI\n",
    "import requests\n",
    "from bs4 import BeautifulSoup\n",
    "\n",
    "print(\"Imported\")"
   ]
  },
  {
   "cell_type": "code",
   "execution_count": 2,
   "metadata": {
    "colab": {
     "base_uri": "https://localhost:8080/",
     "height": 33
    },
    "colab_type": "code",
    "executionInfo": {
     "elapsed": 2171,
     "status": "ok",
     "timestamp": 1547143848117,
     "user": {
      "displayName": "Il Dani",
      "photoUrl": "https://lh6.googleusercontent.com/-5K7YzXjC0Ns/AAAAAAAAAAI/AAAAAAAAAbQ/NtoQ-stzgEg/s64/photo.jpg",
      "userId": "03034249883816696713"
     },
     "user_tz": -60
    },
    "id": "dPQoaYxkWTsA",
    "outputId": "e2bc6e5e-882d-4f3a-8fe9-8cdf52adba36"
   },
   "outputs": [
    {
     "name": "stdout",
     "output_type": "stream",
     "text": [
      "Done\n"
     ]
    }
   ],
   "source": [
    "page_URL = \"https://www.tripadvisor.it/Restaurant_Review-g187855-d946209-Reviews-Da_Peppino-Turin_Province_of_Turin_Piedmont.html\"\n",
    "\n",
    "data = requests.get(page_URL)\n",
    "clear_data = BeautifulSoup(data.content, \"lxml\")\n",
    "\n",
    "print(\"Done\")"
   ]
  },
  {
   "cell_type": "markdown",
   "metadata": {
    "colab_type": "text",
    "id": "A19Pp_DiWTsF"
   },
   "source": [
    "---\n",
    "### STRUTTURA HTML DEL SITO \n",
    "\n",
    "#### REVIEW\n",
    "`<p class=\"partial_entry\"> qui c'è la review </p>`\n",
    "\n",
    "#### N° TOTALE DI REVIEWS\n",
    "`<a data-page-number=\"25\" ...>\n",
    "    25\n",
    " </a>`\n",
    " \n",
    "#### NAMES\n",
    "`<span class=\"expand_inline scrname\" …>AlexandraCapeTown</span>`\n",
    "\n",
    "#### RATINGS\n",
    "`<span class=\"ui_bubble_rating bubble_30\"></span>`"
   ]
  },
  {
   "cell_type": "markdown",
   "metadata": {
    "colab_type": "text",
    "id": "MSrpri89WTsH"
   },
   "source": [
    "---\n",
    "### PRIMO SCRAPING (sulla prima pagina)\n",
    "\n",
    "Ottengo i nomi, i commenti, le review e da dove è stato scritto il commento per quanto rigurda la prima pagina. Ciò è necessario, in quanto, dalla seconda in poi l'URL cambia, permettendoci di iterare."
   ]
  },
  {
   "cell_type": "code",
   "execution_count": 3,
   "metadata": {
    "colab": {
     "base_uri": "https://localhost:8080/",
     "height": 100
    },
    "colab_type": "code",
    "executionInfo": {
     "elapsed": 2145,
     "status": "ok",
     "timestamp": 1547143848118,
     "user": {
      "displayName": "Il Dani",
      "photoUrl": "https://lh6.googleusercontent.com/-5K7YzXjC0Ns/AAAAAAAAAAI/AAAAAAAAAbQ/NtoQ-stzgEg/s64/photo.jpg",
      "userId": "03034249883816696713"
     },
     "user_tz": -60
    },
    "id": "3qjaMKn9WTsJ",
    "outputId": "1c5f1316-b492-403a-a817-2da802dc3a9f"
   },
   "outputs": [
    {
     "name": "stdout",
     "output_type": "stream",
     "text": [
      "Executed\n",
      "Nomi:  10\n",
      "Commenti:  10\n",
      "Voti:  10\n",
      "Scritto da:  10\n"
     ]
    }
   ],
   "source": [
    "# OTTENGO UNA LISTA DI DIV CHE CONTENGONO NOME, RECENSIONE E VOTO\n",
    "\n",
    "all_reviews = []\n",
    "all_names = []\n",
    "all_ratings = []\n",
    "all_mobile = []\n",
    "\n",
    "review_container = clear_data.findAll(\"div\", attrs={\"class\":\"review-container\"})\n",
    "\n",
    "for container in review_container:\n",
    "  \n",
    "    ### REVIEW ###\n",
    "    review = container.find('p', attrs={'class': 'partial_entry'})\n",
    "    if review:\n",
    "        all_reviews.append(review.text)\n",
    "        \n",
    "    ### NAME ###\n",
    "    name = container.find('span', attrs={'class': ('expand_inline', 'scrname')})\n",
    "    if name:\n",
    "      all_names.append(name.text)\n",
    "    else:\n",
    "      all_names.append('NO_NAME')\n",
    "    \n",
    "    ### RATING ###\n",
    "    rating = container.find('span', attrs={'class': 'ui_bubble_rating'})\n",
    "    all_ratings.append(rating['class'][1][7:8])\n",
    "    \n",
    "    ### MOBILE ###\n",
    "    mobile = container.find('span', attrs={'class': 'viaMobile'})\n",
    "    if mobile:\n",
    "      all_mobile.append('Mobile')\n",
    "    else:\n",
    "      all_mobile.append('PC')\n",
    "    \n",
    "    \n",
    "################################################################################################################################\n",
    "        \n",
    "print(\"Executed\")\n",
    "print('Nomi: ', len(all_names))\n",
    "print('Commenti: ', len(all_reviews))\n",
    "print('Voti: ', len(all_ratings))\n",
    "print('Scritto da: ', len(all_ratings))"
   ]
  },
  {
   "cell_type": "markdown",
   "metadata": {
    "colab_type": "text",
    "id": "f5sK02FgWTsR"
   },
   "source": [
    "### SECONDO SCRAPING (dalla seconda pagina in poi)\n",
    "\n",
    "Notiamo dall'URL che è possibile iterare sulle pagine, ottenendo i dati!"
   ]
  },
  {
   "cell_type": "code",
   "execution_count": 4,
   "metadata": {
    "colab": {
     "base_uri": "https://localhost:8080/",
     "height": 33
    },
    "colab_type": "code",
    "executionInfo": {
     "elapsed": 31187,
     "status": "ok",
     "timestamp": 1547143589126,
     "user": {
      "displayName": "Il Dani",
      "photoUrl": "https://lh6.googleusercontent.com/-5K7YzXjC0Ns/AAAAAAAAAAI/AAAAAAAAAbQ/NtoQ-stzgEg/s64/photo.jpg",
      "userId": "03034249883816696713"
     },
     "user_tz": -60
    },
    "id": "6LCVBXeFWTsS",
    "outputId": "486a5237-1a50-457b-f5f1-ba3ba4bd96bf"
   },
   "outputs": [
    {
     "name": "stderr",
     "output_type": "stream",
     "text": [
      "100%|██████████| 55/55 [00:59<00:00,  1.15s/it]"
     ]
    },
    {
     "name": "stdout",
     "output_type": "stream",
     "text": [
      "Executed\n",
      "total_pages:  56\n",
      "Nomi:  559\n",
      "Commenti:  559\n",
      "Voti:  559\n",
      "Scritto da:  559\n"
     ]
    },
    {
     "name": "stderr",
     "output_type": "stream",
     "text": [
      "\n"
     ]
    }
   ],
   "source": [
    "from tqdm import tqdm\n",
    "\n",
    "URL_COMPLETO = 'https://www.tripadvisor.it/Restaurant_Review-g187855-d946209-Reviews-Da_Peppino-Turin_Province_of_Turin_Piedmont.html'\n",
    "\n",
    "URL_p1 = 'https://www.tripadvisor.it/Restaurant_Review-g187855-d946209-Reviews-or'\n",
    "URL_p2 = '0-Da_Peppino-Turin_Province_of_Turin_Piedmont.html'\n",
    "    \n",
    "# OTTENGO I COMMENTI, NOMI E VOTI DALLA SECONDA PAGINA IN POI\n",
    "\n",
    "total_pages = int(clear_data.select(\"a.pageNum.last.taLnk\")[0].text) # 25 come intero\n",
    "\n",
    "# per iterare dobbiamo partire dalla seconda pagina dei commenti, così nell'URL compaiono le cifre che ci servono\n",
    "for r in tqdm(range(1,total_pages)):\n",
    "\n",
    "    # OTTENGO L'URL DELLA PAGINA\n",
    "    URL_temp = URL_p1 + str(r) + URL_p2\n",
    "\n",
    "    # OTTENGO I DATI E CI APPLICO BEATIFULSOUP\n",
    "    data = requests.get(URL_temp)\n",
    "    clear_data = BeautifulSoup(data.content, \"lxml\")\n",
    "    \n",
    "\n",
    "    review_container = clear_data.findAll(\"div\", attrs={\"class\":\"review-container\"})\n",
    "\n",
    "    for container in review_container:\n",
    "  \n",
    "      ### REVIEW ###\n",
    "      review = container.find('p', attrs={'class': 'partial_entry'})\n",
    "      if review:\n",
    "          all_reviews.append(review.text)\n",
    "\n",
    "      ### NAME ###\n",
    "      name = container.find('span', attrs={'class': ('expand_inline', 'scrname')})\n",
    "      if name:\n",
    "        all_names.append(name.text)\n",
    "      else:\n",
    "        all_names.append('NO_NAME')\n",
    "\n",
    "      ### RATING ###\n",
    "      rating = container.find('span', attrs={'class': 'ui_bubble_rating'})\n",
    "      all_ratings.append(rating['class'][1][7:8])\n",
    "\n",
    "      ### MOBILE ###\n",
    "      mobile = container.find('span', attrs={'class': 'viaMobile'})\n",
    "      if mobile:\n",
    "        all_mobile.append('Mobile')\n",
    "      else:\n",
    "        all_mobile.append('PC')\n",
    "    \n",
    "        \n",
    "################################################################################################################################\n",
    "        \n",
    "print(\"Executed\")\n",
    "print('total_pages: ', total_pages)\n",
    "print('Nomi: ', len(all_names))\n",
    "print('Commenti: ', len(all_reviews))\n",
    "print('Voti: ', len(all_ratings))\n",
    "print('Scritto da: ', len(all_mobile))"
   ]
  },
  {
   "cell_type": "code",
   "execution_count": 5,
   "metadata": {
    "colab": {},
    "colab_type": "code",
    "id": "_2UUJPQEWTsZ"
   },
   "outputs": [],
   "source": [
    "# display(all_reviews)"
   ]
  },
  {
   "cell_type": "code",
   "execution_count": 6,
   "metadata": {
    "colab": {},
    "colab_type": "code",
    "id": "kfvHDIQUWTsf"
   },
   "outputs": [],
   "source": [
    "# print(all_names)"
   ]
  },
  {
   "cell_type": "code",
   "execution_count": 7,
   "metadata": {
    "colab": {},
    "colab_type": "code",
    "id": "0CGHdPfhWTsj"
   },
   "outputs": [],
   "source": [
    "#print(all_ratings, '\\n')\n",
    "#print(len(all_ratings))"
   ]
  },
  {
   "cell_type": "code",
   "execution_count": 8,
   "metadata": {
    "colab": {},
    "colab_type": "code",
    "id": "L2JydXfczX4K"
   },
   "outputs": [],
   "source": [
    "#display(all_mobile)"
   ]
  },
  {
   "cell_type": "markdown",
   "metadata": {
    "colab_type": "text",
    "id": "Pn8YT0PlWTsr"
   },
   "source": [
    "#### Problema recensioni troppo lunghe\n",
    "Alla fine di alcune recensioni troviamo un '...Più', che non possiamo espandere. Data la mole di dati, decidiamo dunque di non considerarle."
   ]
  },
  {
   "cell_type": "code",
   "execution_count": 9,
   "metadata": {
    "colab": {},
    "colab_type": "code",
    "id": "1u6qYqeyWTst"
   },
   "outputs": [
    {
     "name": "stdout",
     "output_type": "stream",
     "text": [
      "Totale recensioni: 559 \n",
      " Recensioni analizzabili: 238 \n",
      " Recensioni scartate: 321 \n",
      "\n"
     ]
    },
    {
     "data": {
      "text/plain": [
       "[\"Per carità. Chi dice che è buono probabilmente non capisce nulla di cucina.\\nL'ho scelto per la comodità al centro città, per poter passeggiare dopo cena. Le recensioni mi hanno ingannata. Cucina veramente scadente.\",\n",
       " 'RECENSIONE_TROPPO_LUNGA',\n",
       " 'Ristorante nelle vie del centro di torino. Perfetto per una cena senza troppe pretese. Menu completo a meno di 10€ il dolce a 4.5€ qualcosa non torna.',\n",
       " 'Lo stile è quello di una trattoria tipica, non solo torinese. ottimo rapporto qualità prezzo. Personale super gentile. Consigliato',\n",
       " 'Non ci ritornerò. Cucina scarsa e di bassa qualità. Lo scontrino poi...non è fiscale e solo in contanti. Se tornerò a Torino mi guarderò bene di non tornare in questo locale.',\n",
       " 'RECENSIONE_TROPPO_LUNGA',\n",
       " 'Locale centrale, curato negli interni. Il personale è cordiale. Abbiamo ordinato tre menù fissi, 12€ ciascuno. Ampia scelta fra primi, secondi e contorni. Consigliato.',\n",
       " 'RECENSIONE_TROPPO_LUNGA',\n",
       " 'RECENSIONE_TROPPO_LUNGA',\n",
       " 'Storico locale in pieno centro con piatti caratteristici piemontesi tutti davvero ottimi con prezzi molto buono . Consigliatissimo']"
      ]
     },
     "metadata": {},
     "output_type": "display_data"
    }
   ],
   "source": [
    "all_reviews_filtered = []\n",
    "counter_reviews_scartate = 0;\n",
    "counter_reviews_da_usare = 0;\n",
    "\n",
    "for review in all_reviews:\n",
    "    if '...Più' in review:\n",
    "        all_reviews_filtered.append('RECENSIONE_TROPPO_LUNGA')\n",
    "        counter_reviews_scartate+=1;\n",
    "    else:\n",
    "        all_reviews_filtered.append(review)\n",
    "        counter_reviews_da_usare+=1;\n",
    "        \n",
    "        \n",
    "print(\n",
    "    'Totale recensioni:', counter_reviews_scartate + counter_reviews_da_usare, '\\n',\n",
    "    'Recensioni analizzabili:', counter_reviews_da_usare, '\\n',\n",
    "    'Recensioni scartate:', counter_reviews_scartate, '\\n')\n",
    "\n",
    "display(all_reviews_filtered[:10])"
   ]
  },
  {
   "cell_type": "markdown",
   "metadata": {
    "colab_type": "text",
    "id": "UkAWN5oXWTs1"
   },
   "source": [
    "---\n",
    "### Analisi dei nomi\n",
    "Cerchiamo di capire se chi ha commentato è un uomo (M) o una donna (F)."
   ]
  },
  {
   "cell_type": "markdown",
   "metadata": {
    "colab_type": "text",
    "id": "K2hUQ__xWTs2"
   },
   "source": [
    "#### Elimino spazi e numeri\n",
    "Ho bisogno di tenere solo le informazioni riguardanti il nome, elimino il resto."
   ]
  },
  {
   "cell_type": "code",
   "execution_count": 10,
   "metadata": {
    "colab": {},
    "colab_type": "code",
    "id": "HlRhLVAwWTs4"
   },
   "outputs": [
    {
     "name": "stdout",
     "output_type": "stream",
     "text": [
      "['datemiretta', 'alessiomariano', 'Stefano C', '_laico89_veronica', 'Massimo P', 'Marco P', 'utenz', 'Frega86', 'federicobZ1848YO', 'breddula7', 'Gretolona', 'MarilenaSt', 'alessandromX6615HV', 'cale240', 'La_sosta_di_Gulliver', 'Martinarossi19', 'AndreaH5053', 'roberto-biker', 'Gab S', 'GiuseppeG344', 'paolobN1228FO', 'lucapU1521SC', 'T7332BBmarcom', 'nunziom051', 'ucufucuvv', 'MrOrly', 'Alessandro27390', 'Toto M', 'Michele d', 'giovanna N', '455claudiad', 'Andrea B', 'affannielisa', 'Mario B', 'Alessandro C', 'Giulio B', 'GoPlaces782392', 'memipipi', 'BoardingPass774711', 'giano66', 'tiziana t', 'Alisa G', 'EmanueleN100', 'angelof555', 'fabiosax04', 'pasqualino d', 'Luca F', 'Summer_12months', 'Gianni S', 'gabrieleg841', 'ciaociao1970', 'Danieleelbarbe', 'valeriat356', 'Ren408', 'Alessandro C', 'Andrea M', 'amustoph', 'E2127VXdanieles', 'Mauro T', 'EnricoR1019', 'NO_NAME', 'NO_NAME', 'NO_NAME', 'NO_NAME', 'NO_NAME', 'NO_NAME', 'NO_NAME', 'NO_NAME', 'NO_NAME', 'NO_NAME', 'NO_NAME', 'NO_NAME', 'NO_NAME', 'NO_NAME', 'NO_NAME', 'NO_NAME', 'NO_NAME', 'NO_NAME', 'NO_NAME', 'NO_NAME', 'Francesca A', 'Ski_zs', 'lore77italy', 'carlocY2278LM', 'MariaBergomi96', 'mattiac4', 'samaria s', 'macros56', 'lucia r', 'Elisaagnese', 'VichingoPalermo', 'Massi_M866', 'Imerio M', 'paolovdt', '545dashav', 'FedeUnderwood', 'valerio117', 'Mirella M', 'Raffaella G', 'MarcoR5677', 'Manrico M', 'stefanodD752XJ', 'babs2168', 'ingamau', 'Chiara P', 'Elisa V', 'Giuseppe P', 'Claudio300385', 'Claudio B', 'elenafrolova28', 'Domenico C', 'zucc76', 'foodtimes_turin', '158sabrinap', 'Lastie', 'L2174XLandreg', 'Martadlc', 'Vale C', 'Gaellio', 'fabrizior172', 'marinels63', 'daggiox', 'Antonio M', 'Fabio T', 'ilaria_trapani', 'edoardod609', 'Ifabrizio', 'S8784TNclaudioc', 'FinnickyTasters', 'Millone', 'NO_NAME', 'NO_NAME', 'NO_NAME', 'NO_NAME', 'NO_NAME', 'NO_NAME', 'NO_NAME', 'NO_NAME', 'NO_NAME', 'NO_NAME', 'RicSar950', 'VINCENZO B', 'mirimari46', 'Miriana d', 'cyrus66', 'Francesca P', 'disemola', 'anna b', 'francescographic', '2mcom3', 'Y9776AXlucab', 'MelissaMatta', 'walter c', 'ECCELLENZE', 'fabiosax04', 'Christian N', 'Marta F', '617vincenzos', '879rossellaf', '14CPM', '148elio', 'GIUSEPPE P', 'Priscilla L', 'robertoz642', 'ennestar', 'Roberta B', 'Silvano C', 'GiorgiaChiva', 'mauribi70', 'Luca F', 'Elena C', 'Best1978', 'Giacomo F', 'EugenioS60', 'Angela I', 'Angela J', 'Gianluca R', 'katiag492', 'Maurinho1979', 'PIERO B', 'pphany', 'Pizzardone', 'antoniomW916KO', 'LiukTrip', 'PSPenny', 'Giovanni A', 'Joseph c', 'Francesca2.gatt... G', 'AostaGian', 'Andrea P', 'crystaleo', 'francacantini', 'ELISA M', '790antoniar', 'Elena P', 'Sheva991', 'zoe1870', 'brontolo18', 'marco64io', 'vintrov', 'sergio d', 'RiccaR80', 'Stefania A', 'termarPescara_Italia', 'Different_stages', 'Fabio V', 'Gloris91', 'Fausto D', 'Maria Luisa C', 'Mario M', 'rinaldom875', 'Erardo V', 'Sante C', 'CapoMondo', 'Lulu642014', 'DAD01969', 'Carlo S', 'bestculinaryguter', 'efiradr', 'Andrea V', 'the_grandmother13', '148elio', 'SarAmara86', 'Olandesevolante23', 'turistasevabene', 'sere l', 'roberto d', 'carlo m', 'Gianpibig', 'alagpuma85', 'Fiocco881', 'Francesco S', 'kora-87', 'Vito C', 'innamorati_pazzi', 's_iris28', 'Lorenzo R', 'MarilenaSt', 'giulitorino', 'Principiante63', 'fabiosax04', 'NICO48Salerno', 'marconebiolo', 'mariaelenar85', 'semaforogiallo', 'binca b', 'Antonio R', 'Leblu', 'mikysweet', 'GianDomenicoA', 'Valeeeeef', 'Ale126', 'LucianoD527', 'saporieccellenze', 'Luca d', 'Marco C', 'Marco R', 'Saralir94', 'E. D', 'Giuseppe T', 'Vincenzo S', 'francesco p', 'filippor426', 'Gabriella P', 'asterix1985', 'silviacF360HR', 'Guid0Z', 'Stefania T', 'markdQ3454IP', 'Gaze_03', 'Lorenzo M', 'Valentina C', 'ANDREAF673', 'fabio i', 'beppecap', 'SimoneAle74', 'Loris B', 'fabriziob317', 'frankp195', 'Colinotoscolino', '777giancarloborluzzi', 'precious70', 'Boncina', 'Uceppist', 'pablovisentin', 'U9240QJalessandrob', '348carlab', 'mammaina', 'enzudiavl', 'Letizia R', 'Poiuytrewq80', 'Marco_Melluso', 'Ariel D', 'mariellapv', 'megustalabamba', 'Avire', 'Ruben G', 'Marta Smarti L', 'Jaelni77', 'Daniela B', 'Secce', 'corrado v', 'Luisella V', 'Selly S', 'Alfredo D', 'Elisa G', 'unreal3000', 'linor815', 'Alberto S', '2aurora68', 'TizianinaV', 'bettyraed', 'carlo390', 'sonia v', 'rb1020', 'mchiarab2015', 'AlessandroG507', '2PTrucco', 'robbit976', 'nikwaralo', 'NO_NAME', 'NO_NAME', 'NO_NAME', 'NO_NAME', 'NO_NAME', 'NO_NAME', 'NO_NAME', 'NO_NAME', 'NO_NAME', 'NO_NAME', 'NO_NAME', 'NO_NAME', 'NO_NAME', 'NO_NAME', 'NO_NAME', 'NO_NAME', 'NO_NAME', 'NO_NAME', 'NO_NAME', 'NO_NAME', 'Cristina D', 'manuercole', 'walter g', 'LaNardessa', 'Paolom1965', 'Francesca F', 'L6467QVandreas', 'AcajadeRivolj', 'Edmondo M', '333valterm', 'stefano b', 'serenastefano', 'mary381', 'Sara M', 'Giuseppe L', 'MarcoStanP', 'Max R', 'elena d', 'agoevale', 'Paolo A', 'sara s', 'Jvan32', 'Mario B', 'POTOLINDO', 'paolofonta75', 'Federica C', 'Kiallina83', 'Mangiu M', 'lina p', 'Ming-Yi H', '30luglio', 'Adventure553015', 'dilloamari', 'elena b', 'ENRICO D', 'albertop292', 'Anima_e_Corpo_Torino', 'volvTorino', '959claren', 'Ivo P', 'ANGELO P', 'Pasquale c', 'LevinJ', 'laura l', 'vnx c', '419Monica', 'IlariaF123', 'AndreaGiorgia86', 'frag684', 'marianojk82', 'AzimutCagliari', '68Valerie', 'aloisius_pm', 'beppeku', 'Osvaldo B', 'MONDOCURIOSATO', 'Lorenzo C', 'Fabio M', 'Raky_Andre', 'Ceciliaz79', 'culdaviagi', 'Masgya', 'tizianagangi', 'Rosy T', 'Cristian A', 'Buongustaio979', 'mauro z', 'Guido L', 'Matte81', 'vincecn', 'Clementina L', 'AMTISO', 'Fil_Traveler9', 'puli2013', 'SANPA57', 'Federica Q', 'Matteo C', 'Andrea P', 'Margherita M', 'ag070', 'Corrado G', 'Vittorio B', 'And4And', 'SERE-G16', 'Fabrimac', 'GeiJ', 'Marilena E T', 'ROBXADVISOR', 'Manuelsan79', 'ciabada', 'gilo3', 'donatella5', 'Fabio B', 'M1ss_Vanille', 'GabryM83', 'Ghroll', 'Manuel S', 'Kinkyz', 'alessio m', 'Frankjones71', 'ladykant', 'Paolo B', 'Federica P', 'bob63_10', 'mdeye', 'lanninaganza', 'Alberto R', 'VinceTo', 'Daniele S', 'Duxialb', 'MassimoP62', 'Antonio T', 'Taurinorum88', 'unorosso0', 'PatrikL252', 'Buick86', 'cristina_987', '76_worldtraveller', 'rob982', 'robspa', 'mayotte2002', 'Andrea83elena88', 'Frankjones71', 'ShiningV', 'Marco77to', 'jeanlescarlin', 'Dario D', 'rita d', 'elena a', 'ale c', 'LuciaC6', 'Ilgecko82', 'LallyTorino', 'Ale_M87', 'Stecchettj', 'sabrina621', 'EleniNa125', 'Ziggy_Auditore', 'CarloNicoletta', 'Kitiara31', 'Okkiproject', 'cardelius', 'flysk', 'G B', 'Enrico C', 'gnammipink', 'fata_dei_viaggi', '_Bluecloud_00', 'marino007', 'Claudia B', 'Catia G', 'mr_jacob_82', 'MaCsino', 'msb90', 'pisella', 'pungenti', 'ingrid220507', 'egc_11', 'E1972QRpaolop', 'giusecosta', 'lelloecla', 'matteo68', '685MarioP', 'ecila1988', 'ross1000', 'Edoardo36_Roma', 'mike0s', 'Enia_82', 'laurentius87', 'ristoads', 'AleViaggiatrice88', 'Tastetraveller', 'casettadeste', 'Eg26', 'bruno d', 'Dany70Roma', 'Dariosh', 'i-pack', 'queenmab70', 'BrunoG638', 'Valegiosu', 'napaSiena', 'Ilfolletto', 'nuvolablu2', 'LoZan', 'innamorati_pazzi', 'marcanto7072', 'RexF', 'Gheolone', 'Artu09', 'valedaga', 'momo66Torino', 'Un membro di TripAdvisor su Facebook', 'ALZILZ', 'Vixster28', 'Tiago S', 'kevin089', 'SparkSE1', 'rdy2retir', '459AnnaM459', 'flyingenglishman562', 'Andrzej J', 'lyleh35', 'Dario G', 'sidmeiers1', 'traveller-pg', 'stchsw', 'Harry C', 'GabrielleLG02', 'Marla7', 'traveller-pg', 'TheRho', 'GigiGigina', 'emma_louella', 'vinceagius', 'jacobsons', 'Furious298484', 'BonnieBunny', 'mikrotelis'] \n",
      "\n",
      "['datemiretta', 'alessiomariano', 'Stefano', 'laicoveronica', 'Massimo', 'Marco', 'utenz', 'Frega', 'federicobZYO', 'breddula', 'Gretolona', 'MarilenaSt', 'alessandromXHV', 'cale', 'LasostadiGulliver', 'Martinarossi', 'AndreaH', 'robertobiker', 'Gab', 'GiuseppeG', 'paolobNFO', 'lucapUSC', 'TBBmarcom', 'nunziom', 'ucufucuvv', 'MrOrly', 'Alessandro', 'Toto', 'Michele', 'giovanna', 'claudiad', 'Andrea', 'affannielisa', 'Mario', 'Alessandro', 'Giulio', 'GoPlaces', 'memipipi', 'BoardingPass', 'giano', 'tiziana', 'Alisa', 'EmanueleN', 'angelof', 'fabiosax', 'pasqualino', 'Luca', 'Summermonths', 'Gianni', 'gabrieleg', 'ciaociao', 'Danieleelbarbe', 'valeriat', 'Ren', 'Alessandro', 'Andrea', 'amustoph', 'EVXdanieles', 'Mauro', 'EnricoR', 'NONAME', 'NONAME', 'NONAME', 'NONAME', 'NONAME', 'NONAME', 'NONAME', 'NONAME', 'NONAME', 'NONAME', 'NONAME', 'NONAME', 'NONAME', 'NONAME', 'NONAME', 'NONAME', 'NONAME', 'NONAME', 'NONAME', 'NONAME', 'Francesca', 'Skizs', 'loreitaly', 'carlocYLM', 'MariaBergomi', 'mattiac', 'samaria', 'macros', 'lucia', 'Elisaagnese', 'VichingoPalermo', 'MassiM', 'Imerio', 'paolovdt', 'dashav', 'FedeUnderwood', 'valerio', 'Mirella', 'Raffaella', 'MarcoR', 'Manrico', 'stefanodDXJ', 'babs', 'ingamau', 'Chiara', 'Elisa', 'Giuseppe', 'Claudio', 'Claudio', 'elenafrolova', 'Domenico', 'zucc', 'foodtimesturin', 'sabrinap', 'Lastie', 'LXLandreg', 'Martadlc', 'Vale', 'Gaellio', 'fabrizior', 'marinels', 'daggiox', 'Antonio', 'Fabio', 'ilariatrapani', 'edoardod', 'Ifabrizio', 'STNclaudioc', 'FinnickyTasters', 'Millone', 'NONAME', 'NONAME', 'NONAME', 'NONAME', 'NONAME', 'NONAME', 'NONAME', 'NONAME', 'NONAME', 'NONAME', 'RicSar', 'VINCENZO', 'mirimari', 'Miriana', 'cyrus', 'Francesca', 'disemola', 'anna', 'francescographic', 'mcom', 'YAXlucab', 'MelissaMatta', 'walter', 'ECCELLENZE', 'fabiosax', 'Christian', 'Marta', 'vincenzos', 'rossellaf', 'CPM', 'elio', 'GIUSEPPE', 'Priscilla', 'robertoz', 'ennestar', 'Roberta', 'Silvano', 'GiorgiaChiva', 'mauribi', 'Luca', 'Elena', 'Best', 'Giacomo', 'EugenioS', 'Angela', 'Angela', 'Gianluca', 'katiag', 'Maurinho', 'PIERO', 'pphany', 'Pizzardone', 'antoniomWKO', 'LiukTrip', 'PSPenny', 'Giovanni', 'Joseph', 'Francescagatt', 'AostaGian', 'Andrea', 'crystaleo', 'francacantini', 'ELISA', 'antoniar', 'Elena', 'Sheva', 'zoe', 'brontolo', 'marcoio', 'vintrov', 'sergio', 'RiccaR', 'Stefania', 'termarPescaraItalia', 'Differentstages', 'Fabio', 'Gloris', 'Fausto', 'Maria', 'Mario', 'rinaldom', 'Erardo', 'Sante', 'CapoMondo', 'Lulu', 'DAD', 'Carlo', 'bestculinaryguter', 'efiradr', 'Andrea', 'thegrandmother', 'elio', 'SarAmara', 'Olandesevolante', 'turistasevabene', 'sere', 'roberto', 'carlo', 'Gianpibig', 'alagpuma', 'Fiocco', 'Francesco', 'kora', 'Vito', 'innamoratipazzi', 'siris', 'Lorenzo', 'MarilenaSt', 'giulitorino', 'Principiante', 'fabiosax', 'NICOSalerno', 'marconebiolo', 'mariaelenar', 'semaforogiallo', 'binca', 'Antonio', 'Leblu', 'mikysweet', 'GianDomenicoA', 'Valeeeeef', 'Ale', 'LucianoD', 'saporieccellenze', 'Luca', 'Marco', 'Marco', 'Saralir', 'E', 'Giuseppe', 'Vincenzo', 'francesco', 'filippor', 'Gabriella', 'asterix', 'silviacFHR', 'GuidZ', 'Stefania', 'markdQIP', 'Gaze', 'Lorenzo', 'Valentina', 'ANDREAF', 'fabio', 'beppecap', 'SimoneAle', 'Loris', 'fabriziob', 'frankp', 'Colinotoscolino', 'giancarloborluzzi', 'precious', 'Boncina', 'Uceppist', 'pablovisentin', 'UQJalessandrob', 'carlab', 'mammaina', 'enzudiavl', 'Letizia', 'Poiuytrewq', 'MarcoMelluso', 'Ariel', 'mariellapv', 'megustalabamba', 'Avire', 'Ruben', 'Marta', 'Jaelni', 'Daniela', 'Secce', 'corrado', 'Luisella', 'Selly', 'Alfredo', 'Elisa', 'unreal', 'linor', 'Alberto', 'aurora', 'TizianinaV', 'bettyraed', 'carlo', 'sonia', 'rb', 'mchiarab', 'AlessandroG', 'PTrucco', 'robbit', 'nikwaralo', 'NONAME', 'NONAME', 'NONAME', 'NONAME', 'NONAME', 'NONAME', 'NONAME', 'NONAME', 'NONAME', 'NONAME', 'NONAME', 'NONAME', 'NONAME', 'NONAME', 'NONAME', 'NONAME', 'NONAME', 'NONAME', 'NONAME', 'NONAME', 'Cristina', 'manuercole', 'walter', 'LaNardessa', 'Paolom', 'Francesca', 'LQVandreas', 'AcajadeRivolj', 'Edmondo', 'valterm', 'stefano', 'serenastefano', 'mary', 'Sara', 'Giuseppe', 'MarcoStanP', 'Max', 'elena', 'agoevale', 'Paolo', 'sara', 'Jvan', 'Mario', 'POTOLINDO', 'paolofonta', 'Federica', 'Kiallina', 'Mangiu', 'lina', 'MingYi', 'luglio', 'Adventure', 'dilloamari', 'elena', 'ENRICO', 'albertop', 'AnimaeCorpoTorino', 'volvTorino', 'claren', 'Ivo', 'ANGELO', 'Pasquale', 'LevinJ', 'laura', 'vnx', 'Monica', 'IlariaF', 'AndreaGiorgia', 'frag', 'marianojk', 'AzimutCagliari', 'Valerie', 'aloisiuspm', 'beppeku', 'Osvaldo', 'MONDOCURIOSATO', 'Lorenzo', 'Fabio', 'RakyAndre', 'Ceciliaz', 'culdaviagi', 'Masgya', 'tizianagangi', 'Rosy', 'Cristian', 'Buongustaio', 'mauro', 'Guido', 'Matte', 'vincecn', 'Clementina', 'AMTISO', 'FilTraveler', 'puli', 'SANPA', 'Federica', 'Matteo', 'Andrea', 'Margherita', 'ag', 'Corrado', 'Vittorio', 'AndAnd', 'SEREG', 'Fabrimac', 'GeiJ', 'Marilena', 'ROBXADVISOR', 'Manuelsan', 'ciabada', 'gilo', 'donatella', 'Fabio', 'MssVanille', 'GabryM', 'Ghroll', 'Manuel', 'Kinkyz', 'alessio', 'Frankjones', 'ladykant', 'Paolo', 'Federica', 'bob', 'mdeye', 'lanninaganza', 'Alberto', 'VinceTo', 'Daniele', 'Duxialb', 'MassimoP', 'Antonio', 'Taurinorum', 'unorosso', 'PatrikL', 'Buick', 'cristina', 'worldtraveller', 'rob', 'robspa', 'mayotte', 'Andreaelena', 'Frankjones', 'ShiningV', 'Marcoto', 'jeanlescarlin', 'Dario', 'rita', 'elena', 'ale', 'LuciaC', 'Ilgecko', 'LallyTorino', 'AleM', 'Stecchettj', 'sabrina', 'EleniNa', 'ZiggyAuditore', 'CarloNicoletta', 'Kitiara', 'Okkiproject', 'cardelius', 'flysk', 'G', 'Enrico', 'gnammipink', 'fatadeiviaggi', 'Bluecloud', 'marino', 'Claudia', 'Catia', 'mrjacob', 'MaCsino', 'msb', 'pisella', 'pungenti', 'ingrid', 'egc', 'EQRpaolop', 'giusecosta', 'lelloecla', 'matteo', 'MarioP', 'ecila', 'ross', 'EdoardoRoma', 'mikes', 'Enia', 'laurentius', 'ristoads', 'AleViaggiatrice', 'Tastetraveller', 'casettadeste', 'Eg', 'bruno', 'DanyRoma', 'Dariosh', 'ipack', 'queenmab', 'BrunoG', 'Valegiosu', 'napaSiena', 'Ilfolletto', 'nuvolablu', 'LoZan', 'innamoratipazzi', 'marcanto', 'RexF', 'Gheolone', 'Artu', 'valedaga', 'momoTorino', 'Un', 'ALZILZ', 'Vixster', 'Tiago', 'kevin', 'SparkSE', 'rdyretir', 'AnnaM', 'flyingenglishman', 'Andrzej', 'lyleh', 'Dario', 'sidmeiers', 'travellerpg', 'stchsw', 'Harry', 'GabrielleLG', 'Marla', 'travellerpg', 'TheRho', 'GigiGigina', 'emmalouella', 'vinceagius', 'jacobsons', 'Furious', 'BonnieBunny', 'mikrotelis']\n"
     ]
    }
   ],
   "source": [
    "import re\n",
    "\n",
    "all_names_filtered = []\n",
    "\n",
    "regex = re.compile('[^a-zA-Z]')\n",
    "\n",
    "for name in all_names:\n",
    "    \n",
    "    if ' ' in name:                           # se c'è uno spazio nel nome\n",
    "        space = name.index(' ')               # ne trovo l'indice\n",
    "        name = regex.sub('', name[:space])    # effettuo un controllo su tutto ciò che non è alfabeto fino a quell'indice\n",
    "        all_names_filtered.append(name)       # e aggiungo la stringa\n",
    "        \n",
    "    else:\n",
    "        name = regex.sub('', name)            # in caso contrario effettuo un controllo su tutto ciò che non è alfabeto\n",
    "        all_names_filtered.append(name)       # e aggiungo la stringa\n",
    "        \n",
    "print(all_names, '\\n')\n",
    "print(all_names_filtered)"
   ]
  },
  {
   "cell_type": "markdown",
   "metadata": {
    "colab_type": "text",
    "id": "sVMu3308WTs9"
   },
   "source": [
    "#### Utilizzo gender_guesser\n",
    "Infine, posso utilizzare la libreria gender_guesser.\n",
    "\n",
    "NB: Genderize ti permette di analizzare 1000 nomi al giorno."
   ]
  },
  {
   "cell_type": "code",
   "execution_count": 11,
   "metadata": {
    "colab": {},
    "colab_type": "code",
    "id": "t013m_u2WTs_"
   },
   "outputs": [
    {
     "name": "stdout",
     "output_type": "stream",
     "text": [
      "Requirement already satisfied: gender_guesser in /anaconda3/lib/python3.7/site-packages (0.4.0)\r\n"
     ]
    }
   ],
   "source": [
    "!pip install gender_guesser"
   ]
  },
  {
   "cell_type": "code",
   "execution_count": 12,
   "metadata": {
    "colab": {},
    "colab_type": "code",
    "id": "T0F8kG-OWTtC"
   },
   "outputs": [
    {
     "name": "stdout",
     "output_type": "stream",
     "text": [
      "['unknown', 'unknown', 'male', 'unknown', 'male', 'male', 'unknown', 'unknown', 'unknown', 'unknown', 'unknown', 'unknown', 'unknown', 'unknown', 'unknown', 'unknown', 'unknown', 'unknown', 'andy', 'unknown', 'unknown', 'unknown', 'unknown', 'unknown', 'unknown', 'unknown', 'male', 'unknown', 'female', 'unknown', 'unknown', 'female', 'unknown', 'male', 'male', 'male', 'unknown', 'unknown', 'unknown', 'unknown', 'unknown', 'female', 'unknown', 'unknown', 'unknown', 'unknown', 'male', 'unknown', 'male', 'unknown', 'unknown', 'unknown', 'unknown', 'andy', 'male', 'female', 'unknown', 'unknown', 'male', 'unknown', 'unknown', 'unknown', 'unknown', 'unknown', 'unknown', 'unknown', 'unknown', 'unknown', 'unknown', 'unknown', 'unknown', 'unknown', 'unknown', 'unknown', 'unknown', 'unknown', 'unknown', 'unknown', 'unknown', 'unknown', 'female', 'unknown', 'unknown', 'unknown', 'unknown', 'unknown', 'unknown', 'unknown', 'unknown', 'unknown', 'unknown', 'unknown', 'male', 'unknown', 'unknown', 'unknown', 'unknown', 'female', 'female', 'unknown', 'male', 'unknown', 'unknown', 'unknown', 'female', 'female', 'male', 'male', 'male', 'unknown', 'male', 'unknown', 'unknown', 'unknown', 'unknown', 'unknown', 'unknown', 'unknown', 'unknown', 'unknown', 'unknown', 'unknown', 'male', 'male', 'unknown', 'unknown', 'unknown', 'unknown', 'unknown', 'unknown', 'unknown', 'unknown', 'unknown', 'unknown', 'unknown', 'unknown', 'unknown', 'unknown', 'unknown', 'unknown', 'unknown', 'unknown', 'unknown', 'female', 'unknown', 'female', 'unknown', 'unknown', 'unknown', 'unknown', 'unknown', 'unknown', 'unknown', 'unknown', 'unknown', 'male', 'female', 'unknown', 'unknown', 'unknown', 'unknown', 'unknown', 'female', 'unknown', 'unknown', 'female', 'male', 'unknown', 'unknown', 'male', 'female', 'unknown', 'male', 'unknown', 'female', 'female', 'male', 'unknown', 'unknown', 'unknown', 'unknown', 'unknown', 'unknown', 'unknown', 'unknown', 'male', 'male', 'unknown', 'unknown', 'female', 'unknown', 'unknown', 'unknown', 'unknown', 'female', 'female', 'unknown', 'unknown', 'unknown', 'unknown', 'unknown', 'unknown', 'female', 'unknown', 'unknown', 'male', 'unknown', 'male', 'female', 'male', 'unknown', 'unknown', 'male', 'unknown', 'male', 'unknown', 'male', 'unknown', 'unknown', 'female', 'unknown', 'unknown', 'unknown', 'unknown', 'unknown', 'unknown', 'unknown', 'unknown', 'unknown', 'unknown', 'unknown', 'male', 'unknown', 'male', 'unknown', 'unknown', 'male', 'unknown', 'unknown', 'unknown', 'unknown', 'unknown', 'unknown', 'unknown', 'unknown', 'unknown', 'male', 'unknown', 'unknown', 'unknown', 'unknown', 'male', 'unknown', 'unknown', 'male', 'male', 'male', 'unknown', 'unknown', 'male', 'male', 'unknown', 'unknown', 'female', 'unknown', 'unknown', 'unknown', 'female', 'unknown', 'unknown', 'male', 'female', 'unknown', 'unknown', 'unknown', 'unknown', 'male', 'unknown', 'unknown', 'unknown', 'unknown', 'unknown', 'unknown', 'unknown', 'unknown', 'unknown', 'unknown', 'unknown', 'unknown', 'female', 'unknown', 'unknown', 'male', 'unknown', 'unknown', 'unknown', 'male', 'female', 'unknown', 'female', 'unknown', 'unknown', 'female', 'unknown', 'male', 'female', 'unknown', 'unknown', 'male', 'unknown', 'unknown', 'unknown', 'unknown', 'unknown', 'unknown', 'unknown', 'unknown', 'unknown', 'unknown', 'unknown', 'unknown', 'unknown', 'unknown', 'unknown', 'unknown', 'unknown', 'unknown', 'unknown', 'unknown', 'unknown', 'unknown', 'unknown', 'unknown', 'unknown', 'unknown', 'unknown', 'unknown', 'unknown', 'unknown', 'unknown', 'female', 'unknown', 'unknown', 'unknown', 'unknown', 'female', 'unknown', 'unknown', 'male', 'unknown', 'unknown', 'unknown', 'unknown', 'female', 'male', 'unknown', 'male', 'unknown', 'unknown', 'male', 'unknown', 'unknown', 'male', 'unknown', 'unknown', 'female', 'unknown', 'unknown', 'unknown', 'andy', 'unknown', 'unknown', 'unknown', 'unknown', 'unknown', 'unknown', 'unknown', 'unknown', 'unknown', 'male', 'unknown', 'male', 'unknown', 'unknown', 'unknown', 'female', 'unknown', 'unknown', 'unknown', 'unknown', 'unknown', 'female', 'unknown', 'unknown', 'male', 'unknown', 'male', 'male', 'unknown', 'unknown', 'unknown', 'unknown', 'unknown', 'female', 'male', 'unknown', 'unknown', 'male', 'unknown', 'unknown', 'female', 'unknown', 'unknown', 'unknown', 'unknown', 'female', 'male', 'female', 'female', 'unknown', 'male', 'male', 'unknown', 'unknown', 'unknown', 'unknown', 'female', 'unknown', 'unknown', 'unknown', 'unknown', 'unknown', 'male', 'unknown', 'unknown', 'unknown', 'male', 'unknown', 'unknown', 'unknown', 'unknown', 'male', 'female', 'unknown', 'unknown', 'unknown', 'male', 'unknown', 'female', 'unknown', 'unknown', 'male', 'unknown', 'unknown', 'unknown', 'unknown', 'unknown', 'unknown', 'unknown', 'unknown', 'unknown', 'unknown', 'unknown', 'unknown', 'unknown', 'unknown', 'male', 'unknown', 'unknown', 'unknown', 'unknown', 'unknown', 'unknown', 'unknown', 'unknown', 'unknown', 'unknown', 'unknown', 'unknown', 'unknown', 'unknown', 'unknown', 'unknown', 'unknown', 'male', 'unknown', 'unknown', 'unknown', 'unknown', 'female', 'female', 'unknown', 'unknown', 'unknown', 'unknown', 'unknown', 'unknown', 'unknown', 'unknown', 'unknown', 'unknown', 'unknown', 'unknown', 'unknown', 'unknown', 'unknown', 'unknown', 'female', 'unknown', 'unknown', 'unknown', 'unknown', 'unknown', 'unknown', 'unknown', 'unknown', 'unknown', 'unknown', 'unknown', 'unknown', 'unknown', 'unknown', 'unknown', 'unknown', 'unknown', 'unknown', 'unknown', 'unknown', 'unknown', 'unknown', 'unknown', 'unknown', 'andy', 'unknown', 'unknown', 'male', 'unknown', 'unknown', 'unknown', 'unknown', 'unknown', 'male', 'unknown', 'male', 'unknown', 'unknown', 'unknown', 'male', 'unknown', 'female', 'unknown', 'unknown', 'unknown', 'unknown', 'unknown', 'unknown', 'unknown', 'unknown', 'unknown']\n"
     ]
    }
   ],
   "source": [
    "import gender_guesser.detector as gender\n",
    "d = gender.Detector()\n",
    "\n",
    "names_with_gender = []\n",
    "\n",
    "for name in all_names_filtered:\n",
    "    temp_gender = d.get_gender(name)\n",
    "    names_with_gender.append(temp_gender)\n",
    "  \n",
    "print(names_with_gender)"
   ]
  },
  {
   "cell_type": "code",
   "execution_count": 13,
   "metadata": {
    "colab": {},
    "colab_type": "code",
    "id": "1MhoJ5zSWTtK"
   },
   "outputs": [
    {
     "name": "stdout",
     "output_type": "stream",
     "text": [
      "['UNKNOWN', 'UNKNOWN', 'M', 'UNKNOWN', 'M', 'M', 'UNKNOWN', 'UNKNOWN', 'UNKNOWN', 'UNKNOWN', 'UNKNOWN', 'UNKNOWN', 'UNKNOWN', 'UNKNOWN', 'UNKNOWN', 'UNKNOWN', 'UNKNOWN', 'UNKNOWN', 'UNKNOWN', 'UNKNOWN', 'UNKNOWN', 'UNKNOWN', 'UNKNOWN', 'UNKNOWN', 'UNKNOWN', 'UNKNOWN', 'M', 'UNKNOWN', 'F', 'UNKNOWN', 'UNKNOWN', 'F', 'UNKNOWN', 'M', 'M', 'M', 'UNKNOWN', 'UNKNOWN', 'UNKNOWN', 'UNKNOWN', 'UNKNOWN', 'F', 'UNKNOWN', 'UNKNOWN', 'UNKNOWN', 'UNKNOWN', 'M', 'UNKNOWN', 'M', 'UNKNOWN', 'UNKNOWN', 'UNKNOWN', 'UNKNOWN', 'UNKNOWN', 'M', 'F', 'UNKNOWN', 'UNKNOWN', 'M', 'UNKNOWN', 'UNKNOWN', 'UNKNOWN', 'UNKNOWN', 'UNKNOWN', 'UNKNOWN', 'UNKNOWN', 'UNKNOWN', 'UNKNOWN', 'UNKNOWN', 'UNKNOWN', 'UNKNOWN', 'UNKNOWN', 'UNKNOWN', 'UNKNOWN', 'UNKNOWN', 'UNKNOWN', 'UNKNOWN', 'UNKNOWN', 'UNKNOWN', 'UNKNOWN', 'F', 'UNKNOWN', 'UNKNOWN', 'UNKNOWN', 'UNKNOWN', 'UNKNOWN', 'UNKNOWN', 'UNKNOWN', 'UNKNOWN', 'UNKNOWN', 'UNKNOWN', 'UNKNOWN', 'M', 'UNKNOWN', 'UNKNOWN', 'UNKNOWN', 'UNKNOWN', 'F', 'F', 'UNKNOWN', 'M', 'UNKNOWN', 'UNKNOWN', 'UNKNOWN', 'F', 'F', 'M', 'M', 'M', 'UNKNOWN', 'M', 'UNKNOWN', 'UNKNOWN', 'UNKNOWN', 'UNKNOWN', 'UNKNOWN', 'UNKNOWN', 'UNKNOWN', 'UNKNOWN', 'UNKNOWN', 'UNKNOWN', 'UNKNOWN', 'M', 'M', 'UNKNOWN', 'UNKNOWN', 'UNKNOWN', 'UNKNOWN', 'UNKNOWN', 'UNKNOWN', 'UNKNOWN', 'UNKNOWN', 'UNKNOWN', 'UNKNOWN', 'UNKNOWN', 'UNKNOWN', 'UNKNOWN', 'UNKNOWN', 'UNKNOWN', 'UNKNOWN', 'UNKNOWN', 'UNKNOWN', 'UNKNOWN', 'F', 'UNKNOWN', 'F', 'UNKNOWN', 'UNKNOWN', 'UNKNOWN', 'UNKNOWN', 'UNKNOWN', 'UNKNOWN', 'UNKNOWN', 'UNKNOWN', 'UNKNOWN', 'M', 'F', 'UNKNOWN', 'UNKNOWN', 'UNKNOWN', 'UNKNOWN', 'UNKNOWN', 'F', 'UNKNOWN', 'UNKNOWN', 'F', 'M', 'UNKNOWN', 'UNKNOWN', 'M', 'F', 'UNKNOWN', 'M', 'UNKNOWN', 'F', 'F', 'M', 'UNKNOWN', 'UNKNOWN', 'UNKNOWN', 'UNKNOWN', 'UNKNOWN', 'UNKNOWN', 'UNKNOWN', 'UNKNOWN', 'M', 'M', 'UNKNOWN', 'UNKNOWN', 'F', 'UNKNOWN', 'UNKNOWN', 'UNKNOWN', 'UNKNOWN', 'F', 'F', 'UNKNOWN', 'UNKNOWN', 'UNKNOWN', 'UNKNOWN', 'UNKNOWN', 'UNKNOWN', 'F', 'UNKNOWN', 'UNKNOWN', 'M', 'UNKNOWN', 'M', 'F', 'M', 'UNKNOWN', 'UNKNOWN', 'M', 'UNKNOWN', 'M', 'UNKNOWN', 'M', 'UNKNOWN', 'UNKNOWN', 'F', 'UNKNOWN', 'UNKNOWN', 'UNKNOWN', 'UNKNOWN', 'UNKNOWN', 'UNKNOWN', 'UNKNOWN', 'UNKNOWN', 'UNKNOWN', 'UNKNOWN', 'UNKNOWN', 'M', 'UNKNOWN', 'M', 'UNKNOWN', 'UNKNOWN', 'M', 'UNKNOWN', 'UNKNOWN', 'UNKNOWN', 'UNKNOWN', 'UNKNOWN', 'UNKNOWN', 'UNKNOWN', 'UNKNOWN', 'UNKNOWN', 'M', 'UNKNOWN', 'UNKNOWN', 'UNKNOWN', 'UNKNOWN', 'M', 'UNKNOWN', 'UNKNOWN', 'M', 'M', 'M', 'UNKNOWN', 'UNKNOWN', 'M', 'M', 'UNKNOWN', 'UNKNOWN', 'F', 'UNKNOWN', 'UNKNOWN', 'UNKNOWN', 'F', 'UNKNOWN', 'UNKNOWN', 'M', 'F', 'UNKNOWN', 'UNKNOWN', 'UNKNOWN', 'UNKNOWN', 'M', 'UNKNOWN', 'UNKNOWN', 'UNKNOWN', 'UNKNOWN', 'UNKNOWN', 'UNKNOWN', 'UNKNOWN', 'UNKNOWN', 'UNKNOWN', 'UNKNOWN', 'UNKNOWN', 'UNKNOWN', 'F', 'UNKNOWN', 'UNKNOWN', 'M', 'UNKNOWN', 'UNKNOWN', 'UNKNOWN', 'M', 'F', 'UNKNOWN', 'F', 'UNKNOWN', 'UNKNOWN', 'F', 'UNKNOWN', 'M', 'F', 'UNKNOWN', 'UNKNOWN', 'M', 'UNKNOWN', 'UNKNOWN', 'UNKNOWN', 'UNKNOWN', 'UNKNOWN', 'UNKNOWN', 'UNKNOWN', 'UNKNOWN', 'UNKNOWN', 'UNKNOWN', 'UNKNOWN', 'UNKNOWN', 'UNKNOWN', 'UNKNOWN', 'UNKNOWN', 'UNKNOWN', 'UNKNOWN', 'UNKNOWN', 'UNKNOWN', 'UNKNOWN', 'UNKNOWN', 'UNKNOWN', 'UNKNOWN', 'UNKNOWN', 'UNKNOWN', 'UNKNOWN', 'UNKNOWN', 'UNKNOWN', 'UNKNOWN', 'UNKNOWN', 'UNKNOWN', 'F', 'UNKNOWN', 'UNKNOWN', 'UNKNOWN', 'UNKNOWN', 'F', 'UNKNOWN', 'UNKNOWN', 'M', 'UNKNOWN', 'UNKNOWN', 'UNKNOWN', 'UNKNOWN', 'F', 'M', 'UNKNOWN', 'M', 'UNKNOWN', 'UNKNOWN', 'M', 'UNKNOWN', 'UNKNOWN', 'M', 'UNKNOWN', 'UNKNOWN', 'F', 'UNKNOWN', 'UNKNOWN', 'UNKNOWN', 'UNKNOWN', 'UNKNOWN', 'UNKNOWN', 'UNKNOWN', 'UNKNOWN', 'UNKNOWN', 'UNKNOWN', 'UNKNOWN', 'UNKNOWN', 'UNKNOWN', 'M', 'UNKNOWN', 'M', 'UNKNOWN', 'UNKNOWN', 'UNKNOWN', 'F', 'UNKNOWN', 'UNKNOWN', 'UNKNOWN', 'UNKNOWN', 'UNKNOWN', 'F', 'UNKNOWN', 'UNKNOWN', 'M', 'UNKNOWN', 'M', 'M', 'UNKNOWN', 'UNKNOWN', 'UNKNOWN', 'UNKNOWN', 'UNKNOWN', 'F', 'M', 'UNKNOWN', 'UNKNOWN', 'M', 'UNKNOWN', 'UNKNOWN', 'F', 'UNKNOWN', 'UNKNOWN', 'UNKNOWN', 'UNKNOWN', 'F', 'M', 'F', 'F', 'UNKNOWN', 'M', 'M', 'UNKNOWN', 'UNKNOWN', 'UNKNOWN', 'UNKNOWN', 'F', 'UNKNOWN', 'UNKNOWN', 'UNKNOWN', 'UNKNOWN', 'UNKNOWN', 'M', 'UNKNOWN', 'UNKNOWN', 'UNKNOWN', 'M', 'UNKNOWN', 'UNKNOWN', 'UNKNOWN', 'UNKNOWN', 'M', 'F', 'UNKNOWN', 'UNKNOWN', 'UNKNOWN', 'M', 'UNKNOWN', 'F', 'UNKNOWN', 'UNKNOWN', 'M', 'UNKNOWN', 'UNKNOWN', 'UNKNOWN', 'UNKNOWN', 'UNKNOWN', 'UNKNOWN', 'UNKNOWN', 'UNKNOWN', 'UNKNOWN', 'UNKNOWN', 'UNKNOWN', 'UNKNOWN', 'UNKNOWN', 'UNKNOWN', 'M', 'UNKNOWN', 'UNKNOWN', 'UNKNOWN', 'UNKNOWN', 'UNKNOWN', 'UNKNOWN', 'UNKNOWN', 'UNKNOWN', 'UNKNOWN', 'UNKNOWN', 'UNKNOWN', 'UNKNOWN', 'UNKNOWN', 'UNKNOWN', 'UNKNOWN', 'UNKNOWN', 'UNKNOWN', 'M', 'UNKNOWN', 'UNKNOWN', 'UNKNOWN', 'UNKNOWN', 'F', 'F', 'UNKNOWN', 'UNKNOWN', 'UNKNOWN', 'UNKNOWN', 'UNKNOWN', 'UNKNOWN', 'UNKNOWN', 'UNKNOWN', 'UNKNOWN', 'UNKNOWN', 'UNKNOWN', 'UNKNOWN', 'UNKNOWN', 'UNKNOWN', 'UNKNOWN', 'UNKNOWN', 'F', 'UNKNOWN', 'UNKNOWN', 'UNKNOWN', 'UNKNOWN', 'UNKNOWN', 'UNKNOWN', 'UNKNOWN', 'UNKNOWN', 'UNKNOWN', 'UNKNOWN', 'UNKNOWN', 'UNKNOWN', 'UNKNOWN', 'UNKNOWN', 'UNKNOWN', 'UNKNOWN', 'UNKNOWN', 'UNKNOWN', 'UNKNOWN', 'UNKNOWN', 'UNKNOWN', 'UNKNOWN', 'UNKNOWN', 'UNKNOWN', 'UNKNOWN', 'UNKNOWN', 'UNKNOWN', 'M', 'UNKNOWN', 'UNKNOWN', 'UNKNOWN', 'UNKNOWN', 'UNKNOWN', 'M', 'UNKNOWN', 'M', 'UNKNOWN', 'UNKNOWN', 'UNKNOWN', 'M', 'UNKNOWN', 'F', 'UNKNOWN', 'UNKNOWN', 'UNKNOWN', 'UNKNOWN', 'UNKNOWN', 'UNKNOWN', 'UNKNOWN', 'UNKNOWN', 'UNKNOWN']\n"
     ]
    }
   ],
   "source": [
    "all_genders = []\n",
    "i = 0\n",
    "\n",
    "for guess in names_with_gender:\n",
    "    if guess == 'male' or guess == 'mostly_male':\n",
    "        all_genders.append('M')\n",
    "    elif guess == 'female' or guess == 'mostly_female':\n",
    "        all_genders.append('F')\n",
    "    else:\n",
    "        all_genders.append('UNKNOWN')\n",
    "\n",
    "    \n",
    "print(all_genders)"
   ]
  },
  {
   "cell_type": "markdown",
   "metadata": {
    "colab_type": "text",
    "id": "bHM88i7bWTtV"
   },
   "source": [
    "---\n",
    "## Salviamo ora i dati ottenuti in una tabella Excel\n",
    "Così non dovremo ogni volta rieseguire tutto il codice\n",
    "\n"
   ]
  },
  {
   "cell_type": "markdown",
   "metadata": {
    "colab_type": "text",
    "id": "yQUBDvHwWTtd"
   },
   "source": [
    "### Controlliamo che ci siano lo stesso numero di dati\n",
    "Potremo così creare una tabella sfruttando Pandas"
   ]
  },
  {
   "cell_type": "code",
   "execution_count": 14,
   "metadata": {
    "colab": {},
    "colab_type": "code",
    "id": "uPxa7-97WTtd"
   },
   "outputs": [
    {
     "name": "stdout",
     "output_type": "stream",
     "text": [
      "Nomi:  559\n",
      "Commenti:  559\n",
      "Voti:  559\n",
      "Mobile:  559\n"
     ]
    }
   ],
   "source": [
    "print('Nomi: ', len(all_names_filtered))\n",
    "print('Commenti: ', len(all_reviews_filtered))\n",
    "print('Voti: ', len(all_ratings))\n",
    "print('Mobile: ', len(all_mobile))"
   ]
  },
  {
   "cell_type": "markdown",
   "metadata": {
    "colab_type": "text",
    "id": "L3jNT2atZj9k"
   },
   "source": [
    "### Eliminiamo le recensioni troppo lunghe e quelle di cui non sappiamo il genere del commentatore\n",
    "Creo una lista di liste [ ['NOME', 'GENERE', 'RECENSIONE', 'VOTO'], ['NOME', 'GENERE', 'RECENSIONE', 'VOTO'], ... ]"
   ]
  },
  {
   "cell_type": "code",
   "execution_count": 15,
   "metadata": {
    "colab": {},
    "colab_type": "code",
    "id": "x3jtEoicZrFl"
   },
   "outputs": [
    {
     "name": "stdout",
     "output_type": "stream",
     "text": [
      "DATI ANALIZZABILI:  55\n"
     ]
    },
    {
     "data": {
      "text/plain": [
       "[['Stefano',\n",
       "  'M',\n",
       "  'Ristorante nelle vie del centro di torino. Perfetto per una cena senza troppe pretese. Menu completo a meno di 10€ il dolce a 4.5€ qualcosa non torna.',\n",
       "  '3',\n",
       "  'Mobile'],\n",
       " ['Massimo',\n",
       "  'M',\n",
       "  'Non ci ritornerò. Cucina scarsa e di bassa qualità. Lo scontrino poi...non è fiscale e solo in contanti. Se tornerò a Torino mi guarderò bene di non tornare in questo locale.',\n",
       "  '1',\n",
       "  'Mobile'],\n",
       " ['Andrea',\n",
       "  'F',\n",
       "  'Ho cenato in questo ristorante la scorsa settimana e sono rimasto molto soddisfatto. Buon rapporto qualità/prezzo. Personale simpatico, cortese e disponibile. Ci tornerò sicuramente.',\n",
       "  '5',\n",
       "  'Mobile'],\n",
       " ['Luca',\n",
       "  'M',\n",
       "  'Passavo di lì per caso e ho letto il menu e ho approfittato del menu serale a 10€, devo dire che sono rimasto sorpreso, personale gentilissimo e rapporto qualità prezzo ottimo, ci tornerò con la famiglia prossimamente',\n",
       "  '5',\n",
       "  'Mobile'],\n",
       " ['Andrea',\n",
       "  'F',\n",
       "  \"Consiglio vivamente questo ristorante vista l'ottimo rapporto prezzo/qualità, la posizione (in una traversa di via Garibaldi) in pieno centro e il proprietario, gentilissimo e con molta esperienza.\",\n",
       "  '5',\n",
       "  'Mobile']]"
      ]
     },
     "metadata": {},
     "output_type": "display_data"
    }
   ],
   "source": [
    "complete_list = []\n",
    "\n",
    "i = len(all_names_filtered)\n",
    "\n",
    "for indice in range(i):\n",
    "  if all_genders[indice] != 'UNKNOWN' and all_reviews_filtered[indice] != 'RECENSIONE_TROPPO_LUNGA':\n",
    "    temp = [all_names_filtered[indice], all_genders[indice], all_reviews_filtered[indice], all_ratings[indice], all_mobile[indice]]\n",
    "    complete_list.append(temp)\n",
    "    \n",
    "print('DATI ANALIZZABILI: ', len(complete_list))\n",
    "display(complete_list[:5])\n"
   ]
  },
  {
   "cell_type": "markdown",
   "metadata": {
    "colab_type": "text",
    "id": "zwEridD9ZzVo"
   },
   "source": [
    "### Creiamo la tabella"
   ]
  },
  {
   "cell_type": "code",
   "execution_count": 16,
   "metadata": {
    "colab": {},
    "colab_type": "code",
    "id": "j1H48nXfWTtl"
   },
   "outputs": [],
   "source": [
    "# !pip install pandas\n",
    "# !pip install xlsxwriter\n",
    "import pandas as pd"
   ]
  },
  {
   "cell_type": "code",
   "execution_count": 17,
   "metadata": {
    "colab": {},
    "colab_type": "code",
    "id": "FWhktgyIWTtp"
   },
   "outputs": [],
   "source": [
    "# Create a Pandas dataframe from the data.\n",
    "df = pd.DataFrame({'Nomi': [elemento[0] for elemento in complete_list], \n",
    "                   'Genere': [elemento[1] for elemento in complete_list], \n",
    "                   'Recensioni': [elemento[2] for elemento in complete_list],\n",
    "                   'Voti': [elemento[3] for elemento in complete_list],\n",
    "                   'Scritta da': [elemento[4] for elemento in complete_list]})\n",
    "\n",
    "# Create a Pandas Excel writer using XlsxWriter as the engine.\n",
    "writer = pd.ExcelWriter('RISTORANTE_17.xlsx', engine='xlsxwriter')\n",
    "\n",
    "# Convert the dataframe to an XlsxWriter Excel object.\n",
    "df.to_excel(writer, sheet_name='Sheet1')\n",
    "\n",
    "# Close the Pandas Excel writer and output the Excel file.\n",
    "writer.save()"
   ]
  },
  {
   "cell_type": "code",
   "execution_count": 18,
   "metadata": {
    "colab": {},
    "colab_type": "code",
    "id": "Fdg5rRWmWTtv"
   },
   "outputs": [
    {
     "data": {
      "text/html": [
       "<div>\n",
       "<style scoped>\n",
       "    .dataframe tbody tr th:only-of-type {\n",
       "        vertical-align: middle;\n",
       "    }\n",
       "\n",
       "    .dataframe tbody tr th {\n",
       "        vertical-align: top;\n",
       "    }\n",
       "\n",
       "    .dataframe thead th {\n",
       "        text-align: right;\n",
       "    }\n",
       "</style>\n",
       "<table border=\"1\" class=\"dataframe\">\n",
       "  <thead>\n",
       "    <tr style=\"text-align: right;\">\n",
       "      <th></th>\n",
       "      <th>Nomi</th>\n",
       "      <th>Genere</th>\n",
       "      <th>Recensioni</th>\n",
       "      <th>Voti</th>\n",
       "      <th>Scritta da</th>\n",
       "    </tr>\n",
       "  </thead>\n",
       "  <tbody>\n",
       "    <tr>\n",
       "      <th>0</th>\n",
       "      <td>Stefano</td>\n",
       "      <td>M</td>\n",
       "      <td>Ristorante nelle vie del centro di torino. Per...</td>\n",
       "      <td>3</td>\n",
       "      <td>Mobile</td>\n",
       "    </tr>\n",
       "    <tr>\n",
       "      <th>1</th>\n",
       "      <td>Massimo</td>\n",
       "      <td>M</td>\n",
       "      <td>Non ci ritornerò. Cucina scarsa e di bassa qua...</td>\n",
       "      <td>1</td>\n",
       "      <td>Mobile</td>\n",
       "    </tr>\n",
       "    <tr>\n",
       "      <th>2</th>\n",
       "      <td>Andrea</td>\n",
       "      <td>F</td>\n",
       "      <td>Ho cenato in questo ristorante la scorsa setti...</td>\n",
       "      <td>5</td>\n",
       "      <td>Mobile</td>\n",
       "    </tr>\n",
       "    <tr>\n",
       "      <th>3</th>\n",
       "      <td>Luca</td>\n",
       "      <td>M</td>\n",
       "      <td>Passavo di lì per caso e ho letto il menu e ho...</td>\n",
       "      <td>5</td>\n",
       "      <td>Mobile</td>\n",
       "    </tr>\n",
       "    <tr>\n",
       "      <th>4</th>\n",
       "      <td>Andrea</td>\n",
       "      <td>F</td>\n",
       "      <td>Consiglio vivamente questo ristorante vista l'...</td>\n",
       "      <td>5</td>\n",
       "      <td>Mobile</td>\n",
       "    </tr>\n",
       "    <tr>\n",
       "      <th>5</th>\n",
       "      <td>Raffaella</td>\n",
       "      <td>F</td>\n",
       "      <td>Tempi di attesa lunghi ma sopratutto pizza cru...</td>\n",
       "      <td>1</td>\n",
       "      <td>Mobile</td>\n",
       "    </tr>\n",
       "    <tr>\n",
       "      <th>6</th>\n",
       "      <td>Manrico</td>\n",
       "      <td>M</td>\n",
       "      <td>Tutto nel titolo. La qualità è buona, servizio...</td>\n",
       "      <td>5</td>\n",
       "      <td>PC</td>\n",
       "    </tr>\n",
       "    <tr>\n",
       "      <th>7</th>\n",
       "      <td>Giuseppe</td>\n",
       "      <td>M</td>\n",
       "      <td>ottimo ristorante menu molto completo con tant...</td>\n",
       "      <td>5</td>\n",
       "      <td>Mobile</td>\n",
       "    </tr>\n",
       "    <tr>\n",
       "      <th>8</th>\n",
       "      <td>Claudio</td>\n",
       "      <td>M</td>\n",
       "      <td>Ristorante pizzeria nei pressi di piazza Caste...</td>\n",
       "      <td>5</td>\n",
       "      <td>Mobile</td>\n",
       "    </tr>\n",
       "    <tr>\n",
       "      <th>9</th>\n",
       "      <td>Claudio</td>\n",
       "      <td>M</td>\n",
       "      <td>Locale tradizionale (esiste dal 1960!).\\nCon c...</td>\n",
       "      <td>3</td>\n",
       "      <td>Mobile</td>\n",
       "    </tr>\n",
       "    <tr>\n",
       "      <th>10</th>\n",
       "      <td>Domenico</td>\n",
       "      <td>M</td>\n",
       "      <td>Bel locale in pieno centro area pedonale. Mang...</td>\n",
       "      <td>3</td>\n",
       "      <td>Mobile</td>\n",
       "    </tr>\n",
       "    <tr>\n",
       "      <th>11</th>\n",
       "      <td>Antonio</td>\n",
       "      <td>M</td>\n",
       "      <td>Abbiamo cena preticamente ad un passo dal cent...</td>\n",
       "      <td>5</td>\n",
       "      <td>PC</td>\n",
       "    </tr>\n",
       "    <tr>\n",
       "      <th>12</th>\n",
       "      <td>Christian</td>\n",
       "      <td>M</td>\n",
       "      <td>Buono e a buon prezzo. Mi ha fatto piacere ved...</td>\n",
       "      <td>4</td>\n",
       "      <td>Mobile</td>\n",
       "    </tr>\n",
       "    <tr>\n",
       "      <th>13</th>\n",
       "      <td>Priscilla</td>\n",
       "      <td>F</td>\n",
       "      <td>Velocissimi ed efficienti.. Cibo davvero ottim...</td>\n",
       "      <td>5</td>\n",
       "      <td>Mobile</td>\n",
       "    </tr>\n",
       "    <tr>\n",
       "      <th>14</th>\n",
       "      <td>Silvano</td>\n",
       "      <td>M</td>\n",
       "      <td>Piatti pessimi abbiamo ordinato sul menù un pr...</td>\n",
       "      <td>1</td>\n",
       "      <td>Mobile</td>\n",
       "    </tr>\n",
       "    <tr>\n",
       "      <th>15</th>\n",
       "      <td>Luca</td>\n",
       "      <td>M</td>\n",
       "      <td>Posto consigliato per una cena/pranzo semplice...</td>\n",
       "      <td>3</td>\n",
       "      <td>PC</td>\n",
       "    </tr>\n",
       "    <tr>\n",
       "      <th>16</th>\n",
       "      <td>Giacomo</td>\n",
       "      <td>M</td>\n",
       "      <td>Tu vai a mangiare \"Da Peppino\" a Torino e capi...</td>\n",
       "      <td>5</td>\n",
       "      <td>Mobile</td>\n",
       "    </tr>\n",
       "    <tr>\n",
       "      <th>17</th>\n",
       "      <td>Angela</td>\n",
       "      <td>F</td>\n",
       "      <td>Pranzo con un'amica in questo bel ristorantino...</td>\n",
       "      <td>4</td>\n",
       "      <td>Mobile</td>\n",
       "    </tr>\n",
       "    <tr>\n",
       "      <th>18</th>\n",
       "      <td>Mario</td>\n",
       "      <td>M</td>\n",
       "      <td>Troppa confusione....cibo discreto..prezzo ade...</td>\n",
       "      <td>2</td>\n",
       "      <td>Mobile</td>\n",
       "    </tr>\n",
       "    <tr>\n",
       "      <th>19</th>\n",
       "      <td>Andrea</td>\n",
       "      <td>F</td>\n",
       "      <td>La pizza primavera era buonissima, ingredienti...</td>\n",
       "      <td>5</td>\n",
       "      <td>Mobile</td>\n",
       "    </tr>\n",
       "    <tr>\n",
       "      <th>20</th>\n",
       "      <td>Francesco</td>\n",
       "      <td>M</td>\n",
       "      <td>Trovato casualmente. Ho preso il menu pizza in...</td>\n",
       "      <td>4</td>\n",
       "      <td>Mobile</td>\n",
       "    </tr>\n",
       "    <tr>\n",
       "      <th>21</th>\n",
       "      <td>Antonio</td>\n",
       "      <td>M</td>\n",
       "      <td>Eravamo in cerca di una pizzeria, poi abbiamo ...</td>\n",
       "      <td>5</td>\n",
       "      <td>Mobile</td>\n",
       "    </tr>\n",
       "    <tr>\n",
       "      <th>22</th>\n",
       "      <td>Ale</td>\n",
       "      <td>M</td>\n",
       "      <td>Cucina semplice e gustosa, menu economico e po...</td>\n",
       "      <td>4</td>\n",
       "      <td>Mobile</td>\n",
       "    </tr>\n",
       "    <tr>\n",
       "      <th>23</th>\n",
       "      <td>Marco</td>\n",
       "      <td>M</td>\n",
       "      <td>Si può scegliere tra il menù a prezzo fisso 8,...</td>\n",
       "      <td>4</td>\n",
       "      <td>PC</td>\n",
       "    </tr>\n",
       "    <tr>\n",
       "      <th>24</th>\n",
       "      <td>Gabriella</td>\n",
       "      <td>F</td>\n",
       "      <td>Dopo una mattinata in centro, questo posticino...</td>\n",
       "      <td>4</td>\n",
       "      <td>PC</td>\n",
       "    </tr>\n",
       "    <tr>\n",
       "      <th>25</th>\n",
       "      <td>Stefania</td>\n",
       "      <td>F</td>\n",
       "      <td>Grazioso locale vicino piazza Castello, scoper...</td>\n",
       "      <td>5</td>\n",
       "      <td>PC</td>\n",
       "    </tr>\n",
       "    <tr>\n",
       "      <th>26</th>\n",
       "      <td>Loris</td>\n",
       "      <td>M</td>\n",
       "      <td>Degno di nota è sicuramente il rapporto qualit...</td>\n",
       "      <td>4</td>\n",
       "      <td>PC</td>\n",
       "    </tr>\n",
       "    <tr>\n",
       "      <th>27</th>\n",
       "      <td>Ariel</td>\n",
       "      <td>M</td>\n",
       "      <td>Personale cordiale e cibo buono, molto affolla...</td>\n",
       "      <td>3</td>\n",
       "      <td>Mobile</td>\n",
       "    </tr>\n",
       "    <tr>\n",
       "      <th>28</th>\n",
       "      <td>Ruben</td>\n",
       "      <td>M</td>\n",
       "      <td>Menu a prezzo fisso in un borgo davvero delizi...</td>\n",
       "      <td>5</td>\n",
       "      <td>Mobile</td>\n",
       "    </tr>\n",
       "    <tr>\n",
       "      <th>29</th>\n",
       "      <td>Luisella</td>\n",
       "      <td>F</td>\n",
       "      <td>Abbiamo mangiato oggi.......ci siamo trovati b...</td>\n",
       "      <td>5</td>\n",
       "      <td>PC</td>\n",
       "    </tr>\n",
       "    <tr>\n",
       "      <th>30</th>\n",
       "      <td>Elisa</td>\n",
       "      <td>F</td>\n",
       "      <td>Io e il mio fidanzato ci concediamo spesso il ...</td>\n",
       "      <td>4</td>\n",
       "      <td>Mobile</td>\n",
       "    </tr>\n",
       "    <tr>\n",
       "      <th>31</th>\n",
       "      <td>Alberto</td>\n",
       "      <td>M</td>\n",
       "      <td>Pranzo di lavoro, menù fisso. Il cibo non ecce...</td>\n",
       "      <td>2</td>\n",
       "      <td>Mobile</td>\n",
       "    </tr>\n",
       "    <tr>\n",
       "      <th>32</th>\n",
       "      <td>Cristina</td>\n",
       "      <td>F</td>\n",
       "      <td>Pranzo improvvisato in centro, é la seconda vo...</td>\n",
       "      <td>3</td>\n",
       "      <td>Mobile</td>\n",
       "    </tr>\n",
       "    <tr>\n",
       "      <th>33</th>\n",
       "      <td>Francesca</td>\n",
       "      <td>F</td>\n",
       "      <td>Da turista con 3 bambini dico solo grandioso s...</td>\n",
       "      <td>5</td>\n",
       "      <td>Mobile</td>\n",
       "    </tr>\n",
       "    <tr>\n",
       "      <th>34</th>\n",
       "      <td>Edmondo</td>\n",
       "      <td>M</td>\n",
       "      <td>Spesso vado a mangiare in questo ristorante, c...</td>\n",
       "      <td>5</td>\n",
       "      <td>PC</td>\n",
       "    </tr>\n",
       "    <tr>\n",
       "      <th>35</th>\n",
       "      <td>Max</td>\n",
       "      <td>M</td>\n",
       "      <td>Il posto è carino...arrivando ai piatti se si ...</td>\n",
       "      <td>3</td>\n",
       "      <td>Mobile</td>\n",
       "    </tr>\n",
       "    <tr>\n",
       "      <th>36</th>\n",
       "      <td>Paolo</td>\n",
       "      <td>M</td>\n",
       "      <td>Ottimo ristorante per la pausa pranzo...\\nServ...</td>\n",
       "      <td>4</td>\n",
       "      <td>PC</td>\n",
       "    </tr>\n",
       "    <tr>\n",
       "      <th>37</th>\n",
       "      <td>Mario</td>\n",
       "      <td>M</td>\n",
       "      <td>Porzioni abbondanti , di qualità dall antipast...</td>\n",
       "      <td>5</td>\n",
       "      <td>PC</td>\n",
       "    </tr>\n",
       "    <tr>\n",
       "      <th>38</th>\n",
       "      <td>Federica</td>\n",
       "      <td>F</td>\n",
       "      <td>Il posto in sé era gradevole, il cibo di quali...</td>\n",
       "      <td>2</td>\n",
       "      <td>PC</td>\n",
       "    </tr>\n",
       "    <tr>\n",
       "      <th>39</th>\n",
       "      <td>Ivo</td>\n",
       "      <td>M</td>\n",
       "      <td>Mangiato molto bene , sia carne che pesce con ...</td>\n",
       "      <td>4</td>\n",
       "      <td>Mobile</td>\n",
       "    </tr>\n",
       "    <tr>\n",
       "      <th>40</th>\n",
       "      <td>Pasquale</td>\n",
       "      <td>M</td>\n",
       "      <td>Il locale è una classica trattoria si mangia b...</td>\n",
       "      <td>3</td>\n",
       "      <td>PC</td>\n",
       "    </tr>\n",
       "    <tr>\n",
       "      <th>41</th>\n",
       "      <td>Monica</td>\n",
       "      <td>F</td>\n",
       "      <td>Il locale si trova in centro e ha prezzi ragio...</td>\n",
       "      <td>3</td>\n",
       "      <td>PC</td>\n",
       "    </tr>\n",
       "    <tr>\n",
       "      <th>42</th>\n",
       "      <td>Valerie</td>\n",
       "      <td>F</td>\n",
       "      <td>adoro i loro gelati! ho provato tutti i gusti,...</td>\n",
       "      <td>5</td>\n",
       "      <td>PC</td>\n",
       "    </tr>\n",
       "    <tr>\n",
       "      <th>43</th>\n",
       "      <td>Osvaldo</td>\n",
       "      <td>M</td>\n",
       "      <td>Personale gentile ottimo il risotto e la pizza...</td>\n",
       "      <td>3</td>\n",
       "      <td>Mobile</td>\n",
       "    </tr>\n",
       "    <tr>\n",
       "      <th>44</th>\n",
       "      <td>Lorenzo</td>\n",
       "      <td>M</td>\n",
       "      <td>Bel locale. Servizio gentile e premuroso. Buon...</td>\n",
       "      <td>3</td>\n",
       "      <td>Mobile</td>\n",
       "    </tr>\n",
       "    <tr>\n",
       "      <th>45</th>\n",
       "      <td>Fabio</td>\n",
       "      <td>M</td>\n",
       "      <td>A prezzi modici si mangia una pizza o un primo...</td>\n",
       "      <td>3</td>\n",
       "      <td>Mobile</td>\n",
       "    </tr>\n",
       "    <tr>\n",
       "      <th>46</th>\n",
       "      <td>Guido</td>\n",
       "      <td>M</td>\n",
       "      <td>Corretta ed economuca. La cucina è leggera e d...</td>\n",
       "      <td>5</td>\n",
       "      <td>Mobile</td>\n",
       "    </tr>\n",
       "    <tr>\n",
       "      <th>47</th>\n",
       "      <td>Matteo</td>\n",
       "      <td>M</td>\n",
       "      <td>Si mangia bene e senza spendere troppo. Anche ...</td>\n",
       "      <td>4</td>\n",
       "      <td>Mobile</td>\n",
       "    </tr>\n",
       "    <tr>\n",
       "      <th>48</th>\n",
       "      <td>Margherita</td>\n",
       "      <td>F</td>\n",
       "      <td>Indipendente che si scelga menù pizza o ristor...</td>\n",
       "      <td>4</td>\n",
       "      <td>Mobile</td>\n",
       "    </tr>\n",
       "    <tr>\n",
       "      <th>49</th>\n",
       "      <td>Corrado</td>\n",
       "      <td>M</td>\n",
       "      <td>Scelta notevole, personale attento e cordiale,...</td>\n",
       "      <td>4</td>\n",
       "      <td>Mobile</td>\n",
       "    </tr>\n",
       "    <tr>\n",
       "      <th>50</th>\n",
       "      <td>Tiago</td>\n",
       "      <td>M</td>\n",
       "      <td>Servizio cattivo, hard rock come pane, non gen...</td>\n",
       "      <td>1</td>\n",
       "      <td>Mobile</td>\n",
       "    </tr>\n",
       "    <tr>\n",
       "      <th>51</th>\n",
       "      <td>Andrzej</td>\n",
       "      <td>M</td>\n",
       "      <td>I migliori gnocchi alla con safran che abbia m...</td>\n",
       "      <td>5</td>\n",
       "      <td>Mobile</td>\n",
       "    </tr>\n",
       "    <tr>\n",
       "      <th>52</th>\n",
       "      <td>Dario</td>\n",
       "      <td>M</td>\n",
       "      <td>È difficilmente si poteva trovare un posto con...</td>\n",
       "      <td>4</td>\n",
       "      <td>PC</td>\n",
       "    </tr>\n",
       "    <tr>\n",
       "      <th>53</th>\n",
       "      <td>Harry</td>\n",
       "      <td>M</td>\n",
       "      <td>Sono venuti prima di questo ristorante 16 anni...</td>\n",
       "      <td>4</td>\n",
       "      <td>Mobile</td>\n",
       "    </tr>\n",
       "    <tr>\n",
       "      <th>54</th>\n",
       "      <td>Marla</td>\n",
       "      <td>F</td>\n",
       "      <td>Da Peppino offre un ottimo rapporto qualità-pr...</td>\n",
       "      <td>4</td>\n",
       "      <td>Mobile</td>\n",
       "    </tr>\n",
       "  </tbody>\n",
       "</table>\n",
       "</div>"
      ],
      "text/plain": [
       "          Nomi Genere                                         Recensioni  \\\n",
       "0      Stefano      M  Ristorante nelle vie del centro di torino. Per...   \n",
       "1      Massimo      M  Non ci ritornerò. Cucina scarsa e di bassa qua...   \n",
       "2       Andrea      F  Ho cenato in questo ristorante la scorsa setti...   \n",
       "3         Luca      M  Passavo di lì per caso e ho letto il menu e ho...   \n",
       "4       Andrea      F  Consiglio vivamente questo ristorante vista l'...   \n",
       "5    Raffaella      F  Tempi di attesa lunghi ma sopratutto pizza cru...   \n",
       "6      Manrico      M  Tutto nel titolo. La qualità è buona, servizio...   \n",
       "7     Giuseppe      M  ottimo ristorante menu molto completo con tant...   \n",
       "8      Claudio      M  Ristorante pizzeria nei pressi di piazza Caste...   \n",
       "9      Claudio      M  Locale tradizionale (esiste dal 1960!).\\nCon c...   \n",
       "10    Domenico      M  Bel locale in pieno centro area pedonale. Mang...   \n",
       "11     Antonio      M  Abbiamo cena preticamente ad un passo dal cent...   \n",
       "12   Christian      M  Buono e a buon prezzo. Mi ha fatto piacere ved...   \n",
       "13   Priscilla      F  Velocissimi ed efficienti.. Cibo davvero ottim...   \n",
       "14     Silvano      M  Piatti pessimi abbiamo ordinato sul menù un pr...   \n",
       "15        Luca      M  Posto consigliato per una cena/pranzo semplice...   \n",
       "16     Giacomo      M  Tu vai a mangiare \"Da Peppino\" a Torino e capi...   \n",
       "17      Angela      F  Pranzo con un'amica in questo bel ristorantino...   \n",
       "18       Mario      M  Troppa confusione....cibo discreto..prezzo ade...   \n",
       "19      Andrea      F  La pizza primavera era buonissima, ingredienti...   \n",
       "20   Francesco      M  Trovato casualmente. Ho preso il menu pizza in...   \n",
       "21     Antonio      M  Eravamo in cerca di una pizzeria, poi abbiamo ...   \n",
       "22         Ale      M  Cucina semplice e gustosa, menu economico e po...   \n",
       "23       Marco      M  Si può scegliere tra il menù a prezzo fisso 8,...   \n",
       "24   Gabriella      F  Dopo una mattinata in centro, questo posticino...   \n",
       "25    Stefania      F  Grazioso locale vicino piazza Castello, scoper...   \n",
       "26       Loris      M  Degno di nota è sicuramente il rapporto qualit...   \n",
       "27       Ariel      M  Personale cordiale e cibo buono, molto affolla...   \n",
       "28       Ruben      M  Menu a prezzo fisso in un borgo davvero delizi...   \n",
       "29    Luisella      F  Abbiamo mangiato oggi.......ci siamo trovati b...   \n",
       "30       Elisa      F  Io e il mio fidanzato ci concediamo spesso il ...   \n",
       "31     Alberto      M  Pranzo di lavoro, menù fisso. Il cibo non ecce...   \n",
       "32    Cristina      F  Pranzo improvvisato in centro, é la seconda vo...   \n",
       "33   Francesca      F  Da turista con 3 bambini dico solo grandioso s...   \n",
       "34     Edmondo      M  Spesso vado a mangiare in questo ristorante, c...   \n",
       "35         Max      M  Il posto è carino...arrivando ai piatti se si ...   \n",
       "36       Paolo      M  Ottimo ristorante per la pausa pranzo...\\nServ...   \n",
       "37       Mario      M  Porzioni abbondanti , di qualità dall antipast...   \n",
       "38    Federica      F  Il posto in sé era gradevole, il cibo di quali...   \n",
       "39         Ivo      M  Mangiato molto bene , sia carne che pesce con ...   \n",
       "40    Pasquale      M  Il locale è una classica trattoria si mangia b...   \n",
       "41      Monica      F  Il locale si trova in centro e ha prezzi ragio...   \n",
       "42     Valerie      F  adoro i loro gelati! ho provato tutti i gusti,...   \n",
       "43     Osvaldo      M  Personale gentile ottimo il risotto e la pizza...   \n",
       "44     Lorenzo      M  Bel locale. Servizio gentile e premuroso. Buon...   \n",
       "45       Fabio      M  A prezzi modici si mangia una pizza o un primo...   \n",
       "46       Guido      M  Corretta ed economuca. La cucina è leggera e d...   \n",
       "47      Matteo      M  Si mangia bene e senza spendere troppo. Anche ...   \n",
       "48  Margherita      F  Indipendente che si scelga menù pizza o ristor...   \n",
       "49     Corrado      M  Scelta notevole, personale attento e cordiale,...   \n",
       "50       Tiago      M  Servizio cattivo, hard rock come pane, non gen...   \n",
       "51     Andrzej      M  I migliori gnocchi alla con safran che abbia m...   \n",
       "52       Dario      M  È difficilmente si poteva trovare un posto con...   \n",
       "53       Harry      M  Sono venuti prima di questo ristorante 16 anni...   \n",
       "54       Marla      F  Da Peppino offre un ottimo rapporto qualità-pr...   \n",
       "\n",
       "    Voti Scritta da  \n",
       "0      3     Mobile  \n",
       "1      1     Mobile  \n",
       "2      5     Mobile  \n",
       "3      5     Mobile  \n",
       "4      5     Mobile  \n",
       "5      1     Mobile  \n",
       "6      5         PC  \n",
       "7      5     Mobile  \n",
       "8      5     Mobile  \n",
       "9      3     Mobile  \n",
       "10     3     Mobile  \n",
       "11     5         PC  \n",
       "12     4     Mobile  \n",
       "13     5     Mobile  \n",
       "14     1     Mobile  \n",
       "15     3         PC  \n",
       "16     5     Mobile  \n",
       "17     4     Mobile  \n",
       "18     2     Mobile  \n",
       "19     5     Mobile  \n",
       "20     4     Mobile  \n",
       "21     5     Mobile  \n",
       "22     4     Mobile  \n",
       "23     4         PC  \n",
       "24     4         PC  \n",
       "25     5         PC  \n",
       "26     4         PC  \n",
       "27     3     Mobile  \n",
       "28     5     Mobile  \n",
       "29     5         PC  \n",
       "30     4     Mobile  \n",
       "31     2     Mobile  \n",
       "32     3     Mobile  \n",
       "33     5     Mobile  \n",
       "34     5         PC  \n",
       "35     3     Mobile  \n",
       "36     4         PC  \n",
       "37     5         PC  \n",
       "38     2         PC  \n",
       "39     4     Mobile  \n",
       "40     3         PC  \n",
       "41     3         PC  \n",
       "42     5         PC  \n",
       "43     3     Mobile  \n",
       "44     3     Mobile  \n",
       "45     3     Mobile  \n",
       "46     5     Mobile  \n",
       "47     4     Mobile  \n",
       "48     4     Mobile  \n",
       "49     4     Mobile  \n",
       "50     1     Mobile  \n",
       "51     5     Mobile  \n",
       "52     4         PC  \n",
       "53     4     Mobile  \n",
       "54     4     Mobile  "
      ]
     },
     "metadata": {},
     "output_type": "display_data"
    }
   ],
   "source": [
    "partial_dataframe = pd.read_excel(\"RISTORANTE_17.xlsx\")\n",
    "\n",
    "display(partial_dataframe)"
   ]
  },
  {
   "cell_type": "code",
   "execution_count": null,
   "metadata": {
    "colab": {},
    "colab_type": "code",
    "id": "hX7pszZCWTt8"
   },
   "outputs": [],
   "source": []
  }
 ],
 "metadata": {
  "colab": {
   "collapsed_sections": [],
   "name": "PARTE_3.15_TRIPADVISOR_ANALYSIS_Getting_the_comments_in_italian.ipynb",
   "provenance": [],
   "version": "0.3.2"
  },
  "kernelspec": {
   "display_name": "Python 3",
   "language": "python",
   "name": "python3"
  },
  "language_info": {
   "codemirror_mode": {
    "name": "ipython",
    "version": 3
   },
   "file_extension": ".py",
   "mimetype": "text/x-python",
   "name": "python",
   "nbconvert_exporter": "python",
   "pygments_lexer": "ipython3",
   "version": "3.7.0"
  }
 },
 "nbformat": 4,
 "nbformat_minor": 1
}
