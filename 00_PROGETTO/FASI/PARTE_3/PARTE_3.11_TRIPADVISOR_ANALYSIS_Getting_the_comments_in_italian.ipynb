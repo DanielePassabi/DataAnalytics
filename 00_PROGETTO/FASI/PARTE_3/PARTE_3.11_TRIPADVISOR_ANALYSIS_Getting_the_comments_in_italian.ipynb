{
 "cells": [
  {
   "cell_type": "markdown",
   "metadata": {
    "colab_type": "text",
    "id": "1oZCy7XqWTry"
   },
   "source": [
    "# Creo un nuovo dataset \n"
   ]
  },
  {
   "cell_type": "markdown",
   "metadata": {
    "colab_type": "text",
    "id": "iXr-KdKhWTr0"
   },
   "source": [
    "---\n",
    "## Analisi dei commenti di un ristorante\n",
    "\n",
    "### Mercati cafè - Milano\n",
    "\n",
    "URL di riferimento: https://www.tripadvisor.it/Restaurant_Review-g187849-d1076436-Reviews-Mercanti_Cafe-Milan_Lombardy.html\n",
    "\n",
    "Home --> Ristoranti --> Milano"
   ]
  },
  {
   "cell_type": "code",
   "execution_count": 1,
   "metadata": {
    "colab": {
     "base_uri": "https://localhost:8080/",
     "height": 33
    },
    "colab_type": "code",
    "executionInfo": {
     "elapsed": 881,
     "status": "ok",
     "timestamp": 1547143846803,
     "user": {
      "displayName": "Il Dani",
      "photoUrl": "https://lh6.googleusercontent.com/-5K7YzXjC0Ns/AAAAAAAAAAI/AAAAAAAAAbQ/NtoQ-stzgEg/s64/photo.jpg",
      "userId": "03034249883816696713"
     },
     "user_tz": -60
    },
    "id": "eeT3pIkJWTr1",
    "outputId": "a0ffe201-d7ea-4590-fba5-54ae4330d472"
   },
   "outputs": [
    {
     "name": "stdout",
     "output_type": "stream",
     "text": [
      "Imported\n"
     ]
    }
   ],
   "source": [
    "# IMPORT NECESSARI\n",
    "import requests\n",
    "from bs4 import BeautifulSoup\n",
    "\n",
    "print(\"Imported\")"
   ]
  },
  {
   "cell_type": "code",
   "execution_count": 2,
   "metadata": {
    "colab": {
     "base_uri": "https://localhost:8080/",
     "height": 33
    },
    "colab_type": "code",
    "executionInfo": {
     "elapsed": 2171,
     "status": "ok",
     "timestamp": 1547143848117,
     "user": {
      "displayName": "Il Dani",
      "photoUrl": "https://lh6.googleusercontent.com/-5K7YzXjC0Ns/AAAAAAAAAAI/AAAAAAAAAbQ/NtoQ-stzgEg/s64/photo.jpg",
      "userId": "03034249883816696713"
     },
     "user_tz": -60
    },
    "id": "dPQoaYxkWTsA",
    "outputId": "e2bc6e5e-882d-4f3a-8fe9-8cdf52adba36"
   },
   "outputs": [
    {
     "name": "stdout",
     "output_type": "stream",
     "text": [
      "Done\n"
     ]
    }
   ],
   "source": [
    "page_URL = \"https://www.tripadvisor.it/Restaurant_Review-g187849-d1076436-Reviews-Mercanti_Cafe-Milan_Lombardy.html\"\n",
    "\n",
    "data = requests.get(page_URL)\n",
    "clear_data = BeautifulSoup(data.content, \"lxml\")\n",
    "\n",
    "print(\"Done\")"
   ]
  },
  {
   "cell_type": "markdown",
   "metadata": {
    "colab_type": "text",
    "id": "A19Pp_DiWTsF"
   },
   "source": [
    "---\n",
    "### STRUTTURA HTML DEL SITO \n",
    "\n",
    "#### REVIEW\n",
    "`<p class=\"partial_entry\"> qui c'è la review </p>`\n",
    "\n",
    "#### N° TOTALE DI REVIEWS\n",
    "`<a data-page-number=\"25\" ...>\n",
    "    25\n",
    " </a>`\n",
    " \n",
    "#### NAMES\n",
    "`<span class=\"expand_inline scrname\" …>AlexandraCapeTown</span>`\n",
    "\n",
    "#### RATINGS\n",
    "`<span class=\"ui_bubble_rating bubble_30\"></span>`"
   ]
  },
  {
   "cell_type": "markdown",
   "metadata": {
    "colab_type": "text",
    "id": "MSrpri89WTsH"
   },
   "source": [
    "---\n",
    "### PRIMO SCRAPING (sulla prima pagina)\n",
    "\n",
    "Ottengo i nomi, i commenti, le review e da dove è stato scritto il commento per quanto rigurda la prima pagina. Ciò è necessario, in quanto, dalla seconda in poi l'URL cambia, permettendoci di iterare."
   ]
  },
  {
   "cell_type": "code",
   "execution_count": 3,
   "metadata": {
    "colab": {
     "base_uri": "https://localhost:8080/",
     "height": 100
    },
    "colab_type": "code",
    "executionInfo": {
     "elapsed": 2145,
     "status": "ok",
     "timestamp": 1547143848118,
     "user": {
      "displayName": "Il Dani",
      "photoUrl": "https://lh6.googleusercontent.com/-5K7YzXjC0Ns/AAAAAAAAAAI/AAAAAAAAAbQ/NtoQ-stzgEg/s64/photo.jpg",
      "userId": "03034249883816696713"
     },
     "user_tz": -60
    },
    "id": "3qjaMKn9WTsJ",
    "outputId": "1c5f1316-b492-403a-a817-2da802dc3a9f"
   },
   "outputs": [
    {
     "name": "stdout",
     "output_type": "stream",
     "text": [
      "Executed\n",
      "Nomi:  10\n",
      "Commenti:  10\n",
      "Voti:  10\n",
      "Scritto da:  10\n"
     ]
    }
   ],
   "source": [
    "# OTTENGO UNA LISTA DI DIV CHE CONTENGONO NOME, RECENSIONE E VOTO\n",
    "\n",
    "all_reviews = []\n",
    "all_names = []\n",
    "all_ratings = []\n",
    "all_mobile = []\n",
    "\n",
    "review_container = clear_data.findAll(\"div\", attrs={\"class\":\"review-container\"})\n",
    "\n",
    "for container in review_container:\n",
    "  \n",
    "    ### REVIEW ###\n",
    "    review = container.find('p', attrs={'class': 'partial_entry'})\n",
    "    if review:\n",
    "        all_reviews.append(review.text)\n",
    "        \n",
    "    ### NAME ###\n",
    "    name = container.find('span', attrs={'class': ('expand_inline', 'scrname')})\n",
    "    if name:\n",
    "      all_names.append(name.text)\n",
    "    else:\n",
    "      all_names.append('NO_NAME')\n",
    "    \n",
    "    ### RATING ###\n",
    "    rating = container.find('span', attrs={'class': 'ui_bubble_rating'})\n",
    "    all_ratings.append(rating['class'][1][7:8])\n",
    "    \n",
    "    ### MOBILE ###\n",
    "    mobile = container.find('span', attrs={'class': 'viaMobile'})\n",
    "    if mobile:\n",
    "      all_mobile.append('Mobile')\n",
    "    else:\n",
    "      all_mobile.append('PC')\n",
    "    \n",
    "    \n",
    "################################################################################################################################\n",
    "        \n",
    "print(\"Executed\")\n",
    "print('Nomi: ', len(all_names))\n",
    "print('Commenti: ', len(all_reviews))\n",
    "print('Voti: ', len(all_ratings))\n",
    "print('Scritto da: ', len(all_ratings))"
   ]
  },
  {
   "cell_type": "markdown",
   "metadata": {
    "colab_type": "text",
    "id": "f5sK02FgWTsR"
   },
   "source": [
    "### SECONDO SCRAPING (dalla seconda pagina in poi)\n",
    "\n",
    "Notiamo dall'URL che è possibile iterare sulle pagine, ottenendo i dati!"
   ]
  },
  {
   "cell_type": "code",
   "execution_count": 4,
   "metadata": {
    "colab": {
     "base_uri": "https://localhost:8080/",
     "height": 33
    },
    "colab_type": "code",
    "executionInfo": {
     "elapsed": 31187,
     "status": "ok",
     "timestamp": 1547143589126,
     "user": {
      "displayName": "Il Dani",
      "photoUrl": "https://lh6.googleusercontent.com/-5K7YzXjC0Ns/AAAAAAAAAAI/AAAAAAAAAbQ/NtoQ-stzgEg/s64/photo.jpg",
      "userId": "03034249883816696713"
     },
     "user_tz": -60
    },
    "id": "6LCVBXeFWTsS",
    "outputId": "486a5237-1a50-457b-f5f1-ba3ba4bd96bf"
   },
   "outputs": [
    {
     "name": "stderr",
     "output_type": "stream",
     "text": [
      "100%|██████████| 39/39 [00:48<00:00,  1.60s/it]"
     ]
    },
    {
     "name": "stdout",
     "output_type": "stream",
     "text": [
      "Executed\n",
      "total_pages:  40\n",
      "Nomi:  391\n",
      "Commenti:  391\n",
      "Voti:  391\n",
      "Scritto da:  391\n"
     ]
    },
    {
     "name": "stderr",
     "output_type": "stream",
     "text": [
      "\n"
     ]
    }
   ],
   "source": [
    "from tqdm import tqdm\n",
    "\n",
    "URL_COMPLETO = 'https://www.tripadvisor.it/Restaurant_Review-g187849-d1076436-Reviews-or20-Mercanti_Cafe-Milan_Lombardy.html'\n",
    "\n",
    "URL_p1 = 'https://www.tripadvisor.it/Restaurant_Review-g187849-d1076436-Reviews-or'\n",
    "URL_p2 = '0-Mercanti_Cafe-Milan_Lombardy.html'\n",
    "    \n",
    "# OTTENGO I COMMENTI, NOMI E VOTI DALLA SECONDA PAGINA IN POI\n",
    "\n",
    "total_pages = int(clear_data.select(\"a.pageNum.last.taLnk\")[0].text) # 25 come intero\n",
    "\n",
    "# per iterare dobbiamo partire dalla seconda pagina dei commenti, così nell'URL compaiono le cifre che ci servono\n",
    "for r in tqdm(range(1,total_pages)):\n",
    "\n",
    "    # OTTENGO L'URL DELLA PAGINA\n",
    "    URL_temp = URL_p1 + str(r) + URL_p2\n",
    "\n",
    "    # OTTENGO I DATI E CI APPLICO BEATIFULSOUP\n",
    "    data = requests.get(URL_temp)\n",
    "    clear_data = BeautifulSoup(data.content, \"lxml\")\n",
    "    \n",
    "\n",
    "    review_container = clear_data.findAll(\"div\", attrs={\"class\":\"review-container\"})\n",
    "\n",
    "    for container in review_container:\n",
    "  \n",
    "      ### REVIEW ###\n",
    "      review = container.find('p', attrs={'class': 'partial_entry'})\n",
    "      if review:\n",
    "          all_reviews.append(review.text)\n",
    "\n",
    "      ### NAME ###\n",
    "      name = container.find('span', attrs={'class': ('expand_inline', 'scrname')})\n",
    "      if name:\n",
    "        all_names.append(name.text)\n",
    "      else:\n",
    "        all_names.append('NO_NAME')\n",
    "\n",
    "      ### RATING ###\n",
    "      rating = container.find('span', attrs={'class': 'ui_bubble_rating'})\n",
    "      all_ratings.append(rating['class'][1][7:8])\n",
    "\n",
    "      ### MOBILE ###\n",
    "      mobile = container.find('span', attrs={'class': 'viaMobile'})\n",
    "      if mobile:\n",
    "        all_mobile.append('Mobile')\n",
    "      else:\n",
    "        all_mobile.append('PC')\n",
    "    \n",
    "        \n",
    "################################################################################################################################\n",
    "        \n",
    "print(\"Executed\")\n",
    "print('total_pages: ', total_pages)\n",
    "print('Nomi: ', len(all_names))\n",
    "print('Commenti: ', len(all_reviews))\n",
    "print('Voti: ', len(all_ratings))\n",
    "print('Scritto da: ', len(all_mobile))"
   ]
  },
  {
   "cell_type": "code",
   "execution_count": 5,
   "metadata": {
    "colab": {},
    "colab_type": "code",
    "id": "_2UUJPQEWTsZ"
   },
   "outputs": [],
   "source": [
    "# display(all_reviews)"
   ]
  },
  {
   "cell_type": "code",
   "execution_count": 6,
   "metadata": {
    "colab": {},
    "colab_type": "code",
    "id": "kfvHDIQUWTsf"
   },
   "outputs": [],
   "source": [
    "# print(all_names)"
   ]
  },
  {
   "cell_type": "code",
   "execution_count": 7,
   "metadata": {
    "colab": {},
    "colab_type": "code",
    "id": "0CGHdPfhWTsj"
   },
   "outputs": [],
   "source": [
    "#print(all_ratings, '\\n')\n",
    "#print(len(all_ratings))"
   ]
  },
  {
   "cell_type": "code",
   "execution_count": 8,
   "metadata": {
    "colab": {},
    "colab_type": "code",
    "id": "L2JydXfczX4K"
   },
   "outputs": [],
   "source": [
    "#display(all_mobile)"
   ]
  },
  {
   "cell_type": "markdown",
   "metadata": {
    "colab_type": "text",
    "id": "Pn8YT0PlWTsr"
   },
   "source": [
    "#### Problema recensioni troppo lunghe\n",
    "Alla fine di alcune recensioni troviamo un '...Più', che non possiamo espandere. Data la mole di dati, decidiamo dunque di non considerarle."
   ]
  },
  {
   "cell_type": "code",
   "execution_count": 9,
   "metadata": {
    "colab": {},
    "colab_type": "code",
    "id": "1u6qYqeyWTst"
   },
   "outputs": [
    {
     "name": "stdout",
     "output_type": "stream",
     "text": [
      "Totale recensioni: 391 \n",
      " Recensioni analizzabili: 275 \n",
      " Recensioni scartate: 116 \n",
      "\n"
     ]
    },
    {
     "data": {
      "text/plain": [
       "[\"due sanbitter con pochissimi snack che sapevano di stantio, un the con bustine dozzinali e tre biscottini. 30 euro. Capisco la location, ma un po' di qualità a fronte di un conto così salato....\",\n",
       " 'RECENSIONE_TROPPO_LUNGA',\n",
       " 'RECENSIONE_TROPPO_LUNGA',\n",
       " \"Sono stata oggi pomeriggio in compagnia di un'amica. Mi sono fermata per bere una spremuta Il costo è quello della foto in allegato: €15 per due spremute.\\nAssurdo\",\n",
       " 'Un pessimo posto in termini di sensazione di pulizia, qualita dei prodotti. Prezzi non giustificati, maleducati e di scarsa compenenza.',\n",
       " 'Una misera bruschetta, una coca un caffè 27,50 euro : da denuncia\\nAvevo poco tempo a pranzo sono entrata perché c’erano tavolini liberi, mai avrei pensato di spendere una simile cifra. Da evitare',\n",
       " 'sembra di ripetere le stesse cose, ma conviene confermare che nulla cambia.\\nun prosecco ( non meglio identificato) e un crodino in piedi al banco 13 euro.\\nscortesia, servizi chiusi in piena ora di pranzo- immagino chi desiderava lavarsi le mani prima di mangiare- EVITATE',\n",
       " 'RECENSIONE_TROPPO_LUNGA',\n",
       " 'RECENSIONE_TROPPO_LUNGA',\n",
       " 'RECENSIONE_TROPPO_LUNGA']"
      ]
     },
     "metadata": {},
     "output_type": "display_data"
    }
   ],
   "source": [
    "all_reviews_filtered = []\n",
    "counter_reviews_scartate = 0;\n",
    "counter_reviews_da_usare = 0;\n",
    "\n",
    "for review in all_reviews:\n",
    "    if '...Più' in review:\n",
    "        all_reviews_filtered.append('RECENSIONE_TROPPO_LUNGA')\n",
    "        counter_reviews_scartate+=1;\n",
    "    else:\n",
    "        all_reviews_filtered.append(review)\n",
    "        counter_reviews_da_usare+=1;\n",
    "        \n",
    "        \n",
    "print(\n",
    "    'Totale recensioni:', counter_reviews_scartate + counter_reviews_da_usare, '\\n',\n",
    "    'Recensioni analizzabili:', counter_reviews_da_usare, '\\n',\n",
    "    'Recensioni scartate:', counter_reviews_scartate, '\\n')\n",
    "\n",
    "display(all_reviews_filtered[:10])"
   ]
  },
  {
   "cell_type": "markdown",
   "metadata": {
    "colab_type": "text",
    "id": "UkAWN5oXWTs1"
   },
   "source": [
    "---\n",
    "### Analisi dei nomi\n",
    "Cerchiamo di capire se chi ha commentato è un uomo (M) o una donna (F)."
   ]
  },
  {
   "cell_type": "markdown",
   "metadata": {
    "colab_type": "text",
    "id": "K2hUQ__xWTs2"
   },
   "source": [
    "#### Elimino spazi e numeri\n",
    "Ho bisogno di tenere solo le informazioni riguardanti il nome, elimino il resto."
   ]
  },
  {
   "cell_type": "code",
   "execution_count": 10,
   "metadata": {
    "colab": {},
    "colab_type": "code",
    "id": "HlRhLVAwWTs4"
   },
   "outputs": [
    {
     "name": "stdout",
     "output_type": "stream",
     "text": [
      "['maricettab', 'catefabbri', 'amedeoamaro', 'mariamarzia05', 'Marco6767', 'Federica N', 'Stefano M', 'MatteoSpina', '934ginop', '767manuelam', 'anita s', 'walterconca', 'bilfederico', 'Mauro M', 'Mtb12mtb12', 'Patrick R', 'Pakidone', 'Luciana D', 'PAXetVERITAS', 'Luigi_T1958', 'I1451CLgiuseppes', 'Stefano91', 'Luigi D', 'Petro S', 'fi_decorso', 'LorenzoBianco1', 'Montsetvallees', 'natascia s', 'lucagT3238UB', 'Gabriele N', 'laralucasimo', 'GGGGGGG1969', 'Evo L', 'valentinat40', 'Margherita M', 'CAROLE558', 'MarileMilano', 'Marina M', 'sampey888', 'Angelica P', 'barbaras419', 'Luigi S', 'federicagM481BE', 'Luigi D', 'Roberta P', 'Simone B', 'paola006', 'Marcoca365', 'Valeria B', 'Luca G', 'Robytrev', 'paolo francesco p', 'seadas7', '794danielev', 'cloc71', 'Salvus97', 'Renato219', 'Marinabaioni', 'Luca N', 'Gariello', 'NO_NAME', 'NO_NAME', 'NO_NAME', 'NO_NAME', 'NO_NAME', 'NO_NAME', 'NO_NAME', 'NO_NAME', 'NO_NAME', 'NO_NAME', 'Isa588', 'kuvac1', 'Loos64', 'Edisy-Edisy', 'giovanni s', 'kemlilly', 'Barbara Mery A', 'silvia_guffanti', 'paolomariac2015', 'linas65', 'ricla96', 'Giorgio1955', 'Ganone G', 'Leo F', 'Albertone1969', 'Rivadestra', 'PieroFranco', 'wal111111111', 'Orazio603', 'ElisaBenedictaB', 'pinny813', 'fi_decorso', 'sassola', 'Davide2095', '647saraf', 'FabFab000', 'Ginallapesca', 'Renato C', 'Silvia P', 'Fabrizio S', 'bura83', 'Pellegrino_Ar', 'PeterE291', 'ilBuongustaio900', 'AlezVoyager', 'Sionk', 'Vladimirto', 'Rosedjd', 'gramigna91', 'MartinaA1805', 'fracarla56', 'alessandro b', 'ValentinaMTerni', 'Barbara C', 'francoliving-inn', 'Gabberina', 'dado_pela', 'Massichianni', 'Michiblasco', 'Stezu', 'Arale1978', 'Eleonora F', 'Sabrow', 'SDM1979', 'MaraAnto', 'bolchig', 'Scoglitti1970', 'Roberto R', '73_Giorgio_C', 'Donatella F', 'Bebadido', 'Davide2095', 'Matilde T', 'et1967', 'Luca M', 'Frency11', '084MR15', 'Vikge72', '998patrizian', 'Feru A', 'MaylaDi', 'eduardob141089', 'revo f', 'niky_girl_tv', 'agostinodeiana', 'LoZingaroDiLusso1', 'Chathurika92', 'R9016WCbrunoc', 'Roberto D', 'WWW-OURCHOICE-IT', 'Mario M', 'DiamanteAzzurro', 'PaoloJessica', 'CASP48', 'Barbara A', 'Francesca R', 'marina m', 'Gianmario91', 'monica r', 'Davide1983', 'NO_NAME', 'NO_NAME', 'NO_NAME', 'NO_NAME', 'NO_NAME', 'NO_NAME', 'NO_NAME', 'NO_NAME', 'NO_NAME', 'NO_NAME', 'joe d', 'joe d', 'blubs67', 'gian_rossoblu', 'Roberto S', 'Senecanus', 'manuela520623', 'AndreaG449', 'Pietro G', 'giovanni b', 'NO_NAME', 'NO_NAME', 'NO_NAME', 'NO_NAME', 'NO_NAME', 'NO_NAME', 'NO_NAME', 'NO_NAME', 'NO_NAME', 'NO_NAME', 'NO_NAME', 'NO_NAME', 'NO_NAME', 'NO_NAME', 'NO_NAME', 'NO_NAME', 'NO_NAME', 'NO_NAME', 'NO_NAME', 'NO_NAME', 'Sean M', 'funkeyj', 'depd1985', 'andreeaign_romania', 'alborz m', 'MattJKing71', 'sianandbenconnolly', 'Rachaelg240', 'Andy B', 'İrem S', 'SAshleyC', 'Dhiraj H', 'Harjoth S', 'micaela d', 'jeffrey k', 'Mikael F', 'Smilie_111', 'atlagunabeach', 'MeganB1988', 'Robert S', 'Dravids', 'Sorin469', 'Tim W', 'theorangebackpack', 'WaveyDavey2009', 'Olivia B', 'sarahpWiltshire', 'Fluffi_slipperz', 'jonnynixon', 'TroyB905', 'annarc6', '188nickz', 'Wiggy B', 'DrillerBurlington', 'DT8888', 'CatLux', 'Rick64', 'Adrienne626', 'Ingevilda', 'beringerv', 'Zetster', 'Alison I', 'O7189GPalexg', 'TripsFan', 'BlerimGreeny', 'ballhogjoni', 'Katia R', 'David E', 'Nomadtourist37', 'tinka29', 'NO_NAME', 'NO_NAME', 'NO_NAME', 'NO_NAME', 'NO_NAME', 'NO_NAME', 'NO_NAME', 'NO_NAME', 'NO_NAME', 'NO_NAME', 'haliunna', 'MarkoDeeJay', 'David R', 'toniobStVenera_Malta', '172MikeC', 'simonmcmahon7', 'LadyIrish28', 'Popcornlovers', 'samoppok', 'Carla P', 'Isabelle M', 'happybutnotsosolucky', 'thom0991', 'JacquelinV', 'chloew468', 'WalesPirate', 'Franklin F', 'Yanika B', 'Mikesalter', 'Stephen R', 'EskiJaca', 'June P', 'Rubber007', 'Lemolein', 'GeorgeB739', 'eytanit', 'Steve P', 'Richard T', 'IvD9000', 'Jose Armando F', 'lorraine_conrad', 'Dora C', 'Rache24', 'MattLeRoss', 'Onut', 'Adsinibiza', 'Kahlilsomauroo', 'seenthelight01', 'Colm201', 'Stillmoose', 'NO_NAME', 'NO_NAME', 'NO_NAME', 'NO_NAME', 'NO_NAME', 'NO_NAME', 'NO_NAME', 'NO_NAME', 'NO_NAME', 'NO_NAME', 'NO_NAME', 'NO_NAME', 'NO_NAME', 'NO_NAME', 'NO_NAME', 'NO_NAME', 'NO_NAME', 'NO_NAME', 'NO_NAME', 'NO_NAME', 'Angiec77', 'UkCampbell', 'Bill M', 'V3021TCpeterw', 'Alan S', 'jewels122446', 'Peter1Northampton', 'KeithAndMeJulie', 'Kek700', 'The-Fistatron', 'Helassi', 'paul_deirdre', 'kellywhittier', 'tores240', 'HrundiBakshi', 'gislitg', 'Bimmer135i', 'Simazu', 'MercOwner', 'Julie A', 'NO_NAME', 'NO_NAME', 'NO_NAME', 'NO_NAME', 'NO_NAME', 'NO_NAME', 'NO_NAME', 'NO_NAME', 'NO_NAME', 'NO_NAME', 'NO_NAME', 'NO_NAME', 'NO_NAME', 'NO_NAME', 'NO_NAME', 'NO_NAME', 'NO_NAME', 'NO_NAME', 'NO_NAME', 'NO_NAME', '1980cris', 'jacqui3744', 'm76gmm', 'MancunianTravellers', 'DLFKSO', 'DLFKSO', 'HHLVR', 'Phil S', 'applegate69', 'davor_raic', 'Daisy1948', 'Agnes G', 'Gurjinder S', 'Andy W', 'Jean Luc B', 'StianSeipa', 'Sapna C', 'Vespadirk', 'Hadwa', 'sunflower1484', 'love-2-travel_2820', 'TravelDocKleen11', 'Hood40', 'GreenwichMaxi', 'Classylassie40', 'francophilestwo', 'mefinVA', 'mstolk67', 'Holysmokesss', 'Noknoknok', 'skibilly66'] \n",
      "\n",
      "['maricettab', 'catefabbri', 'amedeoamaro', 'mariamarzia', 'Marco', 'Federica', 'Stefano', 'MatteoSpina', 'ginop', 'manuelam', 'anita', 'walterconca', 'bilfederico', 'Mauro', 'Mtbmtb', 'Patrick', 'Pakidone', 'Luciana', 'PAXetVERITAS', 'LuigiT', 'ICLgiuseppes', 'Stefano', 'Luigi', 'Petro', 'fidecorso', 'LorenzoBianco', 'Montsetvallees', 'natascia', 'lucagTUB', 'Gabriele', 'laralucasimo', 'GGGGGGG', 'Evo', 'valentinat', 'Margherita', 'CAROLE', 'MarileMilano', 'Marina', 'sampey', 'Angelica', 'barbaras', 'Luigi', 'federicagMBE', 'Luigi', 'Roberta', 'Simone', 'paola', 'Marcoca', 'Valeria', 'Luca', 'Robytrev', 'paolo', 'seadas', 'danielev', 'cloc', 'Salvus', 'Renato', 'Marinabaioni', 'Luca', 'Gariello', 'NONAME', 'NONAME', 'NONAME', 'NONAME', 'NONAME', 'NONAME', 'NONAME', 'NONAME', 'NONAME', 'NONAME', 'Isa', 'kuvac', 'Loos', 'EdisyEdisy', 'giovanni', 'kemlilly', 'Barbara', 'silviaguffanti', 'paolomariac', 'linas', 'ricla', 'Giorgio', 'Ganone', 'Leo', 'Albertone', 'Rivadestra', 'PieroFranco', 'wal', 'Orazio', 'ElisaBenedictaB', 'pinny', 'fidecorso', 'sassola', 'Davide', 'saraf', 'FabFab', 'Ginallapesca', 'Renato', 'Silvia', 'Fabrizio', 'bura', 'PellegrinoAr', 'PeterE', 'ilBuongustaio', 'AlezVoyager', 'Sionk', 'Vladimirto', 'Rosedjd', 'gramigna', 'MartinaA', 'fracarla', 'alessandro', 'ValentinaMTerni', 'Barbara', 'francolivinginn', 'Gabberina', 'dadopela', 'Massichianni', 'Michiblasco', 'Stezu', 'Arale', 'Eleonora', 'Sabrow', 'SDM', 'MaraAnto', 'bolchig', 'Scoglitti', 'Roberto', 'GiorgioC', 'Donatella', 'Bebadido', 'Davide', 'Matilde', 'et', 'Luca', 'Frency', 'MR', 'Vikge', 'patrizian', 'Feru', 'MaylaDi', 'eduardob', 'revo', 'nikygirltv', 'agostinodeiana', 'LoZingaroDiLusso', 'Chathurika', 'RWCbrunoc', 'Roberto', 'WWWOURCHOICEIT', 'Mario', 'DiamanteAzzurro', 'PaoloJessica', 'CASP', 'Barbara', 'Francesca', 'marina', 'Gianmario', 'monica', 'Davide', 'NONAME', 'NONAME', 'NONAME', 'NONAME', 'NONAME', 'NONAME', 'NONAME', 'NONAME', 'NONAME', 'NONAME', 'joe', 'joe', 'blubs', 'gianrossoblu', 'Roberto', 'Senecanus', 'manuela', 'AndreaG', 'Pietro', 'giovanni', 'NONAME', 'NONAME', 'NONAME', 'NONAME', 'NONAME', 'NONAME', 'NONAME', 'NONAME', 'NONAME', 'NONAME', 'NONAME', 'NONAME', 'NONAME', 'NONAME', 'NONAME', 'NONAME', 'NONAME', 'NONAME', 'NONAME', 'NONAME', 'Sean', 'funkeyj', 'depd', 'andreeaignromania', 'alborz', 'MattJKing', 'sianandbenconnolly', 'Rachaelg', 'Andy', 'rem', 'SAshleyC', 'Dhiraj', 'Harjoth', 'micaela', 'jeffrey', 'Mikael', 'Smilie', 'atlagunabeach', 'MeganB', 'Robert', 'Dravids', 'Sorin', 'Tim', 'theorangebackpack', 'WaveyDavey', 'Olivia', 'sarahpWiltshire', 'Fluffislipperz', 'jonnynixon', 'TroyB', 'annarc', 'nickz', 'Wiggy', 'DrillerBurlington', 'DT', 'CatLux', 'Rick', 'Adrienne', 'Ingevilda', 'beringerv', 'Zetster', 'Alison', 'OGPalexg', 'TripsFan', 'BlerimGreeny', 'ballhogjoni', 'Katia', 'David', 'Nomadtourist', 'tinka', 'NONAME', 'NONAME', 'NONAME', 'NONAME', 'NONAME', 'NONAME', 'NONAME', 'NONAME', 'NONAME', 'NONAME', 'haliunna', 'MarkoDeeJay', 'David', 'toniobStVeneraMalta', 'MikeC', 'simonmcmahon', 'LadyIrish', 'Popcornlovers', 'samoppok', 'Carla', 'Isabelle', 'happybutnotsosolucky', 'thom', 'JacquelinV', 'chloew', 'WalesPirate', 'Franklin', 'Yanika', 'Mikesalter', 'Stephen', 'EskiJaca', 'June', 'Rubber', 'Lemolein', 'GeorgeB', 'eytanit', 'Steve', 'Richard', 'IvD', 'Jose', 'lorraineconrad', 'Dora', 'Rache', 'MattLeRoss', 'Onut', 'Adsinibiza', 'Kahlilsomauroo', 'seenthelight', 'Colm', 'Stillmoose', 'NONAME', 'NONAME', 'NONAME', 'NONAME', 'NONAME', 'NONAME', 'NONAME', 'NONAME', 'NONAME', 'NONAME', 'NONAME', 'NONAME', 'NONAME', 'NONAME', 'NONAME', 'NONAME', 'NONAME', 'NONAME', 'NONAME', 'NONAME', 'Angiec', 'UkCampbell', 'Bill', 'VTCpeterw', 'Alan', 'jewels', 'PeterNorthampton', 'KeithAndMeJulie', 'Kek', 'TheFistatron', 'Helassi', 'pauldeirdre', 'kellywhittier', 'tores', 'HrundiBakshi', 'gislitg', 'Bimmeri', 'Simazu', 'MercOwner', 'Julie', 'NONAME', 'NONAME', 'NONAME', 'NONAME', 'NONAME', 'NONAME', 'NONAME', 'NONAME', 'NONAME', 'NONAME', 'NONAME', 'NONAME', 'NONAME', 'NONAME', 'NONAME', 'NONAME', 'NONAME', 'NONAME', 'NONAME', 'NONAME', 'cris', 'jacqui', 'mgmm', 'MancunianTravellers', 'DLFKSO', 'DLFKSO', 'HHLVR', 'Phil', 'applegate', 'davorraic', 'Daisy', 'Agnes', 'Gurjinder', 'Andy', 'Jean', 'StianSeipa', 'Sapna', 'Vespadirk', 'Hadwa', 'sunflower', 'lovetravel', 'TravelDocKleen', 'Hood', 'GreenwichMaxi', 'Classylassie', 'francophilestwo', 'mefinVA', 'mstolk', 'Holysmokesss', 'Noknoknok', 'skibilly']\n"
     ]
    }
   ],
   "source": [
    "import re\n",
    "\n",
    "all_names_filtered = []\n",
    "\n",
    "regex = re.compile('[^a-zA-Z]')\n",
    "\n",
    "for name in all_names:\n",
    "    \n",
    "    if ' ' in name:                           # se c'è uno spazio nel nome\n",
    "        space = name.index(' ')               # ne trovo l'indice\n",
    "        name = regex.sub('', name[:space])    # effettuo un controllo su tutto ciò che non è alfabeto fino a quell'indice\n",
    "        all_names_filtered.append(name)       # e aggiungo la stringa\n",
    "        \n",
    "    else:\n",
    "        name = regex.sub('', name)            # in caso contrario effettuo un controllo su tutto ciò che non è alfabeto\n",
    "        all_names_filtered.append(name)       # e aggiungo la stringa\n",
    "        \n",
    "print(all_names, '\\n')\n",
    "print(all_names_filtered)"
   ]
  },
  {
   "cell_type": "markdown",
   "metadata": {
    "colab_type": "text",
    "id": "sVMu3308WTs9"
   },
   "source": [
    "#### Utilizzo gender_guesser\n",
    "Infine, posso utilizzare la libreria gender_guesser.\n",
    "\n",
    "NB: Genderize ti permette di analizzare 1000 nomi al giorno."
   ]
  },
  {
   "cell_type": "code",
   "execution_count": 11,
   "metadata": {
    "colab": {},
    "colab_type": "code",
    "id": "t013m_u2WTs_"
   },
   "outputs": [
    {
     "name": "stdout",
     "output_type": "stream",
     "text": [
      "Requirement already satisfied: gender_guesser in /anaconda3/lib/python3.7/site-packages (0.4.0)\r\n"
     ]
    }
   ],
   "source": [
    "!pip install gender_guesser"
   ]
  },
  {
   "cell_type": "code",
   "execution_count": 12,
   "metadata": {
    "colab": {},
    "colab_type": "code",
    "id": "T0F8kG-OWTtC"
   },
   "outputs": [
    {
     "name": "stdout",
     "output_type": "stream",
     "text": [
      "['unknown', 'unknown', 'unknown', 'unknown', 'male', 'female', 'male', 'unknown', 'unknown', 'unknown', 'unknown', 'unknown', 'unknown', 'male', 'unknown', 'male', 'unknown', 'female', 'unknown', 'unknown', 'unknown', 'male', 'male', 'male', 'unknown', 'unknown', 'unknown', 'unknown', 'unknown', 'female', 'unknown', 'unknown', 'unknown', 'unknown', 'female', 'unknown', 'unknown', 'female', 'unknown', 'female', 'unknown', 'male', 'unknown', 'male', 'female', 'female', 'unknown', 'unknown', 'female', 'male', 'unknown', 'unknown', 'unknown', 'unknown', 'unknown', 'unknown', 'male', 'unknown', 'male', 'unknown', 'unknown', 'unknown', 'unknown', 'unknown', 'unknown', 'unknown', 'unknown', 'unknown', 'unknown', 'unknown', 'female', 'unknown', 'unknown', 'unknown', 'unknown', 'unknown', 'female', 'unknown', 'unknown', 'unknown', 'unknown', 'male', 'unknown', 'male', 'unknown', 'unknown', 'unknown', 'unknown', 'male', 'unknown', 'unknown', 'unknown', 'unknown', 'male', 'unknown', 'unknown', 'unknown', 'male', 'female', 'male', 'unknown', 'unknown', 'unknown', 'unknown', 'unknown', 'unknown', 'unknown', 'unknown', 'unknown', 'unknown', 'unknown', 'unknown', 'unknown', 'female', 'unknown', 'unknown', 'unknown', 'unknown', 'unknown', 'unknown', 'unknown', 'female', 'unknown', 'unknown', 'unknown', 'unknown', 'unknown', 'male', 'unknown', 'female', 'unknown', 'male', 'female', 'unknown', 'male', 'unknown', 'unknown', 'unknown', 'unknown', 'unknown', 'unknown', 'unknown', 'unknown', 'unknown', 'unknown', 'unknown', 'unknown', 'unknown', 'male', 'unknown', 'male', 'unknown', 'unknown', 'unknown', 'female', 'female', 'unknown', 'male', 'unknown', 'male', 'unknown', 'unknown', 'unknown', 'unknown', 'unknown', 'unknown', 'unknown', 'unknown', 'unknown', 'unknown', 'unknown', 'unknown', 'unknown', 'unknown', 'male', 'unknown', 'unknown', 'unknown', 'male', 'unknown', 'unknown', 'unknown', 'unknown', 'unknown', 'unknown', 'unknown', 'unknown', 'unknown', 'unknown', 'unknown', 'unknown', 'unknown', 'unknown', 'unknown', 'unknown', 'unknown', 'unknown', 'unknown', 'unknown', 'unknown', 'male', 'unknown', 'unknown', 'unknown', 'unknown', 'unknown', 'unknown', 'unknown', 'male', 'unknown', 'unknown', 'unknown', 'unknown', 'unknown', 'unknown', 'male', 'unknown', 'unknown', 'unknown', 'male', 'unknown', 'male', 'male', 'unknown', 'unknown', 'female', 'unknown', 'unknown', 'unknown', 'unknown', 'unknown', 'unknown', 'unknown', 'unknown', 'unknown', 'unknown', 'male', 'female', 'unknown', 'unknown', 'unknown', 'female', 'unknown', 'unknown', 'unknown', 'unknown', 'female', 'male', 'unknown', 'unknown', 'unknown', 'unknown', 'unknown', 'unknown', 'unknown', 'unknown', 'unknown', 'unknown', 'unknown', 'unknown', 'unknown', 'unknown', 'male', 'unknown', 'unknown', 'unknown', 'unknown', 'unknown', 'unknown', 'female', 'female', 'unknown', 'unknown', 'unknown', 'unknown', 'unknown', 'male', 'unknown', 'unknown', 'male', 'unknown', 'female', 'unknown', 'unknown', 'unknown', 'unknown', 'male', 'male', 'unknown', 'male', 'unknown', 'female', 'unknown', 'unknown', 'male', 'unknown', 'unknown', 'unknown', 'male', 'unknown', 'unknown', 'unknown', 'unknown', 'unknown', 'unknown', 'unknown', 'unknown', 'unknown', 'unknown', 'unknown', 'unknown', 'unknown', 'unknown', 'unknown', 'unknown', 'unknown', 'unknown', 'unknown', 'unknown', 'unknown', 'unknown', 'unknown', 'male', 'unknown', 'male', 'unknown', 'unknown', 'unknown', 'unknown', 'unknown', 'unknown', 'unknown', 'unknown', 'unknown', 'unknown', 'unknown', 'unknown', 'unknown', 'unknown', 'female', 'unknown', 'unknown', 'unknown', 'unknown', 'unknown', 'unknown', 'unknown', 'unknown', 'unknown', 'unknown', 'unknown', 'unknown', 'unknown', 'unknown', 'unknown', 'unknown', 'unknown', 'unknown', 'unknown', 'unknown', 'unknown', 'unknown', 'unknown', 'unknown', 'unknown', 'unknown', 'unknown', 'male', 'unknown', 'unknown', 'female', 'female', 'unknown', 'male', 'male', 'unknown', 'female', 'unknown', 'unknown', 'unknown', 'unknown', 'unknown', 'unknown', 'unknown', 'unknown', 'unknown', 'unknown', 'unknown', 'unknown', 'unknown', 'unknown']\n"
     ]
    }
   ],
   "source": [
    "import gender_guesser.detector as gender\n",
    "d = gender.Detector()\n",
    "\n",
    "names_with_gender = []\n",
    "\n",
    "for name in all_names_filtered:\n",
    "    temp_gender = d.get_gender(name)\n",
    "    names_with_gender.append(temp_gender)\n",
    "  \n",
    "print(names_with_gender)"
   ]
  },
  {
   "cell_type": "code",
   "execution_count": 13,
   "metadata": {
    "colab": {},
    "colab_type": "code",
    "id": "1MhoJ5zSWTtK"
   },
   "outputs": [
    {
     "name": "stdout",
     "output_type": "stream",
     "text": [
      "['UNKNOWN', 'UNKNOWN', 'UNKNOWN', 'UNKNOWN', 'M', 'F', 'M', 'UNKNOWN', 'UNKNOWN', 'UNKNOWN', 'UNKNOWN', 'UNKNOWN', 'UNKNOWN', 'M', 'UNKNOWN', 'M', 'UNKNOWN', 'F', 'UNKNOWN', 'UNKNOWN', 'UNKNOWN', 'M', 'M', 'M', 'UNKNOWN', 'UNKNOWN', 'UNKNOWN', 'UNKNOWN', 'UNKNOWN', 'F', 'UNKNOWN', 'UNKNOWN', 'UNKNOWN', 'UNKNOWN', 'F', 'UNKNOWN', 'UNKNOWN', 'F', 'UNKNOWN', 'F', 'UNKNOWN', 'M', 'UNKNOWN', 'M', 'F', 'F', 'UNKNOWN', 'UNKNOWN', 'F', 'M', 'UNKNOWN', 'UNKNOWN', 'UNKNOWN', 'UNKNOWN', 'UNKNOWN', 'UNKNOWN', 'M', 'UNKNOWN', 'M', 'UNKNOWN', 'UNKNOWN', 'UNKNOWN', 'UNKNOWN', 'UNKNOWN', 'UNKNOWN', 'UNKNOWN', 'UNKNOWN', 'UNKNOWN', 'UNKNOWN', 'UNKNOWN', 'F', 'UNKNOWN', 'UNKNOWN', 'UNKNOWN', 'UNKNOWN', 'UNKNOWN', 'F', 'UNKNOWN', 'UNKNOWN', 'UNKNOWN', 'UNKNOWN', 'M', 'UNKNOWN', 'M', 'UNKNOWN', 'UNKNOWN', 'UNKNOWN', 'UNKNOWN', 'M', 'UNKNOWN', 'UNKNOWN', 'UNKNOWN', 'UNKNOWN', 'M', 'UNKNOWN', 'UNKNOWN', 'UNKNOWN', 'M', 'F', 'M', 'UNKNOWN', 'UNKNOWN', 'UNKNOWN', 'UNKNOWN', 'UNKNOWN', 'UNKNOWN', 'UNKNOWN', 'UNKNOWN', 'UNKNOWN', 'UNKNOWN', 'UNKNOWN', 'UNKNOWN', 'UNKNOWN', 'F', 'UNKNOWN', 'UNKNOWN', 'UNKNOWN', 'UNKNOWN', 'UNKNOWN', 'UNKNOWN', 'UNKNOWN', 'F', 'UNKNOWN', 'UNKNOWN', 'UNKNOWN', 'UNKNOWN', 'UNKNOWN', 'M', 'UNKNOWN', 'F', 'UNKNOWN', 'M', 'F', 'UNKNOWN', 'M', 'UNKNOWN', 'UNKNOWN', 'UNKNOWN', 'UNKNOWN', 'UNKNOWN', 'UNKNOWN', 'UNKNOWN', 'UNKNOWN', 'UNKNOWN', 'UNKNOWN', 'UNKNOWN', 'UNKNOWN', 'UNKNOWN', 'M', 'UNKNOWN', 'M', 'UNKNOWN', 'UNKNOWN', 'UNKNOWN', 'F', 'F', 'UNKNOWN', 'M', 'UNKNOWN', 'M', 'UNKNOWN', 'UNKNOWN', 'UNKNOWN', 'UNKNOWN', 'UNKNOWN', 'UNKNOWN', 'UNKNOWN', 'UNKNOWN', 'UNKNOWN', 'UNKNOWN', 'UNKNOWN', 'UNKNOWN', 'UNKNOWN', 'UNKNOWN', 'M', 'UNKNOWN', 'UNKNOWN', 'UNKNOWN', 'M', 'UNKNOWN', 'UNKNOWN', 'UNKNOWN', 'UNKNOWN', 'UNKNOWN', 'UNKNOWN', 'UNKNOWN', 'UNKNOWN', 'UNKNOWN', 'UNKNOWN', 'UNKNOWN', 'UNKNOWN', 'UNKNOWN', 'UNKNOWN', 'UNKNOWN', 'UNKNOWN', 'UNKNOWN', 'UNKNOWN', 'UNKNOWN', 'UNKNOWN', 'UNKNOWN', 'M', 'UNKNOWN', 'UNKNOWN', 'UNKNOWN', 'UNKNOWN', 'UNKNOWN', 'UNKNOWN', 'UNKNOWN', 'M', 'UNKNOWN', 'UNKNOWN', 'UNKNOWN', 'UNKNOWN', 'UNKNOWN', 'UNKNOWN', 'M', 'UNKNOWN', 'UNKNOWN', 'UNKNOWN', 'M', 'UNKNOWN', 'M', 'M', 'UNKNOWN', 'UNKNOWN', 'F', 'UNKNOWN', 'UNKNOWN', 'UNKNOWN', 'UNKNOWN', 'UNKNOWN', 'UNKNOWN', 'UNKNOWN', 'UNKNOWN', 'UNKNOWN', 'UNKNOWN', 'M', 'F', 'UNKNOWN', 'UNKNOWN', 'UNKNOWN', 'F', 'UNKNOWN', 'UNKNOWN', 'UNKNOWN', 'UNKNOWN', 'F', 'M', 'UNKNOWN', 'UNKNOWN', 'UNKNOWN', 'UNKNOWN', 'UNKNOWN', 'UNKNOWN', 'UNKNOWN', 'UNKNOWN', 'UNKNOWN', 'UNKNOWN', 'UNKNOWN', 'UNKNOWN', 'UNKNOWN', 'UNKNOWN', 'M', 'UNKNOWN', 'UNKNOWN', 'UNKNOWN', 'UNKNOWN', 'UNKNOWN', 'UNKNOWN', 'F', 'F', 'UNKNOWN', 'UNKNOWN', 'UNKNOWN', 'UNKNOWN', 'UNKNOWN', 'M', 'UNKNOWN', 'UNKNOWN', 'M', 'UNKNOWN', 'F', 'UNKNOWN', 'UNKNOWN', 'UNKNOWN', 'UNKNOWN', 'M', 'M', 'UNKNOWN', 'M', 'UNKNOWN', 'F', 'UNKNOWN', 'UNKNOWN', 'M', 'UNKNOWN', 'UNKNOWN', 'UNKNOWN', 'M', 'UNKNOWN', 'UNKNOWN', 'UNKNOWN', 'UNKNOWN', 'UNKNOWN', 'UNKNOWN', 'UNKNOWN', 'UNKNOWN', 'UNKNOWN', 'UNKNOWN', 'UNKNOWN', 'UNKNOWN', 'UNKNOWN', 'UNKNOWN', 'UNKNOWN', 'UNKNOWN', 'UNKNOWN', 'UNKNOWN', 'UNKNOWN', 'UNKNOWN', 'UNKNOWN', 'UNKNOWN', 'UNKNOWN', 'M', 'UNKNOWN', 'M', 'UNKNOWN', 'UNKNOWN', 'UNKNOWN', 'UNKNOWN', 'UNKNOWN', 'UNKNOWN', 'UNKNOWN', 'UNKNOWN', 'UNKNOWN', 'UNKNOWN', 'UNKNOWN', 'UNKNOWN', 'UNKNOWN', 'UNKNOWN', 'F', 'UNKNOWN', 'UNKNOWN', 'UNKNOWN', 'UNKNOWN', 'UNKNOWN', 'UNKNOWN', 'UNKNOWN', 'UNKNOWN', 'UNKNOWN', 'UNKNOWN', 'UNKNOWN', 'UNKNOWN', 'UNKNOWN', 'UNKNOWN', 'UNKNOWN', 'UNKNOWN', 'UNKNOWN', 'UNKNOWN', 'UNKNOWN', 'UNKNOWN', 'UNKNOWN', 'UNKNOWN', 'UNKNOWN', 'UNKNOWN', 'UNKNOWN', 'UNKNOWN', 'UNKNOWN', 'M', 'UNKNOWN', 'UNKNOWN', 'F', 'F', 'UNKNOWN', 'M', 'M', 'UNKNOWN', 'F', 'UNKNOWN', 'UNKNOWN', 'UNKNOWN', 'UNKNOWN', 'UNKNOWN', 'UNKNOWN', 'UNKNOWN', 'UNKNOWN', 'UNKNOWN', 'UNKNOWN', 'UNKNOWN', 'UNKNOWN', 'UNKNOWN', 'UNKNOWN']\n"
     ]
    }
   ],
   "source": [
    "all_genders = []\n",
    "i = 0\n",
    "\n",
    "for guess in names_with_gender:\n",
    "    if guess == 'male' or guess == 'mostly_male':\n",
    "        all_genders.append('M')\n",
    "    elif guess == 'female' or guess == 'mostly_female':\n",
    "        all_genders.append('F')\n",
    "    else:\n",
    "        all_genders.append('UNKNOWN')\n",
    "\n",
    "    \n",
    "print(all_genders)"
   ]
  },
  {
   "cell_type": "markdown",
   "metadata": {
    "colab_type": "text",
    "id": "bHM88i7bWTtV"
   },
   "source": [
    "---\n",
    "## Salviamo ora i dati ottenuti in una tabella Excel\n",
    "Così non dovremo ogni volta rieseguire tutto il codice\n",
    "\n"
   ]
  },
  {
   "cell_type": "markdown",
   "metadata": {
    "colab_type": "text",
    "id": "yQUBDvHwWTtd"
   },
   "source": [
    "### Controlliamo che ci siano lo stesso numero di dati\n",
    "Potremo così creare una tabella sfruttando Pandas"
   ]
  },
  {
   "cell_type": "code",
   "execution_count": 14,
   "metadata": {
    "colab": {},
    "colab_type": "code",
    "id": "uPxa7-97WTtd"
   },
   "outputs": [
    {
     "name": "stdout",
     "output_type": "stream",
     "text": [
      "Nomi:  391\n",
      "Commenti:  391\n",
      "Voti:  391\n",
      "Mobile:  391\n"
     ]
    }
   ],
   "source": [
    "print('Nomi: ', len(all_names_filtered))\n",
    "print('Commenti: ', len(all_reviews_filtered))\n",
    "print('Voti: ', len(all_ratings))\n",
    "print('Mobile: ', len(all_mobile))"
   ]
  },
  {
   "cell_type": "markdown",
   "metadata": {
    "colab_type": "text",
    "id": "L3jNT2atZj9k"
   },
   "source": [
    "### Eliminiamo le recensioni troppo lunghe e quelle di cui non sappiamo il genere del commentatore\n",
    "Creo una lista di liste [ ['NOME', 'GENERE', 'RECENSIONE', 'VOTO'], ['NOME', 'GENERE', 'RECENSIONE', 'VOTO'], ... ]"
   ]
  },
  {
   "cell_type": "code",
   "execution_count": 15,
   "metadata": {
    "colab": {},
    "colab_type": "code",
    "id": "x3jtEoicZrFl"
   },
   "outputs": [
    {
     "name": "stdout",
     "output_type": "stream",
     "text": [
      "DATI ANALIZZABILI:  52\n"
     ]
    },
    {
     "data": {
      "text/plain": [
       "[['Marco',\n",
       "  'M',\n",
       "  'Un pessimo posto in termini di sensazione di pulizia, qualita dei prodotti. Prezzi non giustificati, maleducati e di scarsa compenenza.',\n",
       "  '1',\n",
       "  'Mobile'],\n",
       " ['Federica',\n",
       "  'F',\n",
       "  'Una misera bruschetta, una coca un caffè 27,50 euro : da denuncia\\nAvevo poco tempo a pranzo sono entrata perché c’erano tavolini liberi, mai avrei pensato di spendere una simile cifra. Da evitare',\n",
       "  '1',\n",
       "  'PC'],\n",
       " ['Stefano',\n",
       "  'M',\n",
       "  'sembra di ripetere le stesse cose, ma conviene confermare che nulla cambia.\\nun prosecco ( non meglio identificato) e un crodino in piedi al banco 13 euro.\\nscortesia, servizi chiusi in piena ora di pranzo- immagino chi desiderava lavarsi le mani prima di mangiare- EVITATE',\n",
       "  '1',\n",
       "  'PC'],\n",
       " ['Mauro',\n",
       "  'M',\n",
       "  'Da non credere. Una presa in giro per chi arriva a Milano e spera nella professionalità e nella onestà. 27 euro per una insalatina , mezza di acqua e 1 caffè......\\nEsperienza da non ripetere e sicuramente da sconsigliare',\n",
       "  '1',\n",
       "  'PC'],\n",
       " ['Patrick',\n",
       "  'M',\n",
       "  'Mezzo litro di acqua e un caffè 9.10€. Mi avessero scippato forse sarei stato più contento. Vergogna.',\n",
       "  '1',\n",
       "  'Mobile']]"
      ]
     },
     "metadata": {},
     "output_type": "display_data"
    }
   ],
   "source": [
    "complete_list = []\n",
    "\n",
    "i = len(all_names_filtered)\n",
    "\n",
    "for indice in range(i):\n",
    "  if all_genders[indice] != 'UNKNOWN' and all_reviews_filtered[indice] != 'RECENSIONE_TROPPO_LUNGA':\n",
    "    temp = [all_names_filtered[indice], all_genders[indice], all_reviews_filtered[indice], all_ratings[indice], all_mobile[indice]]\n",
    "    complete_list.append(temp)\n",
    "    \n",
    "print('DATI ANALIZZABILI: ', len(complete_list))\n",
    "display(complete_list[:5])\n"
   ]
  },
  {
   "cell_type": "markdown",
   "metadata": {
    "colab_type": "text",
    "id": "zwEridD9ZzVo"
   },
   "source": [
    "### Creiamo la tabella"
   ]
  },
  {
   "cell_type": "code",
   "execution_count": 16,
   "metadata": {
    "colab": {},
    "colab_type": "code",
    "id": "j1H48nXfWTtl"
   },
   "outputs": [],
   "source": [
    "# !pip install pandas\n",
    "# !pip install xlsxwriter\n",
    "import pandas as pd"
   ]
  },
  {
   "cell_type": "code",
   "execution_count": 17,
   "metadata": {
    "colab": {},
    "colab_type": "code",
    "id": "FWhktgyIWTtp"
   },
   "outputs": [],
   "source": [
    "# Create a Pandas dataframe from the data.\n",
    "df = pd.DataFrame({'Nomi': [elemento[0] for elemento in complete_list], \n",
    "                   'Genere': [elemento[1] for elemento in complete_list], \n",
    "                   'Recensioni': [elemento[2] for elemento in complete_list],\n",
    "                   'Voti': [elemento[3] for elemento in complete_list],\n",
    "                   'Scritta da': [elemento[4] for elemento in complete_list]})\n",
    "\n",
    "# Create a Pandas Excel writer using XlsxWriter as the engine.\n",
    "writer = pd.ExcelWriter('RISTORANTE_21.xlsx', engine='xlsxwriter')\n",
    "\n",
    "# Convert the dataframe to an XlsxWriter Excel object.\n",
    "df.to_excel(writer, sheet_name='Sheet1')\n",
    "\n",
    "# Close the Pandas Excel writer and output the Excel file.\n",
    "writer.save()"
   ]
  },
  {
   "cell_type": "code",
   "execution_count": 18,
   "metadata": {
    "colab": {},
    "colab_type": "code",
    "id": "Fdg5rRWmWTtv"
   },
   "outputs": [
    {
     "data": {
      "text/html": [
       "<div>\n",
       "<style scoped>\n",
       "    .dataframe tbody tr th:only-of-type {\n",
       "        vertical-align: middle;\n",
       "    }\n",
       "\n",
       "    .dataframe tbody tr th {\n",
       "        vertical-align: top;\n",
       "    }\n",
       "\n",
       "    .dataframe thead th {\n",
       "        text-align: right;\n",
       "    }\n",
       "</style>\n",
       "<table border=\"1\" class=\"dataframe\">\n",
       "  <thead>\n",
       "    <tr style=\"text-align: right;\">\n",
       "      <th></th>\n",
       "      <th>Nomi</th>\n",
       "      <th>Genere</th>\n",
       "      <th>Recensioni</th>\n",
       "      <th>Voti</th>\n",
       "      <th>Scritta da</th>\n",
       "    </tr>\n",
       "  </thead>\n",
       "  <tbody>\n",
       "    <tr>\n",
       "      <th>0</th>\n",
       "      <td>Marco</td>\n",
       "      <td>M</td>\n",
       "      <td>Un pessimo posto in termini di sensazione di p...</td>\n",
       "      <td>1</td>\n",
       "      <td>Mobile</td>\n",
       "    </tr>\n",
       "    <tr>\n",
       "      <th>1</th>\n",
       "      <td>Federica</td>\n",
       "      <td>F</td>\n",
       "      <td>Una misera bruschetta, una coca un caffè 27,50...</td>\n",
       "      <td>1</td>\n",
       "      <td>PC</td>\n",
       "    </tr>\n",
       "    <tr>\n",
       "      <th>2</th>\n",
       "      <td>Stefano</td>\n",
       "      <td>M</td>\n",
       "      <td>sembra di ripetere le stesse cose, ma conviene...</td>\n",
       "      <td>1</td>\n",
       "      <td>PC</td>\n",
       "    </tr>\n",
       "    <tr>\n",
       "      <th>3</th>\n",
       "      <td>Mauro</td>\n",
       "      <td>M</td>\n",
       "      <td>Da non credere. Una presa in giro per chi arri...</td>\n",
       "      <td>1</td>\n",
       "      <td>PC</td>\n",
       "    </tr>\n",
       "    <tr>\n",
       "      <th>4</th>\n",
       "      <td>Patrick</td>\n",
       "      <td>M</td>\n",
       "      <td>Mezzo litro di acqua e un caffè 9.10€. Mi aves...</td>\n",
       "      <td>1</td>\n",
       "      <td>Mobile</td>\n",
       "    </tr>\n",
       "    <tr>\n",
       "      <th>5</th>\n",
       "      <td>Luigi</td>\n",
       "      <td>M</td>\n",
       "      <td>ci siamo fermati in una location bella ..ma si...</td>\n",
       "      <td>1</td>\n",
       "      <td>Mobile</td>\n",
       "    </tr>\n",
       "    <tr>\n",
       "      <th>6</th>\n",
       "      <td>Margherita</td>\n",
       "      <td>F</td>\n",
       "      <td>Il 9 dicembre ero a Milano con degli amici ci ...</td>\n",
       "      <td>1</td>\n",
       "      <td>Mobile</td>\n",
       "    </tr>\n",
       "    <tr>\n",
       "      <th>7</th>\n",
       "      <td>Luigi</td>\n",
       "      <td>M</td>\n",
       "      <td>E scoppiata una bomba nel conto ....Solo a Ven...</td>\n",
       "      <td>1</td>\n",
       "      <td>Mobile</td>\n",
       "    </tr>\n",
       "    <tr>\n",
       "      <th>8</th>\n",
       "      <td>Valeria</td>\n",
       "      <td>F</td>\n",
       "      <td>Posto molto bello ed invitante, ma il ho mangi...</td>\n",
       "      <td>1</td>\n",
       "      <td>Mobile</td>\n",
       "    </tr>\n",
       "    <tr>\n",
       "      <th>9</th>\n",
       "      <td>Luca</td>\n",
       "      <td>M</td>\n",
       "      <td>Sono stato qui dopo una cena... da dimenticare...</td>\n",
       "      <td>4</td>\n",
       "      <td>Mobile</td>\n",
       "    </tr>\n",
       "    <tr>\n",
       "      <th>10</th>\n",
       "      <td>Leo</td>\n",
       "      <td>M</td>\n",
       "      <td>Gelati buoni, prezzi da 3 a 5 € a seconda dell...</td>\n",
       "      <td>3</td>\n",
       "      <td>Mobile</td>\n",
       "    </tr>\n",
       "    <tr>\n",
       "      <th>11</th>\n",
       "      <td>Orazio</td>\n",
       "      <td>M</td>\n",
       "      <td>Buona la merenda pre cena con cioccolata e bis...</td>\n",
       "      <td>4</td>\n",
       "      <td>Mobile</td>\n",
       "    </tr>\n",
       "    <tr>\n",
       "      <th>12</th>\n",
       "      <td>Renato</td>\n",
       "      <td>M</td>\n",
       "      <td>In sintesi:cotoletta sottiletta,coperto esoso,...</td>\n",
       "      <td>1</td>\n",
       "      <td>Mobile</td>\n",
       "    </tr>\n",
       "    <tr>\n",
       "      <th>13</th>\n",
       "      <td>Barbara</td>\n",
       "      <td>F</td>\n",
       "      <td>Bello il locale e la visuale del duomo;per il ...</td>\n",
       "      <td>2</td>\n",
       "      <td>PC</td>\n",
       "    </tr>\n",
       "    <tr>\n",
       "      <th>14</th>\n",
       "      <td>Davide</td>\n",
       "      <td>M</td>\n",
       "      <td>Con la mia ragazza abbiamo fatto una semplice ...</td>\n",
       "      <td>2</td>\n",
       "      <td>Mobile</td>\n",
       "    </tr>\n",
       "    <tr>\n",
       "      <th>15</th>\n",
       "      <td>Luca</td>\n",
       "      <td>M</td>\n",
       "      <td>Siamo stati qui a cena considerando la posizio...</td>\n",
       "      <td>1</td>\n",
       "      <td>PC</td>\n",
       "    </tr>\n",
       "    <tr>\n",
       "      <th>16</th>\n",
       "      <td>Mario</td>\n",
       "      <td>M</td>\n",
       "      <td>Grande rammarico non aver letto le recensioni ...</td>\n",
       "      <td>2</td>\n",
       "      <td>PC</td>\n",
       "    </tr>\n",
       "    <tr>\n",
       "      <th>17</th>\n",
       "      <td>Francesca</td>\n",
       "      <td>F</td>\n",
       "      <td>Posto meraviglioso per un piacevole pranzo all...</td>\n",
       "      <td>5</td>\n",
       "      <td>Mobile</td>\n",
       "    </tr>\n",
       "    <tr>\n",
       "      <th>18</th>\n",
       "      <td>Pietro</td>\n",
       "      <td>M</td>\n",
       "      <td>Situato in Via dei Mercanti, per me una delle ...</td>\n",
       "      <td>4</td>\n",
       "      <td>PC</td>\n",
       "    </tr>\n",
       "    <tr>\n",
       "      <th>19</th>\n",
       "      <td>Sean</td>\n",
       "      <td>M</td>\n",
       "      <td>Sì, questo è proprio il cibo sciapo trappola p...</td>\n",
       "      <td>1</td>\n",
       "      <td>Mobile</td>\n",
       "    </tr>\n",
       "    <tr>\n",
       "      <th>20</th>\n",
       "      <td>Andy</td>\n",
       "      <td>M</td>\n",
       "      <td>Il cibo è buono, ma costoso. Mia moglie ed io ...</td>\n",
       "      <td>5</td>\n",
       "      <td>PC</td>\n",
       "    </tr>\n",
       "    <tr>\n",
       "      <th>21</th>\n",
       "      <td>Mikael</td>\n",
       "      <td>M</td>\n",
       "      <td>Ristorante peggiore che abbia mai visitato! Si...</td>\n",
       "      <td>1</td>\n",
       "      <td>PC</td>\n",
       "    </tr>\n",
       "    <tr>\n",
       "      <th>22</th>\n",
       "      <td>Robert</td>\n",
       "      <td>M</td>\n",
       "      <td>In una giornata a Milano, ci siamo fermati al ...</td>\n",
       "      <td>1</td>\n",
       "      <td>PC</td>\n",
       "    </tr>\n",
       "    <tr>\n",
       "      <th>23</th>\n",
       "      <td>Sorin</td>\n",
       "      <td>M</td>\n",
       "      <td>Fondamentalmente mi sono fermato qui perché io...</td>\n",
       "      <td>1</td>\n",
       "      <td>Mobile</td>\n",
       "    </tr>\n",
       "    <tr>\n",
       "      <th>24</th>\n",
       "      <td>Tim</td>\n",
       "      <td>M</td>\n",
       "      <td>Nel complesso: una delle peggiori esperienze i...</td>\n",
       "      <td>1</td>\n",
       "      <td>PC</td>\n",
       "    </tr>\n",
       "    <tr>\n",
       "      <th>25</th>\n",
       "      <td>Olivia</td>\n",
       "      <td>F</td>\n",
       "      <td>In due settimane interrailing italia, questa è...</td>\n",
       "      <td>1</td>\n",
       "      <td>PC</td>\n",
       "    </tr>\n",
       "    <tr>\n",
       "      <th>26</th>\n",
       "      <td>Rick</td>\n",
       "      <td>M</td>\n",
       "      <td>Sebbene questo sembrava piuttosto un costoso r...</td>\n",
       "      <td>4</td>\n",
       "      <td>PC</td>\n",
       "    </tr>\n",
       "    <tr>\n",
       "      <th>27</th>\n",
       "      <td>Adrienne</td>\n",
       "      <td>F</td>\n",
       "      <td>Volevamo qualcosa da mangiare prima visitare i...</td>\n",
       "      <td>4</td>\n",
       "      <td>PC</td>\n",
       "    </tr>\n",
       "    <tr>\n",
       "      <th>28</th>\n",
       "      <td>Alison</td>\n",
       "      <td>F</td>\n",
       "      <td>Siamo andati a questa caffetteria per la colaz...</td>\n",
       "      <td>1</td>\n",
       "      <td>Mobile</td>\n",
       "    </tr>\n",
       "    <tr>\n",
       "      <th>29</th>\n",
       "      <td>Katia</td>\n",
       "      <td>F</td>\n",
       "      <td>Io sto scrivendo in Inglese, perché questo è i...</td>\n",
       "      <td>1</td>\n",
       "      <td>PC</td>\n",
       "    </tr>\n",
       "    <tr>\n",
       "      <th>30</th>\n",
       "      <td>David</td>\n",
       "      <td>M</td>\n",
       "      <td>Siamo stati qui per le coppie vacanza per la c...</td>\n",
       "      <td>4</td>\n",
       "      <td>Mobile</td>\n",
       "    </tr>\n",
       "    <tr>\n",
       "      <th>31</th>\n",
       "      <td>David</td>\n",
       "      <td>M</td>\n",
       "      <td>Io sono stato a volte in questo ristorante per...</td>\n",
       "      <td>1</td>\n",
       "      <td>PC</td>\n",
       "    </tr>\n",
       "    <tr>\n",
       "      <th>32</th>\n",
       "      <td>Carla</td>\n",
       "      <td>F</td>\n",
       "      <td>Il cafe è in una bella posizione sulla Via dei...</td>\n",
       "      <td>3</td>\n",
       "      <td>Mobile</td>\n",
       "    </tr>\n",
       "    <tr>\n",
       "      <th>33</th>\n",
       "      <td>Isabelle</td>\n",
       "      <td>F</td>\n",
       "      <td>Avendo appena arrivati a Milano e abbiamo visi...</td>\n",
       "      <td>3</td>\n",
       "      <td>PC</td>\n",
       "    </tr>\n",
       "    <tr>\n",
       "      <th>34</th>\n",
       "      <td>Franklin</td>\n",
       "      <td>M</td>\n",
       "      <td>I prezzi sono ok per la posizione, il cibo non...</td>\n",
       "      <td>3</td>\n",
       "      <td>Mobile</td>\n",
       "    </tr>\n",
       "    <tr>\n",
       "      <th>35</th>\n",
       "      <td>Stephen</td>\n",
       "      <td>M</td>\n",
       "      <td>IMPORTANTE!!! Il cafe è in fondo alla strada r...</td>\n",
       "      <td>3</td>\n",
       "      <td>PC</td>\n",
       "    </tr>\n",
       "    <tr>\n",
       "      <th>36</th>\n",
       "      <td>June</td>\n",
       "      <td>F</td>\n",
       "      <td>Abbiamo mangiato in questa caffetteria venerdì...</td>\n",
       "      <td>1</td>\n",
       "      <td>Mobile</td>\n",
       "    </tr>\n",
       "    <tr>\n",
       "      <th>37</th>\n",
       "      <td>Steve</td>\n",
       "      <td>M</td>\n",
       "      <td>Servizio lento, fuori mano i camerieri, Milane...</td>\n",
       "      <td>1</td>\n",
       "      <td>Mobile</td>\n",
       "    </tr>\n",
       "    <tr>\n",
       "      <th>38</th>\n",
       "      <td>Richard</td>\n",
       "      <td>M</td>\n",
       "      <td>Ogni volta che ci serviva qualcosa abbiamo dov...</td>\n",
       "      <td>2</td>\n",
       "      <td>PC</td>\n",
       "    </tr>\n",
       "    <tr>\n",
       "      <th>39</th>\n",
       "      <td>Jose</td>\n",
       "      <td>M</td>\n",
       "      <td>Questo posto è uno dei migliori esempi del per...</td>\n",
       "      <td>1</td>\n",
       "      <td>PC</td>\n",
       "    </tr>\n",
       "    <tr>\n",
       "      <th>40</th>\n",
       "      <td>Dora</td>\n",
       "      <td>F</td>\n",
       "      <td>Ci siamo seduti e abbiamo aspettato per il men...</td>\n",
       "      <td>1</td>\n",
       "      <td>PC</td>\n",
       "    </tr>\n",
       "    <tr>\n",
       "      <th>41</th>\n",
       "      <td>Onut</td>\n",
       "      <td>M</td>\n",
       "      <td>La pizza peggiore che abbia mai mangiato\\nnon ...</td>\n",
       "      <td>1</td>\n",
       "      <td>PC</td>\n",
       "    </tr>\n",
       "    <tr>\n",
       "      <th>42</th>\n",
       "      <td>Colm</td>\n",
       "      <td>M</td>\n",
       "      <td>Di gran lunga il peggior ristorante che abbiam...</td>\n",
       "      <td>1</td>\n",
       "      <td>Mobile</td>\n",
       "    </tr>\n",
       "    <tr>\n",
       "      <th>43</th>\n",
       "      <td>Bill</td>\n",
       "      <td>M</td>\n",
       "      <td>Il Caffe' Mercanti è a solo un isolato da Piaz...</td>\n",
       "      <td>2</td>\n",
       "      <td>PC</td>\n",
       "    </tr>\n",
       "    <tr>\n",
       "      <th>44</th>\n",
       "      <td>Alan</td>\n",
       "      <td>M</td>\n",
       "      <td>È accaduto a venire attraverso questo cafe' me...</td>\n",
       "      <td>5</td>\n",
       "      <td>PC</td>\n",
       "    </tr>\n",
       "    <tr>\n",
       "      <th>45</th>\n",
       "      <td>Julie</td>\n",
       "      <td>F</td>\n",
       "      <td>Evitare. cibo nella media, bevande così caro. ...</td>\n",
       "      <td>1</td>\n",
       "      <td>Mobile</td>\n",
       "    </tr>\n",
       "    <tr>\n",
       "      <th>46</th>\n",
       "      <td>Phil</td>\n",
       "      <td>M</td>\n",
       "      <td>Io sono una nuova recensione entusiasta, recup...</td>\n",
       "      <td>3</td>\n",
       "      <td>PC</td>\n",
       "    </tr>\n",
       "    <tr>\n",
       "      <th>47</th>\n",
       "      <td>Daisy</td>\n",
       "      <td>F</td>\n",
       "      <td>Ad appena un isolato dalla Cattedrale del Duom...</td>\n",
       "      <td>4</td>\n",
       "      <td>PC</td>\n",
       "    </tr>\n",
       "    <tr>\n",
       "      <th>48</th>\n",
       "      <td>Agnes</td>\n",
       "      <td>F</td>\n",
       "      <td>Siamo andati a Milano per una giornata di viag...</td>\n",
       "      <td>2</td>\n",
       "      <td>PC</td>\n",
       "    </tr>\n",
       "    <tr>\n",
       "      <th>49</th>\n",
       "      <td>Andy</td>\n",
       "      <td>M</td>\n",
       "      <td>Mio padre ci ha portato a questo ristorante co...</td>\n",
       "      <td>1</td>\n",
       "      <td>PC</td>\n",
       "    </tr>\n",
       "    <tr>\n",
       "      <th>50</th>\n",
       "      <td>Jean</td>\n",
       "      <td>M</td>\n",
       "      <td>Ristorante, il cibo è molto bello abbastanza b...</td>\n",
       "      <td>2</td>\n",
       "      <td>PC</td>\n",
       "    </tr>\n",
       "    <tr>\n",
       "      <th>51</th>\n",
       "      <td>Sapna</td>\n",
       "      <td>F</td>\n",
       "      <td>La peggiore in assoluto a Milano!!!!\\nServizio...</td>\n",
       "      <td>1</td>\n",
       "      <td>PC</td>\n",
       "    </tr>\n",
       "  </tbody>\n",
       "</table>\n",
       "</div>"
      ],
      "text/plain": [
       "          Nomi Genere                                         Recensioni  \\\n",
       "0        Marco      M  Un pessimo posto in termini di sensazione di p...   \n",
       "1     Federica      F  Una misera bruschetta, una coca un caffè 27,50...   \n",
       "2      Stefano      M  sembra di ripetere le stesse cose, ma conviene...   \n",
       "3        Mauro      M  Da non credere. Una presa in giro per chi arri...   \n",
       "4      Patrick      M  Mezzo litro di acqua e un caffè 9.10€. Mi aves...   \n",
       "5        Luigi      M  ci siamo fermati in una location bella ..ma si...   \n",
       "6   Margherita      F  Il 9 dicembre ero a Milano con degli amici ci ...   \n",
       "7        Luigi      M  E scoppiata una bomba nel conto ....Solo a Ven...   \n",
       "8      Valeria      F  Posto molto bello ed invitante, ma il ho mangi...   \n",
       "9         Luca      M  Sono stato qui dopo una cena... da dimenticare...   \n",
       "10         Leo      M  Gelati buoni, prezzi da 3 a 5 € a seconda dell...   \n",
       "11      Orazio      M  Buona la merenda pre cena con cioccolata e bis...   \n",
       "12      Renato      M  In sintesi:cotoletta sottiletta,coperto esoso,...   \n",
       "13     Barbara      F  Bello il locale e la visuale del duomo;per il ...   \n",
       "14      Davide      M  Con la mia ragazza abbiamo fatto una semplice ...   \n",
       "15        Luca      M  Siamo stati qui a cena considerando la posizio...   \n",
       "16       Mario      M  Grande rammarico non aver letto le recensioni ...   \n",
       "17   Francesca      F  Posto meraviglioso per un piacevole pranzo all...   \n",
       "18      Pietro      M  Situato in Via dei Mercanti, per me una delle ...   \n",
       "19        Sean      M  Sì, questo è proprio il cibo sciapo trappola p...   \n",
       "20        Andy      M  Il cibo è buono, ma costoso. Mia moglie ed io ...   \n",
       "21      Mikael      M  Ristorante peggiore che abbia mai visitato! Si...   \n",
       "22      Robert      M  In una giornata a Milano, ci siamo fermati al ...   \n",
       "23       Sorin      M  Fondamentalmente mi sono fermato qui perché io...   \n",
       "24         Tim      M  Nel complesso: una delle peggiori esperienze i...   \n",
       "25      Olivia      F  In due settimane interrailing italia, questa è...   \n",
       "26        Rick      M  Sebbene questo sembrava piuttosto un costoso r...   \n",
       "27    Adrienne      F  Volevamo qualcosa da mangiare prima visitare i...   \n",
       "28      Alison      F  Siamo andati a questa caffetteria per la colaz...   \n",
       "29       Katia      F  Io sto scrivendo in Inglese, perché questo è i...   \n",
       "30       David      M  Siamo stati qui per le coppie vacanza per la c...   \n",
       "31       David      M  Io sono stato a volte in questo ristorante per...   \n",
       "32       Carla      F  Il cafe è in una bella posizione sulla Via dei...   \n",
       "33    Isabelle      F  Avendo appena arrivati a Milano e abbiamo visi...   \n",
       "34    Franklin      M  I prezzi sono ok per la posizione, il cibo non...   \n",
       "35     Stephen      M  IMPORTANTE!!! Il cafe è in fondo alla strada r...   \n",
       "36        June      F  Abbiamo mangiato in questa caffetteria venerdì...   \n",
       "37       Steve      M  Servizio lento, fuori mano i camerieri, Milane...   \n",
       "38     Richard      M  Ogni volta che ci serviva qualcosa abbiamo dov...   \n",
       "39        Jose      M  Questo posto è uno dei migliori esempi del per...   \n",
       "40        Dora      F  Ci siamo seduti e abbiamo aspettato per il men...   \n",
       "41        Onut      M  La pizza peggiore che abbia mai mangiato\\nnon ...   \n",
       "42        Colm      M  Di gran lunga il peggior ristorante che abbiam...   \n",
       "43        Bill      M  Il Caffe' Mercanti è a solo un isolato da Piaz...   \n",
       "44        Alan      M  È accaduto a venire attraverso questo cafe' me...   \n",
       "45       Julie      F  Evitare. cibo nella media, bevande così caro. ...   \n",
       "46        Phil      M  Io sono una nuova recensione entusiasta, recup...   \n",
       "47       Daisy      F  Ad appena un isolato dalla Cattedrale del Duom...   \n",
       "48       Agnes      F  Siamo andati a Milano per una giornata di viag...   \n",
       "49        Andy      M  Mio padre ci ha portato a questo ristorante co...   \n",
       "50        Jean      M  Ristorante, il cibo è molto bello abbastanza b...   \n",
       "51       Sapna      F  La peggiore in assoluto a Milano!!!!\\nServizio...   \n",
       "\n",
       "    Voti Scritta da  \n",
       "0      1     Mobile  \n",
       "1      1         PC  \n",
       "2      1         PC  \n",
       "3      1         PC  \n",
       "4      1     Mobile  \n",
       "5      1     Mobile  \n",
       "6      1     Mobile  \n",
       "7      1     Mobile  \n",
       "8      1     Mobile  \n",
       "9      4     Mobile  \n",
       "10     3     Mobile  \n",
       "11     4     Mobile  \n",
       "12     1     Mobile  \n",
       "13     2         PC  \n",
       "14     2     Mobile  \n",
       "15     1         PC  \n",
       "16     2         PC  \n",
       "17     5     Mobile  \n",
       "18     4         PC  \n",
       "19     1     Mobile  \n",
       "20     5         PC  \n",
       "21     1         PC  \n",
       "22     1         PC  \n",
       "23     1     Mobile  \n",
       "24     1         PC  \n",
       "25     1         PC  \n",
       "26     4         PC  \n",
       "27     4         PC  \n",
       "28     1     Mobile  \n",
       "29     1         PC  \n",
       "30     4     Mobile  \n",
       "31     1         PC  \n",
       "32     3     Mobile  \n",
       "33     3         PC  \n",
       "34     3     Mobile  \n",
       "35     3         PC  \n",
       "36     1     Mobile  \n",
       "37     1     Mobile  \n",
       "38     2         PC  \n",
       "39     1         PC  \n",
       "40     1         PC  \n",
       "41     1         PC  \n",
       "42     1     Mobile  \n",
       "43     2         PC  \n",
       "44     5         PC  \n",
       "45     1     Mobile  \n",
       "46     3         PC  \n",
       "47     4         PC  \n",
       "48     2         PC  \n",
       "49     1         PC  \n",
       "50     2         PC  \n",
       "51     1         PC  "
      ]
     },
     "metadata": {},
     "output_type": "display_data"
    }
   ],
   "source": [
    "partial_dataframe = pd.read_excel(\"RISTORANTE_21.xlsx\")\n",
    "\n",
    "display(partial_dataframe)"
   ]
  },
  {
   "cell_type": "code",
   "execution_count": null,
   "metadata": {
    "colab": {},
    "colab_type": "code",
    "id": "hX7pszZCWTt8"
   },
   "outputs": [],
   "source": []
  }
 ],
 "metadata": {
  "colab": {
   "collapsed_sections": [],
   "name": "PARTE_3.15_TRIPADVISOR_ANALYSIS_Getting_the_comments_in_italian.ipynb",
   "provenance": [],
   "version": "0.3.2"
  },
  "kernelspec": {
   "display_name": "Python 3",
   "language": "python",
   "name": "python3"
  },
  "language_info": {
   "codemirror_mode": {
    "name": "ipython",
    "version": 3
   },
   "file_extension": ".py",
   "mimetype": "text/x-python",
   "name": "python",
   "nbconvert_exporter": "python",
   "pygments_lexer": "ipython3",
   "version": "3.7.0"
  }
 },
 "nbformat": 4,
 "nbformat_minor": 1
}
