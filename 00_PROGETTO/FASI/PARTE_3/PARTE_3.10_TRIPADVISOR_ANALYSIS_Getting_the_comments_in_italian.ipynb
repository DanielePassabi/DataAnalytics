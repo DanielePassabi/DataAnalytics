{
 "cells": [
  {
   "cell_type": "markdown",
   "metadata": {
    "colab_type": "text",
    "id": "1oZCy7XqWTry"
   },
   "source": [
    "# Creo un nuovo dataset \n"
   ]
  },
  {
   "cell_type": "markdown",
   "metadata": {
    "colab_type": "text",
    "id": "iXr-KdKhWTr0"
   },
   "source": [
    "---\n",
    "## Analisi dei commenti di un ristorante\n",
    "\n",
    "### Old Wild West - Padova\n",
    "\n",
    "URL di riferimento: https://www.tripadvisor.it/Restaurant_Review-g187867-d3346323-Reviews-Old_Wild_West-Padua_Province_of_Padua_Veneto.html\n",
    "\n",
    "Home --> Ristoranti --> Padova"
   ]
  },
  {
   "cell_type": "code",
   "execution_count": 1,
   "metadata": {
    "colab": {
     "base_uri": "https://localhost:8080/",
     "height": 33
    },
    "colab_type": "code",
    "executionInfo": {
     "elapsed": 881,
     "status": "ok",
     "timestamp": 1547143846803,
     "user": {
      "displayName": "Il Dani",
      "photoUrl": "https://lh6.googleusercontent.com/-5K7YzXjC0Ns/AAAAAAAAAAI/AAAAAAAAAbQ/NtoQ-stzgEg/s64/photo.jpg",
      "userId": "03034249883816696713"
     },
     "user_tz": -60
    },
    "id": "eeT3pIkJWTr1",
    "outputId": "a0ffe201-d7ea-4590-fba5-54ae4330d472"
   },
   "outputs": [
    {
     "name": "stdout",
     "output_type": "stream",
     "text": [
      "Imported\n"
     ]
    }
   ],
   "source": [
    "# IMPORT NECESSARI\n",
    "import requests\n",
    "from bs4 import BeautifulSoup\n",
    "\n",
    "print(\"Imported\")"
   ]
  },
  {
   "cell_type": "code",
   "execution_count": 2,
   "metadata": {
    "colab": {
     "base_uri": "https://localhost:8080/",
     "height": 33
    },
    "colab_type": "code",
    "executionInfo": {
     "elapsed": 2171,
     "status": "ok",
     "timestamp": 1547143848117,
     "user": {
      "displayName": "Il Dani",
      "photoUrl": "https://lh6.googleusercontent.com/-5K7YzXjC0Ns/AAAAAAAAAAI/AAAAAAAAAbQ/NtoQ-stzgEg/s64/photo.jpg",
      "userId": "03034249883816696713"
     },
     "user_tz": -60
    },
    "id": "dPQoaYxkWTsA",
    "outputId": "e2bc6e5e-882d-4f3a-8fe9-8cdf52adba36"
   },
   "outputs": [
    {
     "name": "stdout",
     "output_type": "stream",
     "text": [
      "Done\n"
     ]
    }
   ],
   "source": [
    "page_URL = \"https://www.tripadvisor.it/Restaurant_Review-g187867-d3346323-Reviews-Old_Wild_West-Padua_Province_of_Padua_Veneto.html\"\n",
    "\n",
    "data = requests.get(page_URL)\n",
    "clear_data = BeautifulSoup(data.content, \"lxml\")\n",
    "\n",
    "print(\"Done\")"
   ]
  },
  {
   "cell_type": "markdown",
   "metadata": {
    "colab_type": "text",
    "id": "A19Pp_DiWTsF"
   },
   "source": [
    "---\n",
    "### STRUTTURA HTML DEL SITO \n",
    "\n",
    "#### REVIEW\n",
    "`<p class=\"partial_entry\"> qui c'è la review </p>`\n",
    "\n",
    "#### N° TOTALE DI REVIEWS\n",
    "`<a data-page-number=\"25\" ...>\n",
    "    25\n",
    " </a>`\n",
    " \n",
    "#### NAMES\n",
    "`<span class=\"expand_inline scrname\" …>AlexandraCapeTown</span>`\n",
    "\n",
    "#### RATINGS\n",
    "`<span class=\"ui_bubble_rating bubble_30\"></span>`"
   ]
  },
  {
   "cell_type": "markdown",
   "metadata": {
    "colab_type": "text",
    "id": "MSrpri89WTsH"
   },
   "source": [
    "---\n",
    "### PRIMO SCRAPING (sulla prima pagina)\n",
    "\n",
    "Ottengo i nomi, i commenti, le review e da dove è stato scritto il commento per quanto rigurda la prima pagina. Ciò è necessario, in quanto, dalla seconda in poi l'URL cambia, permettendoci di iterare."
   ]
  },
  {
   "cell_type": "code",
   "execution_count": 3,
   "metadata": {
    "colab": {
     "base_uri": "https://localhost:8080/",
     "height": 100
    },
    "colab_type": "code",
    "executionInfo": {
     "elapsed": 2145,
     "status": "ok",
     "timestamp": 1547143848118,
     "user": {
      "displayName": "Il Dani",
      "photoUrl": "https://lh6.googleusercontent.com/-5K7YzXjC0Ns/AAAAAAAAAAI/AAAAAAAAAbQ/NtoQ-stzgEg/s64/photo.jpg",
      "userId": "03034249883816696713"
     },
     "user_tz": -60
    },
    "id": "3qjaMKn9WTsJ",
    "outputId": "1c5f1316-b492-403a-a817-2da802dc3a9f"
   },
   "outputs": [
    {
     "name": "stdout",
     "output_type": "stream",
     "text": [
      "Executed\n",
      "Nomi:  10\n",
      "Commenti:  10\n",
      "Voti:  10\n",
      "Scritto da:  10\n"
     ]
    }
   ],
   "source": [
    "# OTTENGO UNA LISTA DI DIV CHE CONTENGONO NOME, RECENSIONE E VOTO\n",
    "\n",
    "all_reviews = []\n",
    "all_names = []\n",
    "all_ratings = []\n",
    "all_mobile = []\n",
    "\n",
    "review_container = clear_data.findAll(\"div\", attrs={\"class\":\"review-container\"})\n",
    "\n",
    "for container in review_container:\n",
    "  \n",
    "    ### REVIEW ###\n",
    "    review = container.find('p', attrs={'class': 'partial_entry'})\n",
    "    if review:\n",
    "        all_reviews.append(review.text)\n",
    "        \n",
    "    ### NAME ###\n",
    "    name = container.find('span', attrs={'class': ('expand_inline', 'scrname')})\n",
    "    if name:\n",
    "      all_names.append(name.text)\n",
    "    else:\n",
    "      all_names.append('NO_NAME')\n",
    "    \n",
    "    ### RATING ###\n",
    "    rating = container.find('span', attrs={'class': 'ui_bubble_rating'})\n",
    "    all_ratings.append(rating['class'][1][7:8])\n",
    "    \n",
    "    ### MOBILE ###\n",
    "    mobile = container.find('span', attrs={'class': 'viaMobile'})\n",
    "    if mobile:\n",
    "      all_mobile.append('Mobile')\n",
    "    else:\n",
    "      all_mobile.append('PC')\n",
    "    \n",
    "    \n",
    "################################################################################################################################\n",
    "        \n",
    "print(\"Executed\")\n",
    "print('Nomi: ', len(all_names))\n",
    "print('Commenti: ', len(all_reviews))\n",
    "print('Voti: ', len(all_ratings))\n",
    "print('Scritto da: ', len(all_ratings))"
   ]
  },
  {
   "cell_type": "markdown",
   "metadata": {
    "colab_type": "text",
    "id": "f5sK02FgWTsR"
   },
   "source": [
    "### SECONDO SCRAPING (dalla seconda pagina in poi)\n",
    "\n",
    "Notiamo dall'URL che è possibile iterare sulle pagine, ottenendo i dati!"
   ]
  },
  {
   "cell_type": "code",
   "execution_count": 4,
   "metadata": {
    "colab": {
     "base_uri": "https://localhost:8080/",
     "height": 33
    },
    "colab_type": "code",
    "executionInfo": {
     "elapsed": 31187,
     "status": "ok",
     "timestamp": 1547143589126,
     "user": {
      "displayName": "Il Dani",
      "photoUrl": "https://lh6.googleusercontent.com/-5K7YzXjC0Ns/AAAAAAAAAAI/AAAAAAAAAbQ/NtoQ-stzgEg/s64/photo.jpg",
      "userId": "03034249883816696713"
     },
     "user_tz": -60
    },
    "id": "6LCVBXeFWTsS",
    "outputId": "486a5237-1a50-457b-f5f1-ba3ba4bd96bf"
   },
   "outputs": [
    {
     "name": "stderr",
     "output_type": "stream",
     "text": [
      "100%|██████████| 41/41 [00:44<00:00,  1.01it/s]"
     ]
    },
    {
     "name": "stdout",
     "output_type": "stream",
     "text": [
      "Executed\n",
      "total_pages:  42\n",
      "Nomi:  416\n",
      "Commenti:  416\n",
      "Voti:  416\n",
      "Scritto da:  416\n"
     ]
    },
    {
     "name": "stderr",
     "output_type": "stream",
     "text": [
      "\n"
     ]
    }
   ],
   "source": [
    "from tqdm import tqdm\n",
    "\n",
    "URL_COMPLETO = 'https://www.tripadvisor.it/Restaurant_Review-g187867-d3346323-Reviews-Old_Wild_West-Padua_Province_of_Padua_Veneto.html'\n",
    "\n",
    "URL_p1 = 'https://www.tripadvisor.it/Restaurant_Review-g187867-d3346323-Reviews-or'\n",
    "URL_p2 = '0-Old_Wild_West-Padua_Province_of_Padua_Veneto.html'\n",
    "    \n",
    "# OTTENGO I COMMENTI, NOMI E VOTI DALLA SECONDA PAGINA IN POI\n",
    "\n",
    "total_pages = int(clear_data.select(\"a.pageNum.last.taLnk\")[0].text) # 25 come intero\n",
    "\n",
    "# per iterare dobbiamo partire dalla seconda pagina dei commenti, così nell'URL compaiono le cifre che ci servono\n",
    "for r in tqdm(range(1,total_pages)):\n",
    "\n",
    "    # OTTENGO L'URL DELLA PAGINA\n",
    "    URL_temp = URL_p1 + str(r) + URL_p2\n",
    "\n",
    "    # OTTENGO I DATI E CI APPLICO BEATIFULSOUP\n",
    "    data = requests.get(URL_temp)\n",
    "    clear_data = BeautifulSoup(data.content, \"lxml\")\n",
    "    \n",
    "\n",
    "    review_container = clear_data.findAll(\"div\", attrs={\"class\":\"review-container\"})\n",
    "\n",
    "    for container in review_container:\n",
    "  \n",
    "      ### REVIEW ###\n",
    "      review = container.find('p', attrs={'class': 'partial_entry'})\n",
    "      if review:\n",
    "          all_reviews.append(review.text)\n",
    "\n",
    "      ### NAME ###\n",
    "      name = container.find('span', attrs={'class': ('expand_inline', 'scrname')})\n",
    "      if name:\n",
    "        all_names.append(name.text)\n",
    "      else:\n",
    "        all_names.append('NO_NAME')\n",
    "\n",
    "      ### RATING ###\n",
    "      rating = container.find('span', attrs={'class': 'ui_bubble_rating'})\n",
    "      all_ratings.append(rating['class'][1][7:8])\n",
    "\n",
    "      ### MOBILE ###\n",
    "      mobile = container.find('span', attrs={'class': 'viaMobile'})\n",
    "      if mobile:\n",
    "        all_mobile.append('Mobile')\n",
    "      else:\n",
    "        all_mobile.append('PC')\n",
    "    \n",
    "        \n",
    "################################################################################################################################\n",
    "        \n",
    "print(\"Executed\")\n",
    "print('total_pages: ', total_pages)\n",
    "print('Nomi: ', len(all_names))\n",
    "print('Commenti: ', len(all_reviews))\n",
    "print('Voti: ', len(all_ratings))\n",
    "print('Scritto da: ', len(all_mobile))"
   ]
  },
  {
   "cell_type": "code",
   "execution_count": 5,
   "metadata": {
    "colab": {},
    "colab_type": "code",
    "id": "_2UUJPQEWTsZ"
   },
   "outputs": [],
   "source": [
    "# display(all_reviews)"
   ]
  },
  {
   "cell_type": "code",
   "execution_count": 6,
   "metadata": {
    "colab": {},
    "colab_type": "code",
    "id": "kfvHDIQUWTsf"
   },
   "outputs": [],
   "source": [
    "# print(all_names)"
   ]
  },
  {
   "cell_type": "code",
   "execution_count": 7,
   "metadata": {
    "colab": {},
    "colab_type": "code",
    "id": "0CGHdPfhWTsj"
   },
   "outputs": [],
   "source": [
    "#print(all_ratings, '\\n')\n",
    "#print(len(all_ratings))"
   ]
  },
  {
   "cell_type": "code",
   "execution_count": 8,
   "metadata": {
    "colab": {},
    "colab_type": "code",
    "id": "L2JydXfczX4K"
   },
   "outputs": [],
   "source": [
    "#display(all_mobile)"
   ]
  },
  {
   "cell_type": "markdown",
   "metadata": {
    "colab_type": "text",
    "id": "Pn8YT0PlWTsr"
   },
   "source": [
    "#### Problema recensioni troppo lunghe\n",
    "Alla fine di alcune recensioni troviamo un '...Più', che non possiamo espandere. Data la mole di dati, decidiamo dunque di non considerarle."
   ]
  },
  {
   "cell_type": "code",
   "execution_count": 9,
   "metadata": {
    "colab": {},
    "colab_type": "code",
    "id": "1u6qYqeyWTst"
   },
   "outputs": [
    {
     "name": "stdout",
     "output_type": "stream",
     "text": [
      "Totale recensioni: 416 \n",
      " Recensioni analizzabili: 217 \n",
      " Recensioni scartate: 199 \n",
      "\n"
     ]
    },
    {
     "data": {
      "text/plain": [
       "['Bel locale, personale accogliente e gentile, qualche difficoltà per il parcheggio, ottima carne, cucinata a puntino, ottime patate, buona birra. Forse un pò caro, ma ci sta....',\n",
       " 'RECENSIONE_TROPPO_LUNGA',\n",
       " 'RECENSIONE_TROPPO_LUNGA',\n",
       " 'RECENSIONE_TROPPO_LUNGA',\n",
       " 'RECENSIONE_TROPPO_LUNGA',\n",
       " 'cucina varia ed eccellente, in grado di accontentare, in locale rustico dalla calda atmosfera, la prevalente clientela giovanile che lo frequenta ma anche coppie o gruppi di amici meno giovani alla ricerca di novità culinarie che si scostino dalla routine',\n",
       " 'Ormai è una certezza, ci vengo da molti anni. Servizio e qualità buona. Consigliato per chi vuole gustare qualcosa di particolare. Ambiente giovanile e adatto anche a famiglie con bambini. Consigliato',\n",
       " 'RECENSIONE_TROPPO_LUNGA',\n",
       " 'RECENSIONE_TROPPO_LUNGA',\n",
       " 'Ultimamente non sono organizzati. Tempi di attesa lunghissimi . Dopo un ora arriva il pranzo senza posate . Atri 15 minuti ad aspettare le posate.']"
      ]
     },
     "metadata": {},
     "output_type": "display_data"
    }
   ],
   "source": [
    "all_reviews_filtered = []\n",
    "counter_reviews_scartate = 0;\n",
    "counter_reviews_da_usare = 0;\n",
    "\n",
    "for review in all_reviews:\n",
    "    if '...Più' in review:\n",
    "        all_reviews_filtered.append('RECENSIONE_TROPPO_LUNGA')\n",
    "        counter_reviews_scartate+=1;\n",
    "    else:\n",
    "        all_reviews_filtered.append(review)\n",
    "        counter_reviews_da_usare+=1;\n",
    "        \n",
    "        \n",
    "print(\n",
    "    'Totale recensioni:', counter_reviews_scartate + counter_reviews_da_usare, '\\n',\n",
    "    'Recensioni analizzabili:', counter_reviews_da_usare, '\\n',\n",
    "    'Recensioni scartate:', counter_reviews_scartate, '\\n')\n",
    "\n",
    "display(all_reviews_filtered[:10])"
   ]
  },
  {
   "cell_type": "markdown",
   "metadata": {
    "colab_type": "text",
    "id": "UkAWN5oXWTs1"
   },
   "source": [
    "---\n",
    "### Analisi dei nomi\n",
    "Cerchiamo di capire se chi ha commentato è un uomo (M) o una donna (F)."
   ]
  },
  {
   "cell_type": "markdown",
   "metadata": {
    "colab_type": "text",
    "id": "K2hUQ__xWTs2"
   },
   "source": [
    "#### Elimino spazi e numeri\n",
    "Ho bisogno di tenere solo le informazioni riguardanti il nome, elimino il resto."
   ]
  },
  {
   "cell_type": "code",
   "execution_count": 10,
   "metadata": {
    "colab": {},
    "colab_type": "code",
    "id": "HlRhLVAwWTs4"
   },
   "outputs": [
    {
     "name": "stdout",
     "output_type": "stream",
     "text": [
      "['giuseppe v', 'I6493YValessandros', 'A8059FHmichelev', 'agostino m', 'Paolooloap95', 'Fiorentin L', 'Voyager22625929988', 'ElyT510', '146irenez', 'Z1873LEgiorgiac', 'NO_NAME', 'NO_NAME', 'NO_NAME', 'NO_NAME', 'NO_NAME', 'NO_NAME', 'NO_NAME', 'NO_NAME', 'NO_NAME', 'NO_NAME', 'gescarolo', 'Virginie F', 'Cinzia D', 'Andrea D', 'Uriel M', 'Sarawanderlust91', 'Geppovr', 'Pierazzarita', 'W9241OLandreac', 'chiaracaterinad2016', 'NO_NAME', 'NO_NAME', 'NO_NAME', 'NO_NAME', 'NO_NAME', 'NO_NAME', 'NO_NAME', 'NO_NAME', 'NO_NAME', 'NO_NAME', 'Gab901', 'corrado v', 'Vicky Z', 'federicoferro', 'Azzurra S', 'MARIO P', 'Albe72xx', '714filippog', 'Toni C', 'Lucia F', 'ebensi', 'distalbere66', 'damzamb', 'Massimo L', 'Costanza G', 'AlessiaDeFrancesch', 'CHIARAC525', 'GiuliaTartaglia', 'BoardingPass418964', 'barbaralB1401MD', 'marty1190', 'Alessia D', '869AndreaF', 'Letizia S', 'Chips_and_Pepper', 'Carlettoo', 'SOMSYAN', 'ItalianTourist68', 'alezac79', 'francescop1961-', 'NO_NAME', 'NO_NAME', 'NO_NAME', 'NO_NAME', 'NO_NAME', 'NO_NAME', 'NO_NAME', 'NO_NAME', 'NO_NAME', 'NO_NAME', 'Emanuele C', 'JohnnyFreak82', 'Giorgio S', 'Marco F', '76ericam', 'Elena L', 'viviana_p', 'a_canteri', 'Emanuele C', 'antgrasanto', 'Jenny M', 'sandrodg1973', 'GioGuest', '625riccardor', 'Irene T', 'Giorgia Z', 'Willybaubau', 'fabioalbino1', 'radamespadova', 'Laura Z', 'dancingirlisa', 'Stefanobeatrice', 'Fralufrani', 'omargardo', 'giuseppe c', '412emanuels', 'triccioli', 'BrunildeB599', 'consut2017', 'Raffaella R', 'Ivo F', 'Andrea A', 'elisabottaro', 'Bacci Bacci B', 'Cerry07', 'Davide Z', 'Marco P', 'Paola B', 'AlessandroPezzetti', 'lelepallele', 'Martino R', '501Riccardo501', 'lele_can', 'Nickname91', 'Bruno M', 'nyc171074', 'Beppe1959', 'diodato2015', 'radamespadova', 'DIABLODREAM', 'NO_NAME', 'NO_NAME', 'NO_NAME', 'NO_NAME', 'NO_NAME', 'NO_NAME', 'NO_NAME', 'NO_NAME', 'NO_NAME', 'NO_NAME', 'NO_NAME', 'NO_NAME', 'NO_NAME', 'NO_NAME', 'NO_NAME', 'NO_NAME', 'NO_NAME', 'NO_NAME', 'NO_NAME', 'NO_NAME', 'Cheflollo', 'Caterina F', 'Strangio', 'GamberoNero2281', 'FABIO B', 'Pierandrea V', 'marco82321', 'Paolo W', 'Mat V', 'W8327THmicheleg', 'NO_NAME', 'NO_NAME', 'NO_NAME', 'NO_NAME', 'NO_NAME', 'NO_NAME', 'NO_NAME', 'NO_NAME', 'NO_NAME', 'NO_NAME', 'Rossano C', 'adaps', 'Elena S', 'Hichem79', 'NickDigi', 'rossella103', 'andreasV4739ZZ', '78Kika', 'tema90', 'Alessandro A', 'NO_NAME', 'NO_NAME', 'NO_NAME', 'NO_NAME', 'NO_NAME', 'NO_NAME', 'NO_NAME', 'NO_NAME', 'NO_NAME', 'NO_NAME', 'Giuggyb', 'nicoletta z', 'giacomof1890', '987giulias', 'Andrea B', 'Davide R', 'CATERINA L', 'Genny B', 'Enrico R', 'giulianecca', 'NO_NAME', 'NO_NAME', 'NO_NAME', 'NO_NAME', 'NO_NAME', 'NO_NAME', 'NO_NAME', 'NO_NAME', 'NO_NAME', 'NO_NAME', 'Gpiero68', 'arturo r', 'GianniJkd', 'Nicolò N', 'Riccardo F', 'Matteo_Italia_Milano', 'Alex1566', 'lnicoletti', 'cmichela2015', 'giulioy985', 'Giupeppe5', 'medmedia', 'click61', 'pkone62', 'Marco M', 'PadovaBiba', 'Andre19dobbiaco', 'HenryB77', 'Tabbozzo', 'rickyjuve', 'vincenzo64', '783beppev', 'Carlo N', 'GirlFromVeneto', 'Alessandra Z', 'Erika0910', 'Bibolot', 'didicopy', 'Andrea G', 'Barbara B', 'FranckFranci', 'matteocianca', 'micheleb370', 'Alejandro_0115', '163silvias', 'Martina R', 'Rori79', 'salva62FM', 'Stellina4444', 'Paolo M', 'raf-plus', 'Andrea B', 'GustoRugbysta', 'Fabio P', 'Ask21', 'Giulio_Marcolin', 'AppetenteCronico', 'Ale S', '199silviag', 'gretry_1', 'NO_NAME', 'NO_NAME', 'NO_NAME', 'NO_NAME', 'NO_NAME', 'NO_NAME', 'NO_NAME', 'NO_NAME', 'NO_NAME', 'NO_NAME', 'Stefano R', 'gianpaolone', 'SALVATORE R', 'Giuggyb', 'Emanuele V', 'SouthWorker', 'anna170708', 'peperoncino17', 'Ferro O', 'f f', 'NO_NAME', 'NO_NAME', 'NO_NAME', 'NO_NAME', 'NO_NAME', 'NO_NAME', 'NO_NAME', 'NO_NAME', 'NO_NAME', 'NO_NAME', 'Sy_angel', 'Giovanni C', 'Seby I', '750tr', 'Riccardo D', 'ANTONIO F', 'Irene P', 'Giusy C', 'Luimangia', 'Umberto Z', 'A3792PUannac', 'davidefL4072KT', 'PietroILCensore', 'ssssilvia', 'enricopl', 'saimonsays', 'Sempo87', 'sandrol683', 'claudiafrizzarin', 'Fabio C', 'monica_claudi', 'MARAeMAX', 'AndrePassenger', 'kathleeny19', 'Carlo M', 'Ermo2', 'Monica M', 'Ioamoviaggiare92', 'fabio z', 'lorenz98', 'Mattia M', 'Giada P', 'TheChosenOne6', 'Tagazzi', 'Daniele2012', 'EriErica', 'stefanopp', 'matteocianca', 'Ettore t', 'misswonderland04', 'nicolatZ2983JS', 'LightBlueTea', 'Rosangela_Porpora', 'Br M', '747_4ever', 'Elisa P', 'DavideDegan', 'SteRodePineo', 'aerre66', 'ZamboR', 'massimo c', 'pdanto', 'micri7579', 'rec007', 'gugligugli68', 'WaleTina', 'Antonio948', 'famiglia_mast', 'Marzio N', 'Angedepo', 'omamelii', 'papera64', 'Bambi0371', 'Sissa7255', 'DanieleFerrari64', 'carlocG7558HQ', 'Gamberogialloblu', 'Babysprite88', 'marilisa f', 'forumblog', 'AlanBiasin', 'Dolicoskios', 'Timothy S', 'nicoa632', 'Fabryfibr', 'penna88', 'annuk94', 'AnthonyThomasM', 'lilli r', 'astraaa', 'Nerissa564', 'Zio_Bonzo', 'Giorgia M', 'Elena O', 'Nobus', 'papaya2008', '1988MarcoR', 'Luigi E', 'renatomas998', 'Valeria V', 'manuelgas', '76vale', '14AlessandroC', 'Ruggy2005', 'Rinaldo z', 'Marco S', '141NicolaC141', 'mrmoonwatch', 'Trib87', 'Margot91', 'minzolo', 'Laura R', 'Enrico N', 'Alessietta91', 'GChiave', 'MARTI2702', 'franzoling', 'luigidi', 'FerdinandoPD', 'chiaraPadovaItaly', 'NO_NAME', 'NO_NAME', 'NO_NAME', 'NO_NAME', 'NO_NAME', 'NO_NAME', 'NO_NAME', 'NO_NAME', 'NO_NAME', 'NO_NAME', 'Nana7706', 'Carl-Henrik P', 'Robert S', 'Miihkali', 'Tony M', 'Ilan58'] \n",
      "\n",
      "['giuseppe', 'IYValessandros', 'AFHmichelev', 'agostino', 'Paolooloap', 'Fiorentin', 'Voyager', 'ElyT', 'irenez', 'ZLEgiorgiac', 'NONAME', 'NONAME', 'NONAME', 'NONAME', 'NONAME', 'NONAME', 'NONAME', 'NONAME', 'NONAME', 'NONAME', 'gescarolo', 'Virginie', 'Cinzia', 'Andrea', 'Uriel', 'Sarawanderlust', 'Geppovr', 'Pierazzarita', 'WOLandreac', 'chiaracaterinad', 'NONAME', 'NONAME', 'NONAME', 'NONAME', 'NONAME', 'NONAME', 'NONAME', 'NONAME', 'NONAME', 'NONAME', 'Gab', 'corrado', 'Vicky', 'federicoferro', 'Azzurra', 'MARIO', 'Albexx', 'filippog', 'Toni', 'Lucia', 'ebensi', 'distalbere', 'damzamb', 'Massimo', 'Costanza', 'AlessiaDeFrancesch', 'CHIARAC', 'GiuliaTartaglia', 'BoardingPass', 'barbaralBMD', 'marty', 'Alessia', 'AndreaF', 'Letizia', 'ChipsandPepper', 'Carlettoo', 'SOMSYAN', 'ItalianTourist', 'alezac', 'francescop', 'NONAME', 'NONAME', 'NONAME', 'NONAME', 'NONAME', 'NONAME', 'NONAME', 'NONAME', 'NONAME', 'NONAME', 'Emanuele', 'JohnnyFreak', 'Giorgio', 'Marco', 'ericam', 'Elena', 'vivianap', 'acanteri', 'Emanuele', 'antgrasanto', 'Jenny', 'sandrodg', 'GioGuest', 'riccardor', 'Irene', 'Giorgia', 'Willybaubau', 'fabioalbino', 'radamespadova', 'Laura', 'dancingirlisa', 'Stefanobeatrice', 'Fralufrani', 'omargardo', 'giuseppe', 'emanuels', 'triccioli', 'BrunildeB', 'consut', 'Raffaella', 'Ivo', 'Andrea', 'elisabottaro', 'Bacci', 'Cerry', 'Davide', 'Marco', 'Paola', 'AlessandroPezzetti', 'lelepallele', 'Martino', 'Riccardo', 'lelecan', 'Nickname', 'Bruno', 'nyc', 'Beppe', 'diodato', 'radamespadova', 'DIABLODREAM', 'NONAME', 'NONAME', 'NONAME', 'NONAME', 'NONAME', 'NONAME', 'NONAME', 'NONAME', 'NONAME', 'NONAME', 'NONAME', 'NONAME', 'NONAME', 'NONAME', 'NONAME', 'NONAME', 'NONAME', 'NONAME', 'NONAME', 'NONAME', 'Cheflollo', 'Caterina', 'Strangio', 'GamberoNero', 'FABIO', 'Pierandrea', 'marco', 'Paolo', 'Mat', 'WTHmicheleg', 'NONAME', 'NONAME', 'NONAME', 'NONAME', 'NONAME', 'NONAME', 'NONAME', 'NONAME', 'NONAME', 'NONAME', 'Rossano', 'adaps', 'Elena', 'Hichem', 'NickDigi', 'rossella', 'andreasVZZ', 'Kika', 'tema', 'Alessandro', 'NONAME', 'NONAME', 'NONAME', 'NONAME', 'NONAME', 'NONAME', 'NONAME', 'NONAME', 'NONAME', 'NONAME', 'Giuggyb', 'nicoletta', 'giacomof', 'giulias', 'Andrea', 'Davide', 'CATERINA', 'Genny', 'Enrico', 'giulianecca', 'NONAME', 'NONAME', 'NONAME', 'NONAME', 'NONAME', 'NONAME', 'NONAME', 'NONAME', 'NONAME', 'NONAME', 'Gpiero', 'arturo', 'GianniJkd', 'Nicol', 'Riccardo', 'MatteoItaliaMilano', 'Alex', 'lnicoletti', 'cmichela', 'giulioy', 'Giupeppe', 'medmedia', 'click', 'pkone', 'Marco', 'PadovaBiba', 'Andredobbiaco', 'HenryB', 'Tabbozzo', 'rickyjuve', 'vincenzo', 'beppev', 'Carlo', 'GirlFromVeneto', 'Alessandra', 'Erika', 'Bibolot', 'didicopy', 'Andrea', 'Barbara', 'FranckFranci', 'matteocianca', 'micheleb', 'Alejandro', 'silvias', 'Martina', 'Rori', 'salvaFM', 'Stellina', 'Paolo', 'rafplus', 'Andrea', 'GustoRugbysta', 'Fabio', 'Ask', 'GiulioMarcolin', 'AppetenteCronico', 'Ale', 'silviag', 'gretry', 'NONAME', 'NONAME', 'NONAME', 'NONAME', 'NONAME', 'NONAME', 'NONAME', 'NONAME', 'NONAME', 'NONAME', 'Stefano', 'gianpaolone', 'SALVATORE', 'Giuggyb', 'Emanuele', 'SouthWorker', 'anna', 'peperoncino', 'Ferro', 'f', 'NONAME', 'NONAME', 'NONAME', 'NONAME', 'NONAME', 'NONAME', 'NONAME', 'NONAME', 'NONAME', 'NONAME', 'Syangel', 'Giovanni', 'Seby', 'tr', 'Riccardo', 'ANTONIO', 'Irene', 'Giusy', 'Luimangia', 'Umberto', 'APUannac', 'davidefLKT', 'PietroILCensore', 'ssssilvia', 'enricopl', 'saimonsays', 'Sempo', 'sandrol', 'claudiafrizzarin', 'Fabio', 'monicaclaudi', 'MARAeMAX', 'AndrePassenger', 'kathleeny', 'Carlo', 'Ermo', 'Monica', 'Ioamoviaggiare', 'fabio', 'lorenz', 'Mattia', 'Giada', 'TheChosenOne', 'Tagazzi', 'Daniele', 'EriErica', 'stefanopp', 'matteocianca', 'Ettore', 'misswonderland', 'nicolatZJS', 'LightBlueTea', 'RosangelaPorpora', 'Br', 'ever', 'Elisa', 'DavideDegan', 'SteRodePineo', 'aerre', 'ZamboR', 'massimo', 'pdanto', 'micri', 'rec', 'gugligugli', 'WaleTina', 'Antonio', 'famigliamast', 'Marzio', 'Angedepo', 'omamelii', 'papera', 'Bambi', 'Sissa', 'DanieleFerrari', 'carlocGHQ', 'Gamberogialloblu', 'Babysprite', 'marilisa', 'forumblog', 'AlanBiasin', 'Dolicoskios', 'Timothy', 'nicoa', 'Fabryfibr', 'penna', 'annuk', 'AnthonyThomasM', 'lilli', 'astraaa', 'Nerissa', 'ZioBonzo', 'Giorgia', 'Elena', 'Nobus', 'papaya', 'MarcoR', 'Luigi', 'renatomas', 'Valeria', 'manuelgas', 'vale', 'AlessandroC', 'Ruggy', 'Rinaldo', 'Marco', 'NicolaC', 'mrmoonwatch', 'Trib', 'Margot', 'minzolo', 'Laura', 'Enrico', 'Alessietta', 'GChiave', 'MARTI', 'franzoling', 'luigidi', 'FerdinandoPD', 'chiaraPadovaItaly', 'NONAME', 'NONAME', 'NONAME', 'NONAME', 'NONAME', 'NONAME', 'NONAME', 'NONAME', 'NONAME', 'NONAME', 'Nana', 'CarlHenrik', 'Robert', 'Miihkali', 'Tony', 'Ilan']\n"
     ]
    }
   ],
   "source": [
    "import re\n",
    "\n",
    "all_names_filtered = []\n",
    "\n",
    "regex = re.compile('[^a-zA-Z]')\n",
    "\n",
    "for name in all_names:\n",
    "    \n",
    "    if ' ' in name:                           # se c'è uno spazio nel nome\n",
    "        space = name.index(' ')               # ne trovo l'indice\n",
    "        name = regex.sub('', name[:space])    # effettuo un controllo su tutto ciò che non è alfabeto fino a quell'indice\n",
    "        all_names_filtered.append(name)       # e aggiungo la stringa\n",
    "        \n",
    "    else:\n",
    "        name = regex.sub('', name)            # in caso contrario effettuo un controllo su tutto ciò che non è alfabeto\n",
    "        all_names_filtered.append(name)       # e aggiungo la stringa\n",
    "        \n",
    "print(all_names, '\\n')\n",
    "print(all_names_filtered)"
   ]
  },
  {
   "cell_type": "markdown",
   "metadata": {
    "colab_type": "text",
    "id": "sVMu3308WTs9"
   },
   "source": [
    "#### Utilizzo gender_guesser\n",
    "Infine, posso utilizzare la libreria gender_guesser.\n",
    "\n",
    "NB: Genderize ti permette di analizzare 1000 nomi al giorno."
   ]
  },
  {
   "cell_type": "code",
   "execution_count": 11,
   "metadata": {
    "colab": {},
    "colab_type": "code",
    "id": "t013m_u2WTs_"
   },
   "outputs": [
    {
     "name": "stdout",
     "output_type": "stream",
     "text": [
      "Requirement already satisfied: gender_guesser in /anaconda3/lib/python3.7/site-packages (0.4.0)\r\n"
     ]
    }
   ],
   "source": [
    "!pip install gender_guesser"
   ]
  },
  {
   "cell_type": "code",
   "execution_count": 12,
   "metadata": {
    "colab": {},
    "colab_type": "code",
    "id": "T0F8kG-OWTtC"
   },
   "outputs": [
    {
     "name": "stdout",
     "output_type": "stream",
     "text": [
      "['unknown', 'unknown', 'unknown', 'unknown', 'unknown', 'unknown', 'unknown', 'unknown', 'unknown', 'unknown', 'unknown', 'unknown', 'unknown', 'unknown', 'unknown', 'unknown', 'unknown', 'unknown', 'unknown', 'unknown', 'unknown', 'female', 'female', 'female', 'male', 'unknown', 'unknown', 'unknown', 'unknown', 'unknown', 'unknown', 'unknown', 'unknown', 'unknown', 'unknown', 'unknown', 'unknown', 'unknown', 'unknown', 'unknown', 'andy', 'unknown', 'female', 'unknown', 'female', 'unknown', 'unknown', 'unknown', 'male', 'female', 'unknown', 'unknown', 'unknown', 'male', 'female', 'unknown', 'unknown', 'unknown', 'unknown', 'unknown', 'unknown', 'female', 'unknown', 'female', 'unknown', 'unknown', 'unknown', 'unknown', 'unknown', 'unknown', 'unknown', 'unknown', 'unknown', 'unknown', 'unknown', 'unknown', 'unknown', 'unknown', 'unknown', 'unknown', 'male', 'unknown', 'male', 'male', 'unknown', 'female', 'unknown', 'unknown', 'male', 'unknown', 'female', 'unknown', 'unknown', 'unknown', 'female', 'female', 'unknown', 'unknown', 'unknown', 'female', 'unknown', 'unknown', 'unknown', 'unknown', 'unknown', 'unknown', 'unknown', 'unknown', 'unknown', 'female', 'male', 'female', 'unknown', 'unknown', 'unknown', 'male', 'male', 'female', 'unknown', 'unknown', 'male', 'male', 'unknown', 'unknown', 'male', 'unknown', 'male', 'unknown', 'unknown', 'unknown', 'unknown', 'unknown', 'unknown', 'unknown', 'unknown', 'unknown', 'unknown', 'unknown', 'unknown', 'unknown', 'unknown', 'unknown', 'unknown', 'unknown', 'unknown', 'unknown', 'unknown', 'unknown', 'unknown', 'unknown', 'unknown', 'female', 'unknown', 'unknown', 'unknown', 'male', 'unknown', 'male', 'female', 'unknown', 'unknown', 'unknown', 'unknown', 'unknown', 'unknown', 'unknown', 'unknown', 'unknown', 'unknown', 'unknown', 'male', 'unknown', 'female', 'male', 'unknown', 'unknown', 'unknown', 'female', 'unknown', 'male', 'unknown', 'unknown', 'unknown', 'unknown', 'unknown', 'unknown', 'unknown', 'unknown', 'unknown', 'unknown', 'unknown', 'unknown', 'unknown', 'unknown', 'female', 'male', 'unknown', 'female', 'male', 'unknown', 'unknown', 'unknown', 'unknown', 'unknown', 'unknown', 'unknown', 'unknown', 'unknown', 'unknown', 'unknown', 'unknown', 'unknown', 'unknown', 'female', 'male', 'unknown', 'male', 'unknown', 'unknown', 'unknown', 'unknown', 'unknown', 'unknown', 'unknown', 'male', 'unknown', 'unknown', 'unknown', 'unknown', 'unknown', 'unknown', 'unknown', 'male', 'unknown', 'female', 'female', 'unknown', 'unknown', 'female', 'female', 'unknown', 'unknown', 'unknown', 'male', 'unknown', 'female', 'unknown', 'unknown', 'unknown', 'male', 'unknown', 'female', 'unknown', 'male', 'unknown', 'unknown', 'unknown', 'male', 'unknown', 'unknown', 'unknown', 'unknown', 'unknown', 'unknown', 'unknown', 'unknown', 'unknown', 'unknown', 'unknown', 'unknown', 'male', 'unknown', 'unknown', 'unknown', 'male', 'unknown', 'unknown', 'unknown', 'unknown', 'unknown', 'unknown', 'unknown', 'unknown', 'unknown', 'unknown', 'unknown', 'unknown', 'unknown', 'unknown', 'unknown', 'unknown', 'male', 'unknown', 'unknown', 'male', 'unknown', 'female', 'female', 'unknown', 'male', 'unknown', 'unknown', 'unknown', 'unknown', 'unknown', 'unknown', 'unknown', 'unknown', 'unknown', 'male', 'unknown', 'unknown', 'unknown', 'unknown', 'male', 'male', 'female', 'unknown', 'unknown', 'unknown', 'male', 'female', 'unknown', 'unknown', 'female', 'unknown', 'unknown', 'unknown', 'male', 'unknown', 'unknown', 'unknown', 'unknown', 'unknown', 'unknown', 'female', 'unknown', 'unknown', 'unknown', 'unknown', 'unknown', 'unknown', 'unknown', 'unknown', 'unknown', 'unknown', 'male', 'unknown', 'male', 'unknown', 'unknown', 'unknown', 'female', 'unknown', 'unknown', 'unknown', 'unknown', 'unknown', 'unknown', 'unknown', 'unknown', 'unknown', 'male', 'unknown', 'unknown', 'unknown', 'unknown', 'unknown', 'unknown', 'unknown', 'unknown', 'unknown', 'female', 'female', 'unknown', 'unknown', 'unknown', 'male', 'unknown', 'female', 'unknown', 'unknown', 'unknown', 'unknown', 'male', 'male', 'unknown', 'unknown', 'unknown', 'female', 'unknown', 'female', 'male', 'unknown', 'unknown', 'unknown', 'unknown', 'unknown', 'unknown', 'unknown', 'unknown', 'unknown', 'unknown', 'unknown', 'unknown', 'unknown', 'unknown', 'unknown', 'unknown', 'unknown', 'female', 'unknown', 'male', 'unknown', 'male', 'male']\n"
     ]
    }
   ],
   "source": [
    "import gender_guesser.detector as gender\n",
    "d = gender.Detector()\n",
    "\n",
    "names_with_gender = []\n",
    "\n",
    "for name in all_names_filtered:\n",
    "    temp_gender = d.get_gender(name)\n",
    "    names_with_gender.append(temp_gender)\n",
    "  \n",
    "print(names_with_gender)"
   ]
  },
  {
   "cell_type": "code",
   "execution_count": 13,
   "metadata": {
    "colab": {},
    "colab_type": "code",
    "id": "1MhoJ5zSWTtK"
   },
   "outputs": [
    {
     "name": "stdout",
     "output_type": "stream",
     "text": [
      "['UNKNOWN', 'UNKNOWN', 'UNKNOWN', 'UNKNOWN', 'UNKNOWN', 'UNKNOWN', 'UNKNOWN', 'UNKNOWN', 'UNKNOWN', 'UNKNOWN', 'UNKNOWN', 'UNKNOWN', 'UNKNOWN', 'UNKNOWN', 'UNKNOWN', 'UNKNOWN', 'UNKNOWN', 'UNKNOWN', 'UNKNOWN', 'UNKNOWN', 'UNKNOWN', 'F', 'F', 'F', 'M', 'UNKNOWN', 'UNKNOWN', 'UNKNOWN', 'UNKNOWN', 'UNKNOWN', 'UNKNOWN', 'UNKNOWN', 'UNKNOWN', 'UNKNOWN', 'UNKNOWN', 'UNKNOWN', 'UNKNOWN', 'UNKNOWN', 'UNKNOWN', 'UNKNOWN', 'UNKNOWN', 'UNKNOWN', 'F', 'UNKNOWN', 'F', 'UNKNOWN', 'UNKNOWN', 'UNKNOWN', 'M', 'F', 'UNKNOWN', 'UNKNOWN', 'UNKNOWN', 'M', 'F', 'UNKNOWN', 'UNKNOWN', 'UNKNOWN', 'UNKNOWN', 'UNKNOWN', 'UNKNOWN', 'F', 'UNKNOWN', 'F', 'UNKNOWN', 'UNKNOWN', 'UNKNOWN', 'UNKNOWN', 'UNKNOWN', 'UNKNOWN', 'UNKNOWN', 'UNKNOWN', 'UNKNOWN', 'UNKNOWN', 'UNKNOWN', 'UNKNOWN', 'UNKNOWN', 'UNKNOWN', 'UNKNOWN', 'UNKNOWN', 'M', 'UNKNOWN', 'M', 'M', 'UNKNOWN', 'F', 'UNKNOWN', 'UNKNOWN', 'M', 'UNKNOWN', 'F', 'UNKNOWN', 'UNKNOWN', 'UNKNOWN', 'F', 'F', 'UNKNOWN', 'UNKNOWN', 'UNKNOWN', 'F', 'UNKNOWN', 'UNKNOWN', 'UNKNOWN', 'UNKNOWN', 'UNKNOWN', 'UNKNOWN', 'UNKNOWN', 'UNKNOWN', 'UNKNOWN', 'F', 'M', 'F', 'UNKNOWN', 'UNKNOWN', 'UNKNOWN', 'M', 'M', 'F', 'UNKNOWN', 'UNKNOWN', 'M', 'M', 'UNKNOWN', 'UNKNOWN', 'M', 'UNKNOWN', 'M', 'UNKNOWN', 'UNKNOWN', 'UNKNOWN', 'UNKNOWN', 'UNKNOWN', 'UNKNOWN', 'UNKNOWN', 'UNKNOWN', 'UNKNOWN', 'UNKNOWN', 'UNKNOWN', 'UNKNOWN', 'UNKNOWN', 'UNKNOWN', 'UNKNOWN', 'UNKNOWN', 'UNKNOWN', 'UNKNOWN', 'UNKNOWN', 'UNKNOWN', 'UNKNOWN', 'UNKNOWN', 'UNKNOWN', 'UNKNOWN', 'F', 'UNKNOWN', 'UNKNOWN', 'UNKNOWN', 'M', 'UNKNOWN', 'M', 'F', 'UNKNOWN', 'UNKNOWN', 'UNKNOWN', 'UNKNOWN', 'UNKNOWN', 'UNKNOWN', 'UNKNOWN', 'UNKNOWN', 'UNKNOWN', 'UNKNOWN', 'UNKNOWN', 'M', 'UNKNOWN', 'F', 'M', 'UNKNOWN', 'UNKNOWN', 'UNKNOWN', 'F', 'UNKNOWN', 'M', 'UNKNOWN', 'UNKNOWN', 'UNKNOWN', 'UNKNOWN', 'UNKNOWN', 'UNKNOWN', 'UNKNOWN', 'UNKNOWN', 'UNKNOWN', 'UNKNOWN', 'UNKNOWN', 'UNKNOWN', 'UNKNOWN', 'UNKNOWN', 'F', 'M', 'UNKNOWN', 'F', 'M', 'UNKNOWN', 'UNKNOWN', 'UNKNOWN', 'UNKNOWN', 'UNKNOWN', 'UNKNOWN', 'UNKNOWN', 'UNKNOWN', 'UNKNOWN', 'UNKNOWN', 'UNKNOWN', 'UNKNOWN', 'UNKNOWN', 'UNKNOWN', 'F', 'M', 'UNKNOWN', 'M', 'UNKNOWN', 'UNKNOWN', 'UNKNOWN', 'UNKNOWN', 'UNKNOWN', 'UNKNOWN', 'UNKNOWN', 'M', 'UNKNOWN', 'UNKNOWN', 'UNKNOWN', 'UNKNOWN', 'UNKNOWN', 'UNKNOWN', 'UNKNOWN', 'M', 'UNKNOWN', 'F', 'F', 'UNKNOWN', 'UNKNOWN', 'F', 'F', 'UNKNOWN', 'UNKNOWN', 'UNKNOWN', 'M', 'UNKNOWN', 'F', 'UNKNOWN', 'UNKNOWN', 'UNKNOWN', 'M', 'UNKNOWN', 'F', 'UNKNOWN', 'M', 'UNKNOWN', 'UNKNOWN', 'UNKNOWN', 'M', 'UNKNOWN', 'UNKNOWN', 'UNKNOWN', 'UNKNOWN', 'UNKNOWN', 'UNKNOWN', 'UNKNOWN', 'UNKNOWN', 'UNKNOWN', 'UNKNOWN', 'UNKNOWN', 'UNKNOWN', 'M', 'UNKNOWN', 'UNKNOWN', 'UNKNOWN', 'M', 'UNKNOWN', 'UNKNOWN', 'UNKNOWN', 'UNKNOWN', 'UNKNOWN', 'UNKNOWN', 'UNKNOWN', 'UNKNOWN', 'UNKNOWN', 'UNKNOWN', 'UNKNOWN', 'UNKNOWN', 'UNKNOWN', 'UNKNOWN', 'UNKNOWN', 'UNKNOWN', 'M', 'UNKNOWN', 'UNKNOWN', 'M', 'UNKNOWN', 'F', 'F', 'UNKNOWN', 'M', 'UNKNOWN', 'UNKNOWN', 'UNKNOWN', 'UNKNOWN', 'UNKNOWN', 'UNKNOWN', 'UNKNOWN', 'UNKNOWN', 'UNKNOWN', 'M', 'UNKNOWN', 'UNKNOWN', 'UNKNOWN', 'UNKNOWN', 'M', 'M', 'F', 'UNKNOWN', 'UNKNOWN', 'UNKNOWN', 'M', 'F', 'UNKNOWN', 'UNKNOWN', 'F', 'UNKNOWN', 'UNKNOWN', 'UNKNOWN', 'M', 'UNKNOWN', 'UNKNOWN', 'UNKNOWN', 'UNKNOWN', 'UNKNOWN', 'UNKNOWN', 'F', 'UNKNOWN', 'UNKNOWN', 'UNKNOWN', 'UNKNOWN', 'UNKNOWN', 'UNKNOWN', 'UNKNOWN', 'UNKNOWN', 'UNKNOWN', 'UNKNOWN', 'M', 'UNKNOWN', 'M', 'UNKNOWN', 'UNKNOWN', 'UNKNOWN', 'F', 'UNKNOWN', 'UNKNOWN', 'UNKNOWN', 'UNKNOWN', 'UNKNOWN', 'UNKNOWN', 'UNKNOWN', 'UNKNOWN', 'UNKNOWN', 'M', 'UNKNOWN', 'UNKNOWN', 'UNKNOWN', 'UNKNOWN', 'UNKNOWN', 'UNKNOWN', 'UNKNOWN', 'UNKNOWN', 'UNKNOWN', 'F', 'F', 'UNKNOWN', 'UNKNOWN', 'UNKNOWN', 'M', 'UNKNOWN', 'F', 'UNKNOWN', 'UNKNOWN', 'UNKNOWN', 'UNKNOWN', 'M', 'M', 'UNKNOWN', 'UNKNOWN', 'UNKNOWN', 'F', 'UNKNOWN', 'F', 'M', 'UNKNOWN', 'UNKNOWN', 'UNKNOWN', 'UNKNOWN', 'UNKNOWN', 'UNKNOWN', 'UNKNOWN', 'UNKNOWN', 'UNKNOWN', 'UNKNOWN', 'UNKNOWN', 'UNKNOWN', 'UNKNOWN', 'UNKNOWN', 'UNKNOWN', 'UNKNOWN', 'UNKNOWN', 'F', 'UNKNOWN', 'M', 'UNKNOWN', 'M', 'M']\n"
     ]
    }
   ],
   "source": [
    "all_genders = []\n",
    "i = 0\n",
    "\n",
    "for guess in names_with_gender:\n",
    "    if guess == 'male' or guess == 'mostly_male':\n",
    "        all_genders.append('M')\n",
    "    elif guess == 'female' or guess == 'mostly_female':\n",
    "        all_genders.append('F')\n",
    "    else:\n",
    "        all_genders.append('UNKNOWN')\n",
    "\n",
    "    \n",
    "print(all_genders)"
   ]
  },
  {
   "cell_type": "markdown",
   "metadata": {
    "colab_type": "text",
    "id": "bHM88i7bWTtV"
   },
   "source": [
    "---\n",
    "## Salviamo ora i dati ottenuti in una tabella Excel\n",
    "Così non dovremo ogni volta rieseguire tutto il codice\n",
    "\n"
   ]
  },
  {
   "cell_type": "markdown",
   "metadata": {
    "colab_type": "text",
    "id": "yQUBDvHwWTtd"
   },
   "source": [
    "### Controlliamo che ci siano lo stesso numero di dati\n",
    "Potremo così creare una tabella sfruttando Pandas"
   ]
  },
  {
   "cell_type": "code",
   "execution_count": 14,
   "metadata": {
    "colab": {},
    "colab_type": "code",
    "id": "uPxa7-97WTtd"
   },
   "outputs": [
    {
     "name": "stdout",
     "output_type": "stream",
     "text": [
      "Nomi:  416\n",
      "Commenti:  416\n",
      "Voti:  416\n",
      "Mobile:  416\n"
     ]
    }
   ],
   "source": [
    "print('Nomi: ', len(all_names_filtered))\n",
    "print('Commenti: ', len(all_reviews_filtered))\n",
    "print('Voti: ', len(all_ratings))\n",
    "print('Mobile: ', len(all_mobile))"
   ]
  },
  {
   "cell_type": "markdown",
   "metadata": {
    "colab_type": "text",
    "id": "L3jNT2atZj9k"
   },
   "source": [
    "### Eliminiamo le recensioni troppo lunghe e quelle di cui non sappiamo il genere del commentatore\n",
    "Creo una lista di liste [ ['NOME', 'GENERE', 'RECENSIONE', 'VOTO'], ['NOME', 'GENERE', 'RECENSIONE', 'VOTO'], ... ]"
   ]
  },
  {
   "cell_type": "code",
   "execution_count": 15,
   "metadata": {
    "colab": {},
    "colab_type": "code",
    "id": "x3jtEoicZrFl"
   },
   "outputs": [
    {
     "name": "stdout",
     "output_type": "stream",
     "text": [
      "DATI ANALIZZABILI:  51\n"
     ]
    },
    {
     "data": {
      "text/plain": [
       "[['Cinzia',\n",
       "  'F',\n",
       "  'Pagare trenta euro per due hamburgher mediocri e due birre mi sembra eccessivo. Specialmente se nel menù gli hamburgher vengono descritti come freschi e invece sono precotti.',\n",
       "  '2',\n",
       "  'Mobile'],\n",
       " ['Andrea',\n",
       "  'F',\n",
       "  \"Abbiamo cenato in tre per lavoro un locale carino ma non climatizzato abbiamo patito parecchio il caldo.\\nL'attesa è stata lunga rispetto al solito (vado spesso a mangiare all'old a torino)\\nMa comunque la cena e piaciuta a tutti molto buono.\\nPersonale molto gentile.\",\n",
       "  '3',\n",
       "  'Mobile'],\n",
       " ['Uriel',\n",
       "  'M',\n",
       "  'Nervi nel chili con carne, patatine mezze bruciate. Abbiamo speso 40euro in due e avevamo ancora fame',\n",
       "  '1',\n",
       "  'Mobile'],\n",
       " ['Vicky',\n",
       "  'F',\n",
       "  'Mi aspettavo un hamburger particolare da una catena di questo tipo invece ho mangiato un piatto estremamente normale e classico .L’ambiente è a tema con il food e il prezzo adeguato.',\n",
       "  '4',\n",
       "  'Mobile'],\n",
       " ['Azzurra',\n",
       "  'F',\n",
       "  'Tappa settimanale, buonissimo, velocissimo e mediamente economico! Super consigliato, non sono mai rimasta delusa!',\n",
       "  '5',\n",
       "  'Mobile']]"
      ]
     },
     "metadata": {},
     "output_type": "display_data"
    }
   ],
   "source": [
    "complete_list = []\n",
    "\n",
    "i = len(all_names_filtered)\n",
    "\n",
    "for indice in range(i):\n",
    "  if all_genders[indice] != 'UNKNOWN' and all_reviews_filtered[indice] != 'RECENSIONE_TROPPO_LUNGA':\n",
    "    temp = [all_names_filtered[indice], all_genders[indice], all_reviews_filtered[indice], all_ratings[indice], all_mobile[indice]]\n",
    "    complete_list.append(temp)\n",
    "    \n",
    "print('DATI ANALIZZABILI: ', len(complete_list))\n",
    "display(complete_list[:5])\n"
   ]
  },
  {
   "cell_type": "markdown",
   "metadata": {
    "colab_type": "text",
    "id": "zwEridD9ZzVo"
   },
   "source": [
    "### Creiamo la tabella"
   ]
  },
  {
   "cell_type": "code",
   "execution_count": 16,
   "metadata": {
    "colab": {},
    "colab_type": "code",
    "id": "j1H48nXfWTtl"
   },
   "outputs": [],
   "source": [
    "# !pip install pandas\n",
    "# !pip install xlsxwriter\n",
    "import pandas as pd"
   ]
  },
  {
   "cell_type": "code",
   "execution_count": 17,
   "metadata": {
    "colab": {},
    "colab_type": "code",
    "id": "FWhktgyIWTtp"
   },
   "outputs": [],
   "source": [
    "# Create a Pandas dataframe from the data.\n",
    "df = pd.DataFrame({'Nomi': [elemento[0] for elemento in complete_list], \n",
    "                   'Genere': [elemento[1] for elemento in complete_list], \n",
    "                   'Recensioni': [elemento[2] for elemento in complete_list],\n",
    "                   'Voti': [elemento[3] for elemento in complete_list],\n",
    "                   'Scritta da': [elemento[4] for elemento in complete_list]})\n",
    "\n",
    "# Create a Pandas Excel writer using XlsxWriter as the engine.\n",
    "writer = pd.ExcelWriter('RISTORANTE_20.xlsx', engine='xlsxwriter')\n",
    "\n",
    "# Convert the dataframe to an XlsxWriter Excel object.\n",
    "df.to_excel(writer, sheet_name='Sheet1')\n",
    "\n",
    "# Close the Pandas Excel writer and output the Excel file.\n",
    "writer.save()"
   ]
  },
  {
   "cell_type": "code",
   "execution_count": 18,
   "metadata": {
    "colab": {},
    "colab_type": "code",
    "id": "Fdg5rRWmWTtv"
   },
   "outputs": [
    {
     "data": {
      "text/html": [
       "<div>\n",
       "<style scoped>\n",
       "    .dataframe tbody tr th:only-of-type {\n",
       "        vertical-align: middle;\n",
       "    }\n",
       "\n",
       "    .dataframe tbody tr th {\n",
       "        vertical-align: top;\n",
       "    }\n",
       "\n",
       "    .dataframe thead th {\n",
       "        text-align: right;\n",
       "    }\n",
       "</style>\n",
       "<table border=\"1\" class=\"dataframe\">\n",
       "  <thead>\n",
       "    <tr style=\"text-align: right;\">\n",
       "      <th></th>\n",
       "      <th>Nomi</th>\n",
       "      <th>Genere</th>\n",
       "      <th>Recensioni</th>\n",
       "      <th>Voti</th>\n",
       "      <th>Scritta da</th>\n",
       "    </tr>\n",
       "  </thead>\n",
       "  <tbody>\n",
       "    <tr>\n",
       "      <th>0</th>\n",
       "      <td>Cinzia</td>\n",
       "      <td>F</td>\n",
       "      <td>Pagare trenta euro per due hamburgher mediocri...</td>\n",
       "      <td>2</td>\n",
       "      <td>Mobile</td>\n",
       "    </tr>\n",
       "    <tr>\n",
       "      <th>1</th>\n",
       "      <td>Andrea</td>\n",
       "      <td>F</td>\n",
       "      <td>Abbiamo cenato in tre per lavoro un locale car...</td>\n",
       "      <td>3</td>\n",
       "      <td>Mobile</td>\n",
       "    </tr>\n",
       "    <tr>\n",
       "      <th>2</th>\n",
       "      <td>Uriel</td>\n",
       "      <td>M</td>\n",
       "      <td>Nervi nel chili con carne, patatine mezze bruc...</td>\n",
       "      <td>1</td>\n",
       "      <td>Mobile</td>\n",
       "    </tr>\n",
       "    <tr>\n",
       "      <th>3</th>\n",
       "      <td>Vicky</td>\n",
       "      <td>F</td>\n",
       "      <td>Mi aspettavo un hamburger particolare da una c...</td>\n",
       "      <td>4</td>\n",
       "      <td>Mobile</td>\n",
       "    </tr>\n",
       "    <tr>\n",
       "      <th>4</th>\n",
       "      <td>Azzurra</td>\n",
       "      <td>F</td>\n",
       "      <td>Tappa settimanale, buonissimo, velocissimo e m...</td>\n",
       "      <td>5</td>\n",
       "      <td>Mobile</td>\n",
       "    </tr>\n",
       "    <tr>\n",
       "      <th>5</th>\n",
       "      <td>Lucia</td>\n",
       "      <td>F</td>\n",
       "      <td>Bel posto .. ma per il galletto non ci siamo p...</td>\n",
       "      <td>2</td>\n",
       "      <td>Mobile</td>\n",
       "    </tr>\n",
       "    <tr>\n",
       "      <th>6</th>\n",
       "      <td>Costanza</td>\n",
       "      <td>F</td>\n",
       "      <td>Siamo andati in gruppo il sabato sera, ma l'at...</td>\n",
       "      <td>3</td>\n",
       "      <td>Mobile</td>\n",
       "    </tr>\n",
       "    <tr>\n",
       "      <th>7</th>\n",
       "      <td>Marco</td>\n",
       "      <td>M</td>\n",
       "      <td>Servizio molto veloce, cibo molto buoni e cuci...</td>\n",
       "      <td>5</td>\n",
       "      <td>Mobile</td>\n",
       "    </tr>\n",
       "    <tr>\n",
       "      <th>8</th>\n",
       "      <td>Elena</td>\n",
       "      <td>F</td>\n",
       "      <td>Siamo stati a cena qui ieri sera perché eravam...</td>\n",
       "      <td>4</td>\n",
       "      <td>Mobile</td>\n",
       "    </tr>\n",
       "    <tr>\n",
       "      <th>9</th>\n",
       "      <td>Emanuele</td>\n",
       "      <td>M</td>\n",
       "      <td>Trovandomi a Padova per controlli medici mi fe...</td>\n",
       "      <td>3</td>\n",
       "      <td>PC</td>\n",
       "    </tr>\n",
       "    <tr>\n",
       "      <th>10</th>\n",
       "      <td>Jenny</td>\n",
       "      <td>F</td>\n",
       "      <td>Tipico locale che richiama il vecchio west, se...</td>\n",
       "      <td>3</td>\n",
       "      <td>Mobile</td>\n",
       "    </tr>\n",
       "    <tr>\n",
       "      <th>11</th>\n",
       "      <td>Raffaella</td>\n",
       "      <td>F</td>\n",
       "      <td>Siamo venuti a pranzo di domenica. Ci metto un...</td>\n",
       "      <td>2</td>\n",
       "      <td>Mobile</td>\n",
       "    </tr>\n",
       "    <tr>\n",
       "      <th>12</th>\n",
       "      <td>Ivo</td>\n",
       "      <td>M</td>\n",
       "      <td>Cibo buono e fresco presentato in modo suffici...</td>\n",
       "      <td>3</td>\n",
       "      <td>Mobile</td>\n",
       "    </tr>\n",
       "    <tr>\n",
       "      <th>13</th>\n",
       "      <td>Davide</td>\n",
       "      <td>M</td>\n",
       "      <td>Appena arrivati ci hanno fatto sedere e sposta...</td>\n",
       "      <td>1</td>\n",
       "      <td>Mobile</td>\n",
       "    </tr>\n",
       "    <tr>\n",
       "      <th>14</th>\n",
       "      <td>Caterina</td>\n",
       "      <td>F</td>\n",
       "      <td>La cucina molto buona ma, per quanto riguarda ...</td>\n",
       "      <td>2</td>\n",
       "      <td>PC</td>\n",
       "    </tr>\n",
       "    <tr>\n",
       "      <th>15</th>\n",
       "      <td>Pierandrea</td>\n",
       "      <td>M</td>\n",
       "      <td>Panini e cibarie varie buonissimi, personale c...</td>\n",
       "      <td>4</td>\n",
       "      <td>Mobile</td>\n",
       "    </tr>\n",
       "    <tr>\n",
       "      <th>16</th>\n",
       "      <td>Paolo</td>\n",
       "      <td>M</td>\n",
       "      <td>L'arredamento alla far west è molto accattivan...</td>\n",
       "      <td>5</td>\n",
       "      <td>Mobile</td>\n",
       "    </tr>\n",
       "    <tr>\n",
       "      <th>17</th>\n",
       "      <td>Mat</td>\n",
       "      <td>F</td>\n",
       "      <td>Bel locale, il servizio é a volte ottimo a vol...</td>\n",
       "      <td>4</td>\n",
       "      <td>Mobile</td>\n",
       "    </tr>\n",
       "    <tr>\n",
       "      <th>18</th>\n",
       "      <td>Elena</td>\n",
       "      <td>F</td>\n",
       "      <td>Locale spazioso e pulito. Personale attento e ...</td>\n",
       "      <td>5</td>\n",
       "      <td>Mobile</td>\n",
       "    </tr>\n",
       "    <tr>\n",
       "      <th>19</th>\n",
       "      <td>Hichem</td>\n",
       "      <td>M</td>\n",
       "      <td>Un vero ristorante dove puoi gustare ottimi pa...</td>\n",
       "      <td>5</td>\n",
       "      <td>Mobile</td>\n",
       "    </tr>\n",
       "    <tr>\n",
       "      <th>20</th>\n",
       "      <td>Alessandro</td>\n",
       "      <td>M</td>\n",
       "      <td>Oltre ad aver aspettato 50 minuti senza aver r...</td>\n",
       "      <td>1</td>\n",
       "      <td>Mobile</td>\n",
       "    </tr>\n",
       "    <tr>\n",
       "      <th>21</th>\n",
       "      <td>Andrea</td>\n",
       "      <td>F</td>\n",
       "      <td>tutto molto buono. alla fine si dimostra quali...</td>\n",
       "      <td>4</td>\n",
       "      <td>PC</td>\n",
       "    </tr>\n",
       "    <tr>\n",
       "      <th>22</th>\n",
       "      <td>Davide</td>\n",
       "      <td>M</td>\n",
       "      <td>Tipico old wild west. Cibo discreto e servizio...</td>\n",
       "      <td>3</td>\n",
       "      <td>Mobile</td>\n",
       "    </tr>\n",
       "    <tr>\n",
       "      <th>23</th>\n",
       "      <td>Enrico</td>\n",
       "      <td>M</td>\n",
       "      <td>Tipica atmosfera west di tutta la catena simpa...</td>\n",
       "      <td>4</td>\n",
       "      <td>PC</td>\n",
       "    </tr>\n",
       "    <tr>\n",
       "      <th>24</th>\n",
       "      <td>Nicol</td>\n",
       "      <td>F</td>\n",
       "      <td>Diciamo che allo stesso prezzo si trova di meg...</td>\n",
       "      <td>4</td>\n",
       "      <td>Mobile</td>\n",
       "    </tr>\n",
       "    <tr>\n",
       "      <th>25</th>\n",
       "      <td>Alex</td>\n",
       "      <td>M</td>\n",
       "      <td>Ci ritorno spesso in questo locale sia per la ...</td>\n",
       "      <td>4</td>\n",
       "      <td>PC</td>\n",
       "    </tr>\n",
       "    <tr>\n",
       "      <th>26</th>\n",
       "      <td>Marco</td>\n",
       "      <td>M</td>\n",
       "      <td>Niente di che solita roba mediocre! Tempo di a...</td>\n",
       "      <td>2</td>\n",
       "      <td>Mobile</td>\n",
       "    </tr>\n",
       "    <tr>\n",
       "      <th>27</th>\n",
       "      <td>Andrea</td>\n",
       "      <td>F</td>\n",
       "      <td>Si, proprio così. Un posto piacevole, poco imp...</td>\n",
       "      <td>4</td>\n",
       "      <td>PC</td>\n",
       "    </tr>\n",
       "    <tr>\n",
       "      <th>28</th>\n",
       "      <td>Barbara</td>\n",
       "      <td>F</td>\n",
       "      <td>Secondo me i prezzi sono un po' alti per offri...</td>\n",
       "      <td>3</td>\n",
       "      <td>PC</td>\n",
       "    </tr>\n",
       "    <tr>\n",
       "      <th>29</th>\n",
       "      <td>Martina</td>\n",
       "      <td>F</td>\n",
       "      <td>Si mangia bene in tutti gli old wild west purt...</td>\n",
       "      <td>3</td>\n",
       "      <td>PC</td>\n",
       "    </tr>\n",
       "    <tr>\n",
       "      <th>30</th>\n",
       "      <td>Andrea</td>\n",
       "      <td>F</td>\n",
       "      <td>Locale in stile Old wild west ovviamente . Per...</td>\n",
       "      <td>4</td>\n",
       "      <td>Mobile</td>\n",
       "    </tr>\n",
       "    <tr>\n",
       "      <th>31</th>\n",
       "      <td>Ale</td>\n",
       "      <td>M</td>\n",
       "      <td>Non commento il cibo. Ma non è possibile preno...</td>\n",
       "      <td>1</td>\n",
       "      <td>Mobile</td>\n",
       "    </tr>\n",
       "    <tr>\n",
       "      <th>32</th>\n",
       "      <td>Stefano</td>\n",
       "      <td>M</td>\n",
       "      <td>il cibo è buono, piuttosto vario nei tipi di c...</td>\n",
       "      <td>3</td>\n",
       "      <td>PC</td>\n",
       "    </tr>\n",
       "    <tr>\n",
       "      <th>33</th>\n",
       "      <td>Riccardo</td>\n",
       "      <td>M</td>\n",
       "      <td>Nel complesso è un bel locale: l'arredamento è...</td>\n",
       "      <td>4</td>\n",
       "      <td>PC</td>\n",
       "    </tr>\n",
       "    <tr>\n",
       "      <th>34</th>\n",
       "      <td>Irene</td>\n",
       "      <td>F</td>\n",
       "      <td>Eh già volevo un gelato...non pensavo.. Così s...</td>\n",
       "      <td>4</td>\n",
       "      <td>PC</td>\n",
       "    </tr>\n",
       "    <tr>\n",
       "      <th>35</th>\n",
       "      <td>Giusy</td>\n",
       "      <td>F</td>\n",
       "      <td>Il locale è molto carino,interamente in legno....</td>\n",
       "      <td>3</td>\n",
       "      <td>Mobile</td>\n",
       "    </tr>\n",
       "    <tr>\n",
       "      <th>36</th>\n",
       "      <td>Umberto</td>\n",
       "      <td>M</td>\n",
       "      <td>Bellissima la location, sembra davvero di star...</td>\n",
       "      <td>3</td>\n",
       "      <td>PC</td>\n",
       "    </tr>\n",
       "    <tr>\n",
       "      <th>37</th>\n",
       "      <td>Fabio</td>\n",
       "      <td>M</td>\n",
       "      <td>Hamburger molto buoni con un ampia scelta. Pre...</td>\n",
       "      <td>4</td>\n",
       "      <td>Mobile</td>\n",
       "    </tr>\n",
       "    <tr>\n",
       "      <th>38</th>\n",
       "      <td>Mattia</td>\n",
       "      <td>M</td>\n",
       "      <td>Ottimo come ristorante, e come cucina, i prezz...</td>\n",
       "      <td>4</td>\n",
       "      <td>PC</td>\n",
       "    </tr>\n",
       "    <tr>\n",
       "      <th>39</th>\n",
       "      <td>Daniele</td>\n",
       "      <td>F</td>\n",
       "      <td>Mi sono trovato a dover mangiare in 15 minuti,...</td>\n",
       "      <td>4</td>\n",
       "      <td>PC</td>\n",
       "    </tr>\n",
       "    <tr>\n",
       "      <th>40</th>\n",
       "      <td>Ettore</td>\n",
       "      <td>M</td>\n",
       "      <td>molto bello il locale e l'atmosfera saloon.Il ...</td>\n",
       "      <td>3</td>\n",
       "      <td>PC</td>\n",
       "    </tr>\n",
       "    <tr>\n",
       "      <th>41</th>\n",
       "      <td>Marzio</td>\n",
       "      <td>M</td>\n",
       "      <td>Provato una sera fredda fredda d'inverno, ci s...</td>\n",
       "      <td>4</td>\n",
       "      <td>PC</td>\n",
       "    </tr>\n",
       "    <tr>\n",
       "      <th>42</th>\n",
       "      <td>Elena</td>\n",
       "      <td>F</td>\n",
       "      <td>Locale senza troppe pretese, ottimo per una sp...</td>\n",
       "      <td>3</td>\n",
       "      <td>PC</td>\n",
       "    </tr>\n",
       "    <tr>\n",
       "      <th>43</th>\n",
       "      <td>Valeria</td>\n",
       "      <td>F</td>\n",
       "      <td>Buono buono buono!! Panini squisiti, patatine ...</td>\n",
       "      <td>5</td>\n",
       "      <td>PC</td>\n",
       "    </tr>\n",
       "    <tr>\n",
       "      <th>44</th>\n",
       "      <td>Rinaldo</td>\n",
       "      <td>M</td>\n",
       "      <td>Classica cucina USA, Hot Dog, Amburgher e Spar...</td>\n",
       "      <td>3</td>\n",
       "      <td>PC</td>\n",
       "    </tr>\n",
       "    <tr>\n",
       "      <th>45</th>\n",
       "      <td>Laura</td>\n",
       "      <td>F</td>\n",
       "      <td>Cibo molto buono! Leggermente troppo olio sull...</td>\n",
       "      <td>4</td>\n",
       "      <td>PC</td>\n",
       "    </tr>\n",
       "    <tr>\n",
       "      <th>46</th>\n",
       "      <td>Enrico</td>\n",
       "      <td>M</td>\n",
       "      <td>I piatti e i panini risultano sicuramente più ...</td>\n",
       "      <td>4</td>\n",
       "      <td>PC</td>\n",
       "    </tr>\n",
       "    <tr>\n",
       "      <th>47</th>\n",
       "      <td>Nana</td>\n",
       "      <td>F</td>\n",
       "      <td>Molto bella atmosfera progettato. Abbiamo visi...</td>\n",
       "      <td>5</td>\n",
       "      <td>Mobile</td>\n",
       "    </tr>\n",
       "    <tr>\n",
       "      <th>48</th>\n",
       "      <td>Robert</td>\n",
       "      <td>M</td>\n",
       "      <td>Abbiamo soggiornato presso il vicino Hotel Bir...</td>\n",
       "      <td>4</td>\n",
       "      <td>PC</td>\n",
       "    </tr>\n",
       "    <tr>\n",
       "      <th>49</th>\n",
       "      <td>Tony</td>\n",
       "      <td>M</td>\n",
       "      <td>Ristorante può essere trovato su una strada tr...</td>\n",
       "      <td>4</td>\n",
       "      <td>PC</td>\n",
       "    </tr>\n",
       "    <tr>\n",
       "      <th>50</th>\n",
       "      <td>Ilan</td>\n",
       "      <td>M</td>\n",
       "      <td>Questo ristorante era vicino al nostro hotel e...</td>\n",
       "      <td>5</td>\n",
       "      <td>PC</td>\n",
       "    </tr>\n",
       "  </tbody>\n",
       "</table>\n",
       "</div>"
      ],
      "text/plain": [
       "          Nomi Genere                                         Recensioni  \\\n",
       "0       Cinzia      F  Pagare trenta euro per due hamburgher mediocri...   \n",
       "1       Andrea      F  Abbiamo cenato in tre per lavoro un locale car...   \n",
       "2        Uriel      M  Nervi nel chili con carne, patatine mezze bruc...   \n",
       "3        Vicky      F  Mi aspettavo un hamburger particolare da una c...   \n",
       "4      Azzurra      F  Tappa settimanale, buonissimo, velocissimo e m...   \n",
       "5        Lucia      F  Bel posto .. ma per il galletto non ci siamo p...   \n",
       "6     Costanza      F  Siamo andati in gruppo il sabato sera, ma l'at...   \n",
       "7        Marco      M  Servizio molto veloce, cibo molto buoni e cuci...   \n",
       "8        Elena      F  Siamo stati a cena qui ieri sera perché eravam...   \n",
       "9     Emanuele      M  Trovandomi a Padova per controlli medici mi fe...   \n",
       "10       Jenny      F  Tipico locale che richiama il vecchio west, se...   \n",
       "11   Raffaella      F  Siamo venuti a pranzo di domenica. Ci metto un...   \n",
       "12         Ivo      M  Cibo buono e fresco presentato in modo suffici...   \n",
       "13      Davide      M  Appena arrivati ci hanno fatto sedere e sposta...   \n",
       "14    Caterina      F  La cucina molto buona ma, per quanto riguarda ...   \n",
       "15  Pierandrea      M  Panini e cibarie varie buonissimi, personale c...   \n",
       "16       Paolo      M  L'arredamento alla far west è molto accattivan...   \n",
       "17         Mat      F  Bel locale, il servizio é a volte ottimo a vol...   \n",
       "18       Elena      F  Locale spazioso e pulito. Personale attento e ...   \n",
       "19      Hichem      M  Un vero ristorante dove puoi gustare ottimi pa...   \n",
       "20  Alessandro      M  Oltre ad aver aspettato 50 minuti senza aver r...   \n",
       "21      Andrea      F  tutto molto buono. alla fine si dimostra quali...   \n",
       "22      Davide      M  Tipico old wild west. Cibo discreto e servizio...   \n",
       "23      Enrico      M  Tipica atmosfera west di tutta la catena simpa...   \n",
       "24       Nicol      F  Diciamo che allo stesso prezzo si trova di meg...   \n",
       "25        Alex      M  Ci ritorno spesso in questo locale sia per la ...   \n",
       "26       Marco      M  Niente di che solita roba mediocre! Tempo di a...   \n",
       "27      Andrea      F  Si, proprio così. Un posto piacevole, poco imp...   \n",
       "28     Barbara      F  Secondo me i prezzi sono un po' alti per offri...   \n",
       "29     Martina      F  Si mangia bene in tutti gli old wild west purt...   \n",
       "30      Andrea      F  Locale in stile Old wild west ovviamente . Per...   \n",
       "31         Ale      M  Non commento il cibo. Ma non è possibile preno...   \n",
       "32     Stefano      M  il cibo è buono, piuttosto vario nei tipi di c...   \n",
       "33    Riccardo      M  Nel complesso è un bel locale: l'arredamento è...   \n",
       "34       Irene      F  Eh già volevo un gelato...non pensavo.. Così s...   \n",
       "35       Giusy      F  Il locale è molto carino,interamente in legno....   \n",
       "36     Umberto      M  Bellissima la location, sembra davvero di star...   \n",
       "37       Fabio      M  Hamburger molto buoni con un ampia scelta. Pre...   \n",
       "38      Mattia      M  Ottimo come ristorante, e come cucina, i prezz...   \n",
       "39     Daniele      F  Mi sono trovato a dover mangiare in 15 minuti,...   \n",
       "40      Ettore      M  molto bello il locale e l'atmosfera saloon.Il ...   \n",
       "41      Marzio      M  Provato una sera fredda fredda d'inverno, ci s...   \n",
       "42       Elena      F  Locale senza troppe pretese, ottimo per una sp...   \n",
       "43     Valeria      F  Buono buono buono!! Panini squisiti, patatine ...   \n",
       "44     Rinaldo      M  Classica cucina USA, Hot Dog, Amburgher e Spar...   \n",
       "45       Laura      F  Cibo molto buono! Leggermente troppo olio sull...   \n",
       "46      Enrico      M  I piatti e i panini risultano sicuramente più ...   \n",
       "47        Nana      F  Molto bella atmosfera progettato. Abbiamo visi...   \n",
       "48      Robert      M  Abbiamo soggiornato presso il vicino Hotel Bir...   \n",
       "49        Tony      M  Ristorante può essere trovato su una strada tr...   \n",
       "50        Ilan      M  Questo ristorante era vicino al nostro hotel e...   \n",
       "\n",
       "    Voti Scritta da  \n",
       "0      2     Mobile  \n",
       "1      3     Mobile  \n",
       "2      1     Mobile  \n",
       "3      4     Mobile  \n",
       "4      5     Mobile  \n",
       "5      2     Mobile  \n",
       "6      3     Mobile  \n",
       "7      5     Mobile  \n",
       "8      4     Mobile  \n",
       "9      3         PC  \n",
       "10     3     Mobile  \n",
       "11     2     Mobile  \n",
       "12     3     Mobile  \n",
       "13     1     Mobile  \n",
       "14     2         PC  \n",
       "15     4     Mobile  \n",
       "16     5     Mobile  \n",
       "17     4     Mobile  \n",
       "18     5     Mobile  \n",
       "19     5     Mobile  \n",
       "20     1     Mobile  \n",
       "21     4         PC  \n",
       "22     3     Mobile  \n",
       "23     4         PC  \n",
       "24     4     Mobile  \n",
       "25     4         PC  \n",
       "26     2     Mobile  \n",
       "27     4         PC  \n",
       "28     3         PC  \n",
       "29     3         PC  \n",
       "30     4     Mobile  \n",
       "31     1     Mobile  \n",
       "32     3         PC  \n",
       "33     4         PC  \n",
       "34     4         PC  \n",
       "35     3     Mobile  \n",
       "36     3         PC  \n",
       "37     4     Mobile  \n",
       "38     4         PC  \n",
       "39     4         PC  \n",
       "40     3         PC  \n",
       "41     4         PC  \n",
       "42     3         PC  \n",
       "43     5         PC  \n",
       "44     3         PC  \n",
       "45     4         PC  \n",
       "46     4         PC  \n",
       "47     5     Mobile  \n",
       "48     4         PC  \n",
       "49     4         PC  \n",
       "50     5         PC  "
      ]
     },
     "metadata": {},
     "output_type": "display_data"
    }
   ],
   "source": [
    "partial_dataframe = pd.read_excel(\"RISTORANTE_20.xlsx\")\n",
    "\n",
    "display(partial_dataframe)"
   ]
  },
  {
   "cell_type": "code",
   "execution_count": null,
   "metadata": {
    "colab": {},
    "colab_type": "code",
    "id": "hX7pszZCWTt8"
   },
   "outputs": [],
   "source": []
  }
 ],
 "metadata": {
  "colab": {
   "collapsed_sections": [],
   "name": "PARTE_3.15_TRIPADVISOR_ANALYSIS_Getting_the_comments_in_italian.ipynb",
   "provenance": [],
   "version": "0.3.2"
  },
  "kernelspec": {
   "display_name": "Python 3",
   "language": "python",
   "name": "python3"
  },
  "language_info": {
   "codemirror_mode": {
    "name": "ipython",
    "version": 3
   },
   "file_extension": ".py",
   "mimetype": "text/x-python",
   "name": "python",
   "nbconvert_exporter": "python",
   "pygments_lexer": "ipython3",
   "version": "3.7.0"
  }
 },
 "nbformat": 4,
 "nbformat_minor": 1
}
