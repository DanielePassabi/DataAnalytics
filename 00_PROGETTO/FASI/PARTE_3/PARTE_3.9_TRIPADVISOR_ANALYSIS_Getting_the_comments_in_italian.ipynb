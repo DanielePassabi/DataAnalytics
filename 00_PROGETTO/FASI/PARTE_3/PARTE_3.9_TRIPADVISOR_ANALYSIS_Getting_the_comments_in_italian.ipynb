{
 "cells": [
  {
   "cell_type": "markdown",
   "metadata": {
    "colab_type": "text",
    "id": "1oZCy7XqWTry"
   },
   "source": [
    "# Creo un nuovo dataset \n"
   ]
  },
  {
   "cell_type": "markdown",
   "metadata": {
    "colab_type": "text",
    "id": "iXr-KdKhWTr0"
   },
   "source": [
    "---\n",
    "## Analisi dei commenti di un ristorante\n",
    "\n",
    "### RoadHouse grill - Padova\n",
    "\n",
    "URL di riferimento: https://www.tripadvisor.it/Restaurant_Review-g187867-d2104396-Reviews-Roadhouse_Grill-Padua_Province_of_Padua_Veneto.html\n",
    "\n",
    "Home --> Ristoranti --> Padova"
   ]
  },
  {
   "cell_type": "code",
   "execution_count": 1,
   "metadata": {
    "colab": {
     "base_uri": "https://localhost:8080/",
     "height": 33
    },
    "colab_type": "code",
    "executionInfo": {
     "elapsed": 881,
     "status": "ok",
     "timestamp": 1547143846803,
     "user": {
      "displayName": "Il Dani",
      "photoUrl": "https://lh6.googleusercontent.com/-5K7YzXjC0Ns/AAAAAAAAAAI/AAAAAAAAAbQ/NtoQ-stzgEg/s64/photo.jpg",
      "userId": "03034249883816696713"
     },
     "user_tz": -60
    },
    "id": "eeT3pIkJWTr1",
    "outputId": "a0ffe201-d7ea-4590-fba5-54ae4330d472"
   },
   "outputs": [
    {
     "name": "stdout",
     "output_type": "stream",
     "text": [
      "Imported\n"
     ]
    }
   ],
   "source": [
    "# IMPORT NECESSARI\n",
    "import requests\n",
    "from bs4 import BeautifulSoup\n",
    "\n",
    "print(\"Imported\")"
   ]
  },
  {
   "cell_type": "code",
   "execution_count": 2,
   "metadata": {
    "colab": {
     "base_uri": "https://localhost:8080/",
     "height": 33
    },
    "colab_type": "code",
    "executionInfo": {
     "elapsed": 2171,
     "status": "ok",
     "timestamp": 1547143848117,
     "user": {
      "displayName": "Il Dani",
      "photoUrl": "https://lh6.googleusercontent.com/-5K7YzXjC0Ns/AAAAAAAAAAI/AAAAAAAAAbQ/NtoQ-stzgEg/s64/photo.jpg",
      "userId": "03034249883816696713"
     },
     "user_tz": -60
    },
    "id": "dPQoaYxkWTsA",
    "outputId": "e2bc6e5e-882d-4f3a-8fe9-8cdf52adba36"
   },
   "outputs": [
    {
     "name": "stdout",
     "output_type": "stream",
     "text": [
      "Done\n"
     ]
    }
   ],
   "source": [
    "page_URL = \"https://www.tripadvisor.it/Restaurant_Review-g187867-d2104396-Reviews-Roadhouse_Grill-Padua_Province_of_Padua_Veneto.html\"\n",
    "\n",
    "data = requests.get(page_URL)\n",
    "clear_data = BeautifulSoup(data.content, \"lxml\")\n",
    "\n",
    "print(\"Done\")"
   ]
  },
  {
   "cell_type": "markdown",
   "metadata": {
    "colab_type": "text",
    "id": "A19Pp_DiWTsF"
   },
   "source": [
    "---\n",
    "### STRUTTURA HTML DEL SITO \n",
    "\n",
    "#### REVIEW\n",
    "`<p class=\"partial_entry\"> qui c'è la review </p>`\n",
    "\n",
    "#### N° TOTALE DI REVIEWS\n",
    "`<a data-page-number=\"25\" ...>\n",
    "    25\n",
    " </a>`\n",
    " \n",
    "#### NAMES\n",
    "`<span class=\"expand_inline scrname\" …>AlexandraCapeTown</span>`\n",
    "\n",
    "#### RATINGS\n",
    "`<span class=\"ui_bubble_rating bubble_30\"></span>`"
   ]
  },
  {
   "cell_type": "markdown",
   "metadata": {
    "colab_type": "text",
    "id": "MSrpri89WTsH"
   },
   "source": [
    "---\n",
    "### PRIMO SCRAPING (sulla prima pagina)\n",
    "\n",
    "Ottengo i nomi, i commenti, le review e da dove è stato scritto il commento per quanto rigurda la prima pagina. Ciò è necessario, in quanto, dalla seconda in poi l'URL cambia, permettendoci di iterare."
   ]
  },
  {
   "cell_type": "code",
   "execution_count": 3,
   "metadata": {
    "colab": {
     "base_uri": "https://localhost:8080/",
     "height": 100
    },
    "colab_type": "code",
    "executionInfo": {
     "elapsed": 2145,
     "status": "ok",
     "timestamp": 1547143848118,
     "user": {
      "displayName": "Il Dani",
      "photoUrl": "https://lh6.googleusercontent.com/-5K7YzXjC0Ns/AAAAAAAAAAI/AAAAAAAAAbQ/NtoQ-stzgEg/s64/photo.jpg",
      "userId": "03034249883816696713"
     },
     "user_tz": -60
    },
    "id": "3qjaMKn9WTsJ",
    "outputId": "1c5f1316-b492-403a-a817-2da802dc3a9f"
   },
   "outputs": [
    {
     "name": "stdout",
     "output_type": "stream",
     "text": [
      "Executed\n",
      "Nomi:  10\n",
      "Commenti:  10\n",
      "Voti:  10\n",
      "Scritto da:  10\n"
     ]
    }
   ],
   "source": [
    "# OTTENGO UNA LISTA DI DIV CHE CONTENGONO NOME, RECENSIONE E VOTO\n",
    "\n",
    "all_reviews = []\n",
    "all_names = []\n",
    "all_ratings = []\n",
    "all_mobile = []\n",
    "\n",
    "review_container = clear_data.findAll(\"div\", attrs={\"class\":\"review-container\"})\n",
    "\n",
    "for container in review_container:\n",
    "  \n",
    "    ### REVIEW ###\n",
    "    review = container.find('p', attrs={'class': 'partial_entry'})\n",
    "    if review:\n",
    "        all_reviews.append(review.text)\n",
    "        \n",
    "    ### NAME ###\n",
    "    name = container.find('span', attrs={'class': ('expand_inline', 'scrname')})\n",
    "    if name:\n",
    "      all_names.append(name.text)\n",
    "    else:\n",
    "      all_names.append('NO_NAME')\n",
    "    \n",
    "    ### RATING ###\n",
    "    rating = container.find('span', attrs={'class': 'ui_bubble_rating'})\n",
    "    all_ratings.append(rating['class'][1][7:8])\n",
    "    \n",
    "    ### MOBILE ###\n",
    "    mobile = container.find('span', attrs={'class': 'viaMobile'})\n",
    "    if mobile:\n",
    "      all_mobile.append('Mobile')\n",
    "    else:\n",
    "      all_mobile.append('PC')\n",
    "    \n",
    "    \n",
    "################################################################################################################################\n",
    "        \n",
    "print(\"Executed\")\n",
    "print('Nomi: ', len(all_names))\n",
    "print('Commenti: ', len(all_reviews))\n",
    "print('Voti: ', len(all_ratings))\n",
    "print('Scritto da: ', len(all_ratings))"
   ]
  },
  {
   "cell_type": "markdown",
   "metadata": {
    "colab_type": "text",
    "id": "f5sK02FgWTsR"
   },
   "source": [
    "### SECONDO SCRAPING (dalla seconda pagina in poi)\n",
    "\n",
    "Notiamo dall'URL che è possibile iterare sulle pagine, ottenendo i dati!"
   ]
  },
  {
   "cell_type": "code",
   "execution_count": 4,
   "metadata": {
    "colab": {
     "base_uri": "https://localhost:8080/",
     "height": 33
    },
    "colab_type": "code",
    "executionInfo": {
     "elapsed": 31187,
     "status": "ok",
     "timestamp": 1547143589126,
     "user": {
      "displayName": "Il Dani",
      "photoUrl": "https://lh6.googleusercontent.com/-5K7YzXjC0Ns/AAAAAAAAAAI/AAAAAAAAAbQ/NtoQ-stzgEg/s64/photo.jpg",
      "userId": "03034249883816696713"
     },
     "user_tz": -60
    },
    "id": "6LCVBXeFWTsS",
    "outputId": "486a5237-1a50-457b-f5f1-ba3ba4bd96bf"
   },
   "outputs": [
    {
     "name": "stderr",
     "output_type": "stream",
     "text": [
      "100%|██████████| 60/60 [01:04<00:00,  1.03it/s]"
     ]
    },
    {
     "name": "stdout",
     "output_type": "stream",
     "text": [
      "Executed\n",
      "total_pages:  61\n",
      "Nomi:  602\n",
      "Commenti:  602\n",
      "Voti:  602\n",
      "Scritto da:  602\n"
     ]
    },
    {
     "name": "stderr",
     "output_type": "stream",
     "text": [
      "\n"
     ]
    }
   ],
   "source": [
    "from tqdm import tqdm\n",
    "\n",
    "URL_COMPLETO = 'https://www.tripadvisor.it/Restaurant_Review-g187867-d2104396-Reviews-Roadhouse_Grill-Padua_Province_of_Padua_Veneto.html'\n",
    "\n",
    "URL_p1 = 'https://www.tripadvisor.it/Restaurant_Review-g187867-d2104396-Reviews-or'\n",
    "URL_p2 = '0-Roadhouse_Grill-Padua_Province_of_Padua_Veneto.html'\n",
    "    \n",
    "# OTTENGO I COMMENTI, NOMI E VOTI DALLA SECONDA PAGINA IN POI\n",
    "\n",
    "total_pages = int(clear_data.select(\"a.pageNum.last.taLnk\")[0].text) # 25 come intero\n",
    "\n",
    "# per iterare dobbiamo partire dalla seconda pagina dei commenti, così nell'URL compaiono le cifre che ci servono\n",
    "for r in tqdm(range(1,total_pages)):\n",
    "\n",
    "    # OTTENGO L'URL DELLA PAGINA\n",
    "    URL_temp = URL_p1 + str(r) + URL_p2\n",
    "\n",
    "    # OTTENGO I DATI E CI APPLICO BEATIFULSOUP\n",
    "    data = requests.get(URL_temp)\n",
    "    clear_data = BeautifulSoup(data.content, \"lxml\")\n",
    "    \n",
    "\n",
    "    review_container = clear_data.findAll(\"div\", attrs={\"class\":\"review-container\"})\n",
    "\n",
    "    for container in review_container:\n",
    "  \n",
    "      ### REVIEW ###\n",
    "      review = container.find('p', attrs={'class': 'partial_entry'})\n",
    "      if review:\n",
    "          all_reviews.append(review.text)\n",
    "\n",
    "      ### NAME ###\n",
    "      name = container.find('span', attrs={'class': ('expand_inline', 'scrname')})\n",
    "      if name:\n",
    "        all_names.append(name.text)\n",
    "      else:\n",
    "        all_names.append('NO_NAME')\n",
    "\n",
    "      ### RATING ###\n",
    "      rating = container.find('span', attrs={'class': 'ui_bubble_rating'})\n",
    "      all_ratings.append(rating['class'][1][7:8])\n",
    "\n",
    "      ### MOBILE ###\n",
    "      mobile = container.find('span', attrs={'class': 'viaMobile'})\n",
    "      if mobile:\n",
    "        all_mobile.append('Mobile')\n",
    "      else:\n",
    "        all_mobile.append('PC')\n",
    "    \n",
    "        \n",
    "################################################################################################################################\n",
    "        \n",
    "print(\"Executed\")\n",
    "print('total_pages: ', total_pages)\n",
    "print('Nomi: ', len(all_names))\n",
    "print('Commenti: ', len(all_reviews))\n",
    "print('Voti: ', len(all_ratings))\n",
    "print('Scritto da: ', len(all_mobile))"
   ]
  },
  {
   "cell_type": "code",
   "execution_count": 5,
   "metadata": {
    "colab": {},
    "colab_type": "code",
    "id": "_2UUJPQEWTsZ"
   },
   "outputs": [],
   "source": [
    "# display(all_reviews)"
   ]
  },
  {
   "cell_type": "code",
   "execution_count": 6,
   "metadata": {
    "colab": {},
    "colab_type": "code",
    "id": "kfvHDIQUWTsf"
   },
   "outputs": [],
   "source": [
    "# print(all_names)"
   ]
  },
  {
   "cell_type": "code",
   "execution_count": 7,
   "metadata": {
    "colab": {},
    "colab_type": "code",
    "id": "0CGHdPfhWTsj"
   },
   "outputs": [],
   "source": [
    "#print(all_ratings, '\\n')\n",
    "#print(len(all_ratings))"
   ]
  },
  {
   "cell_type": "code",
   "execution_count": 8,
   "metadata": {
    "colab": {},
    "colab_type": "code",
    "id": "L2JydXfczX4K"
   },
   "outputs": [],
   "source": [
    "#display(all_mobile)"
   ]
  },
  {
   "cell_type": "markdown",
   "metadata": {
    "colab_type": "text",
    "id": "Pn8YT0PlWTsr"
   },
   "source": [
    "#### Problema recensioni troppo lunghe\n",
    "Alla fine di alcune recensioni troviamo un '...Più', che non possiamo espandere. Data la mole di dati, decidiamo dunque di non considerarle."
   ]
  },
  {
   "cell_type": "code",
   "execution_count": 9,
   "metadata": {
    "colab": {},
    "colab_type": "code",
    "id": "1u6qYqeyWTst"
   },
   "outputs": [
    {
     "name": "stdout",
     "output_type": "stream",
     "text": [
      "Totale recensioni: 602 \n",
      " Recensioni analizzabili: 241 \n",
      " Recensioni scartate: 361 \n",
      "\n"
     ]
    },
    {
     "data": {
      "text/plain": [
       "['RECENSIONE_TROPPO_LUNGA',\n",
       " 'Visto che la domenica sera a Padova tutti i ristoranti il 23 dicembre sembran chiusi,non rimando che cenare qui,almeno si ha una piccola certezza.\\nStaff molto gentile.\\nMolto meno il cassiere che pur di non accettare American express inventa ogni scusa.',\n",
       " 'Ci siamo stati per cena. Il cibo direi niente di speciale...diciamo \"nella media\" ma la carne che dovrebbe essere il loro pezzo forte secondo me ha perso molto di qualità...un po\\' deluso. Poi fatalità avevano finito insalate, verdure ecc... mah',\n",
       " \"Sono stata in questo roadhouse per il cenone di capodanno, scegliendo del menù che avevano proposto per l'occasione. Locale grande e accogliente, personale gentile e cibo buono. Lo consiglio!\",\n",
       " 'RECENSIONE_TROPPO_LUNGA',\n",
       " 'Ottimo il mangiare, menù vari e gustosi.\\nPersonale cortese e disponibile per ogni esigenza.\\nPrezzi contenuti. Consiglio per gli amanti della carne',\n",
       " 'RECENSIONE_TROPPO_LUNGA',\n",
       " 'RECENSIONE_TROPPO_LUNGA',\n",
       " 'RECENSIONE_TROPPO_LUNGA',\n",
       " 'RECENSIONE_TROPPO_LUNGA']"
      ]
     },
     "metadata": {},
     "output_type": "display_data"
    }
   ],
   "source": [
    "all_reviews_filtered = []\n",
    "counter_reviews_scartate = 0;\n",
    "counter_reviews_da_usare = 0;\n",
    "\n",
    "for review in all_reviews:\n",
    "    if '...Più' in review:\n",
    "        all_reviews_filtered.append('RECENSIONE_TROPPO_LUNGA')\n",
    "        counter_reviews_scartate+=1;\n",
    "    else:\n",
    "        all_reviews_filtered.append(review)\n",
    "        counter_reviews_da_usare+=1;\n",
    "        \n",
    "        \n",
    "print(\n",
    "    'Totale recensioni:', counter_reviews_scartate + counter_reviews_da_usare, '\\n',\n",
    "    'Recensioni analizzabili:', counter_reviews_da_usare, '\\n',\n",
    "    'Recensioni scartate:', counter_reviews_scartate, '\\n')\n",
    "\n",
    "display(all_reviews_filtered[:10])"
   ]
  },
  {
   "cell_type": "markdown",
   "metadata": {
    "colab_type": "text",
    "id": "UkAWN5oXWTs1"
   },
   "source": [
    "---\n",
    "### Analisi dei nomi\n",
    "Cerchiamo di capire se chi ha commentato è un uomo (M) o una donna (F)."
   ]
  },
  {
   "cell_type": "markdown",
   "metadata": {
    "colab_type": "text",
    "id": "K2hUQ__xWTs2"
   },
   "source": [
    "#### Elimino spazi e numeri\n",
    "Ho bisogno di tenere solo le informazioni riguardanti il nome, elimino il resto."
   ]
  },
  {
   "cell_type": "code",
   "execution_count": 10,
   "metadata": {
    "colab": {},
    "colab_type": "code",
    "id": "HlRhLVAwWTs4"
   },
   "outputs": [
    {
     "name": "stdout",
     "output_type": "stream",
     "text": [
      "['filippot315', 'claudiot746', 'christianf97', 'Reddy95', 'Alessandro R', 'davidepA7104IS', 'Norien394', 'Gingerex', 'Voyager22625929988', 'DamReviewer', 'Raore', 'jacopoc81', 'jeep82renegade', 'Antonio D', 'Alessia H', 'siluriano', 'piereteco', 'Enrico3533', 'Fabio L', 'PDF7609', 'NO_NAME', 'NO_NAME', 'NO_NAME', 'NO_NAME', 'NO_NAME', 'NO_NAME', 'NO_NAME', 'NO_NAME', 'NO_NAME', 'NO_NAME', 'antgrasanto', 'ariannarodella', 'Sarawanderlust91', 'Ataru_Tomobiki', 'swiffer60', 'FabioC136', 'StefanoITALY-PN', 'francobonetto', 'andrea t', '2013g_i', 'L9416AYgiorgioc', 'giuseppev988', 'martina1985marti2018', 'Riccardo D', 'distalbere66', 'viaggia61', 'A6053TFmonicar', 'francylukasik', 'salvat7307', 'Max M', 'Dem82pd', 'Giulisch92', 'plutonuvola', 'marty1190', 'Nicolavolpatozm', 'Gianmarco_18', 'Federica S', 'Massimo M', 'bombettaPadova', 'Almacast', 'NO_NAME', 'NO_NAME', 'NO_NAME', 'NO_NAME', 'NO_NAME', 'NO_NAME', 'NO_NAME', 'NO_NAME', 'NO_NAME', 'NO_NAME', 'AcedaPordenone', 'corrado v', 'L22F', 'FloPro24', 'Cristina P', '104nicolaf', 'TheBigTester', 'Giulia M', 'Riccardo S', 'PadovaMax', 'Andrea P', 'Valentina P', '714filippog', 'Lucrezia234', 'eoloeolo', 'alexmodenese', 'Roussell_ngo', 'silvana49117', 'Nicky H', 'Stephivette e', 'Alisee15', 'Klaudio30', 'D V', 'erasmob395', 'carlof608', 'lorse_94', 'amaro e', 'Corto_Maltese_1972', 'Chips_and_Pepper', '337giovanniz', 'SignoraTina', 'K2028UPfabriziom', 'MangionaPd', 'andreagironi', 'Mr_N94', 'BarbaraSfriso', 'antgrasanto', 'Michele P', 'Elsa T', 'Andrea A', 'Franco0108', 'Cabeza A', 'GoPlaces555516', '697giulial', '337lorenzo', 'Anna N', 'Massimo T', 'Martina F', 'SaraJaba', 'Gabriel M', 'NO_NAME', 'NO_NAME', 'NO_NAME', 'NO_NAME', 'NO_NAME', 'NO_NAME', 'NO_NAME', 'NO_NAME', 'NO_NAME', 'NO_NAME', 'NO_NAME', 'NO_NAME', 'NO_NAME', 'NO_NAME', 'NO_NAME', 'NO_NAME', 'NO_NAME', 'NO_NAME', 'NO_NAME', 'NO_NAME', 'overland600', 'Marco M', 'ValerioCorazon', 'dennyilsan', 'giuseppev988', 'Franco0108', 'PierPitt', 'Chiccosun1965', 'T6273IMsalvatorep', 'Coverupstudio', 'luckyonesthistime', 'Z8224JTbarbarap', 'Viaggiatore_2016_f', 'nicolabW7955YM', 'Ferruccio M', 'PdMax', 'Sandro S', 'Lorenzo S', 'IvanCesare', 'AleEliPd', 'Nico C', 'Sergio S', 'marellamassimo', 'Marco P', 'roberto c', 'pollopingu', 'Mayla P', 'adili1', 'Emiliano F', '165vittoriam', 'Ferruccio M', 'giampaolol96', 'Cibolando', 'adrimasc67', 'herinanth', 'Perla P', 'Ludovica9412', 'VeronaMaria', 'rossella103', 'Simone S', 'NO_NAME', 'NO_NAME', 'NO_NAME', 'NO_NAME', 'NO_NAME', 'NO_NAME', 'NO_NAME', 'NO_NAME', 'NO_NAME', 'NO_NAME', 'Magistervino', 'andreadl2015', 'paolofoxi', '8082', 'Patapati', 'ilaria471', 'kranix', 'Vito89bolzano', 'Q6764KOclaudiot', 'elisaz435', 'Francescagrasso', 'diegodg', 'Marco M', 'MarcoN_1986', 'ginger0505', 'TeddyBaga', 'Michele G', 'kachlex', 'Giovanni B', 'FABIO B', 'MAMMAALE', 'Mauro B', 'Corrado L', 'Alinutza A', 'Camilla1997m', 'feddes', 'pietromanigrassi', 'Guido M', 'Petabrose', 'gaetanoq660', 'GiuliaGioia', 'Imburrasotto', 'SalvoB_986', 'Angel92G', 'Lupin76', 'Diego88BL', 'mario l', 'Giusy C', 'Alessandro A', 'Maria B', 'Roberto_bob_1966', 'saimonsays', 'Giacomo B', 'elisat433', 'Andrea C', 'deboragala', 'andrea r', 'Katting91', 'danielet208', 'AndreaP8368', 'albertozabeo21', 'FabioKappe', 'massimoc886', 'fabriziob421', 'Cristiano T', 'K2028UPfabriziom', 'LucaBolognaPadova', 'martaruiz93', 'maria1dr', 'Gaetano B', 'NO_NAME', 'NO_NAME', 'NO_NAME', 'NO_NAME', 'NO_NAME', 'NO_NAME', 'NO_NAME', 'NO_NAME', 'NO_NAME', 'NO_NAME', '484AntonioL484', 'paolofI8350RX', 'A6053TFmonicar', 'mik7575', 'Mimì Sophie D', 'Roberto A', 'FabioKappe', 'Diego B', 'Massimo F', 'pasinisilvia', 'Riccardo T', 'Claudio S', 'MarcoB87', 'Alice S', 'Marco B', 'Alessia1204', 'Manuele P', 'maxgualmini', 'Silvia C', '111AngelaG', 'Supersquik', 'rose_rossi88', 'Lucav71', '4LE', 'tommasom643', 'Carlo C', 'Kolmogorov82', 'Gpiero68', 'Luca A', 'checco_e_la_simo', 'daniele m', 'Pinatoale', 'AcedaPordenone', 'UnderAlex', 'Viag65lor', 'cmichela2015', 'Sce873', 'franco i', 'Giacomo P', 'Gian Staccato B', '86minnie', 'Danilo R', 'Mattia C', '72gabrieles', 'Dario G', 'Braccoz', 'matvale', 'zaxaph', 'leonardoelena', 'icosensei', 'Andre19dobbiaco', 'Raluca3010', 'matteobos', '955lucap', 'Alby7777', '597emanuelen', 'Vincenzo S', 'Manuela M', 'Gianluca T', 'Darkene99', 'Cami246', 'gianmarcor325', 'Bibolot', 'Marianna_bea', 'Nicola T', 'anna p', 'Valerio A', '820vincenzog', 'EnzoNazz', 'monica l', 'jaggerdihokuto', 'Natta B', 'Andrea B', 'DanMorTrip', 'Tabbozzo', 'Ciast', 'ste r', 'RosellinaRossa85', 'annamariag678', '903danielab', 'NO_NAME', 'NO_NAME', 'NO_NAME', 'NO_NAME', 'NO_NAME', 'NO_NAME', 'NO_NAME', 'NO_NAME', 'NO_NAME', 'NO_NAME', 'giuliaper88', 'City-of-Padua', 'carlottag2015', '912micheles', 'Sblonz', 'urbani', 'Marta l', 'Ioamoviaggiare92', 'Edo91ep', 'feddes', 'NO_NAME', 'NO_NAME', 'NO_NAME', 'NO_NAME', 'NO_NAME', 'NO_NAME', 'NO_NAME', 'NO_NAME', 'NO_NAME', 'NO_NAME', 'Atropo K', 'sof1000', 'arpEerica', 'Marika S', 'tegoina2', 'feddes', 'chicoschicos', 'Mario I', 'SALVATORE R', 'Emanuele V', 'SouthWorker', 'francesco-dalio', 'halavayn', 'Marta P', 'Heavyeat', 'RobyMarcello', 'Petalorosa', 'alessandrodJ1618GF', 'Msvphoto', '951patriziap', 'Rudy C', 'caleff', 'Mario-Emilio C', 'Antoniobalt', 'MatteoSolda2000', 'h181w82', 'Marco B', 'stemansut', 'NDWarren', 'pkone62', 'Mikhail A', 'DarkKnight468', 'gabriele d', 'marggedc', 'Antonio P', 'AndreaAdvisor00', 'WolfPadova72', 'Emanuele V', 'Laura C', 'Giovanni D', 'D4Z', 'Luca C', 'Giovanni C', '753massimilianof', 'Mari G', 'MicheleT465', 'WalterFava', 'Marco V', 'Emyz1981', '750tr', 'NO_NAME', 'NO_NAME', 'NO_NAME', 'NO_NAME', 'NO_NAME', 'NO_NAME', 'NO_NAME', 'NO_NAME', 'NO_NAME', 'NO_NAME', 'NO_NAME', 'NO_NAME', 'NO_NAME', 'NO_NAME', 'NO_NAME', 'NO_NAME', 'NO_NAME', 'NO_NAME', 'NO_NAME', 'NO_NAME', 'kathleeny19', 'Ciccio d', 'kojak1972', 'djlordgarden', 'emanuelefav', 'DavideDegan', 'Gianfranco97', 'Alecafi', 'pancio70', 'Pancioni8183', 'emanuele_19852013', 'Paolo Z', 'SymonDP', 'Gioele Z', 'Mozart3535', 'vanni88', 'Alegrei', 'Hornetta81', 'Paoleletta', 'beppelotto', 'nicolatZ2983JS', '682jessica682', 'TheChosenOne6', 'micaelab677', 'stefanopp', 'claus-kb', 'OttoCliman', 'rec007', 'gugligugli68', 'robertal490', 'Tiziano P', '724DAVIDEB', 'famiglia_mast', '675dennis', 'Br M', 'Boscolo29', 'Marzio N', 'Luigi E', 'ilsuperrecensore', 'Sissa7255', 'Timothy S', 'MarcoCrepaldi', 'Outy', 'ElisabettaU79', 'IlPazzo', 'Roberto_bob_1966', 'Alepoppe', 'mimito78', 'Gianluca M', 'riccardo1503', 'Mongruad', 'stefania30759', 'Gloria B', 'Marco M', '219eliz219', 'IlMorodeVenezia', 'Francesca P', 'AlessandraCPd', 'marcostudios', 'KiLo75', 'testarda90', 'Ask21', 'chiaratigro', 'RobertoSerraPadova', '10baggio', 'Natta B', 'Sardanapalo', 'SAIDA B', 'sabrina2000', 'enricod906', 'alelu2103', 'Marko68Padova', 'LorenzoL886', 'supergolix', 'giovine82', 'Gioia84Milano', 'Papinkur', 'Barone182', 'giulio_pule', 'Fabio A', 'Valegiosu', 'davidetos', 'sabrina2000', 'Ankinator', 'angelastellina9117', 'Fulvio A', 'younger35', 'Ernesto-Adria', 'fabiri', 'norifumi', 'alpino11', 'Marco S', 'annina22', 'simolo64', 'Ruggy2005', 'littlechurch', 'pisipessa', 'EllegiPD', 'gabriele070173', 'Giamba C', 'Bardano', 'Chiara G', 'robyjosh', 'marcobettin', 'cperozzo', 'RaffaellaM778', 'Luca L', 'Siberya', 'Cripstak', 'J0ysM', 'pgrigo', 'Eleonora P', 'Zodx', 'alesssandr0', 'freespo', 'Isabel2530', 'Tex_72', 'trip_visitors', 'ghiottonePadova', 'Ottix', 'Rudig145', 'mauribear', 'simolo64', 'andyslessing', 'danieluca', 'erikabello', 'airpeg', 'Jmtc77', 'StefanoT31', 'slyfly', 'vedderio', 'riccardomisinato', 'BigPyle', 'Aly990', 'Marco D', 'sofysony', 'alessandro b', 'Wordcrasher', 'DISTAL2013', 'Nobus', 'MizzGiorgia', 'andyrom75', 'Eradan', 'MadMaki', 'luigidi', 'marcopanto', 'cuffa88', 'solex26', 'Valeria V', 'ziamariuccia', 'baldoe', 'RECINGHIO', 'RichardA4302', 'Mattia R', 'Roberto F', 'wuwuzela', 'Dworf', 'dragos o', 'Tassos M', 'toniobStVenera_Malta', 'Ronen T', 'Mirto56'] \n",
      "\n",
      "['filippot', 'claudiot', 'christianf', 'Reddy', 'Alessandro', 'davidepAIS', 'Norien', 'Gingerex', 'Voyager', 'DamReviewer', 'Raore', 'jacopoc', 'jeeprenegade', 'Antonio', 'Alessia', 'siluriano', 'piereteco', 'Enrico', 'Fabio', 'PDF', 'NONAME', 'NONAME', 'NONAME', 'NONAME', 'NONAME', 'NONAME', 'NONAME', 'NONAME', 'NONAME', 'NONAME', 'antgrasanto', 'ariannarodella', 'Sarawanderlust', 'AtaruTomobiki', 'swiffer', 'FabioC', 'StefanoITALYPN', 'francobonetto', 'andrea', 'gi', 'LAYgiorgioc', 'giuseppev', 'martinamarti', 'Riccardo', 'distalbere', 'viaggia', 'ATFmonicar', 'francylukasik', 'salvat', 'Max', 'Dempd', 'Giulisch', 'plutonuvola', 'marty', 'Nicolavolpatozm', 'Gianmarco', 'Federica', 'Massimo', 'bombettaPadova', 'Almacast', 'NONAME', 'NONAME', 'NONAME', 'NONAME', 'NONAME', 'NONAME', 'NONAME', 'NONAME', 'NONAME', 'NONAME', 'AcedaPordenone', 'corrado', 'LF', 'FloPro', 'Cristina', 'nicolaf', 'TheBigTester', 'Giulia', 'Riccardo', 'PadovaMax', 'Andrea', 'Valentina', 'filippog', 'Lucrezia', 'eoloeolo', 'alexmodenese', 'Roussellngo', 'silvana', 'Nicky', 'Stephivette', 'Alisee', 'Klaudio', 'D', 'erasmob', 'carlof', 'lorse', 'amaro', 'CortoMaltese', 'ChipsandPepper', 'giovanniz', 'SignoraTina', 'KUPfabriziom', 'MangionaPd', 'andreagironi', 'MrN', 'BarbaraSfriso', 'antgrasanto', 'Michele', 'Elsa', 'Andrea', 'Franco', 'Cabeza', 'GoPlaces', 'giulial', 'lorenzo', 'Anna', 'Massimo', 'Martina', 'SaraJaba', 'Gabriel', 'NONAME', 'NONAME', 'NONAME', 'NONAME', 'NONAME', 'NONAME', 'NONAME', 'NONAME', 'NONAME', 'NONAME', 'NONAME', 'NONAME', 'NONAME', 'NONAME', 'NONAME', 'NONAME', 'NONAME', 'NONAME', 'NONAME', 'NONAME', 'overland', 'Marco', 'ValerioCorazon', 'dennyilsan', 'giuseppev', 'Franco', 'PierPitt', 'Chiccosun', 'TIMsalvatorep', 'Coverupstudio', 'luckyonesthistime', 'ZJTbarbarap', 'Viaggiatoref', 'nicolabWYM', 'Ferruccio', 'PdMax', 'Sandro', 'Lorenzo', 'IvanCesare', 'AleEliPd', 'Nico', 'Sergio', 'marellamassimo', 'Marco', 'roberto', 'pollopingu', 'Mayla', 'adili', 'Emiliano', 'vittoriam', 'Ferruccio', 'giampaolol', 'Cibolando', 'adrimasc', 'herinanth', 'Perla', 'Ludovica', 'VeronaMaria', 'rossella', 'Simone', 'NONAME', 'NONAME', 'NONAME', 'NONAME', 'NONAME', 'NONAME', 'NONAME', 'NONAME', 'NONAME', 'NONAME', 'Magistervino', 'andreadl', 'paolofoxi', '', 'Patapati', 'ilaria', 'kranix', 'Vitobolzano', 'QKOclaudiot', 'elisaz', 'Francescagrasso', 'diegodg', 'Marco', 'MarcoN', 'ginger', 'TeddyBaga', 'Michele', 'kachlex', 'Giovanni', 'FABIO', 'MAMMAALE', 'Mauro', 'Corrado', 'Alinutza', 'Camillam', 'feddes', 'pietromanigrassi', 'Guido', 'Petabrose', 'gaetanoq', 'GiuliaGioia', 'Imburrasotto', 'SalvoB', 'AngelG', 'Lupin', 'DiegoBL', 'mario', 'Giusy', 'Alessandro', 'Maria', 'Robertobob', 'saimonsays', 'Giacomo', 'elisat', 'Andrea', 'deboragala', 'andrea', 'Katting', 'danielet', 'AndreaP', 'albertozabeo', 'FabioKappe', 'massimoc', 'fabriziob', 'Cristiano', 'KUPfabriziom', 'LucaBolognaPadova', 'martaruiz', 'mariadr', 'Gaetano', 'NONAME', 'NONAME', 'NONAME', 'NONAME', 'NONAME', 'NONAME', 'NONAME', 'NONAME', 'NONAME', 'NONAME', 'AntonioL', 'paolofIRX', 'ATFmonicar', 'mik', 'Mim', 'Roberto', 'FabioKappe', 'Diego', 'Massimo', 'pasinisilvia', 'Riccardo', 'Claudio', 'MarcoB', 'Alice', 'Marco', 'Alessia', 'Manuele', 'maxgualmini', 'Silvia', 'AngelaG', 'Supersquik', 'roserossi', 'Lucav', 'LE', 'tommasom', 'Carlo', 'Kolmogorov', 'Gpiero', 'Luca', 'checcoelasimo', 'daniele', 'Pinatoale', 'AcedaPordenone', 'UnderAlex', 'Viaglor', 'cmichela', 'Sce', 'franco', 'Giacomo', 'Gian', 'minnie', 'Danilo', 'Mattia', 'gabrieles', 'Dario', 'Braccoz', 'matvale', 'zaxaph', 'leonardoelena', 'icosensei', 'Andredobbiaco', 'Raluca', 'matteobos', 'lucap', 'Alby', 'emanuelen', 'Vincenzo', 'Manuela', 'Gianluca', 'Darkene', 'Cami', 'gianmarcor', 'Bibolot', 'Mariannabea', 'Nicola', 'anna', 'Valerio', 'vincenzog', 'EnzoNazz', 'monica', 'jaggerdihokuto', 'Natta', 'Andrea', 'DanMorTrip', 'Tabbozzo', 'Ciast', 'ste', 'RosellinaRossa', 'annamariag', 'danielab', 'NONAME', 'NONAME', 'NONAME', 'NONAME', 'NONAME', 'NONAME', 'NONAME', 'NONAME', 'NONAME', 'NONAME', 'giuliaper', 'CityofPadua', 'carlottag', 'micheles', 'Sblonz', 'urbani', 'Marta', 'Ioamoviaggiare', 'Edoep', 'feddes', 'NONAME', 'NONAME', 'NONAME', 'NONAME', 'NONAME', 'NONAME', 'NONAME', 'NONAME', 'NONAME', 'NONAME', 'Atropo', 'sof', 'arpEerica', 'Marika', 'tegoina', 'feddes', 'chicoschicos', 'Mario', 'SALVATORE', 'Emanuele', 'SouthWorker', 'francescodalio', 'halavayn', 'Marta', 'Heavyeat', 'RobyMarcello', 'Petalorosa', 'alessandrodJGF', 'Msvphoto', 'patriziap', 'Rudy', 'caleff', 'MarioEmilio', 'Antoniobalt', 'MatteoSolda', 'hw', 'Marco', 'stemansut', 'NDWarren', 'pkone', 'Mikhail', 'DarkKnight', 'gabriele', 'marggedc', 'Antonio', 'AndreaAdvisor', 'WolfPadova', 'Emanuele', 'Laura', 'Giovanni', 'DZ', 'Luca', 'Giovanni', 'massimilianof', 'Mari', 'MicheleT', 'WalterFava', 'Marco', 'Emyz', 'tr', 'NONAME', 'NONAME', 'NONAME', 'NONAME', 'NONAME', 'NONAME', 'NONAME', 'NONAME', 'NONAME', 'NONAME', 'NONAME', 'NONAME', 'NONAME', 'NONAME', 'NONAME', 'NONAME', 'NONAME', 'NONAME', 'NONAME', 'NONAME', 'kathleeny', 'Ciccio', 'kojak', 'djlordgarden', 'emanuelefav', 'DavideDegan', 'Gianfranco', 'Alecafi', 'pancio', 'Pancioni', 'emanuele', 'Paolo', 'SymonDP', 'Gioele', 'Mozart', 'vanni', 'Alegrei', 'Hornetta', 'Paoleletta', 'beppelotto', 'nicolatZJS', 'jessica', 'TheChosenOne', 'micaelab', 'stefanopp', 'clauskb', 'OttoCliman', 'rec', 'gugligugli', 'robertal', 'Tiziano', 'DAVIDEB', 'famigliamast', 'dennis', 'Br', 'Boscolo', 'Marzio', 'Luigi', 'ilsuperrecensore', 'Sissa', 'Timothy', 'MarcoCrepaldi', 'Outy', 'ElisabettaU', 'IlPazzo', 'Robertobob', 'Alepoppe', 'mimito', 'Gianluca', 'riccardo', 'Mongruad', 'stefania', 'Gloria', 'Marco', 'eliz', 'IlMorodeVenezia', 'Francesca', 'AlessandraCPd', 'marcostudios', 'KiLo', 'testarda', 'Ask', 'chiaratigro', 'RobertoSerraPadova', 'baggio', 'Natta', 'Sardanapalo', 'SAIDA', 'sabrina', 'enricod', 'alelu', 'MarkoPadova', 'LorenzoL', 'supergolix', 'giovine', 'GioiaMilano', 'Papinkur', 'Barone', 'giuliopule', 'Fabio', 'Valegiosu', 'davidetos', 'sabrina', 'Ankinator', 'angelastellina', 'Fulvio', 'younger', 'ErnestoAdria', 'fabiri', 'norifumi', 'alpino', 'Marco', 'annina', 'simolo', 'Ruggy', 'littlechurch', 'pisipessa', 'EllegiPD', 'gabriele', 'Giamba', 'Bardano', 'Chiara', 'robyjosh', 'marcobettin', 'cperozzo', 'RaffaellaM', 'Luca', 'Siberya', 'Cripstak', 'JysM', 'pgrigo', 'Eleonora', 'Zodx', 'alesssandr', 'freespo', 'Isabel', 'Tex', 'tripvisitors', 'ghiottonePadova', 'Ottix', 'Rudig', 'mauribear', 'simolo', 'andyslessing', 'danieluca', 'erikabello', 'airpeg', 'Jmtc', 'StefanoT', 'slyfly', 'vedderio', 'riccardomisinato', 'BigPyle', 'Aly', 'Marco', 'sofysony', 'alessandro', 'Wordcrasher', 'DISTAL', 'Nobus', 'MizzGiorgia', 'andyrom', 'Eradan', 'MadMaki', 'luigidi', 'marcopanto', 'cuffa', 'solex', 'Valeria', 'ziamariuccia', 'baldoe', 'RECINGHIO', 'RichardA', 'Mattia', 'Roberto', 'wuwuzela', 'Dworf', 'dragos', 'Tassos', 'toniobStVeneraMalta', 'Ronen', 'Mirto']\n"
     ]
    }
   ],
   "source": [
    "import re\n",
    "\n",
    "all_names_filtered = []\n",
    "\n",
    "regex = re.compile('[^a-zA-Z]')\n",
    "\n",
    "for name in all_names:\n",
    "    \n",
    "    if ' ' in name:                           # se c'è uno spazio nel nome\n",
    "        space = name.index(' ')               # ne trovo l'indice\n",
    "        name = regex.sub('', name[:space])    # effettuo un controllo su tutto ciò che non è alfabeto fino a quell'indice\n",
    "        all_names_filtered.append(name)       # e aggiungo la stringa\n",
    "        \n",
    "    else:\n",
    "        name = regex.sub('', name)            # in caso contrario effettuo un controllo su tutto ciò che non è alfabeto\n",
    "        all_names_filtered.append(name)       # e aggiungo la stringa\n",
    "        \n",
    "print(all_names, '\\n')\n",
    "print(all_names_filtered)"
   ]
  },
  {
   "cell_type": "markdown",
   "metadata": {
    "colab_type": "text",
    "id": "sVMu3308WTs9"
   },
   "source": [
    "#### Utilizzo gender_guesser\n",
    "Infine, posso utilizzare la libreria gender_guesser.\n",
    "\n",
    "NB: Genderize ti permette di analizzare 1000 nomi al giorno."
   ]
  },
  {
   "cell_type": "code",
   "execution_count": 11,
   "metadata": {
    "colab": {},
    "colab_type": "code",
    "id": "t013m_u2WTs_"
   },
   "outputs": [
    {
     "name": "stdout",
     "output_type": "stream",
     "text": [
      "Requirement already satisfied: gender_guesser in /anaconda3/lib/python3.7/site-packages (0.4.0)\r\n"
     ]
    }
   ],
   "source": [
    "!pip install gender_guesser"
   ]
  },
  {
   "cell_type": "code",
   "execution_count": 12,
   "metadata": {
    "colab": {},
    "colab_type": "code",
    "id": "T0F8kG-OWTtC"
   },
   "outputs": [
    {
     "name": "stdout",
     "output_type": "stream",
     "text": [
      "['unknown', 'unknown', 'unknown', 'unknown', 'male', 'unknown', 'unknown', 'unknown', 'unknown', 'unknown', 'unknown', 'unknown', 'unknown', 'male', 'female', 'unknown', 'unknown', 'male', 'male', 'unknown', 'unknown', 'unknown', 'unknown', 'unknown', 'unknown', 'unknown', 'unknown', 'unknown', 'unknown', 'unknown', 'unknown', 'unknown', 'unknown', 'unknown', 'unknown', 'unknown', 'unknown', 'unknown', 'unknown', 'unknown', 'unknown', 'unknown', 'unknown', 'male', 'unknown', 'unknown', 'unknown', 'unknown', 'unknown', 'male', 'unknown', 'unknown', 'unknown', 'unknown', 'unknown', 'male', 'female', 'male', 'unknown', 'unknown', 'unknown', 'unknown', 'unknown', 'unknown', 'unknown', 'unknown', 'unknown', 'unknown', 'unknown', 'unknown', 'unknown', 'unknown', 'unknown', 'unknown', 'female', 'unknown', 'unknown', 'female', 'male', 'unknown', 'female', 'female', 'unknown', 'female', 'unknown', 'unknown', 'unknown', 'unknown', 'male', 'unknown', 'unknown', 'unknown', 'unknown', 'unknown', 'unknown', 'unknown', 'unknown', 'unknown', 'unknown', 'unknown', 'unknown', 'unknown', 'unknown', 'unknown', 'unknown', 'unknown', 'unknown', 'female', 'female', 'female', 'male', 'unknown', 'unknown', 'unknown', 'unknown', 'female', 'male', 'female', 'unknown', 'male', 'unknown', 'unknown', 'unknown', 'unknown', 'unknown', 'unknown', 'unknown', 'unknown', 'unknown', 'unknown', 'unknown', 'unknown', 'unknown', 'unknown', 'unknown', 'unknown', 'unknown', 'unknown', 'unknown', 'unknown', 'unknown', 'male', 'unknown', 'unknown', 'unknown', 'male', 'unknown', 'unknown', 'unknown', 'unknown', 'unknown', 'unknown', 'unknown', 'unknown', 'male', 'unknown', 'male', 'male', 'unknown', 'unknown', 'male', 'male', 'unknown', 'male', 'unknown', 'unknown', 'unknown', 'unknown', 'male', 'unknown', 'male', 'unknown', 'unknown', 'unknown', 'unknown', 'female', 'female', 'unknown', 'unknown', 'female', 'unknown', 'unknown', 'unknown', 'unknown', 'unknown', 'unknown', 'unknown', 'unknown', 'unknown', 'unknown', 'unknown', 'unknown', 'unknown', 'unknown', 'unknown', 'unknown', 'unknown', 'unknown', 'unknown', 'unknown', 'unknown', 'unknown', 'male', 'unknown', 'unknown', 'unknown', 'female', 'unknown', 'male', 'unknown', 'unknown', 'male', 'male', 'unknown', 'unknown', 'unknown', 'unknown', 'male', 'unknown', 'unknown', 'unknown', 'unknown', 'unknown', 'unknown', 'unknown', 'unknown', 'unknown', 'female', 'male', 'female', 'unknown', 'unknown', 'male', 'unknown', 'female', 'unknown', 'unknown', 'unknown', 'unknown', 'unknown', 'unknown', 'unknown', 'unknown', 'unknown', 'male', 'unknown', 'unknown', 'unknown', 'unknown', 'male', 'unknown', 'unknown', 'unknown', 'unknown', 'unknown', 'unknown', 'unknown', 'unknown', 'unknown', 'unknown', 'unknown', 'unknown', 'unknown', 'unknown', 'unknown', 'male', 'unknown', 'male', 'male', 'unknown', 'male', 'male', 'unknown', 'female', 'male', 'female', 'male', 'unknown', 'female', 'unknown', 'unknown', 'unknown', 'unknown', 'unknown', 'unknown', 'male', 'unknown', 'unknown', 'male', 'unknown', 'unknown', 'unknown', 'unknown', 'unknown', 'unknown', 'unknown', 'unknown', 'unknown', 'male', 'male', 'unknown', 'male', 'male', 'unknown', 'male', 'unknown', 'unknown', 'unknown', 'unknown', 'unknown', 'unknown', 'female', 'unknown', 'unknown', 'male', 'unknown', 'male', 'female', 'male', 'unknown', 'female', 'unknown', 'unknown', 'unknown', 'female', 'unknown', 'male', 'unknown', 'unknown', 'unknown', 'unknown', 'unknown', 'female', 'unknown', 'unknown', 'unknown', 'unknown', 'unknown', 'unknown', 'unknown', 'unknown', 'unknown', 'unknown', 'unknown', 'unknown', 'unknown', 'unknown', 'unknown', 'unknown', 'unknown', 'unknown', 'unknown', 'unknown', 'unknown', 'unknown', 'unknown', 'female', 'unknown', 'unknown', 'unknown', 'unknown', 'unknown', 'unknown', 'unknown', 'unknown', 'unknown', 'unknown', 'unknown', 'unknown', 'unknown', 'unknown', 'unknown', 'unknown', 'female', 'unknown', 'unknown', 'unknown', 'male', 'unknown', 'male', 'unknown', 'unknown', 'unknown', 'female', 'unknown', 'unknown', 'unknown', 'unknown', 'unknown', 'unknown', 'male', 'unknown', 'unknown', 'unknown', 'unknown', 'unknown', 'male', 'unknown', 'unknown', 'unknown', 'male', 'unknown', 'unknown', 'unknown', 'male', 'unknown', 'unknown', 'male', 'female', 'male', 'unknown', 'male', 'male', 'unknown', 'female', 'unknown', 'unknown', 'male', 'unknown', 'unknown', 'unknown', 'unknown', 'unknown', 'unknown', 'unknown', 'unknown', 'unknown', 'unknown', 'unknown', 'unknown', 'unknown', 'unknown', 'unknown', 'unknown', 'unknown', 'unknown', 'unknown', 'unknown', 'unknown', 'unknown', 'unknown', 'male', 'unknown', 'unknown', 'unknown', 'unknown', 'male', 'unknown', 'unknown', 'unknown', 'unknown', 'male', 'unknown', 'male', 'unknown', 'unknown', 'unknown', 'unknown', 'unknown', 'unknown', 'unknown', 'unknown', 'unknown', 'unknown', 'unknown', 'unknown', 'unknown', 'unknown', 'unknown', 'unknown', 'male', 'unknown', 'unknown', 'unknown', 'unknown', 'unknown', 'male', 'male', 'unknown', 'unknown', 'male', 'unknown', 'unknown', 'unknown', 'unknown', 'unknown', 'unknown', 'unknown', 'male', 'unknown', 'unknown', 'unknown', 'female', 'male', 'unknown', 'unknown', 'female', 'unknown', 'unknown', 'unknown', 'unknown', 'unknown', 'unknown', 'unknown', 'unknown', 'unknown', 'unknown', 'unknown', 'unknown', 'unknown', 'unknown', 'unknown', 'unknown', 'unknown', 'unknown', 'unknown', 'unknown', 'unknown', 'unknown', 'male', 'unknown', 'unknown', 'unknown', 'unknown', 'unknown', 'male', 'unknown', 'unknown', 'unknown', 'unknown', 'unknown', 'male', 'unknown', 'unknown', 'unknown', 'unknown', 'unknown', 'unknown', 'unknown', 'unknown', 'unknown', 'female', 'unknown', 'unknown', 'unknown', 'unknown', 'male', 'unknown', 'unknown', 'unknown', 'unknown', 'female', 'unknown', 'unknown', 'unknown', 'female', 'male', 'unknown', 'unknown', 'unknown', 'unknown', 'unknown', 'unknown', 'unknown', 'unknown', 'unknown', 'unknown', 'unknown', 'unknown', 'unknown', 'unknown', 'unknown', 'unknown', 'female', 'male', 'unknown', 'unknown', 'unknown', 'unknown', 'unknown', 'unknown', 'unknown', 'unknown', 'unknown', 'unknown', 'unknown', 'unknown', 'unknown', 'female', 'unknown', 'unknown', 'unknown', 'unknown', 'male', 'male', 'unknown', 'unknown', 'unknown', 'male', 'unknown', 'male', 'male']\n"
     ]
    }
   ],
   "source": [
    "import gender_guesser.detector as gender\n",
    "d = gender.Detector()\n",
    "\n",
    "names_with_gender = []\n",
    "\n",
    "for name in all_names_filtered:\n",
    "    temp_gender = d.get_gender(name)\n",
    "    names_with_gender.append(temp_gender)\n",
    "  \n",
    "print(names_with_gender)"
   ]
  },
  {
   "cell_type": "code",
   "execution_count": 13,
   "metadata": {
    "colab": {},
    "colab_type": "code",
    "id": "1MhoJ5zSWTtK"
   },
   "outputs": [
    {
     "name": "stdout",
     "output_type": "stream",
     "text": [
      "['UNKNOWN', 'UNKNOWN', 'UNKNOWN', 'UNKNOWN', 'M', 'UNKNOWN', 'UNKNOWN', 'UNKNOWN', 'UNKNOWN', 'UNKNOWN', 'UNKNOWN', 'UNKNOWN', 'UNKNOWN', 'M', 'F', 'UNKNOWN', 'UNKNOWN', 'M', 'M', 'UNKNOWN', 'UNKNOWN', 'UNKNOWN', 'UNKNOWN', 'UNKNOWN', 'UNKNOWN', 'UNKNOWN', 'UNKNOWN', 'UNKNOWN', 'UNKNOWN', 'UNKNOWN', 'UNKNOWN', 'UNKNOWN', 'UNKNOWN', 'UNKNOWN', 'UNKNOWN', 'UNKNOWN', 'UNKNOWN', 'UNKNOWN', 'UNKNOWN', 'UNKNOWN', 'UNKNOWN', 'UNKNOWN', 'UNKNOWN', 'M', 'UNKNOWN', 'UNKNOWN', 'UNKNOWN', 'UNKNOWN', 'UNKNOWN', 'M', 'UNKNOWN', 'UNKNOWN', 'UNKNOWN', 'UNKNOWN', 'UNKNOWN', 'M', 'F', 'M', 'UNKNOWN', 'UNKNOWN', 'UNKNOWN', 'UNKNOWN', 'UNKNOWN', 'UNKNOWN', 'UNKNOWN', 'UNKNOWN', 'UNKNOWN', 'UNKNOWN', 'UNKNOWN', 'UNKNOWN', 'UNKNOWN', 'UNKNOWN', 'UNKNOWN', 'UNKNOWN', 'F', 'UNKNOWN', 'UNKNOWN', 'F', 'M', 'UNKNOWN', 'F', 'F', 'UNKNOWN', 'F', 'UNKNOWN', 'UNKNOWN', 'UNKNOWN', 'UNKNOWN', 'M', 'UNKNOWN', 'UNKNOWN', 'UNKNOWN', 'UNKNOWN', 'UNKNOWN', 'UNKNOWN', 'UNKNOWN', 'UNKNOWN', 'UNKNOWN', 'UNKNOWN', 'UNKNOWN', 'UNKNOWN', 'UNKNOWN', 'UNKNOWN', 'UNKNOWN', 'UNKNOWN', 'UNKNOWN', 'UNKNOWN', 'F', 'F', 'F', 'M', 'UNKNOWN', 'UNKNOWN', 'UNKNOWN', 'UNKNOWN', 'F', 'M', 'F', 'UNKNOWN', 'M', 'UNKNOWN', 'UNKNOWN', 'UNKNOWN', 'UNKNOWN', 'UNKNOWN', 'UNKNOWN', 'UNKNOWN', 'UNKNOWN', 'UNKNOWN', 'UNKNOWN', 'UNKNOWN', 'UNKNOWN', 'UNKNOWN', 'UNKNOWN', 'UNKNOWN', 'UNKNOWN', 'UNKNOWN', 'UNKNOWN', 'UNKNOWN', 'UNKNOWN', 'UNKNOWN', 'M', 'UNKNOWN', 'UNKNOWN', 'UNKNOWN', 'M', 'UNKNOWN', 'UNKNOWN', 'UNKNOWN', 'UNKNOWN', 'UNKNOWN', 'UNKNOWN', 'UNKNOWN', 'UNKNOWN', 'M', 'UNKNOWN', 'M', 'M', 'UNKNOWN', 'UNKNOWN', 'M', 'M', 'UNKNOWN', 'M', 'UNKNOWN', 'UNKNOWN', 'UNKNOWN', 'UNKNOWN', 'M', 'UNKNOWN', 'M', 'UNKNOWN', 'UNKNOWN', 'UNKNOWN', 'UNKNOWN', 'F', 'F', 'UNKNOWN', 'UNKNOWN', 'F', 'UNKNOWN', 'UNKNOWN', 'UNKNOWN', 'UNKNOWN', 'UNKNOWN', 'UNKNOWN', 'UNKNOWN', 'UNKNOWN', 'UNKNOWN', 'UNKNOWN', 'UNKNOWN', 'UNKNOWN', 'UNKNOWN', 'UNKNOWN', 'UNKNOWN', 'UNKNOWN', 'UNKNOWN', 'UNKNOWN', 'UNKNOWN', 'UNKNOWN', 'UNKNOWN', 'UNKNOWN', 'M', 'UNKNOWN', 'UNKNOWN', 'UNKNOWN', 'F', 'UNKNOWN', 'M', 'UNKNOWN', 'UNKNOWN', 'M', 'M', 'UNKNOWN', 'UNKNOWN', 'UNKNOWN', 'UNKNOWN', 'M', 'UNKNOWN', 'UNKNOWN', 'UNKNOWN', 'UNKNOWN', 'UNKNOWN', 'UNKNOWN', 'UNKNOWN', 'UNKNOWN', 'UNKNOWN', 'F', 'M', 'F', 'UNKNOWN', 'UNKNOWN', 'M', 'UNKNOWN', 'F', 'UNKNOWN', 'UNKNOWN', 'UNKNOWN', 'UNKNOWN', 'UNKNOWN', 'UNKNOWN', 'UNKNOWN', 'UNKNOWN', 'UNKNOWN', 'M', 'UNKNOWN', 'UNKNOWN', 'UNKNOWN', 'UNKNOWN', 'M', 'UNKNOWN', 'UNKNOWN', 'UNKNOWN', 'UNKNOWN', 'UNKNOWN', 'UNKNOWN', 'UNKNOWN', 'UNKNOWN', 'UNKNOWN', 'UNKNOWN', 'UNKNOWN', 'UNKNOWN', 'UNKNOWN', 'UNKNOWN', 'UNKNOWN', 'M', 'UNKNOWN', 'M', 'M', 'UNKNOWN', 'M', 'M', 'UNKNOWN', 'F', 'M', 'F', 'M', 'UNKNOWN', 'F', 'UNKNOWN', 'UNKNOWN', 'UNKNOWN', 'UNKNOWN', 'UNKNOWN', 'UNKNOWN', 'M', 'UNKNOWN', 'UNKNOWN', 'M', 'UNKNOWN', 'UNKNOWN', 'UNKNOWN', 'UNKNOWN', 'UNKNOWN', 'UNKNOWN', 'UNKNOWN', 'UNKNOWN', 'UNKNOWN', 'M', 'M', 'UNKNOWN', 'M', 'M', 'UNKNOWN', 'M', 'UNKNOWN', 'UNKNOWN', 'UNKNOWN', 'UNKNOWN', 'UNKNOWN', 'UNKNOWN', 'F', 'UNKNOWN', 'UNKNOWN', 'M', 'UNKNOWN', 'M', 'F', 'M', 'UNKNOWN', 'F', 'UNKNOWN', 'UNKNOWN', 'UNKNOWN', 'F', 'UNKNOWN', 'M', 'UNKNOWN', 'UNKNOWN', 'UNKNOWN', 'UNKNOWN', 'UNKNOWN', 'F', 'UNKNOWN', 'UNKNOWN', 'UNKNOWN', 'UNKNOWN', 'UNKNOWN', 'UNKNOWN', 'UNKNOWN', 'UNKNOWN', 'UNKNOWN', 'UNKNOWN', 'UNKNOWN', 'UNKNOWN', 'UNKNOWN', 'UNKNOWN', 'UNKNOWN', 'UNKNOWN', 'UNKNOWN', 'UNKNOWN', 'UNKNOWN', 'UNKNOWN', 'UNKNOWN', 'UNKNOWN', 'UNKNOWN', 'F', 'UNKNOWN', 'UNKNOWN', 'UNKNOWN', 'UNKNOWN', 'UNKNOWN', 'UNKNOWN', 'UNKNOWN', 'UNKNOWN', 'UNKNOWN', 'UNKNOWN', 'UNKNOWN', 'UNKNOWN', 'UNKNOWN', 'UNKNOWN', 'UNKNOWN', 'UNKNOWN', 'F', 'UNKNOWN', 'UNKNOWN', 'UNKNOWN', 'M', 'UNKNOWN', 'M', 'UNKNOWN', 'UNKNOWN', 'UNKNOWN', 'F', 'UNKNOWN', 'UNKNOWN', 'UNKNOWN', 'UNKNOWN', 'UNKNOWN', 'UNKNOWN', 'M', 'UNKNOWN', 'UNKNOWN', 'UNKNOWN', 'UNKNOWN', 'UNKNOWN', 'M', 'UNKNOWN', 'UNKNOWN', 'UNKNOWN', 'M', 'UNKNOWN', 'UNKNOWN', 'UNKNOWN', 'M', 'UNKNOWN', 'UNKNOWN', 'M', 'F', 'M', 'UNKNOWN', 'M', 'M', 'UNKNOWN', 'F', 'UNKNOWN', 'UNKNOWN', 'M', 'UNKNOWN', 'UNKNOWN', 'UNKNOWN', 'UNKNOWN', 'UNKNOWN', 'UNKNOWN', 'UNKNOWN', 'UNKNOWN', 'UNKNOWN', 'UNKNOWN', 'UNKNOWN', 'UNKNOWN', 'UNKNOWN', 'UNKNOWN', 'UNKNOWN', 'UNKNOWN', 'UNKNOWN', 'UNKNOWN', 'UNKNOWN', 'UNKNOWN', 'UNKNOWN', 'UNKNOWN', 'UNKNOWN', 'M', 'UNKNOWN', 'UNKNOWN', 'UNKNOWN', 'UNKNOWN', 'M', 'UNKNOWN', 'UNKNOWN', 'UNKNOWN', 'UNKNOWN', 'M', 'UNKNOWN', 'M', 'UNKNOWN', 'UNKNOWN', 'UNKNOWN', 'UNKNOWN', 'UNKNOWN', 'UNKNOWN', 'UNKNOWN', 'UNKNOWN', 'UNKNOWN', 'UNKNOWN', 'UNKNOWN', 'UNKNOWN', 'UNKNOWN', 'UNKNOWN', 'UNKNOWN', 'UNKNOWN', 'M', 'UNKNOWN', 'UNKNOWN', 'UNKNOWN', 'UNKNOWN', 'UNKNOWN', 'M', 'M', 'UNKNOWN', 'UNKNOWN', 'M', 'UNKNOWN', 'UNKNOWN', 'UNKNOWN', 'UNKNOWN', 'UNKNOWN', 'UNKNOWN', 'UNKNOWN', 'M', 'UNKNOWN', 'UNKNOWN', 'UNKNOWN', 'F', 'M', 'UNKNOWN', 'UNKNOWN', 'F', 'UNKNOWN', 'UNKNOWN', 'UNKNOWN', 'UNKNOWN', 'UNKNOWN', 'UNKNOWN', 'UNKNOWN', 'UNKNOWN', 'UNKNOWN', 'UNKNOWN', 'UNKNOWN', 'UNKNOWN', 'UNKNOWN', 'UNKNOWN', 'UNKNOWN', 'UNKNOWN', 'UNKNOWN', 'UNKNOWN', 'UNKNOWN', 'UNKNOWN', 'UNKNOWN', 'UNKNOWN', 'M', 'UNKNOWN', 'UNKNOWN', 'UNKNOWN', 'UNKNOWN', 'UNKNOWN', 'M', 'UNKNOWN', 'UNKNOWN', 'UNKNOWN', 'UNKNOWN', 'UNKNOWN', 'M', 'UNKNOWN', 'UNKNOWN', 'UNKNOWN', 'UNKNOWN', 'UNKNOWN', 'UNKNOWN', 'UNKNOWN', 'UNKNOWN', 'UNKNOWN', 'F', 'UNKNOWN', 'UNKNOWN', 'UNKNOWN', 'UNKNOWN', 'M', 'UNKNOWN', 'UNKNOWN', 'UNKNOWN', 'UNKNOWN', 'F', 'UNKNOWN', 'UNKNOWN', 'UNKNOWN', 'F', 'M', 'UNKNOWN', 'UNKNOWN', 'UNKNOWN', 'UNKNOWN', 'UNKNOWN', 'UNKNOWN', 'UNKNOWN', 'UNKNOWN', 'UNKNOWN', 'UNKNOWN', 'UNKNOWN', 'UNKNOWN', 'UNKNOWN', 'UNKNOWN', 'UNKNOWN', 'UNKNOWN', 'F', 'M', 'UNKNOWN', 'UNKNOWN', 'UNKNOWN', 'UNKNOWN', 'UNKNOWN', 'UNKNOWN', 'UNKNOWN', 'UNKNOWN', 'UNKNOWN', 'UNKNOWN', 'UNKNOWN', 'UNKNOWN', 'UNKNOWN', 'F', 'UNKNOWN', 'UNKNOWN', 'UNKNOWN', 'UNKNOWN', 'M', 'M', 'UNKNOWN', 'UNKNOWN', 'UNKNOWN', 'M', 'UNKNOWN', 'M', 'M']\n"
     ]
    }
   ],
   "source": [
    "all_genders = []\n",
    "i = 0\n",
    "\n",
    "for guess in names_with_gender:\n",
    "    if guess == 'male' or guess == 'mostly_male':\n",
    "        all_genders.append('M')\n",
    "    elif guess == 'female' or guess == 'mostly_female':\n",
    "        all_genders.append('F')\n",
    "    else:\n",
    "        all_genders.append('UNKNOWN')\n",
    "\n",
    "    \n",
    "print(all_genders)"
   ]
  },
  {
   "cell_type": "markdown",
   "metadata": {
    "colab_type": "text",
    "id": "bHM88i7bWTtV"
   },
   "source": [
    "---\n",
    "## Salviamo ora i dati ottenuti in una tabella Excel\n",
    "Così non dovremo ogni volta rieseguire tutto il codice\n",
    "\n"
   ]
  },
  {
   "cell_type": "markdown",
   "metadata": {
    "colab_type": "text",
    "id": "yQUBDvHwWTtd"
   },
   "source": [
    "### Controlliamo che ci siano lo stesso numero di dati\n",
    "Potremo così creare una tabella sfruttando Pandas"
   ]
  },
  {
   "cell_type": "code",
   "execution_count": 14,
   "metadata": {
    "colab": {},
    "colab_type": "code",
    "id": "uPxa7-97WTtd"
   },
   "outputs": [
    {
     "name": "stdout",
     "output_type": "stream",
     "text": [
      "Nomi:  602\n",
      "Commenti:  602\n",
      "Voti:  602\n",
      "Mobile:  602\n"
     ]
    }
   ],
   "source": [
    "print('Nomi: ', len(all_names_filtered))\n",
    "print('Commenti: ', len(all_reviews_filtered))\n",
    "print('Voti: ', len(all_ratings))\n",
    "print('Mobile: ', len(all_mobile))"
   ]
  },
  {
   "cell_type": "markdown",
   "metadata": {
    "colab_type": "text",
    "id": "L3jNT2atZj9k"
   },
   "source": [
    "### Eliminiamo le recensioni troppo lunghe e quelle di cui non sappiamo il genere del commentatore\n",
    "Creo una lista di liste [ ['NOME', 'GENERE', 'RECENSIONE', 'VOTO'], ['NOME', 'GENERE', 'RECENSIONE', 'VOTO'], ... ]"
   ]
  },
  {
   "cell_type": "code",
   "execution_count": 15,
   "metadata": {
    "colab": {},
    "colab_type": "code",
    "id": "x3jtEoicZrFl"
   },
   "outputs": [
    {
     "name": "stdout",
     "output_type": "stream",
     "text": [
      "DATI ANALIZZABILI:  56\n"
     ]
    },
    {
     "data": {
      "text/plain": [
       "[['Antonio',\n",
       "  'M',\n",
       "  'Classica catena dal sapore stelle e strisce, piatti buoni ma non eccezionali , prezzi di mercato , servizio e atmosfera buoni per il genere di ristorante .',\n",
       "  '4',\n",
       "  'PC'],\n",
       " ['Alessia',\n",
       "  'F',\n",
       "  \"cibo buonissimo, dai piatti principali, ai contorni, ai dolci. prezzi nella norma per la qualità offerta. Chi si lamenta dei prezzi elevati sembra non li legga al momento dell'ordinazione, magari leggete i prezzi prima di ordinare, altrimenti che vi lamentate a fare\",\n",
       "  '5',\n",
       "  'PC'],\n",
       " ['Fabio',\n",
       "  'M',\n",
       "  'Posto ideale per stare in compagnia, i piatti sono abbondati, si mangia normale, niente di speciale, prezzi medio alti, costine buone.',\n",
       "  '3',\n",
       "  'Mobile'],\n",
       " ['Riccardo',\n",
       "  'M',\n",
       "  'Ritardo di 20 minuti nonostante la prenotazione ,camerieri che commentano la partita alla televisione con frasi scurrili al posto che prendere gli ordini. Cameriere che parlano tra di loro con la fila di gente che ha prenotato.',\n",
       "  '1',\n",
       "  'Mobile'],\n",
       " ['Cristina',\n",
       "  'F',\n",
       "  'Qualità della carne e cottura scarsa, sia io che il mio fidanzato abbiamo avuto problemi nel digerirla..non ci siamo',\n",
       "  '2',\n",
       "  'Mobile']]"
      ]
     },
     "metadata": {},
     "output_type": "display_data"
    }
   ],
   "source": [
    "complete_list = []\n",
    "\n",
    "i = len(all_names_filtered)\n",
    "\n",
    "for indice in range(i):\n",
    "  if all_genders[indice] != 'UNKNOWN' and all_reviews_filtered[indice] != 'RECENSIONE_TROPPO_LUNGA':\n",
    "    temp = [all_names_filtered[indice], all_genders[indice], all_reviews_filtered[indice], all_ratings[indice], all_mobile[indice]]\n",
    "    complete_list.append(temp)\n",
    "    \n",
    "print('DATI ANALIZZABILI: ', len(complete_list))\n",
    "display(complete_list[:5])\n"
   ]
  },
  {
   "cell_type": "markdown",
   "metadata": {
    "colab_type": "text",
    "id": "zwEridD9ZzVo"
   },
   "source": [
    "### Creiamo la tabella"
   ]
  },
  {
   "cell_type": "code",
   "execution_count": 16,
   "metadata": {
    "colab": {},
    "colab_type": "code",
    "id": "j1H48nXfWTtl"
   },
   "outputs": [],
   "source": [
    "# !pip install pandas\n",
    "# !pip install xlsxwriter\n",
    "import pandas as pd"
   ]
  },
  {
   "cell_type": "code",
   "execution_count": 17,
   "metadata": {
    "colab": {},
    "colab_type": "code",
    "id": "FWhktgyIWTtp"
   },
   "outputs": [],
   "source": [
    "# Create a Pandas dataframe from the data.\n",
    "df = pd.DataFrame({'Nomi': [elemento[0] for elemento in complete_list], \n",
    "                   'Genere': [elemento[1] for elemento in complete_list], \n",
    "                   'Recensioni': [elemento[2] for elemento in complete_list],\n",
    "                   'Voti': [elemento[3] for elemento in complete_list],\n",
    "                   'Scritta da': [elemento[4] for elemento in complete_list]})\n",
    "\n",
    "# Create a Pandas Excel writer using XlsxWriter as the engine.\n",
    "writer = pd.ExcelWriter('RISTORANTE_19.xlsx', engine='xlsxwriter')\n",
    "\n",
    "# Convert the dataframe to an XlsxWriter Excel object.\n",
    "df.to_excel(writer, sheet_name='Sheet1')\n",
    "\n",
    "# Close the Pandas Excel writer and output the Excel file.\n",
    "writer.save()"
   ]
  },
  {
   "cell_type": "code",
   "execution_count": 18,
   "metadata": {
    "colab": {},
    "colab_type": "code",
    "id": "Fdg5rRWmWTtv"
   },
   "outputs": [
    {
     "data": {
      "text/html": [
       "<div>\n",
       "<style scoped>\n",
       "    .dataframe tbody tr th:only-of-type {\n",
       "        vertical-align: middle;\n",
       "    }\n",
       "\n",
       "    .dataframe tbody tr th {\n",
       "        vertical-align: top;\n",
       "    }\n",
       "\n",
       "    .dataframe thead th {\n",
       "        text-align: right;\n",
       "    }\n",
       "</style>\n",
       "<table border=\"1\" class=\"dataframe\">\n",
       "  <thead>\n",
       "    <tr style=\"text-align: right;\">\n",
       "      <th></th>\n",
       "      <th>Nomi</th>\n",
       "      <th>Genere</th>\n",
       "      <th>Recensioni</th>\n",
       "      <th>Voti</th>\n",
       "      <th>Scritta da</th>\n",
       "    </tr>\n",
       "  </thead>\n",
       "  <tbody>\n",
       "    <tr>\n",
       "      <th>0</th>\n",
       "      <td>Antonio</td>\n",
       "      <td>M</td>\n",
       "      <td>Classica catena dal sapore stelle e strisce, p...</td>\n",
       "      <td>4</td>\n",
       "      <td>PC</td>\n",
       "    </tr>\n",
       "    <tr>\n",
       "      <th>1</th>\n",
       "      <td>Alessia</td>\n",
       "      <td>F</td>\n",
       "      <td>cibo buonissimo, dai piatti principali, ai con...</td>\n",
       "      <td>5</td>\n",
       "      <td>PC</td>\n",
       "    </tr>\n",
       "    <tr>\n",
       "      <th>2</th>\n",
       "      <td>Fabio</td>\n",
       "      <td>M</td>\n",
       "      <td>Posto ideale per stare in compagnia, i piatti ...</td>\n",
       "      <td>3</td>\n",
       "      <td>Mobile</td>\n",
       "    </tr>\n",
       "    <tr>\n",
       "      <th>3</th>\n",
       "      <td>Riccardo</td>\n",
       "      <td>M</td>\n",
       "      <td>Ritardo di 20 minuti nonostante la prenotazion...</td>\n",
       "      <td>1</td>\n",
       "      <td>Mobile</td>\n",
       "    </tr>\n",
       "    <tr>\n",
       "      <th>4</th>\n",
       "      <td>Cristina</td>\n",
       "      <td>F</td>\n",
       "      <td>Qualità della carne e cottura scarsa, sia io c...</td>\n",
       "      <td>2</td>\n",
       "      <td>Mobile</td>\n",
       "    </tr>\n",
       "    <tr>\n",
       "      <th>5</th>\n",
       "      <td>Nicky</td>\n",
       "      <td>M</td>\n",
       "      <td>Buon locale. Location 4 su 5, menú 4 su 5, ser...</td>\n",
       "      <td>4</td>\n",
       "      <td>Mobile</td>\n",
       "    </tr>\n",
       "    <tr>\n",
       "      <th>6</th>\n",
       "      <td>Elsa</td>\n",
       "      <td>F</td>\n",
       "      <td>Locale un po' anonimo,cibo buono,come i panini...</td>\n",
       "      <td>3</td>\n",
       "      <td>Mobile</td>\n",
       "    </tr>\n",
       "    <tr>\n",
       "      <th>7</th>\n",
       "      <td>Anna</td>\n",
       "      <td>F</td>\n",
       "      <td>ci ricordiamo di prenotare, anche magari 20 mi...</td>\n",
       "      <td>3</td>\n",
       "      <td>PC</td>\n",
       "    </tr>\n",
       "    <tr>\n",
       "      <th>8</th>\n",
       "      <td>Massimo</td>\n",
       "      <td>M</td>\n",
       "      <td>Non ci si può lamentare\\nServizio buono e velo...</td>\n",
       "      <td>3</td>\n",
       "      <td>Mobile</td>\n",
       "    </tr>\n",
       "    <tr>\n",
       "      <th>9</th>\n",
       "      <td>Marco</td>\n",
       "      <td>M</td>\n",
       "      <td>Ci sono stato molte volte ormai, ci torno perc...</td>\n",
       "      <td>4</td>\n",
       "      <td>Mobile</td>\n",
       "    </tr>\n",
       "    <tr>\n",
       "      <th>10</th>\n",
       "      <td>Ferruccio</td>\n",
       "      <td>M</td>\n",
       "      <td>Sempre buonissimo, se ci passo davanti non rie...</td>\n",
       "      <td>5</td>\n",
       "      <td>Mobile</td>\n",
       "    </tr>\n",
       "    <tr>\n",
       "      <th>11</th>\n",
       "      <td>Lorenzo</td>\n",
       "      <td>M</td>\n",
       "      <td>Tutte le volte che ci sono stato la carne era ...</td>\n",
       "      <td>3</td>\n",
       "      <td>PC</td>\n",
       "    </tr>\n",
       "    <tr>\n",
       "      <th>12</th>\n",
       "      <td>Nico</td>\n",
       "      <td>M</td>\n",
       "      <td>Manager scortese con troppa fretta di chiudere...</td>\n",
       "      <td>1</td>\n",
       "      <td>Mobile</td>\n",
       "    </tr>\n",
       "    <tr>\n",
       "      <th>13</th>\n",
       "      <td>Emiliano</td>\n",
       "      <td>M</td>\n",
       "      <td>Mangiato bene, servizio buono, personale cordi...</td>\n",
       "      <td>4</td>\n",
       "      <td>Mobile</td>\n",
       "    </tr>\n",
       "    <tr>\n",
       "      <th>14</th>\n",
       "      <td>Ferruccio</td>\n",
       "      <td>M</td>\n",
       "      <td>Ogni volta che ci passo davanti non resisto al...</td>\n",
       "      <td>5</td>\n",
       "      <td>Mobile</td>\n",
       "    </tr>\n",
       "    <tr>\n",
       "      <th>15</th>\n",
       "      <td>Perla</td>\n",
       "      <td>F</td>\n",
       "      <td>Prezzi non molto in linea con la pausa pranzo,...</td>\n",
       "      <td>3</td>\n",
       "      <td>PC</td>\n",
       "    </tr>\n",
       "    <tr>\n",
       "      <th>16</th>\n",
       "      <td>Simone</td>\n",
       "      <td>F</td>\n",
       "      <td>Ordine alle 19.45 consegna alle 21.10 non anco...</td>\n",
       "      <td>1</td>\n",
       "      <td>Mobile</td>\n",
       "    </tr>\n",
       "    <tr>\n",
       "      <th>17</th>\n",
       "      <td>Michele</td>\n",
       "      <td>F</td>\n",
       "      <td>Ideale per chi vuole pranzare in tempi brevi p...</td>\n",
       "      <td>3</td>\n",
       "      <td>Mobile</td>\n",
       "    </tr>\n",
       "    <tr>\n",
       "      <th>18</th>\n",
       "      <td>Giovanni</td>\n",
       "      <td>M</td>\n",
       "      <td>Ordinato due piatti carne mista, veramente mol...</td>\n",
       "      <td>5</td>\n",
       "      <td>Mobile</td>\n",
       "    </tr>\n",
       "    <tr>\n",
       "      <th>19</th>\n",
       "      <td>Guido</td>\n",
       "      <td>M</td>\n",
       "      <td>Di passaggio per Padova vado spesso al RoadHou...</td>\n",
       "      <td>3</td>\n",
       "      <td>PC</td>\n",
       "    </tr>\n",
       "    <tr>\n",
       "      <th>20</th>\n",
       "      <td>Giusy</td>\n",
       "      <td>F</td>\n",
       "      <td>Bel locale, servizio gentile e abbastanza velo...</td>\n",
       "      <td>4</td>\n",
       "      <td>Mobile</td>\n",
       "    </tr>\n",
       "    <tr>\n",
       "      <th>21</th>\n",
       "      <td>Maria</td>\n",
       "      <td>F</td>\n",
       "      <td>Siamo andati a cenare un sabato sera in coppia...</td>\n",
       "      <td>3</td>\n",
       "      <td>Mobile</td>\n",
       "    </tr>\n",
       "    <tr>\n",
       "      <th>22</th>\n",
       "      <td>Giacomo</td>\n",
       "      <td>M</td>\n",
       "      <td>Cibo molto buono e con una vasta scelta, prezz...</td>\n",
       "      <td>3</td>\n",
       "      <td>Mobile</td>\n",
       "    </tr>\n",
       "    <tr>\n",
       "      <th>23</th>\n",
       "      <td>Roberto</td>\n",
       "      <td>M</td>\n",
       "      <td>Le costolette me le ricordavo fatte meglio, mi...</td>\n",
       "      <td>3</td>\n",
       "      <td>Mobile</td>\n",
       "    </tr>\n",
       "    <tr>\n",
       "      <th>24</th>\n",
       "      <td>Massimo</td>\n",
       "      <td>M</td>\n",
       "      <td>Un po' caro per un panino così piccolo e le pa...</td>\n",
       "      <td>2</td>\n",
       "      <td>Mobile</td>\n",
       "    </tr>\n",
       "    <tr>\n",
       "      <th>25</th>\n",
       "      <td>Riccardo</td>\n",
       "      <td>M</td>\n",
       "      <td>Ottimo locale, io sono vegetariano ma mi hanno...</td>\n",
       "      <td>4</td>\n",
       "      <td>PC</td>\n",
       "    </tr>\n",
       "    <tr>\n",
       "      <th>26</th>\n",
       "      <td>Alice</td>\n",
       "      <td>F</td>\n",
       "      <td>Cena di coppia, cibo molto buono, personale co...</td>\n",
       "      <td>5</td>\n",
       "      <td>PC</td>\n",
       "    </tr>\n",
       "    <tr>\n",
       "      <th>27</th>\n",
       "      <td>Manuele</td>\n",
       "      <td>M</td>\n",
       "      <td>Naturalmente non c'erano grosse pretese, luogo...</td>\n",
       "      <td>2</td>\n",
       "      <td>Mobile</td>\n",
       "    </tr>\n",
       "    <tr>\n",
       "      <th>28</th>\n",
       "      <td>Silvia</td>\n",
       "      <td>F</td>\n",
       "      <td>sono stata l altra sera..buono il panino..trip...</td>\n",
       "      <td>2</td>\n",
       "      <td>PC</td>\n",
       "    </tr>\n",
       "    <tr>\n",
       "      <th>29</th>\n",
       "      <td>Luca</td>\n",
       "      <td>M</td>\n",
       "      <td>Prima volta, ma sono sicuro di tornarci.\\nIl s...</td>\n",
       "      <td>4</td>\n",
       "      <td>Mobile</td>\n",
       "    </tr>\n",
       "    <tr>\n",
       "      <th>30</th>\n",
       "      <td>Giacomo</td>\n",
       "      <td>M</td>\n",
       "      <td>Ottimo grill/ristorante con ottimicibi america...</td>\n",
       "      <td>5</td>\n",
       "      <td>Mobile</td>\n",
       "    </tr>\n",
       "    <tr>\n",
       "      <th>31</th>\n",
       "      <td>Gian</td>\n",
       "      <td>M</td>\n",
       "      <td>Preso un BaconSwiss, molto buono ed abbondante...</td>\n",
       "      <td>4</td>\n",
       "      <td>Mobile</td>\n",
       "    </tr>\n",
       "    <tr>\n",
       "      <th>32</th>\n",
       "      <td>Danilo</td>\n",
       "      <td>M</td>\n",
       "      <td>Ottima catena di ristorazione, vasto menù stil...</td>\n",
       "      <td>4</td>\n",
       "      <td>PC</td>\n",
       "    </tr>\n",
       "    <tr>\n",
       "      <th>33</th>\n",
       "      <td>Raluca</td>\n",
       "      <td>F</td>\n",
       "      <td>Adoro il sandwich Steak &amp;Cheese!! In generale ...</td>\n",
       "      <td>4</td>\n",
       "      <td>PC</td>\n",
       "    </tr>\n",
       "    <tr>\n",
       "      <th>34</th>\n",
       "      <td>Alby</td>\n",
       "      <td>M</td>\n",
       "      <td>Lo steak con la cipolla e qualcosa di fantasti...</td>\n",
       "      <td>4</td>\n",
       "      <td>Mobile</td>\n",
       "    </tr>\n",
       "    <tr>\n",
       "      <th>35</th>\n",
       "      <td>Vincenzo</td>\n",
       "      <td>M</td>\n",
       "      <td>Ottimo servizio sia come presenza sia come vel...</td>\n",
       "      <td>4</td>\n",
       "      <td>Mobile</td>\n",
       "    </tr>\n",
       "    <tr>\n",
       "      <th>36</th>\n",
       "      <td>Cami</td>\n",
       "      <td>F</td>\n",
       "      <td>Siamo andati in questo locale perché in posses...</td>\n",
       "      <td>4</td>\n",
       "      <td>Mobile</td>\n",
       "    </tr>\n",
       "    <tr>\n",
       "      <th>37</th>\n",
       "      <td>Nicola</td>\n",
       "      <td>F</td>\n",
       "      <td>Carne magnifica e cotture magistrali. Secondo ...</td>\n",
       "      <td>5</td>\n",
       "      <td>Mobile</td>\n",
       "    </tr>\n",
       "    <tr>\n",
       "      <th>38</th>\n",
       "      <td>Valerio</td>\n",
       "      <td>M</td>\n",
       "      <td>Sabato sera locale affollato ma tavolo disponi...</td>\n",
       "      <td>2</td>\n",
       "      <td>Mobile</td>\n",
       "    </tr>\n",
       "    <tr>\n",
       "      <th>39</th>\n",
       "      <td>Emanuele</td>\n",
       "      <td>M</td>\n",
       "      <td>Rispetto alla recensione precedente hanno corr...</td>\n",
       "      <td>4</td>\n",
       "      <td>Mobile</td>\n",
       "    </tr>\n",
       "    <tr>\n",
       "      <th>40</th>\n",
       "      <td>Rudy</td>\n",
       "      <td>M</td>\n",
       "      <td>Quando si arriva, manca il parcheggio, la carn...</td>\n",
       "      <td>3</td>\n",
       "      <td>PC</td>\n",
       "    </tr>\n",
       "    <tr>\n",
       "      <th>41</th>\n",
       "      <td>Antonio</td>\n",
       "      <td>M</td>\n",
       "      <td>sono stato di passaggio conoscendo da molto la...</td>\n",
       "      <td>1</td>\n",
       "      <td>PC</td>\n",
       "    </tr>\n",
       "    <tr>\n",
       "      <th>42</th>\n",
       "      <td>Emanuele</td>\n",
       "      <td>M</td>\n",
       "      <td>La carne è superlativa, sia la scelta, sia il ...</td>\n",
       "      <td>4</td>\n",
       "      <td>Mobile</td>\n",
       "    </tr>\n",
       "    <tr>\n",
       "      <th>43</th>\n",
       "      <td>Luca</td>\n",
       "      <td>M</td>\n",
       "      <td>Una steakhouse nella media...sono appena andat...</td>\n",
       "      <td>3</td>\n",
       "      <td>Mobile</td>\n",
       "    </tr>\n",
       "    <tr>\n",
       "      <th>44</th>\n",
       "      <td>Gioele</td>\n",
       "      <td>M</td>\n",
       "      <td>Tutto sempre buono e gustoso, però dovrebbero ...</td>\n",
       "      <td>4</td>\n",
       "      <td>PC</td>\n",
       "    </tr>\n",
       "    <tr>\n",
       "      <th>45</th>\n",
       "      <td>Marzio</td>\n",
       "      <td>M</td>\n",
       "      <td>Quando voglio farmi una mangiata di carne us s...</td>\n",
       "      <td>4</td>\n",
       "      <td>PC</td>\n",
       "    </tr>\n",
       "    <tr>\n",
       "      <th>46</th>\n",
       "      <td>Gloria</td>\n",
       "      <td>F</td>\n",
       "      <td>Ambiente un po' dozzinale, menù in stile fastf...</td>\n",
       "      <td>3</td>\n",
       "      <td>PC</td>\n",
       "    </tr>\n",
       "    <tr>\n",
       "      <th>47</th>\n",
       "      <td>Fulvio</td>\n",
       "      <td>M</td>\n",
       "      <td>Mangioto bene, in coppia, scegliendo bene il t...</td>\n",
       "      <td>4</td>\n",
       "      <td>PC</td>\n",
       "    </tr>\n",
       "    <tr>\n",
       "      <th>48</th>\n",
       "      <td>Luca</td>\n",
       "      <td>M</td>\n",
       "      <td>Non è un ristorante.\\nNon è un fast food.\\nDic...</td>\n",
       "      <td>4</td>\n",
       "      <td>PC</td>\n",
       "    </tr>\n",
       "    <tr>\n",
       "      <th>49</th>\n",
       "      <td>Isabel</td>\n",
       "      <td>F</td>\n",
       "      <td>Ampio locale, servizio professionale e cortese...</td>\n",
       "      <td>4</td>\n",
       "      <td>PC</td>\n",
       "    </tr>\n",
       "    <tr>\n",
       "      <th>50</th>\n",
       "      <td>Tex</td>\n",
       "      <td>M</td>\n",
       "      <td>E' uno di quei posti che frequento quando ho v...</td>\n",
       "      <td>4</td>\n",
       "      <td>PC</td>\n",
       "    </tr>\n",
       "    <tr>\n",
       "      <th>51</th>\n",
       "      <td>Mattia</td>\n",
       "      <td>M</td>\n",
       "      <td>Il cibo offerto è molto buono! ! L'unica cosa ...</td>\n",
       "      <td>3</td>\n",
       "      <td>PC</td>\n",
       "    </tr>\n",
       "    <tr>\n",
       "      <th>52</th>\n",
       "      <td>Roberto</td>\n",
       "      <td>M</td>\n",
       "      <td>Tornando a Venezia ho provato questo ristorant...</td>\n",
       "      <td>4</td>\n",
       "      <td>PC</td>\n",
       "    </tr>\n",
       "    <tr>\n",
       "      <th>53</th>\n",
       "      <td>Tassos</td>\n",
       "      <td>M</td>\n",
       "      <td>Il Maxxi Hamburger è 500gr nessuno di padova h...</td>\n",
       "      <td>4</td>\n",
       "      <td>PC</td>\n",
       "    </tr>\n",
       "    <tr>\n",
       "      <th>54</th>\n",
       "      <td>Ronen</td>\n",
       "      <td>M</td>\n",
       "      <td>Hamburger e bistecche, stile statunitense, dal...</td>\n",
       "      <td>3</td>\n",
       "      <td>PC</td>\n",
       "    </tr>\n",
       "    <tr>\n",
       "      <th>55</th>\n",
       "      <td>Mirto</td>\n",
       "      <td>M</td>\n",
       "      <td>Ho visitato il Roadhouse Grill diverse volte n...</td>\n",
       "      <td>3</td>\n",
       "      <td>PC</td>\n",
       "    </tr>\n",
       "  </tbody>\n",
       "</table>\n",
       "</div>"
      ],
      "text/plain": [
       "         Nomi Genere                                         Recensioni  Voti  \\\n",
       "0     Antonio      M  Classica catena dal sapore stelle e strisce, p...     4   \n",
       "1     Alessia      F  cibo buonissimo, dai piatti principali, ai con...     5   \n",
       "2       Fabio      M  Posto ideale per stare in compagnia, i piatti ...     3   \n",
       "3    Riccardo      M  Ritardo di 20 minuti nonostante la prenotazion...     1   \n",
       "4    Cristina      F  Qualità della carne e cottura scarsa, sia io c...     2   \n",
       "5       Nicky      M  Buon locale. Location 4 su 5, menú 4 su 5, ser...     4   \n",
       "6        Elsa      F  Locale un po' anonimo,cibo buono,come i panini...     3   \n",
       "7        Anna      F  ci ricordiamo di prenotare, anche magari 20 mi...     3   \n",
       "8     Massimo      M  Non ci si può lamentare\\nServizio buono e velo...     3   \n",
       "9       Marco      M  Ci sono stato molte volte ormai, ci torno perc...     4   \n",
       "10  Ferruccio      M  Sempre buonissimo, se ci passo davanti non rie...     5   \n",
       "11    Lorenzo      M  Tutte le volte che ci sono stato la carne era ...     3   \n",
       "12       Nico      M  Manager scortese con troppa fretta di chiudere...     1   \n",
       "13   Emiliano      M  Mangiato bene, servizio buono, personale cordi...     4   \n",
       "14  Ferruccio      M  Ogni volta che ci passo davanti non resisto al...     5   \n",
       "15      Perla      F  Prezzi non molto in linea con la pausa pranzo,...     3   \n",
       "16     Simone      F  Ordine alle 19.45 consegna alle 21.10 non anco...     1   \n",
       "17    Michele      F  Ideale per chi vuole pranzare in tempi brevi p...     3   \n",
       "18   Giovanni      M  Ordinato due piatti carne mista, veramente mol...     5   \n",
       "19      Guido      M  Di passaggio per Padova vado spesso al RoadHou...     3   \n",
       "20      Giusy      F  Bel locale, servizio gentile e abbastanza velo...     4   \n",
       "21      Maria      F  Siamo andati a cenare un sabato sera in coppia...     3   \n",
       "22    Giacomo      M  Cibo molto buono e con una vasta scelta, prezz...     3   \n",
       "23    Roberto      M  Le costolette me le ricordavo fatte meglio, mi...     3   \n",
       "24    Massimo      M  Un po' caro per un panino così piccolo e le pa...     2   \n",
       "25   Riccardo      M  Ottimo locale, io sono vegetariano ma mi hanno...     4   \n",
       "26      Alice      F  Cena di coppia, cibo molto buono, personale co...     5   \n",
       "27    Manuele      M  Naturalmente non c'erano grosse pretese, luogo...     2   \n",
       "28     Silvia      F  sono stata l altra sera..buono il panino..trip...     2   \n",
       "29       Luca      M  Prima volta, ma sono sicuro di tornarci.\\nIl s...     4   \n",
       "30    Giacomo      M  Ottimo grill/ristorante con ottimicibi america...     5   \n",
       "31       Gian      M  Preso un BaconSwiss, molto buono ed abbondante...     4   \n",
       "32     Danilo      M  Ottima catena di ristorazione, vasto menù stil...     4   \n",
       "33     Raluca      F  Adoro il sandwich Steak &Cheese!! In generale ...     4   \n",
       "34       Alby      M  Lo steak con la cipolla e qualcosa di fantasti...     4   \n",
       "35   Vincenzo      M  Ottimo servizio sia come presenza sia come vel...     4   \n",
       "36       Cami      F  Siamo andati in questo locale perché in posses...     4   \n",
       "37     Nicola      F  Carne magnifica e cotture magistrali. Secondo ...     5   \n",
       "38    Valerio      M  Sabato sera locale affollato ma tavolo disponi...     2   \n",
       "39   Emanuele      M  Rispetto alla recensione precedente hanno corr...     4   \n",
       "40       Rudy      M  Quando si arriva, manca il parcheggio, la carn...     3   \n",
       "41    Antonio      M  sono stato di passaggio conoscendo da molto la...     1   \n",
       "42   Emanuele      M  La carne è superlativa, sia la scelta, sia il ...     4   \n",
       "43       Luca      M  Una steakhouse nella media...sono appena andat...     3   \n",
       "44     Gioele      M  Tutto sempre buono e gustoso, però dovrebbero ...     4   \n",
       "45     Marzio      M  Quando voglio farmi una mangiata di carne us s...     4   \n",
       "46     Gloria      F  Ambiente un po' dozzinale, menù in stile fastf...     3   \n",
       "47     Fulvio      M  Mangioto bene, in coppia, scegliendo bene il t...     4   \n",
       "48       Luca      M  Non è un ristorante.\\nNon è un fast food.\\nDic...     4   \n",
       "49     Isabel      F  Ampio locale, servizio professionale e cortese...     4   \n",
       "50        Tex      M  E' uno di quei posti che frequento quando ho v...     4   \n",
       "51     Mattia      M  Il cibo offerto è molto buono! ! L'unica cosa ...     3   \n",
       "52    Roberto      M  Tornando a Venezia ho provato questo ristorant...     4   \n",
       "53     Tassos      M  Il Maxxi Hamburger è 500gr nessuno di padova h...     4   \n",
       "54      Ronen      M  Hamburger e bistecche, stile statunitense, dal...     3   \n",
       "55      Mirto      M  Ho visitato il Roadhouse Grill diverse volte n...     3   \n",
       "\n",
       "   Scritta da  \n",
       "0          PC  \n",
       "1          PC  \n",
       "2      Mobile  \n",
       "3      Mobile  \n",
       "4      Mobile  \n",
       "5      Mobile  \n",
       "6      Mobile  \n",
       "7          PC  \n",
       "8      Mobile  \n",
       "9      Mobile  \n",
       "10     Mobile  \n",
       "11         PC  \n",
       "12     Mobile  \n",
       "13     Mobile  \n",
       "14     Mobile  \n",
       "15         PC  \n",
       "16     Mobile  \n",
       "17     Mobile  \n",
       "18     Mobile  \n",
       "19         PC  \n",
       "20     Mobile  \n",
       "21     Mobile  \n",
       "22     Mobile  \n",
       "23     Mobile  \n",
       "24     Mobile  \n",
       "25         PC  \n",
       "26         PC  \n",
       "27     Mobile  \n",
       "28         PC  \n",
       "29     Mobile  \n",
       "30     Mobile  \n",
       "31     Mobile  \n",
       "32         PC  \n",
       "33         PC  \n",
       "34     Mobile  \n",
       "35     Mobile  \n",
       "36     Mobile  \n",
       "37     Mobile  \n",
       "38     Mobile  \n",
       "39     Mobile  \n",
       "40         PC  \n",
       "41         PC  \n",
       "42     Mobile  \n",
       "43     Mobile  \n",
       "44         PC  \n",
       "45         PC  \n",
       "46         PC  \n",
       "47         PC  \n",
       "48         PC  \n",
       "49         PC  \n",
       "50         PC  \n",
       "51         PC  \n",
       "52         PC  \n",
       "53         PC  \n",
       "54         PC  \n",
       "55         PC  "
      ]
     },
     "metadata": {},
     "output_type": "display_data"
    }
   ],
   "source": [
    "partial_dataframe = pd.read_excel(\"RISTORANTE_19.xlsx\")\n",
    "\n",
    "display(partial_dataframe)"
   ]
  },
  {
   "cell_type": "code",
   "execution_count": null,
   "metadata": {
    "colab": {},
    "colab_type": "code",
    "id": "hX7pszZCWTt8"
   },
   "outputs": [],
   "source": []
  }
 ],
 "metadata": {
  "colab": {
   "collapsed_sections": [],
   "name": "PARTE_3.15_TRIPADVISOR_ANALYSIS_Getting_the_comments_in_italian.ipynb",
   "provenance": [],
   "version": "0.3.2"
  },
  "kernelspec": {
   "display_name": "Python 3",
   "language": "python",
   "name": "python3"
  },
  "language_info": {
   "codemirror_mode": {
    "name": "ipython",
    "version": 3
   },
   "file_extension": ".py",
   "mimetype": "text/x-python",
   "name": "python",
   "nbconvert_exporter": "python",
   "pygments_lexer": "ipython3",
   "version": "3.7.0"
  }
 },
 "nbformat": 4,
 "nbformat_minor": 1
}
