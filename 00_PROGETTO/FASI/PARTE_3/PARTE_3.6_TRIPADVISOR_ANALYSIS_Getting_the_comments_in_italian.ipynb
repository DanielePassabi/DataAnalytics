{
 "cells": [
  {
   "cell_type": "markdown",
   "metadata": {
    "colab_type": "text",
    "id": "1oZCy7XqWTry"
   },
   "source": [
    "# Creo un nuovo dataset \n"
   ]
  },
  {
   "cell_type": "markdown",
   "metadata": {
    "colab_type": "text",
    "id": "iXr-KdKhWTr0"
   },
   "source": [
    "---\n",
    "## Analisi dei commenti di un ristorante\n",
    "\n",
    "### Da Gianni - Gorizia, FVG\n",
    "\n",
    "URL di riferimento: https://www.tripadvisor.com/Restaurant_Review-g635871-d1006773-Reviews-Trattoria_Da_Gianni-Gorizia_Province_of_Gorizia_Friuli_Venezia_Giulia.html\n",
    "\n",
    "Home --> Ristoranti --> Gorizia --> Best_ranking--> Trattoria da Gianni"
   ]
  },
  {
   "cell_type": "code",
   "execution_count": 1,
   "metadata": {
    "colab": {
     "base_uri": "https://localhost:8080/",
     "height": 33
    },
    "colab_type": "code",
    "executionInfo": {
     "elapsed": 881,
     "status": "ok",
     "timestamp": 1547143846803,
     "user": {
      "displayName": "Il Dani",
      "photoUrl": "https://lh6.googleusercontent.com/-5K7YzXjC0Ns/AAAAAAAAAAI/AAAAAAAAAbQ/NtoQ-stzgEg/s64/photo.jpg",
      "userId": "03034249883816696713"
     },
     "user_tz": -60
    },
    "id": "eeT3pIkJWTr1",
    "outputId": "a0ffe201-d7ea-4590-fba5-54ae4330d472"
   },
   "outputs": [
    {
     "name": "stdout",
     "output_type": "stream",
     "text": [
      "Imported\n"
     ]
    }
   ],
   "source": [
    "# IMPORT NECESSARI\n",
    "import requests\n",
    "from bs4 import BeautifulSoup\n",
    "\n",
    "print(\"Imported\")"
   ]
  },
  {
   "cell_type": "code",
   "execution_count": 2,
   "metadata": {
    "colab": {
     "base_uri": "https://localhost:8080/",
     "height": 33
    },
    "colab_type": "code",
    "executionInfo": {
     "elapsed": 2171,
     "status": "ok",
     "timestamp": 1547143848117,
     "user": {
      "displayName": "Il Dani",
      "photoUrl": "https://lh6.googleusercontent.com/-5K7YzXjC0Ns/AAAAAAAAAAI/AAAAAAAAAbQ/NtoQ-stzgEg/s64/photo.jpg",
      "userId": "03034249883816696713"
     },
     "user_tz": -60
    },
    "id": "dPQoaYxkWTsA",
    "outputId": "e2bc6e5e-882d-4f3a-8fe9-8cdf52adba36"
   },
   "outputs": [
    {
     "name": "stdout",
     "output_type": "stream",
     "text": [
      "Done\n"
     ]
    }
   ],
   "source": [
    "page_URL = \"https://www.tripadvisor.it/Restaurant_Review-g635871-d1006773-Reviews-Trattoria_Da_Gianni-Gorizia_Province_of_Gorizia_Friuli_Venezia_Giulia.html\"\n",
    "\n",
    "data = requests.get(page_URL)\n",
    "clear_data = BeautifulSoup(data.content, \"lxml\")\n",
    "\n",
    "print(\"Done\")"
   ]
  },
  {
   "cell_type": "markdown",
   "metadata": {
    "colab_type": "text",
    "id": "A19Pp_DiWTsF"
   },
   "source": [
    "---\n",
    "### STRUTTURA HTML DEL SITO \n",
    "\n",
    "#### REVIEW\n",
    "`<p class=\"partial_entry\"> qui c'è la review </p>`\n",
    "\n",
    "#### N° TOTALE DI REVIEWS\n",
    "`<a data-page-number=\"25\" ...>\n",
    "    25\n",
    " </a>`\n",
    " \n",
    "#### NAMES\n",
    "`<span class=\"expand_inline scrname\" …>AlexandraCapeTown</span>`\n",
    "\n",
    "#### RATINGS\n",
    "`<span class=\"ui_bubble_rating bubble_30\"></span>`"
   ]
  },
  {
   "cell_type": "markdown",
   "metadata": {
    "colab_type": "text",
    "id": "MSrpri89WTsH"
   },
   "source": [
    "---\n",
    "### PRIMO SCRAPING (sulla prima pagina)\n",
    "\n",
    "Ottengo i nomi, i commenti, le review e da dove è stato scritto il commento per quanto rigurda la prima pagina. Ciò è necessario, in quanto, dalla seconda in poi l'URL cambia, permettendoci di iterare."
   ]
  },
  {
   "cell_type": "code",
   "execution_count": 3,
   "metadata": {
    "colab": {
     "base_uri": "https://localhost:8080/",
     "height": 100
    },
    "colab_type": "code",
    "executionInfo": {
     "elapsed": 2145,
     "status": "ok",
     "timestamp": 1547143848118,
     "user": {
      "displayName": "Il Dani",
      "photoUrl": "https://lh6.googleusercontent.com/-5K7YzXjC0Ns/AAAAAAAAAAI/AAAAAAAAAbQ/NtoQ-stzgEg/s64/photo.jpg",
      "userId": "03034249883816696713"
     },
     "user_tz": -60
    },
    "id": "3qjaMKn9WTsJ",
    "outputId": "1c5f1316-b492-403a-a817-2da802dc3a9f"
   },
   "outputs": [
    {
     "name": "stdout",
     "output_type": "stream",
     "text": [
      "Executed\n",
      "Nomi:  10\n",
      "Commenti:  10\n",
      "Voti:  10\n",
      "Scritto da:  10\n"
     ]
    }
   ],
   "source": [
    "# OTTENGO UNA LISTA DI DIV CHE CONTENGONO NOME, RECENSIONE E VOTO\n",
    "\n",
    "all_reviews = []\n",
    "all_names = []\n",
    "all_ratings = []\n",
    "all_mobile = []\n",
    "\n",
    "review_container = clear_data.findAll(\"div\", attrs={\"class\":\"review-container\"})\n",
    "\n",
    "for container in review_container:\n",
    "  \n",
    "    ### REVIEW ###\n",
    "    review = container.find('p', attrs={'class': 'partial_entry'})\n",
    "    if review:\n",
    "        all_reviews.append(review.text)\n",
    "        \n",
    "    ### NAME ###\n",
    "    name = container.find('span', attrs={'class': ('expand_inline', 'scrname')})\n",
    "    if name:\n",
    "      all_names.append(name.text)\n",
    "    else:\n",
    "      all_names.append('NO_NAME')\n",
    "    \n",
    "    ### RATING ###\n",
    "    rating = container.find('span', attrs={'class': 'ui_bubble_rating'})\n",
    "    all_ratings.append(rating['class'][1][7:8])\n",
    "    \n",
    "    ### MOBILE ###\n",
    "    mobile = container.find('span', attrs={'class': 'viaMobile'})\n",
    "    if mobile:\n",
    "      all_mobile.append('Mobile')\n",
    "    else:\n",
    "      all_mobile.append('PC')\n",
    "    \n",
    "    \n",
    "################################################################################################################################\n",
    "        \n",
    "print(\"Executed\")\n",
    "print('Nomi: ', len(all_names))\n",
    "print('Commenti: ', len(all_reviews))\n",
    "print('Voti: ', len(all_ratings))\n",
    "print('Scritto da: ', len(all_ratings))"
   ]
  },
  {
   "cell_type": "markdown",
   "metadata": {
    "colab_type": "text",
    "id": "f5sK02FgWTsR"
   },
   "source": [
    "### SECONDO SCRAPING (dalla seconda pagina in poi)\n",
    "\n",
    "Notiamo dall'URL che è possibile iterare sulle pagine, ottenendo i dati!"
   ]
  },
  {
   "cell_type": "code",
   "execution_count": 4,
   "metadata": {
    "colab": {
     "base_uri": "https://localhost:8080/",
     "height": 33
    },
    "colab_type": "code",
    "executionInfo": {
     "elapsed": 31187,
     "status": "ok",
     "timestamp": 1547143589126,
     "user": {
      "displayName": "Il Dani",
      "photoUrl": "https://lh6.googleusercontent.com/-5K7YzXjC0Ns/AAAAAAAAAAI/AAAAAAAAAbQ/NtoQ-stzgEg/s64/photo.jpg",
      "userId": "03034249883816696713"
     },
     "user_tz": -60
    },
    "id": "6LCVBXeFWTsS",
    "outputId": "486a5237-1a50-457b-f5f1-ba3ba4bd96bf"
   },
   "outputs": [
    {
     "name": "stderr",
     "output_type": "stream",
     "text": [
      "100%|██████████| 179/179 [03:10<00:00,  1.55s/it]"
     ]
    },
    {
     "name": "stdout",
     "output_type": "stream",
     "text": [
      "Executed\n",
      "total_pages:  180\n",
      "Nomi:  1798\n",
      "Commenti:  1798\n",
      "Voti:  1798\n",
      "Scritto da:  1798\n"
     ]
    },
    {
     "name": "stderr",
     "output_type": "stream",
     "text": [
      "\n"
     ]
    }
   ],
   "source": [
    "from tqdm import tqdm\n",
    "\n",
    "URL_COMPLETO = 'https://www.tripadvisor.it/Restaurant_Review-g635871-d1006773-Reviews-Trattoria_Da_Gianni-Gorizia_Province_of_Gorizia_Friuli_Venezia_Giulia.html'\n",
    "\n",
    "URL_p1 = 'https://www.tripadvisor.it/Restaurant_Review-g635871-d1006773-Reviews-or'\n",
    "URL_p2 = '0-Trattoria_Da_Gianni-Gorizia_Province_of_Gorizia_Friuli_Venezia_Giulia.html'\n",
    "    \n",
    "# OTTENGO I COMMENTI, NOMI E VOTI DALLA SECONDA PAGINA IN POI\n",
    "\n",
    "total_pages = int(clear_data.select(\"a.pageNum.last.taLnk\")[0].text) # 25 come intero\n",
    "\n",
    "# per iterare dobbiamo partire dalla seconda pagina dei commenti, così nell'URL compaiono le cifre che ci servono\n",
    "for r in tqdm(range(1,total_pages)):\n",
    "\n",
    "    # OTTENGO L'URL DELLA PAGINA\n",
    "    URL_temp = URL_p1 + str(r) + URL_p2\n",
    "\n",
    "    # OTTENGO I DATI E CI APPLICO BEATIFULSOUP\n",
    "    data = requests.get(URL_temp)\n",
    "    clear_data = BeautifulSoup(data.content, \"lxml\")\n",
    "    \n",
    "\n",
    "    review_container = clear_data.findAll(\"div\", attrs={\"class\":\"review-container\"})\n",
    "\n",
    "    for container in review_container:\n",
    "  \n",
    "      ### REVIEW ###\n",
    "      review = container.find('p', attrs={'class': 'partial_entry'})\n",
    "      if review:\n",
    "          all_reviews.append(review.text)\n",
    "\n",
    "      ### NAME ###\n",
    "      name = container.find('span', attrs={'class': ('expand_inline', 'scrname')})\n",
    "      if name:\n",
    "        all_names.append(name.text)\n",
    "      else:\n",
    "        all_names.append('NO_NAME')\n",
    "\n",
    "      ### RATING ###\n",
    "      rating = container.find('span', attrs={'class': 'ui_bubble_rating'})\n",
    "      all_ratings.append(rating['class'][1][7:8])\n",
    "\n",
    "      ### MOBILE ###\n",
    "      mobile = container.find('span', attrs={'class': 'viaMobile'})\n",
    "      if mobile:\n",
    "        all_mobile.append('Mobile')\n",
    "      else:\n",
    "        all_mobile.append('PC')\n",
    "    \n",
    "        \n",
    "################################################################################################################################\n",
    "        \n",
    "print(\"Executed\")\n",
    "print('total_pages: ', total_pages)\n",
    "print('Nomi: ', len(all_names))\n",
    "print('Commenti: ', len(all_reviews))\n",
    "print('Voti: ', len(all_ratings))\n",
    "print('Scritto da: ', len(all_mobile))"
   ]
  },
  {
   "cell_type": "code",
   "execution_count": 5,
   "metadata": {
    "colab": {},
    "colab_type": "code",
    "id": "_2UUJPQEWTsZ"
   },
   "outputs": [],
   "source": [
    "# display(all_reviews)"
   ]
  },
  {
   "cell_type": "code",
   "execution_count": 6,
   "metadata": {
    "colab": {},
    "colab_type": "code",
    "id": "kfvHDIQUWTsf"
   },
   "outputs": [],
   "source": [
    "# print(all_names)"
   ]
  },
  {
   "cell_type": "code",
   "execution_count": 7,
   "metadata": {
    "colab": {},
    "colab_type": "code",
    "id": "0CGHdPfhWTsj"
   },
   "outputs": [],
   "source": [
    "#print(all_ratings, '\\n')\n",
    "#print(len(all_ratings))"
   ]
  },
  {
   "cell_type": "code",
   "execution_count": 8,
   "metadata": {
    "colab": {},
    "colab_type": "code",
    "id": "L2JydXfczX4K"
   },
   "outputs": [],
   "source": [
    "#display(all_mobile)"
   ]
  },
  {
   "cell_type": "markdown",
   "metadata": {
    "colab_type": "text",
    "id": "Pn8YT0PlWTsr"
   },
   "source": [
    "#### Problema recensioni troppo lunghe\n",
    "Alla fine di alcune recensioni troviamo un '...Più', che non possiamo espandere. Data la mole di dati, decidiamo dunque di non considerarle."
   ]
  },
  {
   "cell_type": "code",
   "execution_count": 9,
   "metadata": {
    "colab": {},
    "colab_type": "code",
    "id": "1u6qYqeyWTst"
   },
   "outputs": [
    {
     "name": "stdout",
     "output_type": "stream",
     "text": [
      "Totale recensioni: 1798 \n",
      " Recensioni analizzabili: 689 \n",
      " Recensioni scartate: 1109 \n",
      "\n"
     ]
    },
    {
     "data": {
      "text/plain": [
       "['RECENSIONE_TROPPO_LUNGA',\n",
       " 'Come già riportato da tanti altri utenti,non si può che parlare soprattutto dell’abbondanza delle porzioni che contraddistingue questo locale... Il cibo è buono,il servizio è veloce ed efficiente... Da provare assolutamente se ci si trova nei pressi di Gorizia.',\n",
       " 'RECENSIONE_TROPPO_LUNGA',\n",
       " 'Trattoria fantastica, porzioni abbondanti e cibo buonissimo! Consigliatissimo! Dovete andarci assolutamente!',\n",
       " 'Non conoscevo questo locale, mi ha portato mia figlia, molto familiare e casalingo buon cibo ma portate esageratamente abbondanti, perfetto per i mangioni :))))',\n",
       " 'RECENSIONE_TROPPO_LUNGA',\n",
       " 'RECENSIONE_TROPPO_LUNGA',\n",
       " 'Non ho mai trovato in vita mia un ristorante con delle porzioni simili.\\nHo ordinato un piatto di cevapcici e me ne hanno portato 40. Mia nipote che voleva una braciola di maiale gliene hanno portate 5. Almeno una volta bisogna andarci',\n",
       " 'RECENSIONE_TROPPO_LUNGA',\n",
       " \"Forte per le quantità o per cene goliardiche con gli amici ma la qualità è a dir poco pessima. Se volete provare una buona cucina Goriziana c'è molto di meglio in zona.\"]"
      ]
     },
     "metadata": {},
     "output_type": "display_data"
    }
   ],
   "source": [
    "all_reviews_filtered = []\n",
    "counter_reviews_scartate = 0;\n",
    "counter_reviews_da_usare = 0;\n",
    "\n",
    "for review in all_reviews:\n",
    "    if '...Più' in review:\n",
    "        all_reviews_filtered.append('RECENSIONE_TROPPO_LUNGA')\n",
    "        counter_reviews_scartate+=1;\n",
    "    else:\n",
    "        all_reviews_filtered.append(review)\n",
    "        counter_reviews_da_usare+=1;\n",
    "        \n",
    "        \n",
    "print(\n",
    "    'Totale recensioni:', counter_reviews_scartate + counter_reviews_da_usare, '\\n',\n",
    "    'Recensioni analizzabili:', counter_reviews_da_usare, '\\n',\n",
    "    'Recensioni scartate:', counter_reviews_scartate, '\\n')\n",
    "\n",
    "display(all_reviews_filtered[:10])"
   ]
  },
  {
   "cell_type": "markdown",
   "metadata": {
    "colab_type": "text",
    "id": "UkAWN5oXWTs1"
   },
   "source": [
    "---\n",
    "### Analisi dei nomi\n",
    "Cerchiamo di capire se chi ha commentato è un uomo (M) o una donna (F)."
   ]
  },
  {
   "cell_type": "markdown",
   "metadata": {
    "colab_type": "text",
    "id": "K2hUQ__xWTs2"
   },
   "source": [
    "#### Elimino spazi e numeri\n",
    "Ho bisogno di tenere solo le informazioni riguardanti il nome, elimino il resto."
   ]
  },
  {
   "cell_type": "code",
   "execution_count": 10,
   "metadata": {
    "colab": {},
    "colab_type": "code",
    "id": "HlRhLVAwWTs4"
   },
   "outputs": [
    {
     "name": "stdout",
     "output_type": "stream",
     "text": [
      "['NO_NAME', 'NO_NAME', 'NO_NAME', 'NO_NAME', 'NO_NAME', 'NO_NAME', 'NO_NAME', 'NO_NAME', 'NO_NAME', 'NO_NAME', 'janinci j', 'ChefDonnie', 'Giuliaso', 'nicoletta494', 'Milva319', 'LaEly3', 'annabD2781JQ', 'Sonia S', 'Trip_che_fame', 'maxino769', 'ChiaraUdine89', 'simonebisaggio', 'Tiziana C', 'AntoninoLu', 'flavjo', 'Sara C', '765lorenzos', 'micR73', 'U6846WGpaolo', 'AntoninoF89', 'piero031958', 'Italikus', 'Daniele P', 'deborad760', 'Sibilla P', 'Irene D', '201inesp', 'duccioc264', 'morands81', 'renzo g', 'Sandro G', 'riccardoi435', 'Fabiola t', 'J9229ESmarcov', 'Giampiero C', 'Florindo F', 'tinetta97', '416des', 'matand', 'Laura-e-oshy', 'NO_NAME', 'NO_NAME', 'NO_NAME', 'NO_NAME', 'NO_NAME', 'NO_NAME', 'NO_NAME', 'NO_NAME', 'NO_NAME', 'NO_NAME', '225vincem', 'Aghi46', 'Tommaso B', 'Llfg80', '443matijak', 'simonebC2577KW', 'Vanni73', 'Massimo P', 'LucaBelvedere85', 'maromans91', 'ChefDonnie', 'LoveBrain', 'alessio8299', '77claudiabor', 'Luca D', 'La_talpa888', 'MrBirra', 'emanuele090988', 'ganogaga', 'Bracco1969', 'discoromagnolo', 'Emidio D', 'elenanina87', 'Pep47emezzo', 'Gigi C', 'F9452QPalessandrot', 'Bianca Laura P', 'MonicaArt_00', 'chiaraf869', 'Il R', 'Angus67', 'bimbo73', 'Roberta s', 'Gulliverrr', 'Beltue74', 'Enza T', 'bido74', 'domenicoa884', 'Chiara C', 'riccardoandlida', 'NO_NAME', 'NO_NAME', 'NO_NAME', 'NO_NAME', 'NO_NAME', 'NO_NAME', 'NO_NAME', 'NO_NAME', 'NO_NAME', 'NO_NAME', 'giefran', 'MaPi R', 'Sole6981', 'LondraPrince', 'Raffy L', 'isag128', 'Marco B', 'Speranza C', 'Andrea N', 'girogia7', 'Alessandro M', 'utpcom1', 'EuSys', 'sergiocovaz1960', 'Gio T', 'DrDoc99', 'Vincenzo M', 'Giuseppe P', 'Ivancucchiaio', 'Kawa85', 'NO_NAME', 'NO_NAME', 'NO_NAME', 'NO_NAME', 'NO_NAME', 'NO_NAME', 'NO_NAME', 'NO_NAME', 'NO_NAME', 'NO_NAME', 'NO_NAME', 'NO_NAME', 'NO_NAME', 'NO_NAME', 'NO_NAME', 'NO_NAME', 'NO_NAME', 'NO_NAME', 'NO_NAME', 'NO_NAME', 'debora b', 'Skratoz', 'daz21175', 'olivial290', 'mariosB3519LB', 'Tulipannas', 'ciccio3500', 'Marco B', 'Francesco I', 'jessicapY2149OK', 'NO_NAME', 'NO_NAME', 'NO_NAME', 'NO_NAME', 'NO_NAME', 'NO_NAME', 'NO_NAME', 'NO_NAME', 'NO_NAME', 'NO_NAME', 'eyeleren', 'Mario M', 'Emmanuele Digit... F', 'Sofy C', 'Michelena92', 'Pex87', 'pizzoferro', 'fabrizio f', 'Departure742654', 'minica57', 'topolyna', 'carlito1957', 'Alex1566', 'alexdeo7', 'L9416AYgiorgioc', 'Roby C', 'Bruno M', 'serafina o', 'Michelacroatto', 'DanMorTrip', 'p b', 'Giuseppe C', 'EffeElle23', 'dennisrakar91', 'Paolo Giuseppe C', 'Beatrice0809', 'Roberto B', 'marziamamusi', 'carlogiovannif', 'SZFood_Lover', 'fabriziop641', 'Sara D', 'xmatte', 'gianlucam939', 'frgndr', 'Raffaele D', 'robians2017', 'matteoproia', 'tormento19', 'Mondina L', 'NO_NAME', 'NO_NAME', 'NO_NAME', 'NO_NAME', 'NO_NAME', 'NO_NAME', 'NO_NAME', 'NO_NAME', 'NO_NAME', 'NO_NAME', 'NO_NAME', 'NO_NAME', 'NO_NAME', 'NO_NAME', 'NO_NAME', 'NO_NAME', 'NO_NAME', 'NO_NAME', 'NO_NAME', 'NO_NAME', 'GaBo61', 'luogofantastico', 'danybo8', 'alefil68', 'Elvio B', 'Skarabot C', 'barbarazuttion', 'Massimo F', 'Tonyudinese', 'Sborlengo', 'lorenzo p', 'RIGAM0NTIDAVlDE', 'luigi-chef', 'Laura S', 'kingdelgusto', 'denisponte', 'Alessandro F', 'Giulia M', 'LoreImbriaco', 'pasquale p', 'martinica470', 'ccc6154', 'Francesca V', 'claudiatod', 'RiccardoTirelli', 'vzecchini', 'aladino1008', 'eliat_nihilist', 'Francesco I', 'Giulia T', 'NO_NAME', 'NO_NAME', 'NO_NAME', 'NO_NAME', 'NO_NAME', 'NO_NAME', 'NO_NAME', 'NO_NAME', 'NO_NAME', 'NO_NAME', 'CarmineS469', 'silvana s', 'Eli E', 'Mauro D', 'stafano444', 'tazios2014', 'Alessio p', 'Louise D', 'AndreaTRM', 'nicolavaccher', 'Margherita C', 'silviamissera', 'GiuseppeC2811', 'Trieste1953', 'Luciano8728', 'Laurin1981', 'Aprrrrrrrr', 'Giorgia Z', 'marco6304', '91emanueleb', 'RagMirco78', 'Mirdir', 'duniverso', 'alessandroi207', 'Zanicol', 'Bonzo1990', 'pataly2016', 'lume_home', 'Matteo M', 'DiCoriBlanco', 'NO_NAME', 'NO_NAME', 'NO_NAME', 'NO_NAME', 'NO_NAME', 'NO_NAME', 'NO_NAME', 'NO_NAME', 'NO_NAME', 'NO_NAME', 'NO_NAME', 'NO_NAME', 'NO_NAME', 'NO_NAME', 'NO_NAME', 'NO_NAME', 'NO_NAME', 'NO_NAME', 'NO_NAME', 'NO_NAME', 'vagheg8', 'Poli_Flavio', 'Doby29', 'Sightseer707111', 'riccissimo', 'GVR28', 'andrea p', 'Frydrichas', 'MmeBrusich', 'monicafor', 'NO_NAME', 'NO_NAME', 'NO_NAME', 'NO_NAME', 'NO_NAME', 'NO_NAME', 'NO_NAME', 'NO_NAME', 'NO_NAME', 'NO_NAME', 'Franca G', 'Stefano F', 'paolov959', 'Luca R', 'xiei', 'nicolacastle', 'enricoilariaandread', 'abelarda_abelardo', '497alessiop', 'Mauro U', 'Sara E', 'giannuttina', 'Bruno B', 'Matteo S', 'Francesco L', 'StefaninoFab', 'Q5545GDfabiom', 'medmedia', 'S7541GJandrean', 'manuelbC6637QR', 'Luisa R', 'RobertoNuzzi', 'MaV_food', '19Tome74', 'cristiancosmaro', 'Dindias', 'Anna Maria I', 'ritaug77', 'macovince', '604giacomoa', '91giovanna', 'pontonif', 'emigra2017', 'Mcstak', 'Francesco M', 'Tommaso P', 'Denise S', 'Giuse_Giga', 'MRDI77', 'Monica B', 'mede69', 'misha1133', 'Cevital', 'abcdefghilmoooooooo', 'gianlucaf527', 'nikots', 'Federico I', 'Christian L', 'BAIADELSOL', 'didilaguardia', 'G876WLfrancescop', 'MisterBacon555', 'Giacomo S', 'Cicala91', 'Giovanni V', 'mareblu2015', 'Lorenzo M', 'antoperry61', 'nicola n', 'Emanuele Ser F', 'olivehoover', 'Gabriele B', 'Daniele C', 'Copet86', 'enricos854', 'Panzi1', 'donatabruzzi', 'Mac_e_Blu', 'Antonio V', 'Valentina A', 'Carluccio F', 'giuseppeprevitali', 'A8516FKmarcom', 'albertogrillo65', 'Simone M', 'Rachele D', 'erikav243', 'Gian82mi', 'Visintin', 'DarioOverland', 'and140279', 'caratere s', 'Paolo P', 'FloriDavi', 'fabiaserafin', 'SimonaVoyage', 'Daniela D', 'kaos k', 'willy_g_alessio', 'Andrew M', 'Tedeschi_Lino', 'Mirkocpn', '16610Lv', 'G B', 'Gabry_ele89', 'antomagic', 'Zoemilu', 'BJARKE R', 'sandrob504', 'Spritz19', \"Mar'ko V\", 'Idc_tt', 'AcedaPordenone', 'albo6868', 'antonio f', 'Vale S', '09nicom', 'lucamS2949OT', 'jaryl2014', 'Massimiliano R', 'NO_NAME', 'NO_NAME', 'NO_NAME', 'NO_NAME', 'NO_NAME', 'NO_NAME', 'NO_NAME', 'NO_NAME', 'NO_NAME', 'NO_NAME', 'CriS2280', 'grazia c', 'Betullabianca', 'triviums88', 'LucaR682', 'CharryL L', 'PesterAndronaco', 'Martina G', 'Lenny C', 'esperto e', 'Gigiobagigiogigante', 'Fulvio x', 'zanziz2016', 'pajadarda', 'turista938', '781ariannag', 'Francesco D', 'alessandrocT3394MK', 'Antoniogiornalista', 'pataly2016', 'lucapecoraropn', 'Angelo T', 'Fra1980c', '311dafnem', 'Paola D', 'giuseppel36', 'elena c', 'vittorio4897', 'mauro m', '809paolog', 'eleonorsss', 'Paolo L', 'annalisa c', 'adolfomeda', 'Gravins', 'MicheleGui_2177', 'Luca O', 'andreapR3247NQ', 'pietro b', 'Davide C', 'NO_NAME', 'NO_NAME', 'NO_NAME', 'NO_NAME', 'NO_NAME', 'NO_NAME', 'NO_NAME', 'NO_NAME', 'NO_NAME', 'NO_NAME', 'boy86x', 'Johann_M_S', 'christiane997', 'danieledMilano', 'emas1089', 'AlessiaTal', 'GABRIELLA C', 'Elia C', 'antoniob406', 'Emanuele Ser F', '766oscarm', '425maxd', 'ALESSANDRA D', 'JolandaGigliotti', 'Prestige60', 'levo76', 'LaPeru', 'dondaine_udine', 'Y9755PPMT', 'Paolo G', 'Even83', 'Stefania Z', 'belleroman', 'Erikpadova', 'tralus', 'Andrea R', 'Befreebird', 'seiooran', 'djfedev90', 'Ely c', 'van1812', 'Ulisse18', 'JDSan1234', '26simo', 'primolucio', 'luca l', 'Aliseo S', 'piccanto', 'tittannona', 'giuseppe m', 'TimeTravellerUd', 'MNebu', 'Alessandro D', 'emilioiannetta', 'marta l', 'HCGandalf', 'Giacomo S', 'roberto n', 'P8444RGsergiop', 'Ciacoke', 'Giulia P', 'EnzoF203', 'GianniRR', 'edimulfio', 'Gabriele M', 'irenep783', 'Departure301370', 'Carlo46R', 'ksylon', '227Chiara', 'NO_NAME', 'NO_NAME', 'NO_NAME', 'NO_NAME', 'NO_NAME', 'NO_NAME', 'NO_NAME', 'NO_NAME', 'NO_NAME', 'NO_NAME', 'Ghelfi D', 'frittoomistoo', 'stev63', 'FrancoPalazzi', 'claracrocevia', 'Corrado2014', 'giangigiangi87', 'lucarY1516MH', 'LoveBrain', 'Animol1987', 'sanave', 'Silfanti', 'Massimo R', 'Luca613', 'N5772EJlauraf', 'asmodeo77', 'mars209', 'Carlo Z', 'ElmatadorCavani', 'Giovanni62dic', 'NO_NAME', 'NO_NAME', 'NO_NAME', 'NO_NAME', 'NO_NAME', 'NO_NAME', 'NO_NAME', 'NO_NAME', 'NO_NAME', 'NO_NAME', 'michele g', 'Davor A', 'T3nd', 'NicolaT1537', 'Lia R', 'ricky c', 'drythroat', 'mirna p', 'Alberto C', 'Zompicchiatti R', 'NO_NAME', 'NO_NAME', 'NO_NAME', 'NO_NAME', 'NO_NAME', 'NO_NAME', 'NO_NAME', 'NO_NAME', 'NO_NAME', 'NO_NAME', 'antonella c', 'Lady-Purr', 'erika300383', 'federica f', 'Lucio6707', 'Massimo L', 'rosariocv83', '131matteog', 'Piarpaolo C', 'GiGaX73', 'soniapicco', 'fcojmado', 'KatiaInTheWonderland', 'stefanolunardon92', 'Paolo Giuseppe C', 'DavidePeco98', 'Maila R', 'Bit93', 'Diego M', 'giorgetta08', 'Alessandro I', 'Khalil A', 'Iolanda M', 'Giulia C', 'bellodellavita', 'Zumats', 'Electra1995', 'Christian R', 'ariannalo', 'Ubergate', 'NO_NAME', 'NO_NAME', 'NO_NAME', 'NO_NAME', 'NO_NAME', 'NO_NAME', 'NO_NAME', 'NO_NAME', 'NO_NAME', 'NO_NAME', 'kekk0mingr0ne', 'Rori9393', 'NEIiMZ', 'Giorgio G', 'Nino779', 'Paul S', 'davidetcr', 'londra007', 'Bluberry27', 'Valentina_Wally', 'Peppino1975', 'Nicole N', 'NicolaUngaro', 'jeje999', 'Stedu', 'Lucia P', 'isabella b', 'ale f', 'max f', '458stefanom', 'marco s', 'Luisa M', 'Lorenzo88Udine', 'Branzin', 'gmessineo', 'Cinziasissi', 'Amelina14', 'EllyL', 'Luanagorizia', 'corrados785', 'bender57', 'Massimo L', 'oberstscorze', 'MicheleeMafe', 'Martina P', 'Roberto P', 'Muflone2013', 'MaurizioRossi2015', 'Carmenmina', '972gaetanos', 'Elisa V', 'HeadS11', 'Yuri B', 'Il_basco', 'motta80', 'P2212VJalessandrop', 'Nicole G', 'curcumaboy', 'Sgnoppola', 'Demetrio82', 'IreneRaffin', 'simone s', 'Sargat', 'tigiudicoio-78', 'Giulia R', 'Paove68', 'Stefania S', 'Simonetta D', '351rikip', 'matteopE3129JR', 'NO_NAME', 'NO_NAME', 'NO_NAME', 'NO_NAME', 'NO_NAME', 'NO_NAME', 'NO_NAME', 'NO_NAME', 'NO_NAME', 'NO_NAME', 'samy277', 'Desirè V', 'Martina_Miclaucich', 'sulpyari', 'Monica D', 'Mandragol', 'Papu P', '33alessandrob', 'GIULIA-GO', 'GDF20', 'Giulia1896', 'Cosangeles', 'Luca G', 'Matteo D', 'Gloria N', 'demonico', 'Ginger-Ile', 'Paolino306', 'Filippo V', 'enrico1985trip', 'Leonardo C', 'raffaello m', 'B5628ZRchiarab', 'ilpiuforte', 'fabrizioa405', 'gmessineo', 'Giulia F', 'Maria B', 'marco a', 'maxx78', 'ManuelGO1985', 'gaetanodp85', 'Marco D', 'Samantha C', 'P8994QKfrancescos', 'Agondre', 'Giuly G', 'ryceve', 'tonym12', 'Chiara S', 'NO_NAME', 'NO_NAME', 'NO_NAME', 'NO_NAME', 'NO_NAME', 'NO_NAME', 'NO_NAME', 'NO_NAME', 'NO_NAME', 'NO_NAME', 'Anna_F54', 'Raffo-hunger', 'Q9477KFgiuliad', 'Michele P', 'MiaoTO', 'imbriagon', 'arjragna', 'Sandrute82', 'Anna Umberto B', 'mario g', 'Anna M', 'wolfox5', '194fidesd', 'RobertaReyerina', 'Alberto N', 'filippo g', 'riversena74', 'Andreonne02', 'Damianoide', 'Lino1942', 'gfayr', 'Professore90', 'paolodC6816JK', 'Pero S', 'sien88', 'marinella c', 'Marinapicia', 'littlesquirrel83', 'Caterina V', 'Marta C', 'Daniela R', 'mattiaa2018', 'Lion K', 'Nicole d', 'Michele C', 'Matilde50', 'rossellaz351', 'tarsilla72', 'Caviz', 'Lea G', 'NO_NAME', 'NO_NAME', 'NO_NAME', 'NO_NAME', 'NO_NAME', 'NO_NAME', 'NO_NAME', 'NO_NAME', 'NO_NAME', 'NO_NAME', 'Nicoletta C', 'Michele T', 'AnnaGiachino', 'Alessandro C', 'ZiaPolly', 'AlessandroDB', 'Nibbioinside', 'Erika S', 'IlariaTax', 'saradz80', 'Olipitrap', 'Trinus06', 'Fabrizio26', 'Anna G', 'Alessandro-Giada83-9', 'giulyedany', 'Alessandro K', 'Giulia A', 'marilozar', '297elisabettac', 'Gaia B', 'felixchiusi', 'Holsen', 'Superado80', 'Luky L', 'marcello969', '-GAP87-', 'Luko69', 'V7047EZandreaz', 'SSusannina', 'garlo2014', 'Giuseppe B', 'enrico o', '30monikaj', '812emanuelam', 'fabriziov996', 'Paolo F', 'Patrizia S', 'Fabiana21960', 'Sara D', 'Fabio D', 'O5714NMvalentinas', 'Desire V', 'wyllyss', 'Andrea D', '222veronicab', 'AmonMoriente', 'Dariomino', 'Lana P', 'Fedry62', 'Brescia36', 'Giovanni P', 'CriCam87', 'Davide C', 'EpyG', 'mamanib', 'B3826LBdiegob', 'tripto747', 'RickHunter2014', 'Monkiky', 'NO_NAME', 'NO_NAME', 'NO_NAME', 'NO_NAME', 'NO_NAME', 'NO_NAME', 'NO_NAME', 'NO_NAME', 'NO_NAME', 'NO_NAME', 'mrdoc2r', 'Stefano Gex P', 'John198980', 'MaurizioZara', 'disraeligear', 'girodaria', 'DivinPorcello', 'massimoc88', 'Angnto', 'Adamo G', 'Gavin C', 'rebecca b', 'angelo5005', 'Alice B', '10ilaria10', 'Gaetano118877', '950selened', 'luigivxiv', 'Francy N', 'Zest27', 'Michele L', 'massimilianod151', 'Grazianolibero', 'Francesco F', 'alessandrocX4164YW', 'koji74', '165fabior', 'kia9405', 'Giuseppe991', 'maurizio f', 'Beatrice A', 'pugnod', 'Skywalkercc', 'Giuseppis86', 'andrew_782014', 'Barbara P', 'EDISES', 'dy81', 'Emanuela N', '521charlieb', 'NO_NAME', 'NO_NAME', 'NO_NAME', 'NO_NAME', 'NO_NAME', 'NO_NAME', 'NO_NAME', 'NO_NAME', 'NO_NAME', 'NO_NAME', 'Michele F', 'Lorenzo D', 'Francesco C', 'adry16', 'Alice B', 'Daniele T', 'Andrewj1980', 'UnderAlex', 'AmbraM82', 'Gianluca B', 'Tedeschi_Lino', 'Marco V', 'Claudio G', 'Ametista1992', 'Giulia C', 'elisab757', 'Andrea R', 'francescogQ8463TN', 'SettembreNero', 'dolce_incanto', 'Maurizio a', 'buttigo85', 'gheltrude68', 'Giulia E', 'RobertaConcettini', 'marcoa341', 'Deid16', 'Tambascia R', 'Vice_Lore', 'MicheleB1979', 'Alessia C', 'BrunoTaglia', 'steffy91271', 'piccoloseme', 'nennellina', 'Luca S', 'gidrioli', '10ilaria10', 'lauriniantonello', 'OliverDob', 'Andrea P', 'Cosimo P', 'Rizza78', 'giuky17', 'Fefo1986', 'Gigi97Altamura', 'DoppiaEffe07', 'Roberto M', 'repuccin', 'Massimiliano M', 'Giordano F', 'Valentina B', 'Gilinda1984', 'DegaAndrea', 'Cacu69', 'titty_t89', 'StarBuckSere', '110francescal', 'Emilio S', 'fhf2_e-', 'Francesco L', 'Milio89', 'gjigji', 'bender57', 'Ririisland', 'zodiacocenaire', 'katiusha r', 'Massimo D', 'I L', '959Dany', 'vania s', 'N2684QBsarag', 'Maria Pia C', 'cinziam231', 'deborahve', 'Simone D', 'Lovetuscany T', 'Chiaccorollina', 'recensitore', 'rollypil', 'NO_NAME', 'NO_NAME', 'NO_NAME', 'NO_NAME', 'NO_NAME', 'NO_NAME', 'NO_NAME', 'NO_NAME', 'NO_NAME', 'NO_NAME', 'Massimo C', 'Fabia26', '375albertos', 'Romeox', 'LeonardoTanzi', 'aleefedecuz', 'gianpiero b', 'Filippo M', 'claudio l', 'BigDaddyIII', 'Claudio G', 'and_baas', 'centootto', 'rubythuesday', 'Gaspare A', 'Maddidr', 'Andrea C', 'Riccardo L', 'Daniele C', 'Michele L', 'ankeno', 'hdsimona', 'Maria Vittoria Z', 'Ammazza O', 'fabiettomidun', 'Angeloct83', 'RobyR109', 'Igor P', 'Samuele C', 'Matteo A', 'fabbro o', 'Paolo M', 'olivehoover', 'Epi_trips', 'Carltasso', 'Faliraki68', 'adrogu', 'AntonyLive', 'Aliona112013', '842albertot', 'NO_NAME', 'NO_NAME', 'NO_NAME', 'NO_NAME', 'NO_NAME', 'NO_NAME', 'NO_NAME', 'NO_NAME', 'NO_NAME', 'NO_NAME', 'andreacE7070WK', 'Paco83roma', 'Paso1981', 'silviatoff', 'viandantibus', 'shobby65', 'ofpastairs', 'viaggiatorcortese014', 'deborad879', 'Jessica L', 'Oscar C', 'PaoloTonini', 'Davide S', 'fedegrazia', 'ginolollobriggido', 'ugosky', 'FabbioFabio', 'ColorRun_15', 'fonta f', 'Giulysss', 'Alpino1966', 'Rosario S', 'AleVars', 'Gianluca S', 'DivinPorcello', 'Voyagina', 'undc11', 'ImFran', 'Valeria G', 'asmodeo77', 'RokiTelAviv', '597robertar', 'davide c', 'marcbi', 'marco66morandi', 'Pasquale D', 'Moirap2013', 'Pierluigi B', 'sergios111', 'Antonio C', 'Esperimenti73', 'Cristina-Thomas04111', 'Silva M', 'Francesco C', 'bikerlio', 'fontanavalentina', 'mariosalvatorer', 'Alix70', 'pieropaola', 'corrados785', 'Giacomino17', 'Nunform', 'marco f', 'Carlo M', 'cristinaz9', 'SimoneTNT', 'Massimiliano P', 'dariovincenzoaldoo', 'Giorgia C', 'Manlio M', 'maurolarise', 'Demetrio10', 'mraksabrina', 'stefano552013', 'FedericoFabris', 'LucaC261', 'Algorith', 'Elena L', 'Antclo', 'Francesco F', 'NO_NAME', 'NO_NAME', 'NO_NAME', 'NO_NAME', 'NO_NAME', 'NO_NAME', 'NO_NAME', 'NO_NAME', 'NO_NAME', 'NO_NAME', 'NO_NAME', 'NO_NAME', 'NO_NAME', 'NO_NAME', 'NO_NAME', 'NO_NAME', 'NO_NAME', 'NO_NAME', 'NO_NAME', 'NO_NAME', 'Marco B', '952fabiof', 'Maddalena F', 'Emanuele Ser F', 'Inno23', 'Florenz88', 'ValentinaT199', 'Antonino196', 'Basta R', 'manuelaballarin', 'conca', 'sampo83', 'Mihaela D', 'Alberto449', 'Maupier', 'LaurettaC84', 'kaoriforkami', 'Mario Silvio M', 'Roberto C', 'BlerinaFrasheri', '77Stefano77', 'mauriziov342', 'Patrizia S', 'mapacalo', 'Paperinika1', 'Andrea84go', 'Alessia C', 'vivianita67', 'alice p', 'lucianinotrip', 'NO_NAME', 'NO_NAME', 'NO_NAME', 'NO_NAME', 'NO_NAME', 'NO_NAME', 'NO_NAME', 'NO_NAME', 'NO_NAME', 'NO_NAME', 'NO_NAME', 'NO_NAME', 'NO_NAME', 'NO_NAME', 'NO_NAME', 'NO_NAME', 'NO_NAME', 'NO_NAME', 'NO_NAME', 'NO_NAME', 'Fracchietta', 'Chia_Dab', 'sempreingiro68', 'PIER_PICCOLO', 'ficciomc', 'Lucio-udine', 'Michele M', 'Seddusa', 'DY85', 'Rufus20', '030765Marco', 'Sara V', 'Alessandro T', 'grohmann', 'Christianbz77', 'Lauretta_go', 'matteod200', 'enrico s', 'Telek72', 'jeffry77', 'Batman-Star', 'Chiara R', 'CalabroneCB', '341robertoc', 'Massimo P', 'Michele F', 'FABIO P', 'Claudio G', 'Sbirulina_16', 'gianluca6770', 'Nicola B', 'francesco_ta_1972', 'antoniogorizia', 'samantha b', 'Carla D', 'ellmagno', 'vatimea', 'Federico C', 'MESSICO83', 'giuliana72', 'robudine', 'CheccuC13', 'stillalive81', 'flele', 'Valentina R', 'curiosoviaggiatore3', 'niky013', 'Giuseppe N', 'madaj', 'Paolaemanu B', 'NO_NAME', 'NO_NAME', 'NO_NAME', 'NO_NAME', 'NO_NAME', 'NO_NAME', 'NO_NAME', 'NO_NAME', 'NO_NAME', 'NO_NAME', 'NO_NAME', 'NO_NAME', 'NO_NAME', 'NO_NAME', 'NO_NAME', 'NO_NAME', 'NO_NAME', 'NO_NAME', 'NO_NAME', 'NO_NAME', 'NO_NAME', 'NO_NAME', 'NO_NAME', 'NO_NAME', 'NO_NAME', 'NO_NAME', 'NO_NAME', 'NO_NAME', 'NO_NAME', 'NO_NAME', 'nicomoni', 'mery_punti', 'chiaretta0775', 'Frarty', 'pepepn', 'a s', 'brunaConegliano', 'm_domenico83', 'fullofpain2013', 'afvarisco', 'MaoEle', 'mariellaPadova', 'Giuditta T', 'simolo64', 'UmbertoConfalonieri', 'Pierluigi Z', 'nulam', 'Pique M', 'Giacomo C', 'Joepax', 'NO_NAME', 'NO_NAME', 'NO_NAME', 'NO_NAME', 'NO_NAME', 'NO_NAME', 'NO_NAME', 'NO_NAME', 'NO_NAME', 'NO_NAME', 'Mary7169', 'gelatoalcioccolato89', 'Chiccola28', 'wolly54', 'ABDESIGN', 'BasBook', 'Cestmoi84', 'mrgigi', 'Clara M', 'dolly6770', 'NO_NAME', 'NO_NAME', 'NO_NAME', 'NO_NAME', 'NO_NAME', 'NO_NAME', 'NO_NAME', 'NO_NAME', 'NO_NAME', 'NO_NAME', 'bettyraed', 'Florenz88', 'Barbarazennaro', 'Tommaso1991', 'Sandro P', 'chiaret_ta1979', '78ChiaraB78', 'Cristian P', 'Daniele B', 'omamelii', 'simonec571', 'She_joker87', 'Jacopo G', 'ccc6154', 'Giulixoxo', 'marco d', 'ShinySushi', 'fr0lli', 'JPable', 'cicco1187', 'kry72', 'filippob8', '96davidea', 'saverio p', 'Marco D', 'SabinaD73', 'Nuraghearrubiu', 'Giovanni Luigi B', 'Snacke', 'Whataaa', 'MarialauraU', 'Pietro S', 'mario d', 'blitztrip2013', 'deaddado', 'davidmari', 'luanam510', 'Ottovolant', 'lucam489', 'DOMY S', 'EleonoraQualizza', 'goliaPadova', 'silvia_dc98', 'Legoman8444', 'Marikas1975', 'Laura S', 'Salvatore_mila', 'venessiana', 'AlBrigante', 'Brex87', 'melissa92_dg', 'EsseciS', 'Solitario61', 'Ergal83', 'ronin_99', 'Fabio M', 'dune_1704', 'Matteo R', 'Davide P', 'XPie', 'Matteo F', 'elyhd', 'Fiore E', 'Xajare', 'Gaudi_cc', 'Ettore_Grassini', 'NoLa_UD13', 'Davide M', 'Alessandra B', 'StefaniaDM81', 'pippenji', 'stella f', 'lucabidoli', 'Sara D', 'Daniela M', 'UdineFrancy', 'mikiCampoformido', 'Sara V', 'Skiman1970', 'denisntwk', 'NO_NAME', 'NO_NAME', 'NO_NAME', 'NO_NAME', 'NO_NAME', 'NO_NAME', 'NO_NAME', 'NO_NAME', 'NO_NAME', 'NO_NAME', 'loralou91', 'ELENA B', 'anfasano', 'gpagot', 'Sam_rocketqueen', 'biby08', 'ryceve', 'KettyF7881', 'Luca864', 'fabiuz_ts', 'denismagro', '1988ele', 'Davide878787', 'Alessandro D', 'rosy2468', 'Barbarababiii', 'Alessandro L', 'eturus', 'Ketty L', 'kebson', 'diegocontini', 'ilthomaz', 'Semplice198', 'MicheleD720', 'Richter S', 'DysonFrost', 'PaoTrieste', 'Luigi C', '101chloec', 'BellagioSMdC', 'vb76', 'Oasix1980', 'Foxylolo', 'cromax', 'GIULIO_FRAN', 'MartinaP279', '1969bibi', 'stexdp', 'mulin0bianc0', 'Tania P', 'guccionedanilo', '-A_F_o_x_1_9_7_8-', 'Simone F', 'Luchino83', 'sleepskatcher', 'polacchina83', 'Gid_gbr', 'martina t', 'Pecos157', 'AlessiaT148', 'Massimo E', 'onoprelaz', 'Cyrus F F', 'glovoni', 'FabyGian', 'Stefano L', 'Danny89rs', 'Davidik75', 'Mariolina M', 'luigicaserta', '884AlessandraP884', 'Pignetta85', 'AndreaVivi', 'Antonio F', 'Zanzillo76', 'GiannieGiusy', 'solocarne', 'CarlaLori', 'Maryjanis', 'EnzoMF_Travel', 'CALIFORNIA-JACK88', 'milucci69', 'Alibaba84', 'Luca P', 'rk06_33', 'furreddu', 'Alberto C', 'Elisa D', 'Mennelliszt', 'Nena1970', 'NO_NAME', 'NO_NAME', 'NO_NAME', 'NO_NAME', 'NO_NAME', 'NO_NAME', 'NO_NAME', 'NO_NAME', 'NO_NAME', 'NO_NAME', 'Slakay01', 'Moni65_11', 'Sole F', '51014627', 'supersimod81', 'peciot', 'Alex G', 'denis s', 'ocram62', 'Sergio M', 'CB1_Milano', 'DiegoRS2', 'Nesto C', 'amberusft', 'RobertoOt', 'd_angeli', 'Salvatore M', 'Claudio C', 'Tullia B', 'Marco T', 'aifide97', 'sarpo48', 'Angela359', 'Martadc', 'finisi', 'Gianni R', 'italianeowyn', 'NicolaT506', 'spillo702', 'Sarumba', 'myflashflow', 'mox79', 'FabioMec', 'maxmuja', 'parkavenue81', 'italo c', 'Miriam B', 'Giacomo P', 'kilgore_fawlty', 'ddamiano88', 'gio22_12', 'Maurizio T', 'tioda', 'Giuliodefaveri', 'sty1989', 'CoSaTraduttori', 'antonella z', 'BeluVale', 'Monty675', '791ritam', 'ChristianVann', 'Martadc', 'milcesar', 'Tomastex', 'MarcoStefa76', 'Mricky', '888FabrizioS', 'Fanina24', 'diei', 'maurizio f', 'skebis', 'Agostino C', 'Thomas R', 'chiarasweet', 'DanielKontovel', 'DonnaVerso', 'faunsp', 'Antonio V', 'nespolir', 'Bracius', 'EddyG486', 'Marco e Fabiana A', 'antonello p', 'Nani2906', 'Mcnola', 'elisab200', 'Luca C', 'camomilla83', 'DuralexSedFlex', 'collavinochristian', 'Morris__MR', 'Voltaire82', 'Scarlett4ever', 'Baldo81', 'Trillililli', 'SusanUdine_Italia', 'mimm060', 'moreuseelessuknow', 'Paolo B', 'ottecnoc', 'sara z z', 'Alessandro A', 'gabribm', 'Moltofermento', 'omar191', 'nulam', 'criteri', 'davide_davidoski', 'LukaUdine', 'Garcerick', 'Renato T', 'KikkaTrieste', 'M4tt3oD', 'Andrea R', 'lucasH6962YA', 'ginettaegino', 'MartaCab', 'GILBY65', 'SaNa1970', 'trilly77Gorizia', 'fiorep', 'FabianoUD', 'Trianto21', 'ericaUdine', 'oil68', 'iCinicci', 'DiegoFCJ', 'Maubo', 'LukeK27', 'Cianc', 'Kittycoccolino', 'elisachevola', 'Ishvara75', 'aifide', 's_and_mMilano', 'daniele1972', 'squeezo', 'fevele', 'Deborahmartina', 'Neronino', 'Dolores M', 'Scandinavian75', 'ANTONSTE', '-Eeprom-', 'GalaxyAntra', 'Fanina24', 'domesilv', 'socialmind', 'Sabrinaxxx', 'Ettore S', 'RomaStone', 'Marco R', 'heinz17', 'Gino_Von_Raiffburg', 'Ri2009', 'Nino B', 'Ambra1973', 'StefanoPD', 'vespa s', 'gastroturista75', 'NO_NAME', 'NO_NAME', 'NO_NAME', 'NO_NAME', 'NO_NAME', 'NO_NAME', 'NO_NAME', 'NO_NAME', 'NO_NAME', 'NO_NAME', 'SimoneUd', 'serenagc', 'Piletta75', 'fulvio53', 'Sere91', 'brokenmayo', 'riccardo1503', 'Maurizio S', 'b0b063', 'gvs99311', 'zorst', 'Radios R', 'CuteMacaroon', 'LS9311', 'stefano00072', 'torreporto', 'BikersFiumeVeneto', 'enricomala', 'wilcom74', 'marco r', 'asia t', 'missbarbarad', 'Timoteo1', 'zatop', 'AGENTEVIAGGI', 'Simone668', 'annaschummi', 'robiscu', 'alwaysinaction', 'giu78ts', 'NO_NAME', 'NO_NAME', 'NO_NAME', 'NO_NAME', 'NO_NAME', 'NO_NAME', 'NO_NAME', 'NO_NAME', 'NO_NAME', 'NO_NAME', 'NO_NAME', 'NO_NAME', 'NO_NAME', 'NO_NAME', 'NO_NAME', 'NO_NAME', 'NO_NAME', 'NO_NAME', 'NO_NAME', 'NO_NAME', 'lisuka', 'fede47', 'boboposta', 'simplesmente', 'Slowhand68', 'Dylan87', 'Svetlana_UD', 'francescod85', 'lucalisapadova', 'AGENTEVIAGGI', 'bubusan', 'poirot1975', 'abc48_9', 'Palemoonlight', 'Un membro di TripAdvisor su Facebook', 'Un membro di TripAdvisor su Facebook', 'adamnordwest', 'KANewYork', 'Rooindie', 'Árpád B', 'NO_NAME', 'NO_NAME', 'NO_NAME', 'NO_NAME', 'NO_NAME', 'NO_NAME', 'NO_NAME', 'NO_NAME', 'NO_NAME', 'NO_NAME', '512hardyf', 'Michele K', 'SasoBatic', 'besyta', 'themarswalker', 'Ferne_reg', 'rafhellas', 'BiBi493'] \n",
      "\n",
      "['NONAME', 'NONAME', 'NONAME', 'NONAME', 'NONAME', 'NONAME', 'NONAME', 'NONAME', 'NONAME', 'NONAME', 'janinci', 'ChefDonnie', 'Giuliaso', 'nicoletta', 'Milva', 'LaEly', 'annabDJQ', 'Sonia', 'Tripchefame', 'maxino', 'ChiaraUdine', 'simonebisaggio', 'Tiziana', 'AntoninoLu', 'flavjo', 'Sara', 'lorenzos', 'micR', 'UWGpaolo', 'AntoninoF', 'piero', 'Italikus', 'Daniele', 'deborad', 'Sibilla', 'Irene', 'inesp', 'duccioc', 'morands', 'renzo', 'Sandro', 'riccardoi', 'Fabiola', 'JESmarcov', 'Giampiero', 'Florindo', 'tinetta', 'des', 'matand', 'Lauraeoshy', 'NONAME', 'NONAME', 'NONAME', 'NONAME', 'NONAME', 'NONAME', 'NONAME', 'NONAME', 'NONAME', 'NONAME', 'vincem', 'Aghi', 'Tommaso', 'Llfg', 'matijak', 'simonebCKW', 'Vanni', 'Massimo', 'LucaBelvedere', 'maromans', 'ChefDonnie', 'LoveBrain', 'alessio', 'claudiabor', 'Luca', 'Latalpa', 'MrBirra', 'emanuele', 'ganogaga', 'Bracco', 'discoromagnolo', 'Emidio', 'elenanina', 'Pepemezzo', 'Gigi', 'FQPalessandrot', 'Bianca', 'MonicaArt', 'chiaraf', 'Il', 'Angus', 'bimbo', 'Roberta', 'Gulliverrr', 'Beltue', 'Enza', 'bido', 'domenicoa', 'Chiara', 'riccardoandlida', 'NONAME', 'NONAME', 'NONAME', 'NONAME', 'NONAME', 'NONAME', 'NONAME', 'NONAME', 'NONAME', 'NONAME', 'giefran', 'MaPi', 'Sole', 'LondraPrince', 'Raffy', 'isag', 'Marco', 'Speranza', 'Andrea', 'girogia', 'Alessandro', 'utpcom', 'EuSys', 'sergiocovaz', 'Gio', 'DrDoc', 'Vincenzo', 'Giuseppe', 'Ivancucchiaio', 'Kawa', 'NONAME', 'NONAME', 'NONAME', 'NONAME', 'NONAME', 'NONAME', 'NONAME', 'NONAME', 'NONAME', 'NONAME', 'NONAME', 'NONAME', 'NONAME', 'NONAME', 'NONAME', 'NONAME', 'NONAME', 'NONAME', 'NONAME', 'NONAME', 'debora', 'Skratoz', 'daz', 'olivial', 'mariosBLB', 'Tulipannas', 'ciccio', 'Marco', 'Francesco', 'jessicapYOK', 'NONAME', 'NONAME', 'NONAME', 'NONAME', 'NONAME', 'NONAME', 'NONAME', 'NONAME', 'NONAME', 'NONAME', 'eyeleren', 'Mario', 'Emmanuele', 'Sofy', 'Michelena', 'Pex', 'pizzoferro', 'fabrizio', 'Departure', 'minica', 'topolyna', 'carlito', 'Alex', 'alexdeo', 'LAYgiorgioc', 'Roby', 'Bruno', 'serafina', 'Michelacroatto', 'DanMorTrip', 'p', 'Giuseppe', 'EffeElle', 'dennisrakar', 'Paolo', 'Beatrice', 'Roberto', 'marziamamusi', 'carlogiovannif', 'SZFoodLover', 'fabriziop', 'Sara', 'xmatte', 'gianlucam', 'frgndr', 'Raffaele', 'robians', 'matteoproia', 'tormento', 'Mondina', 'NONAME', 'NONAME', 'NONAME', 'NONAME', 'NONAME', 'NONAME', 'NONAME', 'NONAME', 'NONAME', 'NONAME', 'NONAME', 'NONAME', 'NONAME', 'NONAME', 'NONAME', 'NONAME', 'NONAME', 'NONAME', 'NONAME', 'NONAME', 'GaBo', 'luogofantastico', 'danybo', 'alefil', 'Elvio', 'Skarabot', 'barbarazuttion', 'Massimo', 'Tonyudinese', 'Sborlengo', 'lorenzo', 'RIGAMNTIDAVlDE', 'luigichef', 'Laura', 'kingdelgusto', 'denisponte', 'Alessandro', 'Giulia', 'LoreImbriaco', 'pasquale', 'martinica', 'ccc', 'Francesca', 'claudiatod', 'RiccardoTirelli', 'vzecchini', 'aladino', 'eliatnihilist', 'Francesco', 'Giulia', 'NONAME', 'NONAME', 'NONAME', 'NONAME', 'NONAME', 'NONAME', 'NONAME', 'NONAME', 'NONAME', 'NONAME', 'CarmineS', 'silvana', 'Eli', 'Mauro', 'stafano', 'tazios', 'Alessio', 'Louise', 'AndreaTRM', 'nicolavaccher', 'Margherita', 'silviamissera', 'GiuseppeC', 'Trieste', 'Luciano', 'Laurin', 'Aprrrrrrrr', 'Giorgia', 'marco', 'emanueleb', 'RagMirco', 'Mirdir', 'duniverso', 'alessandroi', 'Zanicol', 'Bonzo', 'pataly', 'lumehome', 'Matteo', 'DiCoriBlanco', 'NONAME', 'NONAME', 'NONAME', 'NONAME', 'NONAME', 'NONAME', 'NONAME', 'NONAME', 'NONAME', 'NONAME', 'NONAME', 'NONAME', 'NONAME', 'NONAME', 'NONAME', 'NONAME', 'NONAME', 'NONAME', 'NONAME', 'NONAME', 'vagheg', 'PoliFlavio', 'Doby', 'Sightseer', 'riccissimo', 'GVR', 'andrea', 'Frydrichas', 'MmeBrusich', 'monicafor', 'NONAME', 'NONAME', 'NONAME', 'NONAME', 'NONAME', 'NONAME', 'NONAME', 'NONAME', 'NONAME', 'NONAME', 'Franca', 'Stefano', 'paolov', 'Luca', 'xiei', 'nicolacastle', 'enricoilariaandread', 'abelardaabelardo', 'alessiop', 'Mauro', 'Sara', 'giannuttina', 'Bruno', 'Matteo', 'Francesco', 'StefaninoFab', 'QGDfabiom', 'medmedia', 'SGJandrean', 'manuelbCQR', 'Luisa', 'RobertoNuzzi', 'MaVfood', 'Tome', 'cristiancosmaro', 'Dindias', 'Anna', 'ritaug', 'macovince', 'giacomoa', 'giovanna', 'pontonif', 'emigra', 'Mcstak', 'Francesco', 'Tommaso', 'Denise', 'GiuseGiga', 'MRDI', 'Monica', 'mede', 'misha', 'Cevital', 'abcdefghilmoooooooo', 'gianlucaf', 'nikots', 'Federico', 'Christian', 'BAIADELSOL', 'didilaguardia', 'GWLfrancescop', 'MisterBacon', 'Giacomo', 'Cicala', 'Giovanni', 'mareblu', 'Lorenzo', 'antoperry', 'nicola', 'Emanuele', 'olivehoover', 'Gabriele', 'Daniele', 'Copet', 'enricos', 'Panzi', 'donatabruzzi', 'MaceBlu', 'Antonio', 'Valentina', 'Carluccio', 'giuseppeprevitali', 'AFKmarcom', 'albertogrillo', 'Simone', 'Rachele', 'erikav', 'Gianmi', 'Visintin', 'DarioOverland', 'and', 'caratere', 'Paolo', 'FloriDavi', 'fabiaserafin', 'SimonaVoyage', 'Daniela', 'kaos', 'willygalessio', 'Andrew', 'TedeschiLino', 'Mirkocpn', 'Lv', 'G', 'Gabryele', 'antomagic', 'Zoemilu', 'BJARKE', 'sandrob', 'Spritz', 'Marko', 'Idctt', 'AcedaPordenone', 'albo', 'antonio', 'Vale', 'nicom', 'lucamSOT', 'jaryl', 'Massimiliano', 'NONAME', 'NONAME', 'NONAME', 'NONAME', 'NONAME', 'NONAME', 'NONAME', 'NONAME', 'NONAME', 'NONAME', 'CriS', 'grazia', 'Betullabianca', 'triviums', 'LucaR', 'CharryL', 'PesterAndronaco', 'Martina', 'Lenny', 'esperto', 'Gigiobagigiogigante', 'Fulvio', 'zanziz', 'pajadarda', 'turista', 'ariannag', 'Francesco', 'alessandrocTMK', 'Antoniogiornalista', 'pataly', 'lucapecoraropn', 'Angelo', 'Frac', 'dafnem', 'Paola', 'giuseppel', 'elena', 'vittorio', 'mauro', 'paolog', 'eleonorsss', 'Paolo', 'annalisa', 'adolfomeda', 'Gravins', 'MicheleGui', 'Luca', 'andreapRNQ', 'pietro', 'Davide', 'NONAME', 'NONAME', 'NONAME', 'NONAME', 'NONAME', 'NONAME', 'NONAME', 'NONAME', 'NONAME', 'NONAME', 'boyx', 'JohannMS', 'christiane', 'danieledMilano', 'emas', 'AlessiaTal', 'GABRIELLA', 'Elia', 'antoniob', 'Emanuele', 'oscarm', 'maxd', 'ALESSANDRA', 'JolandaGigliotti', 'Prestige', 'levo', 'LaPeru', 'dondaineudine', 'YPPMT', 'Paolo', 'Even', 'Stefania', 'belleroman', 'Erikpadova', 'tralus', 'Andrea', 'Befreebird', 'seiooran', 'djfedev', 'Ely', 'van', 'Ulisse', 'JDSan', 'simo', 'primolucio', 'luca', 'Aliseo', 'piccanto', 'tittannona', 'giuseppe', 'TimeTravellerUd', 'MNebu', 'Alessandro', 'emilioiannetta', 'marta', 'HCGandalf', 'Giacomo', 'roberto', 'PRGsergiop', 'Ciacoke', 'Giulia', 'EnzoF', 'GianniRR', 'edimulfio', 'Gabriele', 'irenep', 'Departure', 'CarloR', 'ksylon', 'Chiara', 'NONAME', 'NONAME', 'NONAME', 'NONAME', 'NONAME', 'NONAME', 'NONAME', 'NONAME', 'NONAME', 'NONAME', 'Ghelfi', 'frittoomistoo', 'stev', 'FrancoPalazzi', 'claracrocevia', 'Corrado', 'giangigiangi', 'lucarYMH', 'LoveBrain', 'Animol', 'sanave', 'Silfanti', 'Massimo', 'Luca', 'NEJlauraf', 'asmodeo', 'mars', 'Carlo', 'ElmatadorCavani', 'Giovannidic', 'NONAME', 'NONAME', 'NONAME', 'NONAME', 'NONAME', 'NONAME', 'NONAME', 'NONAME', 'NONAME', 'NONAME', 'michele', 'Davor', 'Tnd', 'NicolaT', 'Lia', 'ricky', 'drythroat', 'mirna', 'Alberto', 'Zompicchiatti', 'NONAME', 'NONAME', 'NONAME', 'NONAME', 'NONAME', 'NONAME', 'NONAME', 'NONAME', 'NONAME', 'NONAME', 'antonella', 'LadyPurr', 'erika', 'federica', 'Lucio', 'Massimo', 'rosariocv', 'matteog', 'Piarpaolo', 'GiGaX', 'soniapicco', 'fcojmado', 'KatiaInTheWonderland', 'stefanolunardon', 'Paolo', 'DavidePeco', 'Maila', 'Bit', 'Diego', 'giorgetta', 'Alessandro', 'Khalil', 'Iolanda', 'Giulia', 'bellodellavita', 'Zumats', 'Electra', 'Christian', 'ariannalo', 'Ubergate', 'NONAME', 'NONAME', 'NONAME', 'NONAME', 'NONAME', 'NONAME', 'NONAME', 'NONAME', 'NONAME', 'NONAME', 'kekkmingrne', 'Rori', 'NEIiMZ', 'Giorgio', 'Nino', 'Paul', 'davidetcr', 'londra', 'Bluberry', 'ValentinaWally', 'Peppino', 'Nicole', 'NicolaUngaro', 'jeje', 'Stedu', 'Lucia', 'isabella', 'ale', 'max', 'stefanom', 'marco', 'Luisa', 'LorenzoUdine', 'Branzin', 'gmessineo', 'Cinziasissi', 'Amelina', 'EllyL', 'Luanagorizia', 'corrados', 'bender', 'Massimo', 'oberstscorze', 'MicheleeMafe', 'Martina', 'Roberto', 'Muflone', 'MaurizioRossi', 'Carmenmina', 'gaetanos', 'Elisa', 'HeadS', 'Yuri', 'Ilbasco', 'motta', 'PVJalessandrop', 'Nicole', 'curcumaboy', 'Sgnoppola', 'Demetrio', 'IreneRaffin', 'simone', 'Sargat', 'tigiudicoio', 'Giulia', 'Paove', 'Stefania', 'Simonetta', 'rikip', 'matteopEJR', 'NONAME', 'NONAME', 'NONAME', 'NONAME', 'NONAME', 'NONAME', 'NONAME', 'NONAME', 'NONAME', 'NONAME', 'samy', 'Desir', 'MartinaMiclaucich', 'sulpyari', 'Monica', 'Mandragol', 'Papu', 'alessandrob', 'GIULIAGO', 'GDF', 'Giulia', 'Cosangeles', 'Luca', 'Matteo', 'Gloria', 'demonico', 'GingerIle', 'Paolino', 'Filippo', 'enricotrip', 'Leonardo', 'raffaello', 'BZRchiarab', 'ilpiuforte', 'fabrizioa', 'gmessineo', 'Giulia', 'Maria', 'marco', 'maxx', 'ManuelGO', 'gaetanodp', 'Marco', 'Samantha', 'PQKfrancescos', 'Agondre', 'Giuly', 'ryceve', 'tonym', 'Chiara', 'NONAME', 'NONAME', 'NONAME', 'NONAME', 'NONAME', 'NONAME', 'NONAME', 'NONAME', 'NONAME', 'NONAME', 'AnnaF', 'Raffohunger', 'QKFgiuliad', 'Michele', 'MiaoTO', 'imbriagon', 'arjragna', 'Sandrute', 'Anna', 'mario', 'Anna', 'wolfox', 'fidesd', 'RobertaReyerina', 'Alberto', 'filippo', 'riversena', 'Andreonne', 'Damianoide', 'Lino', 'gfayr', 'Professore', 'paolodCJK', 'Pero', 'sien', 'marinella', 'Marinapicia', 'littlesquirrel', 'Caterina', 'Marta', 'Daniela', 'mattiaa', 'Lion', 'Nicole', 'Michele', 'Matilde', 'rossellaz', 'tarsilla', 'Caviz', 'Lea', 'NONAME', 'NONAME', 'NONAME', 'NONAME', 'NONAME', 'NONAME', 'NONAME', 'NONAME', 'NONAME', 'NONAME', 'Nicoletta', 'Michele', 'AnnaGiachino', 'Alessandro', 'ZiaPolly', 'AlessandroDB', 'Nibbioinside', 'Erika', 'IlariaTax', 'saradz', 'Olipitrap', 'Trinus', 'Fabrizio', 'Anna', 'AlessandroGiada', 'giulyedany', 'Alessandro', 'Giulia', 'marilozar', 'elisabettac', 'Gaia', 'felixchiusi', 'Holsen', 'Superado', 'Luky', 'marcello', 'GAP', 'Luko', 'VEZandreaz', 'SSusannina', 'garlo', 'Giuseppe', 'enrico', 'monikaj', 'emanuelam', 'fabriziov', 'Paolo', 'Patrizia', 'Fabiana', 'Sara', 'Fabio', 'ONMvalentinas', 'Desire', 'wyllyss', 'Andrea', 'veronicab', 'AmonMoriente', 'Dariomino', 'Lana', 'Fedry', 'Brescia', 'Giovanni', 'CriCam', 'Davide', 'EpyG', 'mamanib', 'BLBdiegob', 'tripto', 'RickHunter', 'Monkiky', 'NONAME', 'NONAME', 'NONAME', 'NONAME', 'NONAME', 'NONAME', 'NONAME', 'NONAME', 'NONAME', 'NONAME', 'mrdocr', 'Stefano', 'John', 'MaurizioZara', 'disraeligear', 'girodaria', 'DivinPorcello', 'massimoc', 'Angnto', 'Adamo', 'Gavin', 'rebecca', 'angelo', 'Alice', 'ilaria', 'Gaetano', 'selened', 'luigivxiv', 'Francy', 'Zest', 'Michele', 'massimilianod', 'Grazianolibero', 'Francesco', 'alessandrocXYW', 'koji', 'fabior', 'kia', 'Giuseppe', 'maurizio', 'Beatrice', 'pugnod', 'Skywalkercc', 'Giuseppis', 'andrew', 'Barbara', 'EDISES', 'dy', 'Emanuela', 'charlieb', 'NONAME', 'NONAME', 'NONAME', 'NONAME', 'NONAME', 'NONAME', 'NONAME', 'NONAME', 'NONAME', 'NONAME', 'Michele', 'Lorenzo', 'Francesco', 'adry', 'Alice', 'Daniele', 'Andrewj', 'UnderAlex', 'AmbraM', 'Gianluca', 'TedeschiLino', 'Marco', 'Claudio', 'Ametista', 'Giulia', 'elisab', 'Andrea', 'francescogQTN', 'SettembreNero', 'dolceincanto', 'Maurizio', 'buttigo', 'gheltrude', 'Giulia', 'RobertaConcettini', 'marcoa', 'Deid', 'Tambascia', 'ViceLore', 'MicheleB', 'Alessia', 'BrunoTaglia', 'steffy', 'piccoloseme', 'nennellina', 'Luca', 'gidrioli', 'ilaria', 'lauriniantonello', 'OliverDob', 'Andrea', 'Cosimo', 'Rizza', 'giuky', 'Fefo', 'GigiAltamura', 'DoppiaEffe', 'Roberto', 'repuccin', 'Massimiliano', 'Giordano', 'Valentina', 'Gilinda', 'DegaAndrea', 'Cacu', 'tittyt', 'StarBuckSere', 'francescal', 'Emilio', 'fhfe', 'Francesco', 'Milio', 'gjigji', 'bender', 'Ririisland', 'zodiacocenaire', 'katiusha', 'Massimo', 'I', 'Dany', 'vania', 'NQBsarag', 'Maria', 'cinziam', 'deborahve', 'Simone', 'Lovetuscany', 'Chiaccorollina', 'recensitore', 'rollypil', 'NONAME', 'NONAME', 'NONAME', 'NONAME', 'NONAME', 'NONAME', 'NONAME', 'NONAME', 'NONAME', 'NONAME', 'Massimo', 'Fabia', 'albertos', 'Romeox', 'LeonardoTanzi', 'aleefedecuz', 'gianpiero', 'Filippo', 'claudio', 'BigDaddyIII', 'Claudio', 'andbaas', 'centootto', 'rubythuesday', 'Gaspare', 'Maddidr', 'Andrea', 'Riccardo', 'Daniele', 'Michele', 'ankeno', 'hdsimona', 'Maria', 'Ammazza', 'fabiettomidun', 'Angeloct', 'RobyR', 'Igor', 'Samuele', 'Matteo', 'fabbro', 'Paolo', 'olivehoover', 'Epitrips', 'Carltasso', 'Faliraki', 'adrogu', 'AntonyLive', 'Aliona', 'albertot', 'NONAME', 'NONAME', 'NONAME', 'NONAME', 'NONAME', 'NONAME', 'NONAME', 'NONAME', 'NONAME', 'NONAME', 'andreacEWK', 'Pacoroma', 'Paso', 'silviatoff', 'viandantibus', 'shobby', 'ofpastairs', 'viaggiatorcortese', 'deborad', 'Jessica', 'Oscar', 'PaoloTonini', 'Davide', 'fedegrazia', 'ginolollobriggido', 'ugosky', 'FabbioFabio', 'ColorRun', 'fonta', 'Giulysss', 'Alpino', 'Rosario', 'AleVars', 'Gianluca', 'DivinPorcello', 'Voyagina', 'undc', 'ImFran', 'Valeria', 'asmodeo', 'RokiTelAviv', 'robertar', 'davide', 'marcbi', 'marcomorandi', 'Pasquale', 'Moirap', 'Pierluigi', 'sergios', 'Antonio', 'Esperimenti', 'CristinaThomas', 'Silva', 'Francesco', 'bikerlio', 'fontanavalentina', 'mariosalvatorer', 'Alix', 'pieropaola', 'corrados', 'Giacomino', 'Nunform', 'marco', 'Carlo', 'cristinaz', 'SimoneTNT', 'Massimiliano', 'dariovincenzoaldoo', 'Giorgia', 'Manlio', 'maurolarise', 'Demetrio', 'mraksabrina', 'stefano', 'FedericoFabris', 'LucaC', 'Algorith', 'Elena', 'Antclo', 'Francesco', 'NONAME', 'NONAME', 'NONAME', 'NONAME', 'NONAME', 'NONAME', 'NONAME', 'NONAME', 'NONAME', 'NONAME', 'NONAME', 'NONAME', 'NONAME', 'NONAME', 'NONAME', 'NONAME', 'NONAME', 'NONAME', 'NONAME', 'NONAME', 'Marco', 'fabiof', 'Maddalena', 'Emanuele', 'Inno', 'Florenz', 'ValentinaT', 'Antonino', 'Basta', 'manuelaballarin', 'conca', 'sampo', 'Mihaela', 'Alberto', 'Maupier', 'LaurettaC', 'kaoriforkami', 'Mario', 'Roberto', 'BlerinaFrasheri', 'Stefano', 'mauriziov', 'Patrizia', 'mapacalo', 'Paperinika', 'Andreago', 'Alessia', 'vivianita', 'alice', 'lucianinotrip', 'NONAME', 'NONAME', 'NONAME', 'NONAME', 'NONAME', 'NONAME', 'NONAME', 'NONAME', 'NONAME', 'NONAME', 'NONAME', 'NONAME', 'NONAME', 'NONAME', 'NONAME', 'NONAME', 'NONAME', 'NONAME', 'NONAME', 'NONAME', 'Fracchietta', 'ChiaDab', 'sempreingiro', 'PIERPICCOLO', 'ficciomc', 'Lucioudine', 'Michele', 'Seddusa', 'DY', 'Rufus', 'Marco', 'Sara', 'Alessandro', 'grohmann', 'Christianbz', 'Laurettago', 'matteod', 'enrico', 'Telek', 'jeffry', 'BatmanStar', 'Chiara', 'CalabroneCB', 'robertoc', 'Massimo', 'Michele', 'FABIO', 'Claudio', 'Sbirulina', 'gianluca', 'Nicola', 'francescota', 'antoniogorizia', 'samantha', 'Carla', 'ellmagno', 'vatimea', 'Federico', 'MESSICO', 'giuliana', 'robudine', 'CheccuC', 'stillalive', 'flele', 'Valentina', 'curiosoviaggiatore', 'niky', 'Giuseppe', 'madaj', 'Paolaemanu', 'NONAME', 'NONAME', 'NONAME', 'NONAME', 'NONAME', 'NONAME', 'NONAME', 'NONAME', 'NONAME', 'NONAME', 'NONAME', 'NONAME', 'NONAME', 'NONAME', 'NONAME', 'NONAME', 'NONAME', 'NONAME', 'NONAME', 'NONAME', 'NONAME', 'NONAME', 'NONAME', 'NONAME', 'NONAME', 'NONAME', 'NONAME', 'NONAME', 'NONAME', 'NONAME', 'nicomoni', 'merypunti', 'chiaretta', 'Frarty', 'pepepn', 'a', 'brunaConegliano', 'mdomenico', 'fullofpain', 'afvarisco', 'MaoEle', 'mariellaPadova', 'Giuditta', 'simolo', 'UmbertoConfalonieri', 'Pierluigi', 'nulam', 'Pique', 'Giacomo', 'Joepax', 'NONAME', 'NONAME', 'NONAME', 'NONAME', 'NONAME', 'NONAME', 'NONAME', 'NONAME', 'NONAME', 'NONAME', 'Mary', 'gelatoalcioccolato', 'Chiccola', 'wolly', 'ABDESIGN', 'BasBook', 'Cestmoi', 'mrgigi', 'Clara', 'dolly', 'NONAME', 'NONAME', 'NONAME', 'NONAME', 'NONAME', 'NONAME', 'NONAME', 'NONAME', 'NONAME', 'NONAME', 'bettyraed', 'Florenz', 'Barbarazennaro', 'Tommaso', 'Sandro', 'chiaretta', 'ChiaraB', 'Cristian', 'Daniele', 'omamelii', 'simonec', 'Shejoker', 'Jacopo', 'ccc', 'Giulixoxo', 'marco', 'ShinySushi', 'frlli', 'JPable', 'cicco', 'kry', 'filippob', 'davidea', 'saverio', 'Marco', 'SabinaD', 'Nuraghearrubiu', 'Giovanni', 'Snacke', 'Whataaa', 'MarialauraU', 'Pietro', 'mario', 'blitztrip', 'deaddado', 'davidmari', 'luanam', 'Ottovolant', 'lucam', 'DOMY', 'EleonoraQualizza', 'goliaPadova', 'silviadc', 'Legoman', 'Marikas', 'Laura', 'Salvatoremila', 'venessiana', 'AlBrigante', 'Brex', 'melissadg', 'EsseciS', 'Solitario', 'Ergal', 'ronin', 'Fabio', 'dune', 'Matteo', 'Davide', 'XPie', 'Matteo', 'elyhd', 'Fiore', 'Xajare', 'Gaudicc', 'EttoreGrassini', 'NoLaUD', 'Davide', 'Alessandra', 'StefaniaDM', 'pippenji', 'stella', 'lucabidoli', 'Sara', 'Daniela', 'UdineFrancy', 'mikiCampoformido', 'Sara', 'Skiman', 'denisntwk', 'NONAME', 'NONAME', 'NONAME', 'NONAME', 'NONAME', 'NONAME', 'NONAME', 'NONAME', 'NONAME', 'NONAME', 'loralou', 'ELENA', 'anfasano', 'gpagot', 'Samrocketqueen', 'biby', 'ryceve', 'KettyF', 'Luca', 'fabiuzts', 'denismagro', 'ele', 'Davide', 'Alessandro', 'rosy', 'Barbarababiii', 'Alessandro', 'eturus', 'Ketty', 'kebson', 'diegocontini', 'ilthomaz', 'Semplice', 'MicheleD', 'Richter', 'DysonFrost', 'PaoTrieste', 'Luigi', 'chloec', 'BellagioSMdC', 'vb', 'Oasix', 'Foxylolo', 'cromax', 'GIULIOFRAN', 'MartinaP', 'bibi', 'stexdp', 'mulinbianc', 'Tania', 'guccionedanilo', 'AFox', 'Simone', 'Luchino', 'sleepskatcher', 'polacchina', 'Gidgbr', 'martina', 'Pecos', 'AlessiaT', 'Massimo', 'onoprelaz', 'Cyrus', 'glovoni', 'FabyGian', 'Stefano', 'Dannyrs', 'Davidik', 'Mariolina', 'luigicaserta', 'AlessandraP', 'Pignetta', 'AndreaVivi', 'Antonio', 'Zanzillo', 'GiannieGiusy', 'solocarne', 'CarlaLori', 'Maryjanis', 'EnzoMFTravel', 'CALIFORNIAJACK', 'milucci', 'Alibaba', 'Luca', 'rk', 'furreddu', 'Alberto', 'Elisa', 'Mennelliszt', 'Nena', 'NONAME', 'NONAME', 'NONAME', 'NONAME', 'NONAME', 'NONAME', 'NONAME', 'NONAME', 'NONAME', 'NONAME', 'Slakay', 'Moni', 'Sole', '', 'supersimod', 'peciot', 'Alex', 'denis', 'ocram', 'Sergio', 'CBMilano', 'DiegoRS', 'Nesto', 'amberusft', 'RobertoOt', 'dangeli', 'Salvatore', 'Claudio', 'Tullia', 'Marco', 'aifide', 'sarpo', 'Angela', 'Martadc', 'finisi', 'Gianni', 'italianeowyn', 'NicolaT', 'spillo', 'Sarumba', 'myflashflow', 'mox', 'FabioMec', 'maxmuja', 'parkavenue', 'italo', 'Miriam', 'Giacomo', 'kilgorefawlty', 'ddamiano', 'gio', 'Maurizio', 'tioda', 'Giuliodefaveri', 'sty', 'CoSaTraduttori', 'antonella', 'BeluVale', 'Monty', 'ritam', 'ChristianVann', 'Martadc', 'milcesar', 'Tomastex', 'MarcoStefa', 'Mricky', 'FabrizioS', 'Fanina', 'diei', 'maurizio', 'skebis', 'Agostino', 'Thomas', 'chiarasweet', 'DanielKontovel', 'DonnaVerso', 'faunsp', 'Antonio', 'nespolir', 'Bracius', 'EddyG', 'Marco', 'antonello', 'Nani', 'Mcnola', 'elisab', 'Luca', 'camomilla', 'DuralexSedFlex', 'collavinochristian', 'MorrisMR', 'Voltaire', 'Scarlettever', 'Baldo', 'Trillililli', 'SusanUdineItalia', 'mimm', 'moreuseelessuknow', 'Paolo', 'ottecnoc', 'sara', 'Alessandro', 'gabribm', 'Moltofermento', 'omar', 'nulam', 'criteri', 'davidedavidoski', 'LukaUdine', 'Garcerick', 'Renato', 'KikkaTrieste', 'MttoD', 'Andrea', 'lucasHYA', 'ginettaegino', 'MartaCab', 'GILBY', 'SaNa', 'trillyGorizia', 'fiorep', 'FabianoUD', 'Trianto', 'ericaUdine', 'oil', 'iCinicci', 'DiegoFCJ', 'Maubo', 'LukeK', 'Cianc', 'Kittycoccolino', 'elisachevola', 'Ishvara', 'aifide', 'sandmMilano', 'daniele', 'squeezo', 'fevele', 'Deborahmartina', 'Neronino', 'Dolores', 'Scandinavian', 'ANTONSTE', 'Eeprom', 'GalaxyAntra', 'Fanina', 'domesilv', 'socialmind', 'Sabrinaxxx', 'Ettore', 'RomaStone', 'Marco', 'heinz', 'GinoVonRaiffburg', 'Ri', 'Nino', 'Ambra', 'StefanoPD', 'vespa', 'gastroturista', 'NONAME', 'NONAME', 'NONAME', 'NONAME', 'NONAME', 'NONAME', 'NONAME', 'NONAME', 'NONAME', 'NONAME', 'SimoneUd', 'serenagc', 'Piletta', 'fulvio', 'Sere', 'brokenmayo', 'riccardo', 'Maurizio', 'bb', 'gvs', 'zorst', 'Radios', 'CuteMacaroon', 'LS', 'stefano', 'torreporto', 'BikersFiumeVeneto', 'enricomala', 'wilcom', 'marco', 'asia', 'missbarbarad', 'Timoteo', 'zatop', 'AGENTEVIAGGI', 'Simone', 'annaschummi', 'robiscu', 'alwaysinaction', 'giuts', 'NONAME', 'NONAME', 'NONAME', 'NONAME', 'NONAME', 'NONAME', 'NONAME', 'NONAME', 'NONAME', 'NONAME', 'NONAME', 'NONAME', 'NONAME', 'NONAME', 'NONAME', 'NONAME', 'NONAME', 'NONAME', 'NONAME', 'NONAME', 'lisuka', 'fede', 'boboposta', 'simplesmente', 'Slowhand', 'Dylan', 'SvetlanaUD', 'francescod', 'lucalisapadova', 'AGENTEVIAGGI', 'bubusan', 'poirot', 'abc', 'Palemoonlight', 'Un', 'Un', 'adamnordwest', 'KANewYork', 'Rooindie', 'rpd', 'NONAME', 'NONAME', 'NONAME', 'NONAME', 'NONAME', 'NONAME', 'NONAME', 'NONAME', 'NONAME', 'NONAME', 'hardyf', 'Michele', 'SasoBatic', 'besyta', 'themarswalker', 'Fernereg', 'rafhellas', 'BiBi']\n"
     ]
    }
   ],
   "source": [
    "import re\n",
    "\n",
    "all_names_filtered = []\n",
    "\n",
    "regex = re.compile('[^a-zA-Z]')\n",
    "\n",
    "for name in all_names:\n",
    "    \n",
    "    if ' ' in name:                           # se c'è uno spazio nel nome\n",
    "        space = name.index(' ')               # ne trovo l'indice\n",
    "        name = regex.sub('', name[:space])    # effettuo un controllo su tutto ciò che non è alfabeto fino a quell'indice\n",
    "        all_names_filtered.append(name)       # e aggiungo la stringa\n",
    "        \n",
    "    else:\n",
    "        name = regex.sub('', name)            # in caso contrario effettuo un controllo su tutto ciò che non è alfabeto\n",
    "        all_names_filtered.append(name)       # e aggiungo la stringa\n",
    "        \n",
    "print(all_names, '\\n')\n",
    "print(all_names_filtered)"
   ]
  },
  {
   "cell_type": "markdown",
   "metadata": {
    "colab_type": "text",
    "id": "sVMu3308WTs9"
   },
   "source": [
    "#### Utilizzo gender_guesser\n",
    "Infine, posso utilizzare la libreria gender_guesser.\n",
    "\n",
    "NB: Genderize ti permette di analizzare 1000 nomi al giorno."
   ]
  },
  {
   "cell_type": "code",
   "execution_count": 11,
   "metadata": {
    "colab": {},
    "colab_type": "code",
    "id": "t013m_u2WTs_"
   },
   "outputs": [
    {
     "name": "stdout",
     "output_type": "stream",
     "text": [
      "Requirement already satisfied: gender_guesser in /anaconda3/lib/python3.7/site-packages (0.4.0)\r\n"
     ]
    }
   ],
   "source": [
    "!pip install gender_guesser"
   ]
  },
  {
   "cell_type": "code",
   "execution_count": 12,
   "metadata": {
    "colab": {},
    "colab_type": "code",
    "id": "T0F8kG-OWTtC"
   },
   "outputs": [
    {
     "name": "stdout",
     "output_type": "stream",
     "text": [
      "['unknown', 'unknown', 'unknown', 'unknown', 'unknown', 'unknown', 'unknown', 'unknown', 'unknown', 'unknown', 'unknown', 'unknown', 'unknown', 'unknown', 'female', 'unknown', 'unknown', 'female', 'unknown', 'unknown', 'unknown', 'unknown', 'female', 'unknown', 'unknown', 'female', 'unknown', 'unknown', 'unknown', 'unknown', 'unknown', 'unknown', 'female', 'unknown', 'female', 'female', 'unknown', 'unknown', 'unknown', 'unknown', 'male', 'unknown', 'female', 'unknown', 'male', 'male', 'unknown', 'unknown', 'unknown', 'unknown', 'unknown', 'unknown', 'unknown', 'unknown', 'unknown', 'unknown', 'unknown', 'unknown', 'unknown', 'unknown', 'unknown', 'unknown', 'male', 'unknown', 'unknown', 'unknown', 'male', 'male', 'unknown', 'unknown', 'unknown', 'unknown', 'unknown', 'unknown', 'male', 'unknown', 'unknown', 'unknown', 'unknown', 'unknown', 'unknown', 'male', 'unknown', 'unknown', 'male', 'unknown', 'female', 'unknown', 'unknown', 'mostly_male', 'male', 'unknown', 'female', 'unknown', 'unknown', 'female', 'unknown', 'unknown', 'female', 'unknown', 'unknown', 'unknown', 'unknown', 'unknown', 'unknown', 'unknown', 'unknown', 'unknown', 'unknown', 'unknown', 'unknown', 'unknown', 'unknown', 'unknown', 'male', 'unknown', 'male', 'female', 'female', 'unknown', 'male', 'unknown', 'unknown', 'unknown', 'unknown', 'unknown', 'male', 'male', 'unknown', 'unknown', 'unknown', 'unknown', 'unknown', 'unknown', 'unknown', 'unknown', 'unknown', 'unknown', 'unknown', 'unknown', 'unknown', 'unknown', 'unknown', 'unknown', 'unknown', 'unknown', 'unknown', 'unknown', 'unknown', 'unknown', 'unknown', 'unknown', 'unknown', 'unknown', 'unknown', 'unknown', 'unknown', 'male', 'male', 'unknown', 'unknown', 'unknown', 'unknown', 'unknown', 'unknown', 'unknown', 'unknown', 'unknown', 'unknown', 'unknown', 'unknown', 'male', 'male', 'unknown', 'unknown', 'unknown', 'unknown', 'unknown', 'unknown', 'unknown', 'unknown', 'unknown', 'male', 'unknown', 'unknown', 'male', 'male', 'unknown', 'unknown', 'unknown', 'unknown', 'male', 'unknown', 'unknown', 'male', 'female', 'male', 'unknown', 'unknown', 'unknown', 'unknown', 'female', 'unknown', 'unknown', 'unknown', 'male', 'unknown', 'unknown', 'unknown', 'unknown', 'unknown', 'unknown', 'unknown', 'unknown', 'unknown', 'unknown', 'unknown', 'unknown', 'unknown', 'unknown', 'unknown', 'unknown', 'unknown', 'unknown', 'unknown', 'unknown', 'unknown', 'unknown', 'unknown', 'unknown', 'unknown', 'unknown', 'unknown', 'unknown', 'male', 'unknown', 'unknown', 'male', 'unknown', 'unknown', 'unknown', 'unknown', 'unknown', 'female', 'unknown', 'unknown', 'male', 'female', 'unknown', 'unknown', 'unknown', 'unknown', 'female', 'unknown', 'unknown', 'unknown', 'unknown', 'unknown', 'male', 'female', 'unknown', 'unknown', 'unknown', 'unknown', 'unknown', 'unknown', 'unknown', 'unknown', 'unknown', 'unknown', 'unknown', 'unknown', 'female', 'male', 'unknown', 'unknown', 'male', 'female', 'unknown', 'unknown', 'female', 'unknown', 'unknown', 'unknown', 'male', 'female', 'unknown', 'female', 'unknown', 'unknown', 'unknown', 'unknown', 'unknown', 'unknown', 'unknown', 'unknown', 'unknown', 'unknown', 'male', 'unknown', 'unknown', 'unknown', 'unknown', 'unknown', 'unknown', 'unknown', 'unknown', 'unknown', 'unknown', 'unknown', 'unknown', 'unknown', 'unknown', 'unknown', 'unknown', 'unknown', 'unknown', 'unknown', 'unknown', 'unknown', 'unknown', 'unknown', 'unknown', 'unknown', 'unknown', 'unknown', 'unknown', 'unknown', 'unknown', 'unknown', 'unknown', 'unknown', 'unknown', 'unknown', 'unknown', 'unknown', 'unknown', 'unknown', 'unknown', 'unknown', 'female', 'male', 'unknown', 'male', 'unknown', 'unknown', 'unknown', 'unknown', 'unknown', 'male', 'female', 'unknown', 'male', 'male', 'male', 'unknown', 'unknown', 'unknown', 'unknown', 'unknown', 'female', 'unknown', 'unknown', 'male', 'unknown', 'unknown', 'female', 'unknown', 'unknown', 'unknown', 'unknown', 'unknown', 'unknown', 'unknown', 'male', 'male', 'female', 'unknown', 'unknown', 'female', 'unknown', 'unknown', 'unknown', 'unknown', 'unknown', 'unknown', 'male', 'male', 'unknown', 'unknown', 'unknown', 'unknown', 'male', 'unknown', 'male', 'unknown', 'male', 'unknown', 'unknown', 'male', 'unknown', 'female', 'female', 'unknown', 'unknown', 'unknown', 'unknown', 'unknown', 'male', 'female', 'unknown', 'unknown', 'unknown', 'unknown', 'female', 'female', 'unknown', 'unknown', 'unknown', 'unknown', 'unknown', 'unknown', 'male', 'unknown', 'unknown', 'unknown', 'female', 'unknown', 'unknown', 'male', 'unknown', 'unknown', 'unknown', 'unknown', 'unknown', 'unknown', 'unknown', 'unknown', 'unknown', 'unknown', 'male', 'unknown', 'unknown', 'unknown', 'unknown', 'unknown', 'unknown', 'unknown', 'unknown', 'male', 'unknown', 'unknown', 'unknown', 'unknown', 'unknown', 'unknown', 'unknown', 'unknown', 'unknown', 'unknown', 'unknown', 'unknown', 'unknown', 'unknown', 'unknown', 'unknown', 'unknown', 'female', 'male', 'unknown', 'unknown', 'male', 'unknown', 'unknown', 'unknown', 'unknown', 'male', 'unknown', 'unknown', 'unknown', 'unknown', 'male', 'unknown', 'unknown', 'female', 'unknown', 'unknown', 'unknown', 'unknown', 'unknown', 'unknown', 'male', 'unknown', 'unknown', 'unknown', 'unknown', 'male', 'unknown', 'unknown', 'male', 'unknown', 'unknown', 'unknown', 'unknown', 'unknown', 'unknown', 'unknown', 'unknown', 'unknown', 'unknown', 'unknown', 'unknown', 'unknown', 'unknown', 'unknown', 'unknown', 'unknown', 'female', 'unknown', 'male', 'unknown', 'unknown', 'unknown', 'unknown', 'unknown', 'unknown', 'unknown', 'unknown', 'unknown', 'male', 'male', 'female', 'unknown', 'unknown', 'unknown', 'female', 'unknown', 'unknown', 'unknown', 'unknown', 'unknown', 'male', 'unknown', 'unknown', 'unknown', 'unknown', 'unknown', 'unknown', 'unknown', 'unknown', 'unknown', 'unknown', 'male', 'unknown', 'unknown', 'unknown', 'male', 'unknown', 'unknown', 'unknown', 'female', 'unknown', 'unknown', 'unknown', 'female', 'unknown', 'unknown', 'unknown', 'unknown', 'female', 'unknown', 'unknown', 'unknown', 'unknown', 'unknown', 'unknown', 'unknown', 'unknown', 'unknown', 'unknown', 'unknown', 'unknown', 'unknown', 'unknown', 'unknown', 'male', 'unknown', 'unknown', 'unknown', 'unknown', 'unknown', 'unknown', 'male', 'male', 'unknown', 'unknown', 'unknown', 'male', 'unknown', 'unknown', 'unknown', 'unknown', 'unknown', 'unknown', 'unknown', 'unknown', 'unknown', 'unknown', 'unknown', 'unknown', 'unknown', 'male', 'unknown', 'unknown', 'female', 'unknown', 'unknown', 'unknown', 'male', 'unknown', 'unknown', 'unknown', 'unknown', 'unknown', 'unknown', 'unknown', 'unknown', 'unknown', 'unknown', 'unknown', 'unknown', 'unknown', 'unknown', 'unknown', 'male', 'male', 'unknown', 'unknown', 'unknown', 'unknown', 'unknown', 'unknown', 'unknown', 'unknown', 'male', 'unknown', 'female', 'unknown', 'male', 'unknown', 'male', 'male', 'female', 'female', 'unknown', 'unknown', 'unknown', 'male', 'unknown', 'unknown', 'unknown', 'unknown', 'unknown', 'unknown', 'unknown', 'unknown', 'unknown', 'unknown', 'unknown', 'unknown', 'unknown', 'unknown', 'unknown', 'male', 'male', 'male', 'unknown', 'unknown', 'unknown', 'unknown', 'male', 'female', 'unknown', 'unknown', 'unknown', 'female', 'unknown', 'unknown', 'unknown', 'unknown', 'unknown', 'female', 'unknown', 'unknown', 'unknown', 'unknown', 'unknown', 'unknown', 'unknown', 'unknown', 'unknown', 'male', 'unknown', 'unknown', 'female', 'male', 'unknown', 'unknown', 'unknown', 'unknown', 'female', 'unknown', 'male', 'unknown', 'unknown', 'unknown', 'female', 'unknown', 'unknown', 'male', 'unknown', 'unknown', 'unknown', 'unknown', 'female', 'unknown', 'female', 'female', 'unknown', 'unknown', 'unknown', 'unknown', 'unknown', 'unknown', 'unknown', 'unknown', 'unknown', 'unknown', 'unknown', 'unknown', 'unknown', 'unknown', 'unknown', 'unknown', 'female', 'unknown', 'unknown', 'unknown', 'unknown', 'unknown', 'female', 'unknown', 'male', 'male', 'female', 'unknown', 'unknown', 'male', 'male', 'unknown', 'male', 'unknown', 'unknown', 'unknown', 'unknown', 'unknown', 'female', 'female', 'unknown', 'unknown', 'unknown', 'unknown', 'male', 'female', 'unknown', 'unknown', 'unknown', 'unknown', 'unknown', 'female', 'unknown', 'unknown', 'unknown', 'unknown', 'unknown', 'unknown', 'unknown', 'unknown', 'unknown', 'unknown', 'unknown', 'unknown', 'unknown', 'female', 'unknown', 'unknown', 'unknown', 'unknown', 'female', 'unknown', 'female', 'unknown', 'unknown', 'unknown', 'male', 'unknown', 'unknown', 'unknown', 'unknown', 'male', 'unknown', 'unknown', 'unknown', 'male', 'unknown', 'unknown', 'unknown', 'unknown', 'female', 'female', 'female', 'unknown', 'male', 'female', 'female', 'female', 'unknown', 'unknown', 'unknown', 'female', 'unknown', 'unknown', 'unknown', 'unknown', 'unknown', 'unknown', 'unknown', 'unknown', 'unknown', 'unknown', 'female', 'female', 'unknown', 'male', 'unknown', 'unknown', 'unknown', 'female', 'unknown', 'unknown', 'unknown', 'male', 'male', 'female', 'unknown', 'unknown', 'male', 'female', 'unknown', 'unknown', 'female', 'unknown', 'unknown', 'unknown', 'unknown', 'unknown', 'unknown', 'unknown', 'unknown', 'unknown', 'unknown', 'male', 'unknown', 'unknown', 'unknown', 'unknown', 'male', 'female', 'female', 'female', 'male', 'unknown', 'female', 'unknown', 'female', 'unknown', 'unknown', 'unknown', 'female', 'unknown', 'unknown', 'male', 'unknown', 'male', 'unknown', 'unknown', 'unknown', 'unknown', 'unknown', 'unknown', 'unknown', 'unknown', 'unknown', 'unknown', 'unknown', 'unknown', 'unknown', 'unknown', 'unknown', 'unknown', 'unknown', 'male', 'male', 'unknown', 'unknown', 'unknown', 'unknown', 'unknown', 'unknown', 'male', 'male', 'unknown', 'unknown', 'female', 'unknown', 'male', 'unknown', 'unknown', 'unknown', 'unknown', 'female', 'unknown', 'unknown', 'male', 'unknown', 'unknown', 'unknown', 'unknown', 'male', 'unknown', 'female', 'unknown', 'unknown', 'unknown', 'unknown', 'female', 'unknown', 'unknown', 'female', 'unknown', 'unknown', 'unknown', 'unknown', 'unknown', 'unknown', 'unknown', 'unknown', 'unknown', 'unknown', 'unknown', 'female', 'male', 'male', 'unknown', 'female', 'female', 'unknown', 'unknown', 'unknown', 'male', 'unknown', 'male', 'male', 'unknown', 'female', 'unknown', 'female', 'unknown', 'unknown', 'unknown', 'male', 'unknown', 'unknown', 'female', 'unknown', 'unknown', 'unknown', 'unknown', 'unknown', 'unknown', 'female', 'unknown', 'unknown', 'unknown', 'unknown', 'male', 'unknown', 'unknown', 'unknown', 'unknown', 'female', 'male', 'unknown', 'unknown', 'unknown', 'unknown', 'unknown', 'male', 'unknown', 'male', 'male', 'female', 'unknown', 'unknown', 'unknown', 'unknown', 'unknown', 'unknown', 'male', 'unknown', 'male', 'unknown', 'unknown', 'unknown', 'unknown', 'unknown', 'unknown', 'male', 'unknown', 'female', 'unknown', 'unknown', 'female', 'unknown', 'unknown', 'female', 'unknown', 'unknown', 'unknown', 'unknown', 'unknown', 'unknown', 'unknown', 'unknown', 'unknown', 'unknown', 'unknown', 'unknown', 'unknown', 'unknown', 'male', 'female', 'unknown', 'unknown', 'unknown', 'unknown', 'unknown', 'male', 'unknown', 'unknown', 'male', 'unknown', 'unknown', 'unknown', 'male', 'unknown', 'female', 'male', 'female', 'female', 'unknown', 'unknown', 'female', 'unknown', 'unknown', 'unknown', 'unknown', 'male', 'male', 'male', 'unknown', 'male', 'unknown', 'unknown', 'unknown', 'unknown', 'unknown', 'unknown', 'female', 'unknown', 'unknown', 'unknown', 'unknown', 'unknown', 'unknown', 'unknown', 'unknown', 'unknown', 'unknown', 'unknown', 'unknown', 'unknown', 'unknown', 'unknown', 'unknown', 'unknown', 'unknown', 'unknown', 'unknown', 'female', 'male', 'unknown', 'male', 'unknown', 'unknown', 'unknown', 'unknown', 'unknown', 'unknown', 'unknown', 'unknown', 'male', 'unknown', 'male', 'unknown', 'unknown', 'unknown', 'unknown', 'female', 'unknown', 'unknown', 'unknown', 'unknown', 'unknown', 'unknown', 'male', 'unknown', 'male', 'unknown', 'male', 'unknown', 'unknown', 'female', 'male', 'unknown', 'unknown', 'unknown', 'mostly_female', 'unknown', 'unknown', 'male', 'unknown', 'unknown', 'male', 'unknown', 'unknown', 'male', 'unknown', 'female', 'male', 'unknown', 'male', 'unknown', 'unknown', 'unknown', 'unknown', 'unknown', 'female', 'unknown', 'male', 'unknown', 'unknown', 'unknown', 'unknown', 'unknown', 'unknown', 'unknown', 'unknown', 'unknown', 'unknown', 'unknown', 'unknown', 'unknown', 'unknown', 'unknown', 'unknown', 'unknown', 'unknown', 'unknown', 'unknown', 'male', 'unknown', 'female', 'male', 'male', 'male', 'unknown', 'male', 'unknown', 'unknown', 'unknown', 'unknown', 'female', 'male', 'unknown', 'unknown', 'unknown', 'male', 'male', 'unknown', 'male', 'unknown', 'female', 'unknown', 'unknown', 'unknown', 'female', 'unknown', 'unknown', 'unknown', 'unknown', 'unknown', 'unknown', 'unknown', 'unknown', 'unknown', 'unknown', 'unknown', 'unknown', 'unknown', 'unknown', 'unknown', 'unknown', 'unknown', 'unknown', 'unknown', 'unknown', 'unknown', 'unknown', 'unknown', 'unknown', 'unknown', 'unknown', 'unknown', 'unknown', 'unknown', 'female', 'unknown', 'unknown', 'male', 'male', 'female', 'male', 'unknown', 'unknown', 'unknown', 'unknown', 'unknown', 'unknown', 'unknown', 'unknown', 'female', 'unknown', 'unknown', 'male', 'female', 'unknown', 'male', 'unknown', 'unknown', 'female', 'unknown', 'unknown', 'unknown', 'female', 'unknown', 'unknown', 'male', 'unknown', 'unknown', 'unknown', 'unknown', 'unknown', 'unknown', 'female', 'unknown', 'unknown', 'male', 'unknown', 'unknown', 'unknown', 'unknown', 'unknown', 'unknown', 'unknown', 'unknown', 'unknown', 'unknown', 'unknown', 'unknown', 'unknown', 'unknown', 'unknown', 'unknown', 'unknown', 'unknown', 'unknown', 'unknown', 'unknown', 'unknown', 'unknown', 'unknown', 'unknown', 'unknown', 'unknown', 'unknown', 'unknown', 'unknown', 'unknown', 'unknown', 'unknown', 'unknown', 'unknown', 'unknown', 'unknown', 'unknown', 'unknown', 'unknown', 'unknown', 'unknown', 'unknown', 'unknown', 'female', 'unknown', 'unknown', 'male', 'unknown', 'unknown', 'male', 'unknown', 'unknown', 'unknown', 'unknown', 'unknown', 'unknown', 'unknown', 'unknown', 'unknown', 'unknown', 'unknown', 'mostly_female', 'unknown', 'unknown', 'unknown', 'unknown', 'unknown', 'unknown', 'unknown', 'female', 'unknown', 'unknown', 'unknown', 'unknown', 'unknown', 'unknown', 'unknown', 'unknown', 'unknown', 'unknown', 'unknown', 'unknown', 'male', 'unknown', 'male', 'male', 'unknown', 'unknown', 'male', 'female', 'unknown', 'unknown', 'unknown', 'male', 'unknown', 'unknown', 'unknown', 'unknown', 'unknown', 'unknown', 'unknown', 'unknown', 'unknown', 'unknown', 'unknown', 'male', 'unknown', 'unknown', 'male', 'unknown', 'unknown', 'unknown', 'male', 'unknown', 'unknown', 'unknown', 'unknown', 'unknown', 'unknown', 'unknown', 'unknown', 'unknown', 'unknown', 'unknown', 'unknown', 'unknown', 'female', 'unknown', 'unknown', 'unknown', 'unknown', 'unknown', 'unknown', 'unknown', 'unknown', 'unknown', 'male', 'unknown', 'male', 'male', 'unknown', 'male', 'unknown', 'male', 'unknown', 'unknown', 'unknown', 'unknown', 'male', 'female', 'unknown', 'unknown', 'unknown', 'unknown', 'female', 'female', 'unknown', 'unknown', 'female', 'unknown', 'unknown', 'unknown', 'unknown', 'unknown', 'unknown', 'unknown', 'unknown', 'unknown', 'unknown', 'unknown', 'unknown', 'unknown', 'unknown', 'unknown', 'unknown', 'unknown', 'unknown', 'unknown', 'unknown', 'male', 'unknown', 'unknown', 'unknown', 'male', 'male', 'unknown', 'unknown', 'male', 'unknown', 'female', 'unknown', 'unknown', 'unknown', 'unknown', 'unknown', 'unknown', 'unknown', 'unknown', 'male', 'unknown', 'unknown', 'unknown', 'unknown', 'unknown', 'unknown', 'unknown', 'unknown', 'unknown', 'unknown', 'unknown', 'female', 'unknown', 'unknown', 'female', 'unknown', 'unknown', 'unknown', 'unknown', 'unknown', 'unknown', 'unknown', 'male', 'unknown', 'male', 'unknown', 'unknown', 'male', 'unknown', 'unknown', 'female', 'unknown', 'unknown', 'unknown', 'unknown', 'male', 'unknown', 'unknown', 'unknown', 'unknown', 'unknown', 'unknown', 'unknown', 'unknown', 'unknown', 'male', 'unknown', 'unknown', 'male', 'female', 'unknown', 'female', 'unknown', 'unknown', 'unknown', 'unknown', 'unknown', 'unknown', 'unknown', 'unknown', 'unknown', 'unknown', 'unknown', 'female', 'unknown', 'unknown', 'unknown', 'unknown', 'male', 'unknown', 'unknown', 'male', 'unknown', 'unknown', 'unknown', 'unknown', 'unknown', 'unknown', 'male', 'male', 'female', 'male', 'unknown', 'unknown', 'female', 'unknown', 'unknown', 'male', 'unknown', 'unknown', 'unknown', 'unknown', 'unknown', 'unknown', 'unknown', 'unknown', 'unknown', 'unknown', 'female', 'male', 'unknown', 'unknown', 'unknown', 'male', 'unknown', 'unknown', 'unknown', 'unknown', 'unknown', 'unknown', 'male', 'unknown', 'unknown', 'unknown', 'unknown', 'unknown', 'unknown', 'unknown', 'unknown', 'unknown', 'unknown', 'unknown', 'unknown', 'male', 'male', 'unknown', 'unknown', 'unknown', 'unknown', 'male', 'unknown', 'unknown', 'unknown', 'male', 'unknown', 'female', 'unknown', 'unknown', 'male', 'unknown', 'unknown', 'unknown', 'unknown', 'male', 'unknown', 'male', 'unknown', 'unknown', 'unknown', 'unknown', 'male', 'unknown', 'unknown', 'male', 'unknown', 'unknown', 'unknown', 'unknown', 'unknown', 'unknown', 'unknown', 'unknown', 'male', 'unknown', 'unknown', 'female', 'unknown', 'unknown', 'unknown', 'unknown', 'unknown', 'unknown', 'unknown', 'unknown', 'unknown', 'unknown', 'unknown', 'unknown', 'unknown', 'unknown', 'unknown', 'unknown', 'unknown', 'unknown', 'unknown', 'unknown', 'unknown', 'unknown', 'unknown', 'unknown', 'unknown', 'unknown', 'female', 'unknown', 'unknown', 'unknown', 'unknown', 'unknown', 'unknown', 'unknown', 'unknown', 'male', 'unknown', 'male', 'unknown', 'unknown', 'andy', 'male', 'female', 'unknown', 'unknown', 'unknown', 'unknown', 'unknown', 'unknown', 'unknown', 'unknown', 'unknown', 'unknown', 'unknown', 'unknown', 'unknown', 'unknown', 'unknown', 'unknown', 'unknown', 'unknown', 'unknown', 'unknown', 'male', 'unknown', 'unknown', 'unknown', 'unknown', 'unknown', 'unknown', 'unknown', 'unknown', 'unknown', 'unknown', 'unknown', 'unknown', 'unknown', 'unknown', 'male', 'unknown', 'unknown', 'female', 'unknown', 'unknown', 'unknown', 'unknown', 'unknown', 'unknown', 'unknown', 'unknown', 'unknown', 'unknown', 'unknown', 'unknown', 'unknown', 'unknown', 'unknown', 'unknown', 'unknown', 'unknown', 'unknown', 'unknown', 'unknown', 'unknown', 'unknown', 'unknown', 'unknown', 'unknown', 'unknown', 'unknown', 'unknown', 'mostly_male', 'unknown', 'unknown', 'unknown', 'unknown', 'unknown', 'unknown', 'unknown', 'unknown', 'andy', 'andy', 'unknown', 'unknown', 'unknown', 'unknown', 'unknown', 'unknown', 'unknown', 'unknown', 'unknown', 'unknown', 'unknown', 'unknown', 'unknown', 'unknown', 'unknown', 'female', 'unknown', 'unknown', 'unknown', 'unknown', 'unknown', 'unknown']\n"
     ]
    }
   ],
   "source": [
    "import gender_guesser.detector as gender\n",
    "d = gender.Detector()\n",
    "\n",
    "names_with_gender = []\n",
    "\n",
    "for name in all_names_filtered:\n",
    "    temp_gender = d.get_gender(name)\n",
    "    names_with_gender.append(temp_gender)\n",
    "  \n",
    "print(names_with_gender)"
   ]
  },
  {
   "cell_type": "code",
   "execution_count": 13,
   "metadata": {
    "colab": {},
    "colab_type": "code",
    "id": "1MhoJ5zSWTtK"
   },
   "outputs": [
    {
     "name": "stdout",
     "output_type": "stream",
     "text": [
      "['UNKNOWN', 'UNKNOWN', 'UNKNOWN', 'UNKNOWN', 'UNKNOWN', 'UNKNOWN', 'UNKNOWN', 'UNKNOWN', 'UNKNOWN', 'UNKNOWN', 'UNKNOWN', 'UNKNOWN', 'UNKNOWN', 'UNKNOWN', 'F', 'UNKNOWN', 'UNKNOWN', 'F', 'UNKNOWN', 'UNKNOWN', 'UNKNOWN', 'UNKNOWN', 'F', 'UNKNOWN', 'UNKNOWN', 'F', 'UNKNOWN', 'UNKNOWN', 'UNKNOWN', 'UNKNOWN', 'UNKNOWN', 'UNKNOWN', 'F', 'UNKNOWN', 'F', 'F', 'UNKNOWN', 'UNKNOWN', 'UNKNOWN', 'UNKNOWN', 'M', 'UNKNOWN', 'F', 'UNKNOWN', 'M', 'M', 'UNKNOWN', 'UNKNOWN', 'UNKNOWN', 'UNKNOWN', 'UNKNOWN', 'UNKNOWN', 'UNKNOWN', 'UNKNOWN', 'UNKNOWN', 'UNKNOWN', 'UNKNOWN', 'UNKNOWN', 'UNKNOWN', 'UNKNOWN', 'UNKNOWN', 'UNKNOWN', 'M', 'UNKNOWN', 'UNKNOWN', 'UNKNOWN', 'M', 'M', 'UNKNOWN', 'UNKNOWN', 'UNKNOWN', 'UNKNOWN', 'UNKNOWN', 'UNKNOWN', 'M', 'UNKNOWN', 'UNKNOWN', 'UNKNOWN', 'UNKNOWN', 'UNKNOWN', 'UNKNOWN', 'M', 'UNKNOWN', 'UNKNOWN', 'M', 'UNKNOWN', 'F', 'UNKNOWN', 'UNKNOWN', 'M', 'M', 'UNKNOWN', 'F', 'UNKNOWN', 'UNKNOWN', 'F', 'UNKNOWN', 'UNKNOWN', 'F', 'UNKNOWN', 'UNKNOWN', 'UNKNOWN', 'UNKNOWN', 'UNKNOWN', 'UNKNOWN', 'UNKNOWN', 'UNKNOWN', 'UNKNOWN', 'UNKNOWN', 'UNKNOWN', 'UNKNOWN', 'UNKNOWN', 'UNKNOWN', 'UNKNOWN', 'M', 'UNKNOWN', 'M', 'F', 'F', 'UNKNOWN', 'M', 'UNKNOWN', 'UNKNOWN', 'UNKNOWN', 'UNKNOWN', 'UNKNOWN', 'M', 'M', 'UNKNOWN', 'UNKNOWN', 'UNKNOWN', 'UNKNOWN', 'UNKNOWN', 'UNKNOWN', 'UNKNOWN', 'UNKNOWN', 'UNKNOWN', 'UNKNOWN', 'UNKNOWN', 'UNKNOWN', 'UNKNOWN', 'UNKNOWN', 'UNKNOWN', 'UNKNOWN', 'UNKNOWN', 'UNKNOWN', 'UNKNOWN', 'UNKNOWN', 'UNKNOWN', 'UNKNOWN', 'UNKNOWN', 'UNKNOWN', 'UNKNOWN', 'UNKNOWN', 'UNKNOWN', 'UNKNOWN', 'UNKNOWN', 'M', 'M', 'UNKNOWN', 'UNKNOWN', 'UNKNOWN', 'UNKNOWN', 'UNKNOWN', 'UNKNOWN', 'UNKNOWN', 'UNKNOWN', 'UNKNOWN', 'UNKNOWN', 'UNKNOWN', 'UNKNOWN', 'M', 'M', 'UNKNOWN', 'UNKNOWN', 'UNKNOWN', 'UNKNOWN', 'UNKNOWN', 'UNKNOWN', 'UNKNOWN', 'UNKNOWN', 'UNKNOWN', 'M', 'UNKNOWN', 'UNKNOWN', 'M', 'M', 'UNKNOWN', 'UNKNOWN', 'UNKNOWN', 'UNKNOWN', 'M', 'UNKNOWN', 'UNKNOWN', 'M', 'F', 'M', 'UNKNOWN', 'UNKNOWN', 'UNKNOWN', 'UNKNOWN', 'F', 'UNKNOWN', 'UNKNOWN', 'UNKNOWN', 'M', 'UNKNOWN', 'UNKNOWN', 'UNKNOWN', 'UNKNOWN', 'UNKNOWN', 'UNKNOWN', 'UNKNOWN', 'UNKNOWN', 'UNKNOWN', 'UNKNOWN', 'UNKNOWN', 'UNKNOWN', 'UNKNOWN', 'UNKNOWN', 'UNKNOWN', 'UNKNOWN', 'UNKNOWN', 'UNKNOWN', 'UNKNOWN', 'UNKNOWN', 'UNKNOWN', 'UNKNOWN', 'UNKNOWN', 'UNKNOWN', 'UNKNOWN', 'UNKNOWN', 'UNKNOWN', 'UNKNOWN', 'M', 'UNKNOWN', 'UNKNOWN', 'M', 'UNKNOWN', 'UNKNOWN', 'UNKNOWN', 'UNKNOWN', 'UNKNOWN', 'F', 'UNKNOWN', 'UNKNOWN', 'M', 'F', 'UNKNOWN', 'UNKNOWN', 'UNKNOWN', 'UNKNOWN', 'F', 'UNKNOWN', 'UNKNOWN', 'UNKNOWN', 'UNKNOWN', 'UNKNOWN', 'M', 'F', 'UNKNOWN', 'UNKNOWN', 'UNKNOWN', 'UNKNOWN', 'UNKNOWN', 'UNKNOWN', 'UNKNOWN', 'UNKNOWN', 'UNKNOWN', 'UNKNOWN', 'UNKNOWN', 'UNKNOWN', 'F', 'M', 'UNKNOWN', 'UNKNOWN', 'M', 'F', 'UNKNOWN', 'UNKNOWN', 'F', 'UNKNOWN', 'UNKNOWN', 'UNKNOWN', 'M', 'F', 'UNKNOWN', 'F', 'UNKNOWN', 'UNKNOWN', 'UNKNOWN', 'UNKNOWN', 'UNKNOWN', 'UNKNOWN', 'UNKNOWN', 'UNKNOWN', 'UNKNOWN', 'UNKNOWN', 'M', 'UNKNOWN', 'UNKNOWN', 'UNKNOWN', 'UNKNOWN', 'UNKNOWN', 'UNKNOWN', 'UNKNOWN', 'UNKNOWN', 'UNKNOWN', 'UNKNOWN', 'UNKNOWN', 'UNKNOWN', 'UNKNOWN', 'UNKNOWN', 'UNKNOWN', 'UNKNOWN', 'UNKNOWN', 'UNKNOWN', 'UNKNOWN', 'UNKNOWN', 'UNKNOWN', 'UNKNOWN', 'UNKNOWN', 'UNKNOWN', 'UNKNOWN', 'UNKNOWN', 'UNKNOWN', 'UNKNOWN', 'UNKNOWN', 'UNKNOWN', 'UNKNOWN', 'UNKNOWN', 'UNKNOWN', 'UNKNOWN', 'UNKNOWN', 'UNKNOWN', 'UNKNOWN', 'UNKNOWN', 'UNKNOWN', 'UNKNOWN', 'UNKNOWN', 'F', 'M', 'UNKNOWN', 'M', 'UNKNOWN', 'UNKNOWN', 'UNKNOWN', 'UNKNOWN', 'UNKNOWN', 'M', 'F', 'UNKNOWN', 'M', 'M', 'M', 'UNKNOWN', 'UNKNOWN', 'UNKNOWN', 'UNKNOWN', 'UNKNOWN', 'F', 'UNKNOWN', 'UNKNOWN', 'M', 'UNKNOWN', 'UNKNOWN', 'F', 'UNKNOWN', 'UNKNOWN', 'UNKNOWN', 'UNKNOWN', 'UNKNOWN', 'UNKNOWN', 'UNKNOWN', 'M', 'M', 'F', 'UNKNOWN', 'UNKNOWN', 'F', 'UNKNOWN', 'UNKNOWN', 'UNKNOWN', 'UNKNOWN', 'UNKNOWN', 'UNKNOWN', 'M', 'M', 'UNKNOWN', 'UNKNOWN', 'UNKNOWN', 'UNKNOWN', 'M', 'UNKNOWN', 'M', 'UNKNOWN', 'M', 'UNKNOWN', 'UNKNOWN', 'M', 'UNKNOWN', 'F', 'F', 'UNKNOWN', 'UNKNOWN', 'UNKNOWN', 'UNKNOWN', 'UNKNOWN', 'M', 'F', 'UNKNOWN', 'UNKNOWN', 'UNKNOWN', 'UNKNOWN', 'F', 'F', 'UNKNOWN', 'UNKNOWN', 'UNKNOWN', 'UNKNOWN', 'UNKNOWN', 'UNKNOWN', 'M', 'UNKNOWN', 'UNKNOWN', 'UNKNOWN', 'F', 'UNKNOWN', 'UNKNOWN', 'M', 'UNKNOWN', 'UNKNOWN', 'UNKNOWN', 'UNKNOWN', 'UNKNOWN', 'UNKNOWN', 'UNKNOWN', 'UNKNOWN', 'UNKNOWN', 'UNKNOWN', 'M', 'UNKNOWN', 'UNKNOWN', 'UNKNOWN', 'UNKNOWN', 'UNKNOWN', 'UNKNOWN', 'UNKNOWN', 'UNKNOWN', 'M', 'UNKNOWN', 'UNKNOWN', 'UNKNOWN', 'UNKNOWN', 'UNKNOWN', 'UNKNOWN', 'UNKNOWN', 'UNKNOWN', 'UNKNOWN', 'UNKNOWN', 'UNKNOWN', 'UNKNOWN', 'UNKNOWN', 'UNKNOWN', 'UNKNOWN', 'UNKNOWN', 'UNKNOWN', 'F', 'M', 'UNKNOWN', 'UNKNOWN', 'M', 'UNKNOWN', 'UNKNOWN', 'UNKNOWN', 'UNKNOWN', 'M', 'UNKNOWN', 'UNKNOWN', 'UNKNOWN', 'UNKNOWN', 'M', 'UNKNOWN', 'UNKNOWN', 'F', 'UNKNOWN', 'UNKNOWN', 'UNKNOWN', 'UNKNOWN', 'UNKNOWN', 'UNKNOWN', 'M', 'UNKNOWN', 'UNKNOWN', 'UNKNOWN', 'UNKNOWN', 'M', 'UNKNOWN', 'UNKNOWN', 'M', 'UNKNOWN', 'UNKNOWN', 'UNKNOWN', 'UNKNOWN', 'UNKNOWN', 'UNKNOWN', 'UNKNOWN', 'UNKNOWN', 'UNKNOWN', 'UNKNOWN', 'UNKNOWN', 'UNKNOWN', 'UNKNOWN', 'UNKNOWN', 'UNKNOWN', 'UNKNOWN', 'UNKNOWN', 'F', 'UNKNOWN', 'M', 'UNKNOWN', 'UNKNOWN', 'UNKNOWN', 'UNKNOWN', 'UNKNOWN', 'UNKNOWN', 'UNKNOWN', 'UNKNOWN', 'UNKNOWN', 'M', 'M', 'F', 'UNKNOWN', 'UNKNOWN', 'UNKNOWN', 'F', 'UNKNOWN', 'UNKNOWN', 'UNKNOWN', 'UNKNOWN', 'UNKNOWN', 'M', 'UNKNOWN', 'UNKNOWN', 'UNKNOWN', 'UNKNOWN', 'UNKNOWN', 'UNKNOWN', 'UNKNOWN', 'UNKNOWN', 'UNKNOWN', 'UNKNOWN', 'M', 'UNKNOWN', 'UNKNOWN', 'UNKNOWN', 'M', 'UNKNOWN', 'UNKNOWN', 'UNKNOWN', 'F', 'UNKNOWN', 'UNKNOWN', 'UNKNOWN', 'F', 'UNKNOWN', 'UNKNOWN', 'UNKNOWN', 'UNKNOWN', 'F', 'UNKNOWN', 'UNKNOWN', 'UNKNOWN', 'UNKNOWN', 'UNKNOWN', 'UNKNOWN', 'UNKNOWN', 'UNKNOWN', 'UNKNOWN', 'UNKNOWN', 'UNKNOWN', 'UNKNOWN', 'UNKNOWN', 'UNKNOWN', 'UNKNOWN', 'M', 'UNKNOWN', 'UNKNOWN', 'UNKNOWN', 'UNKNOWN', 'UNKNOWN', 'UNKNOWN', 'M', 'M', 'UNKNOWN', 'UNKNOWN', 'UNKNOWN', 'M', 'UNKNOWN', 'UNKNOWN', 'UNKNOWN', 'UNKNOWN', 'UNKNOWN', 'UNKNOWN', 'UNKNOWN', 'UNKNOWN', 'UNKNOWN', 'UNKNOWN', 'UNKNOWN', 'UNKNOWN', 'UNKNOWN', 'M', 'UNKNOWN', 'UNKNOWN', 'F', 'UNKNOWN', 'UNKNOWN', 'UNKNOWN', 'M', 'UNKNOWN', 'UNKNOWN', 'UNKNOWN', 'UNKNOWN', 'UNKNOWN', 'UNKNOWN', 'UNKNOWN', 'UNKNOWN', 'UNKNOWN', 'UNKNOWN', 'UNKNOWN', 'UNKNOWN', 'UNKNOWN', 'UNKNOWN', 'UNKNOWN', 'M', 'M', 'UNKNOWN', 'UNKNOWN', 'UNKNOWN', 'UNKNOWN', 'UNKNOWN', 'UNKNOWN', 'UNKNOWN', 'UNKNOWN', 'M', 'UNKNOWN', 'F', 'UNKNOWN', 'M', 'UNKNOWN', 'M', 'M', 'F', 'F', 'UNKNOWN', 'UNKNOWN', 'UNKNOWN', 'M', 'UNKNOWN', 'UNKNOWN', 'UNKNOWN', 'UNKNOWN', 'UNKNOWN', 'UNKNOWN', 'UNKNOWN', 'UNKNOWN', 'UNKNOWN', 'UNKNOWN', 'UNKNOWN', 'UNKNOWN', 'UNKNOWN', 'UNKNOWN', 'UNKNOWN', 'M', 'M', 'M', 'UNKNOWN', 'UNKNOWN', 'UNKNOWN', 'UNKNOWN', 'M', 'F', 'UNKNOWN', 'UNKNOWN', 'UNKNOWN', 'F', 'UNKNOWN', 'UNKNOWN', 'UNKNOWN', 'UNKNOWN', 'UNKNOWN', 'F', 'UNKNOWN', 'UNKNOWN', 'UNKNOWN', 'UNKNOWN', 'UNKNOWN', 'UNKNOWN', 'UNKNOWN', 'UNKNOWN', 'UNKNOWN', 'M', 'UNKNOWN', 'UNKNOWN', 'F', 'M', 'UNKNOWN', 'UNKNOWN', 'UNKNOWN', 'UNKNOWN', 'F', 'UNKNOWN', 'M', 'UNKNOWN', 'UNKNOWN', 'UNKNOWN', 'F', 'UNKNOWN', 'UNKNOWN', 'M', 'UNKNOWN', 'UNKNOWN', 'UNKNOWN', 'UNKNOWN', 'F', 'UNKNOWN', 'F', 'F', 'UNKNOWN', 'UNKNOWN', 'UNKNOWN', 'UNKNOWN', 'UNKNOWN', 'UNKNOWN', 'UNKNOWN', 'UNKNOWN', 'UNKNOWN', 'UNKNOWN', 'UNKNOWN', 'UNKNOWN', 'UNKNOWN', 'UNKNOWN', 'UNKNOWN', 'UNKNOWN', 'F', 'UNKNOWN', 'UNKNOWN', 'UNKNOWN', 'UNKNOWN', 'UNKNOWN', 'F', 'UNKNOWN', 'M', 'M', 'F', 'UNKNOWN', 'UNKNOWN', 'M', 'M', 'UNKNOWN', 'M', 'UNKNOWN', 'UNKNOWN', 'UNKNOWN', 'UNKNOWN', 'UNKNOWN', 'F', 'F', 'UNKNOWN', 'UNKNOWN', 'UNKNOWN', 'UNKNOWN', 'M', 'F', 'UNKNOWN', 'UNKNOWN', 'UNKNOWN', 'UNKNOWN', 'UNKNOWN', 'F', 'UNKNOWN', 'UNKNOWN', 'UNKNOWN', 'UNKNOWN', 'UNKNOWN', 'UNKNOWN', 'UNKNOWN', 'UNKNOWN', 'UNKNOWN', 'UNKNOWN', 'UNKNOWN', 'UNKNOWN', 'UNKNOWN', 'F', 'UNKNOWN', 'UNKNOWN', 'UNKNOWN', 'UNKNOWN', 'F', 'UNKNOWN', 'F', 'UNKNOWN', 'UNKNOWN', 'UNKNOWN', 'M', 'UNKNOWN', 'UNKNOWN', 'UNKNOWN', 'UNKNOWN', 'M', 'UNKNOWN', 'UNKNOWN', 'UNKNOWN', 'M', 'UNKNOWN', 'UNKNOWN', 'UNKNOWN', 'UNKNOWN', 'F', 'F', 'F', 'UNKNOWN', 'M', 'F', 'F', 'F', 'UNKNOWN', 'UNKNOWN', 'UNKNOWN', 'F', 'UNKNOWN', 'UNKNOWN', 'UNKNOWN', 'UNKNOWN', 'UNKNOWN', 'UNKNOWN', 'UNKNOWN', 'UNKNOWN', 'UNKNOWN', 'UNKNOWN', 'F', 'F', 'UNKNOWN', 'M', 'UNKNOWN', 'UNKNOWN', 'UNKNOWN', 'F', 'UNKNOWN', 'UNKNOWN', 'UNKNOWN', 'M', 'M', 'F', 'UNKNOWN', 'UNKNOWN', 'M', 'F', 'UNKNOWN', 'UNKNOWN', 'F', 'UNKNOWN', 'UNKNOWN', 'UNKNOWN', 'UNKNOWN', 'UNKNOWN', 'UNKNOWN', 'UNKNOWN', 'UNKNOWN', 'UNKNOWN', 'UNKNOWN', 'M', 'UNKNOWN', 'UNKNOWN', 'UNKNOWN', 'UNKNOWN', 'M', 'F', 'F', 'F', 'M', 'UNKNOWN', 'F', 'UNKNOWN', 'F', 'UNKNOWN', 'UNKNOWN', 'UNKNOWN', 'F', 'UNKNOWN', 'UNKNOWN', 'M', 'UNKNOWN', 'M', 'UNKNOWN', 'UNKNOWN', 'UNKNOWN', 'UNKNOWN', 'UNKNOWN', 'UNKNOWN', 'UNKNOWN', 'UNKNOWN', 'UNKNOWN', 'UNKNOWN', 'UNKNOWN', 'UNKNOWN', 'UNKNOWN', 'UNKNOWN', 'UNKNOWN', 'UNKNOWN', 'UNKNOWN', 'M', 'M', 'UNKNOWN', 'UNKNOWN', 'UNKNOWN', 'UNKNOWN', 'UNKNOWN', 'UNKNOWN', 'M', 'M', 'UNKNOWN', 'UNKNOWN', 'F', 'UNKNOWN', 'M', 'UNKNOWN', 'UNKNOWN', 'UNKNOWN', 'UNKNOWN', 'F', 'UNKNOWN', 'UNKNOWN', 'M', 'UNKNOWN', 'UNKNOWN', 'UNKNOWN', 'UNKNOWN', 'M', 'UNKNOWN', 'F', 'UNKNOWN', 'UNKNOWN', 'UNKNOWN', 'UNKNOWN', 'F', 'UNKNOWN', 'UNKNOWN', 'F', 'UNKNOWN', 'UNKNOWN', 'UNKNOWN', 'UNKNOWN', 'UNKNOWN', 'UNKNOWN', 'UNKNOWN', 'UNKNOWN', 'UNKNOWN', 'UNKNOWN', 'UNKNOWN', 'F', 'M', 'M', 'UNKNOWN', 'F', 'F', 'UNKNOWN', 'UNKNOWN', 'UNKNOWN', 'M', 'UNKNOWN', 'M', 'M', 'UNKNOWN', 'F', 'UNKNOWN', 'F', 'UNKNOWN', 'UNKNOWN', 'UNKNOWN', 'M', 'UNKNOWN', 'UNKNOWN', 'F', 'UNKNOWN', 'UNKNOWN', 'UNKNOWN', 'UNKNOWN', 'UNKNOWN', 'UNKNOWN', 'F', 'UNKNOWN', 'UNKNOWN', 'UNKNOWN', 'UNKNOWN', 'M', 'UNKNOWN', 'UNKNOWN', 'UNKNOWN', 'UNKNOWN', 'F', 'M', 'UNKNOWN', 'UNKNOWN', 'UNKNOWN', 'UNKNOWN', 'UNKNOWN', 'M', 'UNKNOWN', 'M', 'M', 'F', 'UNKNOWN', 'UNKNOWN', 'UNKNOWN', 'UNKNOWN', 'UNKNOWN', 'UNKNOWN', 'M', 'UNKNOWN', 'M', 'UNKNOWN', 'UNKNOWN', 'UNKNOWN', 'UNKNOWN', 'UNKNOWN', 'UNKNOWN', 'M', 'UNKNOWN', 'F', 'UNKNOWN', 'UNKNOWN', 'F', 'UNKNOWN', 'UNKNOWN', 'F', 'UNKNOWN', 'UNKNOWN', 'UNKNOWN', 'UNKNOWN', 'UNKNOWN', 'UNKNOWN', 'UNKNOWN', 'UNKNOWN', 'UNKNOWN', 'UNKNOWN', 'UNKNOWN', 'UNKNOWN', 'UNKNOWN', 'UNKNOWN', 'M', 'F', 'UNKNOWN', 'UNKNOWN', 'UNKNOWN', 'UNKNOWN', 'UNKNOWN', 'M', 'UNKNOWN', 'UNKNOWN', 'M', 'UNKNOWN', 'UNKNOWN', 'UNKNOWN', 'M', 'UNKNOWN', 'F', 'M', 'F', 'F', 'UNKNOWN', 'UNKNOWN', 'F', 'UNKNOWN', 'UNKNOWN', 'UNKNOWN', 'UNKNOWN', 'M', 'M', 'M', 'UNKNOWN', 'M', 'UNKNOWN', 'UNKNOWN', 'UNKNOWN', 'UNKNOWN', 'UNKNOWN', 'UNKNOWN', 'F', 'UNKNOWN', 'UNKNOWN', 'UNKNOWN', 'UNKNOWN', 'UNKNOWN', 'UNKNOWN', 'UNKNOWN', 'UNKNOWN', 'UNKNOWN', 'UNKNOWN', 'UNKNOWN', 'UNKNOWN', 'UNKNOWN', 'UNKNOWN', 'UNKNOWN', 'UNKNOWN', 'UNKNOWN', 'UNKNOWN', 'UNKNOWN', 'UNKNOWN', 'F', 'M', 'UNKNOWN', 'M', 'UNKNOWN', 'UNKNOWN', 'UNKNOWN', 'UNKNOWN', 'UNKNOWN', 'UNKNOWN', 'UNKNOWN', 'UNKNOWN', 'M', 'UNKNOWN', 'M', 'UNKNOWN', 'UNKNOWN', 'UNKNOWN', 'UNKNOWN', 'F', 'UNKNOWN', 'UNKNOWN', 'UNKNOWN', 'UNKNOWN', 'UNKNOWN', 'UNKNOWN', 'M', 'UNKNOWN', 'M', 'UNKNOWN', 'M', 'UNKNOWN', 'UNKNOWN', 'F', 'M', 'UNKNOWN', 'UNKNOWN', 'UNKNOWN', 'F', 'UNKNOWN', 'UNKNOWN', 'M', 'UNKNOWN', 'UNKNOWN', 'M', 'UNKNOWN', 'UNKNOWN', 'M', 'UNKNOWN', 'F', 'M', 'UNKNOWN', 'M', 'UNKNOWN', 'UNKNOWN', 'UNKNOWN', 'UNKNOWN', 'UNKNOWN', 'F', 'UNKNOWN', 'M', 'UNKNOWN', 'UNKNOWN', 'UNKNOWN', 'UNKNOWN', 'UNKNOWN', 'UNKNOWN', 'UNKNOWN', 'UNKNOWN', 'UNKNOWN', 'UNKNOWN', 'UNKNOWN', 'UNKNOWN', 'UNKNOWN', 'UNKNOWN', 'UNKNOWN', 'UNKNOWN', 'UNKNOWN', 'UNKNOWN', 'UNKNOWN', 'UNKNOWN', 'M', 'UNKNOWN', 'F', 'M', 'M', 'M', 'UNKNOWN', 'M', 'UNKNOWN', 'UNKNOWN', 'UNKNOWN', 'UNKNOWN', 'F', 'M', 'UNKNOWN', 'UNKNOWN', 'UNKNOWN', 'M', 'M', 'UNKNOWN', 'M', 'UNKNOWN', 'F', 'UNKNOWN', 'UNKNOWN', 'UNKNOWN', 'F', 'UNKNOWN', 'UNKNOWN', 'UNKNOWN', 'UNKNOWN', 'UNKNOWN', 'UNKNOWN', 'UNKNOWN', 'UNKNOWN', 'UNKNOWN', 'UNKNOWN', 'UNKNOWN', 'UNKNOWN', 'UNKNOWN', 'UNKNOWN', 'UNKNOWN', 'UNKNOWN', 'UNKNOWN', 'UNKNOWN', 'UNKNOWN', 'UNKNOWN', 'UNKNOWN', 'UNKNOWN', 'UNKNOWN', 'UNKNOWN', 'UNKNOWN', 'UNKNOWN', 'UNKNOWN', 'UNKNOWN', 'UNKNOWN', 'F', 'UNKNOWN', 'UNKNOWN', 'M', 'M', 'F', 'M', 'UNKNOWN', 'UNKNOWN', 'UNKNOWN', 'UNKNOWN', 'UNKNOWN', 'UNKNOWN', 'UNKNOWN', 'UNKNOWN', 'F', 'UNKNOWN', 'UNKNOWN', 'M', 'F', 'UNKNOWN', 'M', 'UNKNOWN', 'UNKNOWN', 'F', 'UNKNOWN', 'UNKNOWN', 'UNKNOWN', 'F', 'UNKNOWN', 'UNKNOWN', 'M', 'UNKNOWN', 'UNKNOWN', 'UNKNOWN', 'UNKNOWN', 'UNKNOWN', 'UNKNOWN', 'F', 'UNKNOWN', 'UNKNOWN', 'M', 'UNKNOWN', 'UNKNOWN', 'UNKNOWN', 'UNKNOWN', 'UNKNOWN', 'UNKNOWN', 'UNKNOWN', 'UNKNOWN', 'UNKNOWN', 'UNKNOWN', 'UNKNOWN', 'UNKNOWN', 'UNKNOWN', 'UNKNOWN', 'UNKNOWN', 'UNKNOWN', 'UNKNOWN', 'UNKNOWN', 'UNKNOWN', 'UNKNOWN', 'UNKNOWN', 'UNKNOWN', 'UNKNOWN', 'UNKNOWN', 'UNKNOWN', 'UNKNOWN', 'UNKNOWN', 'UNKNOWN', 'UNKNOWN', 'UNKNOWN', 'UNKNOWN', 'UNKNOWN', 'UNKNOWN', 'UNKNOWN', 'UNKNOWN', 'UNKNOWN', 'UNKNOWN', 'UNKNOWN', 'UNKNOWN', 'UNKNOWN', 'UNKNOWN', 'UNKNOWN', 'UNKNOWN', 'UNKNOWN', 'F', 'UNKNOWN', 'UNKNOWN', 'M', 'UNKNOWN', 'UNKNOWN', 'M', 'UNKNOWN', 'UNKNOWN', 'UNKNOWN', 'UNKNOWN', 'UNKNOWN', 'UNKNOWN', 'UNKNOWN', 'UNKNOWN', 'UNKNOWN', 'UNKNOWN', 'UNKNOWN', 'F', 'UNKNOWN', 'UNKNOWN', 'UNKNOWN', 'UNKNOWN', 'UNKNOWN', 'UNKNOWN', 'UNKNOWN', 'F', 'UNKNOWN', 'UNKNOWN', 'UNKNOWN', 'UNKNOWN', 'UNKNOWN', 'UNKNOWN', 'UNKNOWN', 'UNKNOWN', 'UNKNOWN', 'UNKNOWN', 'UNKNOWN', 'UNKNOWN', 'M', 'UNKNOWN', 'M', 'M', 'UNKNOWN', 'UNKNOWN', 'M', 'F', 'UNKNOWN', 'UNKNOWN', 'UNKNOWN', 'M', 'UNKNOWN', 'UNKNOWN', 'UNKNOWN', 'UNKNOWN', 'UNKNOWN', 'UNKNOWN', 'UNKNOWN', 'UNKNOWN', 'UNKNOWN', 'UNKNOWN', 'UNKNOWN', 'M', 'UNKNOWN', 'UNKNOWN', 'M', 'UNKNOWN', 'UNKNOWN', 'UNKNOWN', 'M', 'UNKNOWN', 'UNKNOWN', 'UNKNOWN', 'UNKNOWN', 'UNKNOWN', 'UNKNOWN', 'UNKNOWN', 'UNKNOWN', 'UNKNOWN', 'UNKNOWN', 'UNKNOWN', 'UNKNOWN', 'UNKNOWN', 'F', 'UNKNOWN', 'UNKNOWN', 'UNKNOWN', 'UNKNOWN', 'UNKNOWN', 'UNKNOWN', 'UNKNOWN', 'UNKNOWN', 'UNKNOWN', 'M', 'UNKNOWN', 'M', 'M', 'UNKNOWN', 'M', 'UNKNOWN', 'M', 'UNKNOWN', 'UNKNOWN', 'UNKNOWN', 'UNKNOWN', 'M', 'F', 'UNKNOWN', 'UNKNOWN', 'UNKNOWN', 'UNKNOWN', 'F', 'F', 'UNKNOWN', 'UNKNOWN', 'F', 'UNKNOWN', 'UNKNOWN', 'UNKNOWN', 'UNKNOWN', 'UNKNOWN', 'UNKNOWN', 'UNKNOWN', 'UNKNOWN', 'UNKNOWN', 'UNKNOWN', 'UNKNOWN', 'UNKNOWN', 'UNKNOWN', 'UNKNOWN', 'UNKNOWN', 'UNKNOWN', 'UNKNOWN', 'UNKNOWN', 'UNKNOWN', 'UNKNOWN', 'M', 'UNKNOWN', 'UNKNOWN', 'UNKNOWN', 'M', 'M', 'UNKNOWN', 'UNKNOWN', 'M', 'UNKNOWN', 'F', 'UNKNOWN', 'UNKNOWN', 'UNKNOWN', 'UNKNOWN', 'UNKNOWN', 'UNKNOWN', 'UNKNOWN', 'UNKNOWN', 'M', 'UNKNOWN', 'UNKNOWN', 'UNKNOWN', 'UNKNOWN', 'UNKNOWN', 'UNKNOWN', 'UNKNOWN', 'UNKNOWN', 'UNKNOWN', 'UNKNOWN', 'UNKNOWN', 'F', 'UNKNOWN', 'UNKNOWN', 'F', 'UNKNOWN', 'UNKNOWN', 'UNKNOWN', 'UNKNOWN', 'UNKNOWN', 'UNKNOWN', 'UNKNOWN', 'M', 'UNKNOWN', 'M', 'UNKNOWN', 'UNKNOWN', 'M', 'UNKNOWN', 'UNKNOWN', 'F', 'UNKNOWN', 'UNKNOWN', 'UNKNOWN', 'UNKNOWN', 'M', 'UNKNOWN', 'UNKNOWN', 'UNKNOWN', 'UNKNOWN', 'UNKNOWN', 'UNKNOWN', 'UNKNOWN', 'UNKNOWN', 'UNKNOWN', 'M', 'UNKNOWN', 'UNKNOWN', 'M', 'F', 'UNKNOWN', 'F', 'UNKNOWN', 'UNKNOWN', 'UNKNOWN', 'UNKNOWN', 'UNKNOWN', 'UNKNOWN', 'UNKNOWN', 'UNKNOWN', 'UNKNOWN', 'UNKNOWN', 'UNKNOWN', 'F', 'UNKNOWN', 'UNKNOWN', 'UNKNOWN', 'UNKNOWN', 'M', 'UNKNOWN', 'UNKNOWN', 'M', 'UNKNOWN', 'UNKNOWN', 'UNKNOWN', 'UNKNOWN', 'UNKNOWN', 'UNKNOWN', 'M', 'M', 'F', 'M', 'UNKNOWN', 'UNKNOWN', 'F', 'UNKNOWN', 'UNKNOWN', 'M', 'UNKNOWN', 'UNKNOWN', 'UNKNOWN', 'UNKNOWN', 'UNKNOWN', 'UNKNOWN', 'UNKNOWN', 'UNKNOWN', 'UNKNOWN', 'UNKNOWN', 'F', 'M', 'UNKNOWN', 'UNKNOWN', 'UNKNOWN', 'M', 'UNKNOWN', 'UNKNOWN', 'UNKNOWN', 'UNKNOWN', 'UNKNOWN', 'UNKNOWN', 'M', 'UNKNOWN', 'UNKNOWN', 'UNKNOWN', 'UNKNOWN', 'UNKNOWN', 'UNKNOWN', 'UNKNOWN', 'UNKNOWN', 'UNKNOWN', 'UNKNOWN', 'UNKNOWN', 'UNKNOWN', 'M', 'M', 'UNKNOWN', 'UNKNOWN', 'UNKNOWN', 'UNKNOWN', 'M', 'UNKNOWN', 'UNKNOWN', 'UNKNOWN', 'M', 'UNKNOWN', 'F', 'UNKNOWN', 'UNKNOWN', 'M', 'UNKNOWN', 'UNKNOWN', 'UNKNOWN', 'UNKNOWN', 'M', 'UNKNOWN', 'M', 'UNKNOWN', 'UNKNOWN', 'UNKNOWN', 'UNKNOWN', 'M', 'UNKNOWN', 'UNKNOWN', 'M', 'UNKNOWN', 'UNKNOWN', 'UNKNOWN', 'UNKNOWN', 'UNKNOWN', 'UNKNOWN', 'UNKNOWN', 'UNKNOWN', 'M', 'UNKNOWN', 'UNKNOWN', 'F', 'UNKNOWN', 'UNKNOWN', 'UNKNOWN', 'UNKNOWN', 'UNKNOWN', 'UNKNOWN', 'UNKNOWN', 'UNKNOWN', 'UNKNOWN', 'UNKNOWN', 'UNKNOWN', 'UNKNOWN', 'UNKNOWN', 'UNKNOWN', 'UNKNOWN', 'UNKNOWN', 'UNKNOWN', 'UNKNOWN', 'UNKNOWN', 'UNKNOWN', 'UNKNOWN', 'UNKNOWN', 'UNKNOWN', 'UNKNOWN', 'UNKNOWN', 'UNKNOWN', 'F', 'UNKNOWN', 'UNKNOWN', 'UNKNOWN', 'UNKNOWN', 'UNKNOWN', 'UNKNOWN', 'UNKNOWN', 'UNKNOWN', 'M', 'UNKNOWN', 'M', 'UNKNOWN', 'UNKNOWN', 'UNKNOWN', 'M', 'F', 'UNKNOWN', 'UNKNOWN', 'UNKNOWN', 'UNKNOWN', 'UNKNOWN', 'UNKNOWN', 'UNKNOWN', 'UNKNOWN', 'UNKNOWN', 'UNKNOWN', 'UNKNOWN', 'UNKNOWN', 'UNKNOWN', 'UNKNOWN', 'UNKNOWN', 'UNKNOWN', 'UNKNOWN', 'UNKNOWN', 'UNKNOWN', 'UNKNOWN', 'M', 'UNKNOWN', 'UNKNOWN', 'UNKNOWN', 'UNKNOWN', 'UNKNOWN', 'UNKNOWN', 'UNKNOWN', 'UNKNOWN', 'UNKNOWN', 'UNKNOWN', 'UNKNOWN', 'UNKNOWN', 'UNKNOWN', 'UNKNOWN', 'M', 'UNKNOWN', 'UNKNOWN', 'F', 'UNKNOWN', 'UNKNOWN', 'UNKNOWN', 'UNKNOWN', 'UNKNOWN', 'UNKNOWN', 'UNKNOWN', 'UNKNOWN', 'UNKNOWN', 'UNKNOWN', 'UNKNOWN', 'UNKNOWN', 'UNKNOWN', 'UNKNOWN', 'UNKNOWN', 'UNKNOWN', 'UNKNOWN', 'UNKNOWN', 'UNKNOWN', 'UNKNOWN', 'UNKNOWN', 'UNKNOWN', 'UNKNOWN', 'UNKNOWN', 'UNKNOWN', 'UNKNOWN', 'UNKNOWN', 'UNKNOWN', 'UNKNOWN', 'M', 'UNKNOWN', 'UNKNOWN', 'UNKNOWN', 'UNKNOWN', 'UNKNOWN', 'UNKNOWN', 'UNKNOWN', 'UNKNOWN', 'UNKNOWN', 'UNKNOWN', 'UNKNOWN', 'UNKNOWN', 'UNKNOWN', 'UNKNOWN', 'UNKNOWN', 'UNKNOWN', 'UNKNOWN', 'UNKNOWN', 'UNKNOWN', 'UNKNOWN', 'UNKNOWN', 'UNKNOWN', 'UNKNOWN', 'UNKNOWN', 'UNKNOWN', 'F', 'UNKNOWN', 'UNKNOWN', 'UNKNOWN', 'UNKNOWN', 'UNKNOWN', 'UNKNOWN']\n"
     ]
    }
   ],
   "source": [
    "all_genders = []\n",
    "i = 0\n",
    "\n",
    "for guess in names_with_gender:\n",
    "    if guess == 'male' or guess == 'mostly_male':\n",
    "        all_genders.append('M')\n",
    "    elif guess == 'female' or guess == 'mostly_female':\n",
    "        all_genders.append('F')\n",
    "    else:\n",
    "        all_genders.append('UNKNOWN')\n",
    "\n",
    "    \n",
    "print(all_genders)"
   ]
  },
  {
   "cell_type": "markdown",
   "metadata": {
    "colab_type": "text",
    "id": "bHM88i7bWTtV"
   },
   "source": [
    "---\n",
    "## Salviamo ora i dati ottenuti in una tabella Excel\n",
    "Così non dovremo ogni volta rieseguire tutto il codice\n",
    "\n"
   ]
  },
  {
   "cell_type": "markdown",
   "metadata": {
    "colab_type": "text",
    "id": "yQUBDvHwWTtd"
   },
   "source": [
    "### Controlliamo che ci siano lo stesso numero di dati\n",
    "Potremo così creare una tabella sfruttando Pandas"
   ]
  },
  {
   "cell_type": "code",
   "execution_count": 14,
   "metadata": {
    "colab": {},
    "colab_type": "code",
    "id": "uPxa7-97WTtd"
   },
   "outputs": [
    {
     "name": "stdout",
     "output_type": "stream",
     "text": [
      "Nomi:  1798\n",
      "Commenti:  1798\n",
      "Voti:  1798\n",
      "Mobile:  1798\n"
     ]
    }
   ],
   "source": [
    "print('Nomi: ', len(all_names_filtered))\n",
    "print('Commenti: ', len(all_reviews_filtered))\n",
    "print('Voti: ', len(all_ratings))\n",
    "print('Mobile: ', len(all_mobile))"
   ]
  },
  {
   "cell_type": "markdown",
   "metadata": {
    "colab_type": "text",
    "id": "L3jNT2atZj9k"
   },
   "source": [
    "### Eliminiamo le recensioni troppo lunghe e quelle di cui non sappiamo il genere del commentatore\n",
    "Creo una lista di liste [ ['NOME', 'GENERE', 'RECENSIONE', 'VOTO'], ['NOME', 'GENERE', 'RECENSIONE', 'VOTO'], ... ]"
   ]
  },
  {
   "cell_type": "code",
   "execution_count": 15,
   "metadata": {
    "colab": {},
    "colab_type": "code",
    "id": "x3jtEoicZrFl"
   },
   "outputs": [
    {
     "name": "stdout",
     "output_type": "stream",
     "text": [
      "DATI ANALIZZABILI:  146\n"
     ]
    },
    {
     "data": {
      "text/plain": [
       "[['Milva',\n",
       "  'F',\n",
       "  \"E' un locale centrale a Gorizia e conosciutissimo per le dimensioni enormi dei piatti che serve. Si tratta di cucina tipica.\",\n",
       "  '4',\n",
       "  'PC'],\n",
       " ['Sonia',\n",
       "  'F',\n",
       "  'Tutto moltooooo abbondante, noi abbiamo preso delle mozzarelle in carrozza supersquisite, una portata di tagliata di Manzo,delle salsicciette e non poteva mancare l enorme lubianska. Tutto super buono ritorneremo sicuramente. Un consiglio prenotate anticipatamente.',\n",
       "  '5',\n",
       "  'Mobile'],\n",
       " ['Sibilla',\n",
       "  'F',\n",
       "  \"Cucina tipica, ottima qualità e porzioni che sconvolgono i forestieri! Consiglio l'asporto per tentare di finire, con tutta calma, le pietanze. NB: solo chi non ha mai provato la lubianska di Gianni... Osa chiedere anche le patatine fritte. Impossibile mangiare entrambe le portate!!!\",\n",
       "  '5',\n",
       "  'Mobile'],\n",
       " ['Irene',\n",
       "  'F',\n",
       "  'Tutto buono e abbondante!!! Complimenti per i primi e la Lubjanska... siamo venuti per questo e non siamo rimasti delusi! Avrei voluto assaggiare anche i dolci, ma.... proprio non è rimasto posto!!!!',\n",
       "  '4',\n",
       "  'Mobile'],\n",
       " ['Fabiola',\n",
       "  'F',\n",
       "  'Cibo buono ed abbondante, personale cordiale. La location è spartana ma pulita. Se potessi ritornerei per provare qualche altro piatto. Consigliatissimo',\n",
       "  '5',\n",
       "  'Mobile']]"
      ]
     },
     "metadata": {},
     "output_type": "display_data"
    }
   ],
   "source": [
    "complete_list = []\n",
    "\n",
    "i = len(all_names_filtered)\n",
    "\n",
    "for indice in range(i):\n",
    "  if all_genders[indice] != 'UNKNOWN' and all_reviews_filtered[indice] != 'RECENSIONE_TROPPO_LUNGA':\n",
    "    temp = [all_names_filtered[indice], all_genders[indice], all_reviews_filtered[indice], all_ratings[indice], all_mobile[indice]]\n",
    "    complete_list.append(temp)\n",
    "    \n",
    "print('DATI ANALIZZABILI: ', len(complete_list))\n",
    "display(complete_list[:5])\n"
   ]
  },
  {
   "cell_type": "markdown",
   "metadata": {
    "colab_type": "text",
    "id": "zwEridD9ZzVo"
   },
   "source": [
    "### Creiamo la tabella"
   ]
  },
  {
   "cell_type": "code",
   "execution_count": 16,
   "metadata": {
    "colab": {},
    "colab_type": "code",
    "id": "j1H48nXfWTtl"
   },
   "outputs": [],
   "source": [
    "# !pip install pandas\n",
    "# !pip install xlsxwriter\n",
    "import pandas as pd"
   ]
  },
  {
   "cell_type": "code",
   "execution_count": 17,
   "metadata": {
    "colab": {},
    "colab_type": "code",
    "id": "FWhktgyIWTtp"
   },
   "outputs": [
    {
     "name": "stdout",
     "output_type": "stream",
     "text": [
      "done\n"
     ]
    }
   ],
   "source": [
    "# Create a Pandas dataframe from the data.\n",
    "df = pd.DataFrame({'Nomi': [elemento[0] for elemento in complete_list], \n",
    "                   'Genere': [elemento[1] for elemento in complete_list], \n",
    "                   'Recensioni': [elemento[2] for elemento in complete_list],\n",
    "                   'Voti': [elemento[3] for elemento in complete_list],\n",
    "                   'Scritta da': [elemento[4] for elemento in complete_list]})\n",
    "\n",
    "# Create a Pandas Excel writer using XlsxWriter as the engine.\n",
    "writer = pd.ExcelWriter('RISTORANTE_16.xlsx', engine='xlsxwriter')\n",
    "\n",
    "# Convert the dataframe to an XlsxWriter Excel object.\n",
    "df.to_excel(writer, sheet_name='Sheet1')\n",
    "\n",
    "# Close the Pandas Excel writer and output the Excel file.\n",
    "writer.save()\n",
    "\n",
    "print('done')"
   ]
  },
  {
   "cell_type": "code",
   "execution_count": 18,
   "metadata": {
    "colab": {},
    "colab_type": "code",
    "id": "Fdg5rRWmWTtv"
   },
   "outputs": [
    {
     "data": {
      "text/html": [
       "<div>\n",
       "<style scoped>\n",
       "    .dataframe tbody tr th:only-of-type {\n",
       "        vertical-align: middle;\n",
       "    }\n",
       "\n",
       "    .dataframe tbody tr th {\n",
       "        vertical-align: top;\n",
       "    }\n",
       "\n",
       "    .dataframe thead th {\n",
       "        text-align: right;\n",
       "    }\n",
       "</style>\n",
       "<table border=\"1\" class=\"dataframe\">\n",
       "  <thead>\n",
       "    <tr style=\"text-align: right;\">\n",
       "      <th></th>\n",
       "      <th>Nomi</th>\n",
       "      <th>Genere</th>\n",
       "      <th>Recensioni</th>\n",
       "      <th>Voti</th>\n",
       "      <th>Scritta da</th>\n",
       "    </tr>\n",
       "  </thead>\n",
       "  <tbody>\n",
       "    <tr>\n",
       "      <th>0</th>\n",
       "      <td>Milva</td>\n",
       "      <td>F</td>\n",
       "      <td>E' un locale centrale a Gorizia e conosciutiss...</td>\n",
       "      <td>4</td>\n",
       "      <td>PC</td>\n",
       "    </tr>\n",
       "    <tr>\n",
       "      <th>1</th>\n",
       "      <td>Sonia</td>\n",
       "      <td>F</td>\n",
       "      <td>Tutto moltooooo abbondante, noi abbiamo preso ...</td>\n",
       "      <td>5</td>\n",
       "      <td>Mobile</td>\n",
       "    </tr>\n",
       "    <tr>\n",
       "      <th>2</th>\n",
       "      <td>Sibilla</td>\n",
       "      <td>F</td>\n",
       "      <td>Cucina tipica, ottima qualità e porzioni che s...</td>\n",
       "      <td>5</td>\n",
       "      <td>Mobile</td>\n",
       "    </tr>\n",
       "    <tr>\n",
       "      <th>3</th>\n",
       "      <td>Irene</td>\n",
       "      <td>F</td>\n",
       "      <td>Tutto buono e abbondante!!! Complimenti per i ...</td>\n",
       "      <td>4</td>\n",
       "      <td>Mobile</td>\n",
       "    </tr>\n",
       "    <tr>\n",
       "      <th>4</th>\n",
       "      <td>Fabiola</td>\n",
       "      <td>F</td>\n",
       "      <td>Cibo buono ed abbondante, personale cordiale. ...</td>\n",
       "      <td>5</td>\n",
       "      <td>Mobile</td>\n",
       "    </tr>\n",
       "    <tr>\n",
       "      <th>5</th>\n",
       "      <td>Tommaso</td>\n",
       "      <td>M</td>\n",
       "      <td>Nulla da aggiungere su quella che è una vera e...</td>\n",
       "      <td>5</td>\n",
       "      <td>Mobile</td>\n",
       "    </tr>\n",
       "    <tr>\n",
       "      <th>6</th>\n",
       "      <td>Vanni</td>\n",
       "      <td>M</td>\n",
       "      <td>Cu sono andato con amici ed è stata una bella ...</td>\n",
       "      <td>4</td>\n",
       "      <td>Mobile</td>\n",
       "    </tr>\n",
       "    <tr>\n",
       "      <th>7</th>\n",
       "      <td>Luca</td>\n",
       "      <td>M</td>\n",
       "      <td>Il locale è semplice, non propriamente raffina...</td>\n",
       "      <td>5</td>\n",
       "      <td>PC</td>\n",
       "    </tr>\n",
       "    <tr>\n",
       "      <th>8</th>\n",
       "      <td>Il</td>\n",
       "      <td>M</td>\n",
       "      <td>Molto buono direi. Consiglio Lubjanska, patate...</td>\n",
       "      <td>4</td>\n",
       "      <td>Mobile</td>\n",
       "    </tr>\n",
       "    <tr>\n",
       "      <th>9</th>\n",
       "      <td>Angus</td>\n",
       "      <td>M</td>\n",
       "      <td>A Gorizia oramai da anni, quando si parla di t...</td>\n",
       "      <td>5</td>\n",
       "      <td>Mobile</td>\n",
       "    </tr>\n",
       "    <tr>\n",
       "      <th>10</th>\n",
       "      <td>Roberta</td>\n",
       "      <td>F</td>\n",
       "      <td>Oltre al cibo che è di ottima qualità, il cost...</td>\n",
       "      <td>5</td>\n",
       "      <td>Mobile</td>\n",
       "    </tr>\n",
       "    <tr>\n",
       "      <th>11</th>\n",
       "      <td>Alessandro</td>\n",
       "      <td>M</td>\n",
       "      <td>Abbiamo cenato in 19 persone tra adulti e bamb...</td>\n",
       "      <td>4</td>\n",
       "      <td>Mobile</td>\n",
       "    </tr>\n",
       "    <tr>\n",
       "      <th>12</th>\n",
       "      <td>Vincenzo</td>\n",
       "      <td>M</td>\n",
       "      <td>Un posto dove andare con chi non c'è mai stato...</td>\n",
       "      <td>5</td>\n",
       "      <td>PC</td>\n",
       "    </tr>\n",
       "    <tr>\n",
       "      <th>13</th>\n",
       "      <td>Marco</td>\n",
       "      <td>M</td>\n",
       "      <td>Come dicono moltre altre recensini, posto per ...</td>\n",
       "      <td>3</td>\n",
       "      <td>PC</td>\n",
       "    </tr>\n",
       "    <tr>\n",
       "      <th>14</th>\n",
       "      <td>Francesco</td>\n",
       "      <td>M</td>\n",
       "      <td>La famosa Ljubljanska è certo enorme, ma la qu...</td>\n",
       "      <td>1</td>\n",
       "      <td>Mobile</td>\n",
       "    </tr>\n",
       "    <tr>\n",
       "      <th>15</th>\n",
       "      <td>Emmanuele</td>\n",
       "      <td>M</td>\n",
       "      <td>Ottima scelta per una cena con amici,porzioni ...</td>\n",
       "      <td>4</td>\n",
       "      <td>Mobile</td>\n",
       "    </tr>\n",
       "    <tr>\n",
       "      <th>16</th>\n",
       "      <td>Roby</td>\n",
       "      <td>M</td>\n",
       "      <td>Ho mangiato varie volte Da Gianni oltre ad ave...</td>\n",
       "      <td>4</td>\n",
       "      <td>Mobile</td>\n",
       "    </tr>\n",
       "    <tr>\n",
       "      <th>17</th>\n",
       "      <td>Bruno</td>\n",
       "      <td>M</td>\n",
       "      <td>Tappa fissa quando mi recò in Slovenia in quan...</td>\n",
       "      <td>5</td>\n",
       "      <td>Mobile</td>\n",
       "    </tr>\n",
       "    <tr>\n",
       "      <th>18</th>\n",
       "      <td>Giuseppe</td>\n",
       "      <td>M</td>\n",
       "      <td>Piatti da urlo ottimi i primi i secondi ancora...</td>\n",
       "      <td>5</td>\n",
       "      <td>Mobile</td>\n",
       "    </tr>\n",
       "    <tr>\n",
       "      <th>19</th>\n",
       "      <td>Raffaele</td>\n",
       "      <td>M</td>\n",
       "      <td>Locale caratteristico, atmosfera calda e giovi...</td>\n",
       "      <td>5</td>\n",
       "      <td>PC</td>\n",
       "    </tr>\n",
       "    <tr>\n",
       "      <th>20</th>\n",
       "      <td>Alessandro</td>\n",
       "      <td>M</td>\n",
       "      <td>Siamo entrati quasi per caso, ma è stata una e...</td>\n",
       "      <td>5</td>\n",
       "      <td>Mobile</td>\n",
       "    </tr>\n",
       "    <tr>\n",
       "      <th>21</th>\n",
       "      <td>Giulia</td>\n",
       "      <td>F</td>\n",
       "      <td>tutto ottimo, piatti enormi e contro lo spreco...</td>\n",
       "      <td>5</td>\n",
       "      <td>Mobile</td>\n",
       "    </tr>\n",
       "    <tr>\n",
       "      <th>22</th>\n",
       "      <td>Francesca</td>\n",
       "      <td>F</td>\n",
       "      <td>Gianni è una istituzione! Le sue porzioni giga...</td>\n",
       "      <td>4</td>\n",
       "      <td>Mobile</td>\n",
       "    </tr>\n",
       "    <tr>\n",
       "      <th>23</th>\n",
       "      <td>Francesco</td>\n",
       "      <td>M</td>\n",
       "      <td>4 Adulti e 5 Ragazzi abbiamo cenato fino allo ...</td>\n",
       "      <td>5</td>\n",
       "      <td>Mobile</td>\n",
       "    </tr>\n",
       "    <tr>\n",
       "      <th>24</th>\n",
       "      <td>Giulia</td>\n",
       "      <td>F</td>\n",
       "      <td>porzioni abbondanti da mangiare tranquillament...</td>\n",
       "      <td>4</td>\n",
       "      <td>Mobile</td>\n",
       "    </tr>\n",
       "    <tr>\n",
       "      <th>25</th>\n",
       "      <td>Eli</td>\n",
       "      <td>F</td>\n",
       "      <td>Da Gianni si va per quantita'.spesso e volenti...</td>\n",
       "      <td>4</td>\n",
       "      <td>Mobile</td>\n",
       "    </tr>\n",
       "    <tr>\n",
       "      <th>26</th>\n",
       "      <td>Mauro</td>\n",
       "      <td>M</td>\n",
       "      <td>Le porzioni sono decisamente abbondanti, la qu...</td>\n",
       "      <td>3</td>\n",
       "      <td>Mobile</td>\n",
       "    </tr>\n",
       "    <tr>\n",
       "      <th>27</th>\n",
       "      <td>Stefano</td>\n",
       "      <td>M</td>\n",
       "      <td>Veramente spaventoso, porzioni che fanno lette...</td>\n",
       "      <td>3</td>\n",
       "      <td>PC</td>\n",
       "    </tr>\n",
       "    <tr>\n",
       "      <th>28</th>\n",
       "      <td>Sara</td>\n",
       "      <td>F</td>\n",
       "      <td>Locale ormai famoso in tutta Italia.. non aspe...</td>\n",
       "      <td>3</td>\n",
       "      <td>Mobile</td>\n",
       "    </tr>\n",
       "    <tr>\n",
       "      <th>29</th>\n",
       "      <td>Bruno</td>\n",
       "      <td>M</td>\n",
       "      <td>Tutto buono cucina casalinga mitteleuropea e t...</td>\n",
       "      <td>4</td>\n",
       "      <td>Mobile</td>\n",
       "    </tr>\n",
       "    <tr>\n",
       "      <th>...</th>\n",
       "      <td>...</td>\n",
       "      <td>...</td>\n",
       "      <td>...</td>\n",
       "      <td>...</td>\n",
       "      <td>...</td>\n",
       "    </tr>\n",
       "    <tr>\n",
       "      <th>116</th>\n",
       "      <td>Carlo</td>\n",
       "      <td>M</td>\n",
       "      <td>penso che porzioni così e diciamolo pure \"bont...</td>\n",
       "      <td>5</td>\n",
       "      <td>PC</td>\n",
       "    </tr>\n",
       "    <tr>\n",
       "      <th>117</th>\n",
       "      <td>Massimiliano</td>\n",
       "      <td>M</td>\n",
       "      <td>Ben note le porzioni enormi, ho deciso di fest...</td>\n",
       "      <td>5</td>\n",
       "      <td>Mobile</td>\n",
       "    </tr>\n",
       "    <tr>\n",
       "      <th>118</th>\n",
       "      <td>Francesco</td>\n",
       "      <td>M</td>\n",
       "      <td>Abbondante è l'aggettivo che per primo mi vien...</td>\n",
       "      <td>3</td>\n",
       "      <td>PC</td>\n",
       "    </tr>\n",
       "    <tr>\n",
       "      <th>119</th>\n",
       "      <td>Marco</td>\n",
       "      <td>M</td>\n",
       "      <td>locale rustico, familiare. cibo ottimo e abbon...</td>\n",
       "      <td>4</td>\n",
       "      <td>PC</td>\n",
       "    </tr>\n",
       "    <tr>\n",
       "      <th>120</th>\n",
       "      <td>Florenz</td>\n",
       "      <td>M</td>\n",
       "      <td>appena sono entrato in questa trattoria sono r...</td>\n",
       "      <td>5</td>\n",
       "      <td>PC</td>\n",
       "    </tr>\n",
       "    <tr>\n",
       "      <th>121</th>\n",
       "      <td>Antonino</td>\n",
       "      <td>M</td>\n",
       "      <td>Il posto è carino, il personale è molto gentil...</td>\n",
       "      <td>4</td>\n",
       "      <td>Mobile</td>\n",
       "    </tr>\n",
       "    <tr>\n",
       "      <th>122</th>\n",
       "      <td>Mihaela</td>\n",
       "      <td>F</td>\n",
       "      <td>Se sei in zona vale la pena provarlo... ottima...</td>\n",
       "      <td>5</td>\n",
       "      <td>Mobile</td>\n",
       "    </tr>\n",
       "    <tr>\n",
       "      <th>123</th>\n",
       "      <td>Stefano</td>\n",
       "      <td>M</td>\n",
       "      <td>Come in molti diranno PORZIONI SOPRA LA MEDIA,...</td>\n",
       "      <td>4</td>\n",
       "      <td>PC</td>\n",
       "    </tr>\n",
       "    <tr>\n",
       "      <th>124</th>\n",
       "      <td>Alessia</td>\n",
       "      <td>F</td>\n",
       "      <td>Sono andata con mia figlia ed amici,avevamo vi...</td>\n",
       "      <td>4</td>\n",
       "      <td>Mobile</td>\n",
       "    </tr>\n",
       "    <tr>\n",
       "      <th>125</th>\n",
       "      <td>Rufus</td>\n",
       "      <td>M</td>\n",
       "      <td>Rapidi e ottime porzioni. Per grandi appetiti!...</td>\n",
       "      <td>5</td>\n",
       "      <td>Mobile</td>\n",
       "    </tr>\n",
       "    <tr>\n",
       "      <th>126</th>\n",
       "      <td>Marco</td>\n",
       "      <td>M</td>\n",
       "      <td>Anche quest'anno abbiamo fatto tappa alla Trat...</td>\n",
       "      <td>5</td>\n",
       "      <td>PC</td>\n",
       "    </tr>\n",
       "    <tr>\n",
       "      <th>127</th>\n",
       "      <td>Michele</td>\n",
       "      <td>F</td>\n",
       "      <td>Domenica a pranzo..porzioni sempre abbondanti ...</td>\n",
       "      <td>3</td>\n",
       "      <td>PC</td>\n",
       "    </tr>\n",
       "    <tr>\n",
       "      <th>128</th>\n",
       "      <td>Giuditta</td>\n",
       "      <td>F</td>\n",
       "      <td>Trattoria con porzioni super abbondanti e buon...</td>\n",
       "      <td>4</td>\n",
       "      <td>PC</td>\n",
       "    </tr>\n",
       "    <tr>\n",
       "      <th>129</th>\n",
       "      <td>Sandro</td>\n",
       "      <td>M</td>\n",
       "      <td>Non si può andare 'Da Gianni' senza mangiare u...</td>\n",
       "      <td>5</td>\n",
       "      <td>Mobile</td>\n",
       "    </tr>\n",
       "    <tr>\n",
       "      <th>130</th>\n",
       "      <td>Daniele</td>\n",
       "      <td>F</td>\n",
       "      <td>Siamo stati di passaggio a Gorizia e ci siamo ...</td>\n",
       "      <td>4</td>\n",
       "      <td>PC</td>\n",
       "    </tr>\n",
       "    <tr>\n",
       "      <th>131</th>\n",
       "      <td>Pietro</td>\n",
       "      <td>M</td>\n",
       "      <td>Non credo che in Italia esistano locali come q...</td>\n",
       "      <td>5</td>\n",
       "      <td>Mobile</td>\n",
       "    </tr>\n",
       "    <tr>\n",
       "      <th>132</th>\n",
       "      <td>Davide</td>\n",
       "      <td>M</td>\n",
       "      <td>Abbiamo trovato posto anche senza prenotazione...</td>\n",
       "      <td>4</td>\n",
       "      <td>PC</td>\n",
       "    </tr>\n",
       "    <tr>\n",
       "      <th>133</th>\n",
       "      <td>Alessandra</td>\n",
       "      <td>F</td>\n",
       "      <td>Consiglio il posto ma ad una condizione. .aver...</td>\n",
       "      <td>5</td>\n",
       "      <td>Mobile</td>\n",
       "    </tr>\n",
       "    <tr>\n",
       "      <th>134</th>\n",
       "      <td>Daniela</td>\n",
       "      <td>F</td>\n",
       "      <td>mai viste porzioni per UNA persona così grandi...</td>\n",
       "      <td>4</td>\n",
       "      <td>PC</td>\n",
       "    </tr>\n",
       "    <tr>\n",
       "      <th>135</th>\n",
       "      <td>Sara</td>\n",
       "      <td>F</td>\n",
       "      <td>Grandioso Gianni! Con 20 euro si mangia in 2.....</td>\n",
       "      <td>4</td>\n",
       "      <td>PC</td>\n",
       "    </tr>\n",
       "    <tr>\n",
       "      <th>136</th>\n",
       "      <td>Davide</td>\n",
       "      <td>M</td>\n",
       "      <td>Ottimo posto per chi vuole fare una RICCA E AB...</td>\n",
       "      <td>5</td>\n",
       "      <td>PC</td>\n",
       "    </tr>\n",
       "    <tr>\n",
       "      <th>137</th>\n",
       "      <td>Ketty</td>\n",
       "      <td>F</td>\n",
       "      <td>Ho festeggiato il mio anniversario di matrimon...</td>\n",
       "      <td>5</td>\n",
       "      <td>PC</td>\n",
       "    </tr>\n",
       "    <tr>\n",
       "      <th>138</th>\n",
       "      <td>Tania</td>\n",
       "      <td>F</td>\n",
       "      <td>Questo posto è molto originale perchè a differ...</td>\n",
       "      <td>5</td>\n",
       "      <td>PC</td>\n",
       "    </tr>\n",
       "    <tr>\n",
       "      <th>139</th>\n",
       "      <td>Stefano</td>\n",
       "      <td>M</td>\n",
       "      <td>Non so' dove abbiano mangiato gli altri che ha...</td>\n",
       "      <td>3</td>\n",
       "      <td>PC</td>\n",
       "    </tr>\n",
       "    <tr>\n",
       "      <th>140</th>\n",
       "      <td>Salvatore</td>\n",
       "      <td>M</td>\n",
       "      <td>Ci vogliono due cose, se si va da Gianni: pazi...</td>\n",
       "      <td>4</td>\n",
       "      <td>PC</td>\n",
       "    </tr>\n",
       "    <tr>\n",
       "      <th>141</th>\n",
       "      <td>Gianni</td>\n",
       "      <td>M</td>\n",
       "      <td>Da provare assolutamente. Servizio veloce. Pia...</td>\n",
       "      <td>5</td>\n",
       "      <td>PC</td>\n",
       "    </tr>\n",
       "    <tr>\n",
       "      <th>142</th>\n",
       "      <td>Giacomo</td>\n",
       "      <td>M</td>\n",
       "      <td>se prenotate arrivate pure 2 ore dopo la data ...</td>\n",
       "      <td>3</td>\n",
       "      <td>Mobile</td>\n",
       "    </tr>\n",
       "    <tr>\n",
       "      <th>143</th>\n",
       "      <td>Antonio</td>\n",
       "      <td>M</td>\n",
       "      <td>Veramente ristorante x chi ama mangiare (come ...</td>\n",
       "      <td>5</td>\n",
       "      <td>Mobile</td>\n",
       "    </tr>\n",
       "    <tr>\n",
       "      <th>144</th>\n",
       "      <td>Baldo</td>\n",
       "      <td>M</td>\n",
       "      <td>Cenato un sabato di agosto in coppia. Ci siam ...</td>\n",
       "      <td>4</td>\n",
       "      <td>PC</td>\n",
       "    </tr>\n",
       "    <tr>\n",
       "      <th>145</th>\n",
       "      <td>Renato</td>\n",
       "      <td>M</td>\n",
       "      <td>Abbiamo mangiato un po di tutto, devo premette...</td>\n",
       "      <td>5</td>\n",
       "      <td>PC</td>\n",
       "    </tr>\n",
       "  </tbody>\n",
       "</table>\n",
       "<p>146 rows × 5 columns</p>\n",
       "</div>"
      ],
      "text/plain": [
       "             Nomi Genere                                         Recensioni  \\\n",
       "0           Milva      F  E' un locale centrale a Gorizia e conosciutiss...   \n",
       "1           Sonia      F  Tutto moltooooo abbondante, noi abbiamo preso ...   \n",
       "2         Sibilla      F  Cucina tipica, ottima qualità e porzioni che s...   \n",
       "3           Irene      F  Tutto buono e abbondante!!! Complimenti per i ...   \n",
       "4         Fabiola      F  Cibo buono ed abbondante, personale cordiale. ...   \n",
       "5         Tommaso      M  Nulla da aggiungere su quella che è una vera e...   \n",
       "6           Vanni      M  Cu sono andato con amici ed è stata una bella ...   \n",
       "7            Luca      M  Il locale è semplice, non propriamente raffina...   \n",
       "8              Il      M  Molto buono direi. Consiglio Lubjanska, patate...   \n",
       "9           Angus      M  A Gorizia oramai da anni, quando si parla di t...   \n",
       "10        Roberta      F  Oltre al cibo che è di ottima qualità, il cost...   \n",
       "11     Alessandro      M  Abbiamo cenato in 19 persone tra adulti e bamb...   \n",
       "12       Vincenzo      M  Un posto dove andare con chi non c'è mai stato...   \n",
       "13          Marco      M  Come dicono moltre altre recensini, posto per ...   \n",
       "14      Francesco      M  La famosa Ljubljanska è certo enorme, ma la qu...   \n",
       "15      Emmanuele      M  Ottima scelta per una cena con amici,porzioni ...   \n",
       "16           Roby      M  Ho mangiato varie volte Da Gianni oltre ad ave...   \n",
       "17          Bruno      M  Tappa fissa quando mi recò in Slovenia in quan...   \n",
       "18       Giuseppe      M  Piatti da urlo ottimi i primi i secondi ancora...   \n",
       "19       Raffaele      M  Locale caratteristico, atmosfera calda e giovi...   \n",
       "20     Alessandro      M  Siamo entrati quasi per caso, ma è stata una e...   \n",
       "21         Giulia      F  tutto ottimo, piatti enormi e contro lo spreco...   \n",
       "22      Francesca      F  Gianni è una istituzione! Le sue porzioni giga...   \n",
       "23      Francesco      M  4 Adulti e 5 Ragazzi abbiamo cenato fino allo ...   \n",
       "24         Giulia      F  porzioni abbondanti da mangiare tranquillament...   \n",
       "25            Eli      F  Da Gianni si va per quantita'.spesso e volenti...   \n",
       "26          Mauro      M  Le porzioni sono decisamente abbondanti, la qu...   \n",
       "27        Stefano      M  Veramente spaventoso, porzioni che fanno lette...   \n",
       "28           Sara      F  Locale ormai famoso in tutta Italia.. non aspe...   \n",
       "29          Bruno      M  Tutto buono cucina casalinga mitteleuropea e t...   \n",
       "..            ...    ...                                                ...   \n",
       "116         Carlo      M  penso che porzioni così e diciamolo pure \"bont...   \n",
       "117  Massimiliano      M  Ben note le porzioni enormi, ho deciso di fest...   \n",
       "118     Francesco      M  Abbondante è l'aggettivo che per primo mi vien...   \n",
       "119         Marco      M  locale rustico, familiare. cibo ottimo e abbon...   \n",
       "120       Florenz      M  appena sono entrato in questa trattoria sono r...   \n",
       "121      Antonino      M  Il posto è carino, il personale è molto gentil...   \n",
       "122       Mihaela      F  Se sei in zona vale la pena provarlo... ottima...   \n",
       "123       Stefano      M  Come in molti diranno PORZIONI SOPRA LA MEDIA,...   \n",
       "124       Alessia      F  Sono andata con mia figlia ed amici,avevamo vi...   \n",
       "125         Rufus      M  Rapidi e ottime porzioni. Per grandi appetiti!...   \n",
       "126         Marco      M  Anche quest'anno abbiamo fatto tappa alla Trat...   \n",
       "127       Michele      F  Domenica a pranzo..porzioni sempre abbondanti ...   \n",
       "128      Giuditta      F  Trattoria con porzioni super abbondanti e buon...   \n",
       "129        Sandro      M  Non si può andare 'Da Gianni' senza mangiare u...   \n",
       "130       Daniele      F  Siamo stati di passaggio a Gorizia e ci siamo ...   \n",
       "131        Pietro      M  Non credo che in Italia esistano locali come q...   \n",
       "132        Davide      M  Abbiamo trovato posto anche senza prenotazione...   \n",
       "133    Alessandra      F  Consiglio il posto ma ad una condizione. .aver...   \n",
       "134       Daniela      F  mai viste porzioni per UNA persona così grandi...   \n",
       "135          Sara      F  Grandioso Gianni! Con 20 euro si mangia in 2.....   \n",
       "136        Davide      M  Ottimo posto per chi vuole fare una RICCA E AB...   \n",
       "137         Ketty      F  Ho festeggiato il mio anniversario di matrimon...   \n",
       "138         Tania      F  Questo posto è molto originale perchè a differ...   \n",
       "139       Stefano      M  Non so' dove abbiano mangiato gli altri che ha...   \n",
       "140     Salvatore      M  Ci vogliono due cose, se si va da Gianni: pazi...   \n",
       "141        Gianni      M  Da provare assolutamente. Servizio veloce. Pia...   \n",
       "142       Giacomo      M  se prenotate arrivate pure 2 ore dopo la data ...   \n",
       "143       Antonio      M  Veramente ristorante x chi ama mangiare (come ...   \n",
       "144         Baldo      M  Cenato un sabato di agosto in coppia. Ci siam ...   \n",
       "145        Renato      M  Abbiamo mangiato un po di tutto, devo premette...   \n",
       "\n",
       "     Voti Scritta da  \n",
       "0       4         PC  \n",
       "1       5     Mobile  \n",
       "2       5     Mobile  \n",
       "3       4     Mobile  \n",
       "4       5     Mobile  \n",
       "5       5     Mobile  \n",
       "6       4     Mobile  \n",
       "7       5         PC  \n",
       "8       4     Mobile  \n",
       "9       5     Mobile  \n",
       "10      5     Mobile  \n",
       "11      4     Mobile  \n",
       "12      5         PC  \n",
       "13      3         PC  \n",
       "14      1     Mobile  \n",
       "15      4     Mobile  \n",
       "16      4     Mobile  \n",
       "17      5     Mobile  \n",
       "18      5     Mobile  \n",
       "19      5         PC  \n",
       "20      5     Mobile  \n",
       "21      5     Mobile  \n",
       "22      4     Mobile  \n",
       "23      5     Mobile  \n",
       "24      4     Mobile  \n",
       "25      4     Mobile  \n",
       "26      3     Mobile  \n",
       "27      3         PC  \n",
       "28      3     Mobile  \n",
       "29      4     Mobile  \n",
       "..    ...        ...  \n",
       "116     5         PC  \n",
       "117     5     Mobile  \n",
       "118     3         PC  \n",
       "119     4         PC  \n",
       "120     5         PC  \n",
       "121     4     Mobile  \n",
       "122     5     Mobile  \n",
       "123     4         PC  \n",
       "124     4     Mobile  \n",
       "125     5     Mobile  \n",
       "126     5         PC  \n",
       "127     3         PC  \n",
       "128     4         PC  \n",
       "129     5     Mobile  \n",
       "130     4         PC  \n",
       "131     5     Mobile  \n",
       "132     4         PC  \n",
       "133     5     Mobile  \n",
       "134     4         PC  \n",
       "135     4         PC  \n",
       "136     5         PC  \n",
       "137     5         PC  \n",
       "138     5         PC  \n",
       "139     3         PC  \n",
       "140     4         PC  \n",
       "141     5         PC  \n",
       "142     3     Mobile  \n",
       "143     5     Mobile  \n",
       "144     4         PC  \n",
       "145     5         PC  \n",
       "\n",
       "[146 rows x 5 columns]"
      ]
     },
     "metadata": {},
     "output_type": "display_data"
    }
   ],
   "source": [
    "partial_dataframe = pd.read_excel(\"RISTORANTE_16.xlsx\")\n",
    "\n",
    "display(partial_dataframe)"
   ]
  },
  {
   "cell_type": "code",
   "execution_count": null,
   "metadata": {
    "colab": {},
    "colab_type": "code",
    "id": "hX7pszZCWTt8"
   },
   "outputs": [],
   "source": []
  }
 ],
 "metadata": {
  "colab": {
   "collapsed_sections": [],
   "name": "PARTE_3.15_TRIPADVISOR_ANALYSIS_Getting_the_comments_in_italian.ipynb",
   "provenance": [],
   "version": "0.3.2"
  },
  "kernelspec": {
   "display_name": "Python 3",
   "language": "python",
   "name": "python3"
  },
  "language_info": {
   "codemirror_mode": {
    "name": "ipython",
    "version": 3
   },
   "file_extension": ".py",
   "mimetype": "text/x-python",
   "name": "python",
   "nbconvert_exporter": "python",
   "pygments_lexer": "ipython3",
   "version": "3.7.0"
  }
 },
 "nbformat": 4,
 "nbformat_minor": 1
}
