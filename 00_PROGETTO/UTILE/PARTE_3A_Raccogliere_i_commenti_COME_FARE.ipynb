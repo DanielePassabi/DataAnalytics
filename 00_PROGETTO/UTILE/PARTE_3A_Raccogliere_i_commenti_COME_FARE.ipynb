{
 "cells": [
  {
   "cell_type": "markdown",
   "metadata": {},
   "source": [
    "# Creo un nuovo dataset \n"
   ]
  },
  {
   "cell_type": "markdown",
   "metadata": {},
   "source": [
    "---\n",
    "## Analisi dei commenti di un ristorante \n",
    "\n",
    "### SAPORI SOLARI - Milano\n",
    "\n",
    "URL di riferimento: https://www.tripadvisor.it/Restaurant_Review-g187849-d8780418-Reviews-Sapori_Solari-Milan_Lombardy.html"
   ]
  },
  {
   "cell_type": "code",
   "execution_count": 1,
   "metadata": {},
   "outputs": [
    {
     "name": "stdout",
     "output_type": "stream",
     "text": [
      "Imported\n"
     ]
    }
   ],
   "source": [
    "# IMPORT NECESSARI\n",
    "import requests\n",
    "from bs4 import BeautifulSoup\n",
    "\n",
    "print(\"Imported\")"
   ]
  },
  {
   "cell_type": "code",
   "execution_count": 2,
   "metadata": {},
   "outputs": [
    {
     "name": "stdout",
     "output_type": "stream",
     "text": [
      "Executed\n"
     ]
    }
   ],
   "source": [
    "page_URL = \"https://www.tripadvisor.it/Restaurant_Review-g187849-d8780418-Reviews-Sapori_Solari-Milan_Lombardy.html\"\n",
    "\n",
    "data = requests.get(page_URL)\n",
    "clear_data = BeautifulSoup(data.content, \"lxml\")\n",
    "\n",
    "print(\"Executed\")"
   ]
  },
  {
   "cell_type": "markdown",
   "metadata": {},
   "source": [
    "---\n",
    "### STRUTTURA HTML DEL SITO \n",
    "\n",
    "#### REVIEW\n",
    "`<p class=\"partial_entry\"> qui c'è la review </p>`\n",
    "\n",
    "#### N° TOTALE DI REVIEWS\n",
    "`<a data-page-number=\"25\" ...>\n",
    "    25\n",
    " </a>`\n",
    " \n",
    "#### NAMES\n",
    "`<span class=\"expand_inline scrname\" …>AlexandraCapeTown</span>`\n",
    "\n",
    "#### RATINGS\n",
    "`<span class=\"ui_bubble_rating bubble_30\"></span>`"
   ]
  },
  {
   "cell_type": "markdown",
   "metadata": {},
   "source": [
    "---\n",
    "### PRIMO SCRAPING (sulla prima pagina)\n",
    "\n",
    "Ottengo i nomi, commenti e della prima pagina. Ciò è necessario, in quanto, dalla seconda in poi l'URL cambia, permettendoci di iterare."
   ]
  },
  {
   "cell_type": "code",
   "execution_count": 3,
   "metadata": {},
   "outputs": [],
   "source": [
    "### SUPERFLUO"
   ]
  },
  {
   "cell_type": "markdown",
   "metadata": {},
   "source": [
    "### SECONDO SCRAPING (pagina 8)\n",
    "\n",
    "Capiamo come fare!"
   ]
  },
  {
   "cell_type": "code",
   "execution_count": 16,
   "metadata": {},
   "outputs": [
    {
     "name": "stdout",
     "output_type": "stream",
     "text": [
      "Executed\n",
      "\n",
      "Nomi:  10\n",
      "Commenti:  10\n",
      "Voti:  10\n"
     ]
    }
   ],
   "source": [
    "URL_COMPLETO = 'https://www.tripadvisor.it/Restaurant_Review-g187849-d8780418-Reviews-or70-Sapori_Solari-Milan_Lombardy.html'\n",
    "\n",
    "all_ratings = []\n",
    "all_reviews = []\n",
    "all_names = []\n",
    "\n",
    "# OTTENGO I DATI E CI APPLICO BEATIFULSOUP\n",
    "data_html = requests.get(URL_COMPLETO)\n",
    "data_html_soup = BeautifulSoup(data_html.content, \"lxml\")\n",
    "    \n",
    "\n",
    "############################################################################################################################\n",
    "### REVIEWS\n",
    "        \n",
    "# all_reviews_html = data_html_soup.select('div.review-container p.partial_entry')\n",
    "        \n",
    "# all_reviews_html = data_html_soup.findAll(\"div\", {\"class\": \"entry\"})     # Test usando BeautifulSoup\n",
    "    \n",
    "all_reviews_and_answers_html = data_html_soup.findAll(\"div\", attrs={\"class\":\"wrap\"})\n",
    "\n",
    "for element in all_reviews_and_answers_html:\n",
    "    risposta = element.find('p', attrs={'class': 'partial_entry'})\n",
    "    if risposta:\n",
    "        all_reviews.append(risposta)\n",
    "     \n",
    "############################################################################################################################\n",
    "### NAMES\n",
    "        \n",
    "all_names_html = data_html_soup.select(\"div.review-container span.expand_inline.scrname\");    \n",
    "for name in all_names_html:\n",
    "    all_names.append(name.text)\n",
    "    \n",
    "    \n",
    "############################################################################################################################\n",
    "### RATINGS\n",
    "    \n",
    "# all_ratings_html = data_html_soup.select(\"div.review-container span.ui_bubble_rating\")\n",
    "\n",
    "all_ratings_html = data_html_soup.findAll(\"div\", attrs={\"class\":\"review-container\"})\n",
    "\n",
    "for element in all_ratings_html:\n",
    "    voto = element.find('span', attrs={'class': 'ui_bubble_rating'})\n",
    "    if voto:\n",
    "        all_ratings.append(voto['class'][1][7:8])\n",
    "        \n",
    "################################################################################################################################\n",
    "        \n",
    "print(\"Executed\\n\")\n",
    "print('Nomi: ', len(all_names))\n",
    "print('Commenti: ', len(all_reviews))\n",
    "print('Voti: ', len(all_ratings))"
   ]
  },
  {
   "cell_type": "code",
   "execution_count": 11,
   "metadata": {},
   "outputs": [],
   "source": [
    "#display(all_reviews)"
   ]
  },
  {
   "cell_type": "code",
   "execution_count": 6,
   "metadata": {},
   "outputs": [
    {
     "name": "stdout",
     "output_type": "stream",
     "text": [
      "['Sofia S', 'federica_m00', 'Skdufyt', 'cicabum', 'elecar76', 'marcogK4706US', 'ladyoscar007', 'Andrea T', 'virgiliodemidio', 'vanymi']\n"
     ]
    }
   ],
   "source": [
    "print(all_names)"
   ]
  },
  {
   "cell_type": "code",
   "execution_count": 17,
   "metadata": {},
   "outputs": [
    {
     "name": "stdout",
     "output_type": "stream",
     "text": [
      "['5', '5', '4', '5', '5', '5', '4', '4', '2', '5']\n"
     ]
    }
   ],
   "source": [
    "print(all_ratings)"
   ]
  },
  {
   "cell_type": "markdown",
   "metadata": {},
   "source": [
    "#### Problema recensioni troppo lunghe\n",
    "Alla fine di alcune recensioni troviamo un '...Più', che non possiamo espandere. Data la mole di dati, decidiamo dunque di non considerarle."
   ]
  },
  {
   "cell_type": "code",
   "execution_count": 8,
   "metadata": {},
   "outputs": [
    {
     "name": "stdout",
     "output_type": "stream",
     "text": [
      "Totale recensioni: 10 \n",
      " Recensioni analizzabili: 10 \n",
      " Recensioni scartate: 0\n"
     ]
    },
    {
     "data": {
      "text/plain": [
       "[<p class=\"partial_entry\">Salumi e formaggi particolari e deliziosi. Servizio impeccabile e personale amichevole.\n",
       " Da provare!!</p>,\n",
       " <p class=\"partial_entry\">Siamo clienti abituali di questo bellissimo e buonissimo locale. Non delude mai: non deludono i sapori (cibo e vino, sempre una sicurezza!); non deludono i ragazzi - gentilezza che a Milano è rara; sorrisi sinceri e entusiasmo tangibile. A Milano non c'è niente di così...<span class=\"taLnk ulBlueLinks\" onclick=\"widgetEvCall('handlers.clickExpand',event,this);\">Più</span></p>,\n",
       " <p class=\"partial_entry\">salumi ricercati da piu' parti di italia, camerieri preparati e gentili. carta vini migliorata ma ancora migliorabile.</p>,\n",
       " <p class=\"partial_entry\">Ci siamo trovati benissimo. È una formula interessante, affettati di carne e pesce eccellenti e atmosfera piacevolissima. Ottimo arredo, ottima ospitalità e dolci buonissimi fatti in casa! Si capisce che c’è amore e ricerca.</p>,\n",
       " <p class=\"partial_entry\">Ricercato ma accogliente. Raffinato ma amichevole. Solari ma inaspettati.\n",
       " Ci sono stata con amici e l’ho già eletto a mio locale preferito per l’ambiente, le persone e per i piatti eccezionali e i sapori introvabili altrove.</p>,\n",
       " <p class=\"partial_entry\">Sono andato a cena con un amico ed è stata un’esperienza piacevolissima. I ragazzi in sala sono gentilissimi e preparati, il cibo è squisito e le birre sono molto buone. Consigliato per una cena di affettati (che definirei introvabili nella quasi totalità degli altri locali)</p>,\n",
       " <p class=\"partial_entry\">locale bello e pulito in cui e' un piabdre mangiare, materie prime di grande qualità, personale attento, servizio veloce, porzioni generose, il conto è ok!!</p>,\n",
       " <p class=\"partial_entry\">...fortunatamente 😉❗❗❗\n",
       " Un bel locale, ottimo cibo e una cantina molto ben fornita, la combinazione ideale per passare una piacevolissima serata con alcuni amici.\n",
       " Il titolo è riferito all'unica, secondo noi, area di miglioramento: il pane!!!\n",
       " Lo abbiamo detto anche al gentilissimo e preparato ragazzo...<span class=\"taLnk ulBlueLinks\" onclick=\"widgetEvCall('handlers.clickExpand',event,this);\">Più</span></p>,\n",
       " <p class=\"partial_entry\">Eravamo gia' stati in questo posto lasciando anche una recensione con il punteggio massimo , tanto da tornarci e' questa volta l'esperienza e' stata tutt'altro che positiva , in due per degli affettati una bottiglia di vino ed un carpaccio abbiamo speso 80 euro francamente...<span class=\"taLnk ulBlueLinks\" onclick=\"widgetEvCall('handlers.clickExpand',event,this);\">Più</span></p>,\n",
       " <p class=\"partial_entry\">Tutto buono dal tagliere ai panini ingredienti di ottima qualità personale gentilissimo veramente consigliato🔝</p>]"
      ]
     },
     "metadata": {},
     "output_type": "display_data"
    }
   ],
   "source": [
    "filtered_reviews = []\n",
    "counter_reviews_scartate = 0;\n",
    "counter_reviews_da_usare = 0;\n",
    "\n",
    "for review in all_reviews:\n",
    "    if '...Più' in review:\n",
    "        filtered_reviews.append('RECENSIONE_TROPPO_LUNGA')\n",
    "        counter_reviews_scartate+=1;\n",
    "    else:\n",
    "        filtered_reviews.append(review)\n",
    "        counter_reviews_da_usare+=1;\n",
    "        \n",
    "        \n",
    "print(\n",
    "    'Totale recensioni:', counter_reviews_scartate + counter_reviews_da_usare, '\\n',\n",
    "    'Recensioni analizzabili:', counter_reviews_da_usare, '\\n',\n",
    "    'Recensioni scartate:', counter_reviews_scartate)\n",
    "\n",
    "display(filtered_reviews)"
   ]
  },
  {
   "cell_type": "markdown",
   "metadata": {},
   "source": [
    "---\n",
    "### Analisi dei nomi\n",
    "Cerchiamo di capire se chi ha commentato è un uomo (M) o una donna (F)."
   ]
  },
  {
   "cell_type": "markdown",
   "metadata": {},
   "source": [
    "#### Elimino spazi e numeri\n",
    "Ho bisogno di tenere solo le informazioni riguardanti il nome, elimino il resto."
   ]
  },
  {
   "cell_type": "code",
   "execution_count": 9,
   "metadata": {},
   "outputs": [
    {
     "name": "stdout",
     "output_type": "stream",
     "text": [
      "['Sofia S', 'federica_m00', 'Skdufyt', 'cicabum', 'elecar76', 'marcogK4706US', 'ladyoscar007', 'Andrea T', 'virgiliodemidio', 'vanymi'] \n",
      "\n",
      "['Sofia', 'federicam', 'Skdufyt', 'cicabum', 'elecar', 'marcogKUS', 'ladyoscar', 'Andrea', 'virgiliodemidio', 'vanymi']\n"
     ]
    }
   ],
   "source": [
    "import re\n",
    "\n",
    "all_names_filtered = []\n",
    "\n",
    "regex = re.compile('[^a-zA-Z]')\n",
    "\n",
    "for name in all_names:\n",
    "    \n",
    "    if ' ' in name:                           # se c'è uno spazio nel nome\n",
    "        space = name.index(' ')               # ne trovo l'indice\n",
    "        name = regex.sub('', name[:space])    # effettuo un controllo su tutto ciò che non è alfabeto\n",
    "        all_names_filtered.append(name)       # e aggiungo la stringa\n",
    "        \n",
    "    else:\n",
    "        name = regex.sub('', name)            # in caso contrario effettuo un controllo su tutto ciò che non è alfabeto\n",
    "        all_names_filtered.append(name)          # e aggiungo la stringa\n",
    "        \n",
    "print(all_names, '\\n')\n",
    "print(all_names_filtered)"
   ]
  },
  {
   "cell_type": "markdown",
   "metadata": {},
   "source": [
    "\n",
    "#### Utilizzo Genderize\n",
    "Infine, posso utilizzare la libreria Genderize."
   ]
  },
  {
   "cell_type": "code",
   "execution_count": 10,
   "metadata": {},
   "outputs": [
    {
     "ename": "GenderizeException",
     "evalue": "('Request limit reached', 429, {'Server': 'nginx/1.10.3 (Ubuntu)', 'Date': 'Thu, 27 Dec 2018 18:49:36 GMT', 'Content-Type': 'application/json; charset=utf-8', 'Content-Length': '33', 'Connection': 'keep-alive', 'X-Powered-By': 'Express', 'Access-Control-Allow-Origin': '*', 'Access-Control-Allow-Methods': 'GET', 'Access-Control-Allow-Headers': 'Content-Type', 'ETag': 'W/\"21-/l1SSO33EFsZ7fO3uQLHxw\"'})",
     "output_type": "error",
     "traceback": [
      "\u001b[1;31m---------------------------------------------------------------------------\u001b[0m",
      "\u001b[1;31mGenderizeException\u001b[0m                        Traceback (most recent call last)",
      "\u001b[1;32m<ipython-input-10-0010090f1a3f>\u001b[0m in \u001b[0;36m<module>\u001b[1;34m()\u001b[0m\n\u001b[0;32m      4\u001b[0m \u001b[1;33m\u001b[0m\u001b[0m\n\u001b[0;32m      5\u001b[0m \u001b[1;32mfor\u001b[0m \u001b[0mname\u001b[0m \u001b[1;32min\u001b[0m \u001b[0mall_names_filtered\u001b[0m\u001b[1;33m:\u001b[0m\u001b[1;33m\u001b[0m\u001b[0m\n\u001b[1;32m----> 6\u001b[1;33m     \u001b[0mgender\u001b[0m \u001b[1;33m=\u001b[0m \u001b[0mGenderize\u001b[0m\u001b[1;33m(\u001b[0m\u001b[1;33m)\u001b[0m\u001b[1;33m.\u001b[0m\u001b[0mget\u001b[0m\u001b[1;33m(\u001b[0m\u001b[1;33m[\u001b[0m\u001b[0mname\u001b[0m\u001b[1;33m]\u001b[0m\u001b[1;33m)\u001b[0m\u001b[1;33m\u001b[0m\u001b[0m\n\u001b[0m\u001b[0;32m      7\u001b[0m     \u001b[0mnames_with_gender\u001b[0m\u001b[1;33m.\u001b[0m\u001b[0mappend\u001b[0m\u001b[1;33m(\u001b[0m\u001b[0mgender\u001b[0m\u001b[1;33m)\u001b[0m\u001b[1;33m\u001b[0m\u001b[0m\n\u001b[0;32m      8\u001b[0m \u001b[1;33m\u001b[0m\u001b[0m\n",
      "\u001b[1;32mC:\\ProgramData\\Anaconda3\\lib\\site-packages\\genderize\\__init__.py\u001b[0m in \u001b[0;36mget\u001b[1;34m(self, names, country_id, language_id, retheader)\u001b[0m\n\u001b[0;32m     94\u001b[0m             \u001b[0mself\u001b[0m\u001b[1;33m.\u001b[0m\u001b[0m_get_chunk\u001b[0m\u001b[1;33m(\u001b[0m\u001b[0mname_chunk\u001b[0m\u001b[1;33m,\u001b[0m \u001b[0mcountry_id\u001b[0m\u001b[1;33m,\u001b[0m \u001b[0mlanguage_id\u001b[0m\u001b[1;33m)\u001b[0m\u001b[1;33m\u001b[0m\u001b[0m\n\u001b[0;32m     95\u001b[0m             \u001b[1;32mfor\u001b[0m \u001b[0mname_chunk\u001b[0m\u001b[1;33m\u001b[0m\u001b[0m\n\u001b[1;32m---> 96\u001b[1;33m             \u001b[1;32min\u001b[0m \u001b[0m_chunked\u001b[0m\u001b[1;33m(\u001b[0m\u001b[0mnames\u001b[0m\u001b[1;33m,\u001b[0m \u001b[0mGenderize\u001b[0m\u001b[1;33m.\u001b[0m\u001b[0mBATCH_SIZE\u001b[0m\u001b[1;33m)\u001b[0m\u001b[1;33m\u001b[0m\u001b[0m\n\u001b[0m\u001b[0;32m     97\u001b[0m         ]\n\u001b[0;32m     98\u001b[0m         data = list(chain.from_iterable(\n",
      "\u001b[1;32mC:\\ProgramData\\Anaconda3\\lib\\site-packages\\genderize\\__init__.py\u001b[0m in \u001b[0;36m<listcomp>\u001b[1;34m(.0)\u001b[0m\n\u001b[0;32m     93\u001b[0m         responses = [\n\u001b[0;32m     94\u001b[0m             \u001b[0mself\u001b[0m\u001b[1;33m.\u001b[0m\u001b[0m_get_chunk\u001b[0m\u001b[1;33m(\u001b[0m\u001b[0mname_chunk\u001b[0m\u001b[1;33m,\u001b[0m \u001b[0mcountry_id\u001b[0m\u001b[1;33m,\u001b[0m \u001b[0mlanguage_id\u001b[0m\u001b[1;33m)\u001b[0m\u001b[1;33m\u001b[0m\u001b[0m\n\u001b[1;32m---> 95\u001b[1;33m             \u001b[1;32mfor\u001b[0m \u001b[0mname_chunk\u001b[0m\u001b[1;33m\u001b[0m\u001b[0m\n\u001b[0m\u001b[0;32m     96\u001b[0m             \u001b[1;32min\u001b[0m \u001b[0m_chunked\u001b[0m\u001b[1;33m(\u001b[0m\u001b[0mnames\u001b[0m\u001b[1;33m,\u001b[0m \u001b[0mGenderize\u001b[0m\u001b[1;33m.\u001b[0m\u001b[0mBATCH_SIZE\u001b[0m\u001b[1;33m)\u001b[0m\u001b[1;33m\u001b[0m\u001b[0m\n\u001b[0;32m     97\u001b[0m         ]\n",
      "\u001b[1;32mC:\\ProgramData\\Anaconda3\\lib\\site-packages\\genderize\\__init__.py\u001b[0m in \u001b[0;36m_get_chunk\u001b[1;34m(self, name_chunk, country_id, language_id)\u001b[0m\n\u001b[0;32m    146\u001b[0m                 \u001b[0mdecoded\u001b[0m\u001b[1;33m[\u001b[0m\u001b[1;34m'error'\u001b[0m\u001b[1;33m]\u001b[0m\u001b[1;33m,\u001b[0m\u001b[1;33m\u001b[0m\u001b[0m\n\u001b[0;32m    147\u001b[0m                 \u001b[0mresponse\u001b[0m\u001b[1;33m.\u001b[0m\u001b[0mstatus_code\u001b[0m\u001b[1;33m,\u001b[0m\u001b[1;33m\u001b[0m\u001b[0m\n\u001b[1;32m--> 148\u001b[1;33m                 response.headers)\n\u001b[0m\u001b[0;32m    149\u001b[0m \u001b[1;33m\u001b[0m\u001b[0m\n\u001b[0;32m    150\u001b[0m     \u001b[1;32mdef\u001b[0m \u001b[0mget1\u001b[0m\u001b[1;33m(\u001b[0m\u001b[0mself\u001b[0m\u001b[1;33m,\u001b[0m \u001b[0mname\u001b[0m\u001b[1;33m,\u001b[0m \u001b[1;33m**\u001b[0m\u001b[0mkwargs\u001b[0m\u001b[1;33m)\u001b[0m\u001b[1;33m:\u001b[0m\u001b[1;33m\u001b[0m\u001b[0m\n",
      "\u001b[1;31mGenderizeException\u001b[0m: ('Request limit reached', 429, {'Server': 'nginx/1.10.3 (Ubuntu)', 'Date': 'Thu, 27 Dec 2018 18:49:36 GMT', 'Content-Type': 'application/json; charset=utf-8', 'Content-Length': '33', 'Connection': 'keep-alive', 'X-Powered-By': 'Express', 'Access-Control-Allow-Origin': '*', 'Access-Control-Allow-Methods': 'GET', 'Access-Control-Allow-Headers': 'Content-Type', 'ETag': 'W/\"21-/l1SSO33EFsZ7fO3uQLHxw\"'})"
     ]
    }
   ],
   "source": [
    "from genderize import Genderize\n",
    "\n",
    "names_with_gender = []\n",
    "\n",
    "for name in all_names_filtered:\n",
    "    gender = Genderize().get([name])\n",
    "    names_with_gender.append(gender)\n",
    "  \n",
    "display(names_with_gender)\n",
    "# Ottengo una lista [ [lista con dizionario {} all'interno] ]"
   ]
  },
  {
   "cell_type": "code",
   "execution_count": null,
   "metadata": {},
   "outputs": [],
   "source": [
    "all_genders = []\n",
    "i = 0\n",
    "\n",
    "for element in names_with_gender:\n",
    "    # print(names_with_gender[i][0]) --> {'name': 'Sabrina', 'gender': 'female', 'probability': 1.0, 'count': 1331}\n",
    "    \n",
    "#   if names_with_gender[i][0]['gender'] == None or names_with_gender[i][0]['probability'] < 0.7:\n",
    "#   CONTROLLO QUALITA' CHE NON POSSIAMO PERMETTERCI A QUANTO PARE\n",
    "\n",
    "    if names_with_gender[i][0]['gender'] == None:\n",
    "        all_genders.append('UNKNOWN')\n",
    "    elif names_with_gender[i][0]['gender'] == 'male':\n",
    "        all_genders.append('M')\n",
    "    else:\n",
    "        all_genders.append('F')\n",
    "    \n",
    "    # passo all'elemento successivo\n",
    "    i+=1\n",
    "    \n",
    "display(all_genders)"
   ]
  },
  {
   "cell_type": "markdown",
   "metadata": {},
   "source": [
    "---\n",
    "### Salviamo ora i dati ottenuti in una tabella Excel\n",
    "Così non dovremo ogni volta rieseguire tutto il codice\n",
    "\n"
   ]
  },
  {
   "cell_type": "code",
   "execution_count": null,
   "metadata": {},
   "outputs": [],
   "source": [
    "# import pandas as pd\n",
    "\n",
    "# tabella = pd.read_excel(\"PARTE_4_Save_the_data.xlsx\")\n",
    "\n",
    "# display(tabella)"
   ]
  },
  {
   "cell_type": "markdown",
   "metadata": {},
   "source": [
    "### Controlliamo che ci siano lo stesso numero di nomi, commenti e voti\n",
    "Potremo così creare una tabella sfruttando Pandas"
   ]
  },
  {
   "cell_type": "code",
   "execution_count": null,
   "metadata": {},
   "outputs": [],
   "source": [
    "print('Nomi: ', len(all_names_filtered))\n",
    "print('Commenti: ', len(all_reviews))\n",
    "print('Voti: ', len(all_ratings))"
   ]
  },
  {
   "cell_type": "code",
   "execution_count": null,
   "metadata": {},
   "outputs": [],
   "source": [
    "import pandas as pd\n",
    "\n",
    "# Create a Pandas dataframe from the data.\n",
    "df = pd.DataFrame({'Nome': all_names_filtered, 'Genere': all_genders})\n",
    "\n",
    "# Create a Pandas Excel writer using XlsxWriter as the engine.\n",
    "writer = pd.ExcelWriter('TEST_1_NOMI_E_GENERE.xlsx', engine='xlsxwriter')\n",
    "\n",
    "# Convert the dataframe to an XlsxWriter Excel object.\n",
    "df.to_excel(writer, sheet_name='Sheet1')\n",
    "\n",
    "# Close the Pandas Excel writer and output the Excel file.\n",
    "writer.save()"
   ]
  },
  {
   "cell_type": "code",
   "execution_count": null,
   "metadata": {},
   "outputs": [],
   "source": [
    "# Create a Pandas dataframe from the data.\n",
    "df = pd.DataFrame({'Review': filtered_reviews, 'Voti': all_ratings})\n",
    "\n",
    "# Create a Pandas Excel writer using XlsxWriter as the engine.\n",
    "writer = pd.ExcelWriter('TEST_1_REVIEW_E_VOTI.xlsx', engine='xlsxwriter')\n",
    "\n",
    "# Convert the dataframe to an XlsxWriter Excel object.\n",
    "df.to_excel(writer, sheet_name='Sheet1')\n",
    "\n",
    "# Close the Pandas Excel writer and output the Excel file.\n",
    "writer.save()"
   ]
  },
  {
   "cell_type": "code",
   "execution_count": null,
   "metadata": {},
   "outputs": [],
   "source": [
    "print('Nomi: ', len(all_names))\n",
    "print('Commenti: ', len(all_reviews))\n",
    "print('Voti: ', len(all_ratings))\n",
    "\n",
    "# Create a Pandas dataframe from the data.\n",
    "df = pd.DataFrame({'Nome': all_names[:235], 'Review': all_reviews[:235], 'Voto': all_ratings[:235]})\n",
    "\n",
    "# Create a Pandas Excel writer using XlsxWriter as the engine.\n",
    "writer = pd.ExcelWriter('TEST_1_TUTTI_I_DATI.xlsx', engine='xlsxwriter')\n",
    "\n",
    "# Convert the dataframe to an XlsxWriter Excel object.\n",
    "df.to_excel(writer, sheet_name='Sheet1')\n",
    "\n",
    "# Close the Pandas Excel writer and output the Excel file.\n",
    "writer.save()"
   ]
  },
  {
   "cell_type": "code",
   "execution_count": null,
   "metadata": {},
   "outputs": [],
   "source": []
  }
 ],
 "metadata": {
  "kernelspec": {
   "display_name": "Python 3",
   "language": "python",
   "name": "python3"
  },
  "language_info": {
   "codemirror_mode": {
    "name": "ipython",
    "version": 3
   },
   "file_extension": ".py",
   "mimetype": "text/x-python",
   "name": "python",
   "nbconvert_exporter": "python",
   "pygments_lexer": "ipython3",
   "version": "3.6.5"
  }
 },
 "nbformat": 4,
 "nbformat_minor": 2
}
